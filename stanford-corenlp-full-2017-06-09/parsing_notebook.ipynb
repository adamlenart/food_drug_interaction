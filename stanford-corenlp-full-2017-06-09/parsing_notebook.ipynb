{
 "cells": [
  {
   "cell_type": "markdown",
   "metadata": {},
   "source": [
    "## Instructions\n",
    "\n",
    "- I first downloaded the files from this link <http://nlp.stanford.edu/software/stanford-corenlp-full-2017-06-09.zip> \n",
    "- Then I dragged the pubmed folder into that same folder.\n",
    "- Then I ran the following...."
   ]
  },
  {
   "cell_type": "markdown",
   "metadata": {},
   "source": [
    "# Parsing the Pubmed Abstracts"
   ]
  },
  {
   "cell_type": "code",
   "execution_count": 2,
   "metadata": {
    "collapsed": false
   },
   "outputs": [],
   "source": [
    "import pubmed.downloader as pb\n",
    "import json\n",
    "from pprint import pprint\n",
    "# spit abstracts to sentences\n",
    "from nltk.tokenize import sent_tokenize"
   ]
  },
  {
   "cell_type": "code",
   "execution_count": 3,
   "metadata": {
    "collapsed": false
   },
   "outputs": [],
   "source": [
    "search_term = 'ACE inhibitor'\n",
    "max_results = 3\n",
    "query = pb.PubMedQuery(search_term, max_results)"
   ]
  },
  {
   "cell_type": "code",
   "execution_count": 4,
   "metadata": {
    "collapsed": false
   },
   "outputs": [
    {
     "name": "stdout",
     "output_type": "stream",
     "text": [
      "28687104,28682034,28682025\n"
     ]
    }
   ],
   "source": [
    "ids = query.id_getter()\n",
    "print ids"
   ]
  },
  {
   "cell_type": "code",
   "execution_count": 5,
   "metadata": {
    "collapsed": false,
    "scrolled": true
   },
   "outputs": [
    {
     "data": {
      "text/plain": [
       "{0: u'Nonsteroidal antiinflammatory agents, \\u03b2-lactam antibiotics, non-\\u03b2 lactam antibiotics, and angiotensin-converting enzyme inhibitors are the most common classes of drugs that cause angioedema. Drug-induced angioedema is known to occur via mechanisms mediated by histamine, bradykinin, or leukotriene, and an understanding of these mechanisms is crucial in guiding therapeutic decisions. Nonallergic angioedema occurs in patients with genetic variants that affect metabolism or synthesis of bradykinin, substance P, prostaglandins, or leukotrienes, or when patients are taking drugs that have synergistic mechanisms. The mainstay in treatment of nonallergic drug-induced angioedema is cessation of the offending agents.',\n",
       " 1: \"Fabry's disease (FD) is a severe congenital metabolic disorder characterized by the deficient activity of lysosomal exoglycohydrolase alpha-galactosidase, characterized by glycosphingolipid deposition in several cells, such as capillary endothelial cells, renal, cardiac, and nerve cells. As a systemic disease leading to a contemporaneous myocardial and renal dysfunction, FD might be an example of cardiorenal syndrome type 5 (CRS-5). Kidney damage is commonly characterized by proteinuria, isosthenuria and altered tubular function when occurs at the second-third decade, azotemia and end-stage renal disease in third-fifth decade. Beyond the irreversible glomerular, tubular and vascular damages, the podocytes foot process effacement is the major cause of kidney dysfunction. Myocardial damage is usually observed with right and left ventricular hypertrophy, arrhythmias (due to sinus node and conduction system impairment), diastolic dysfunction, congestive heart failure, myocardial ischemia, fibrosis and cardiac death. The enzymatic replacement therapy is essential for the management of FD, as well as the control of renal (with anti-proteinuric agents such as angiotensin-converting enzyme inhibitors- and/or angiotensin II receptor blockers), brain (coated aspirin, clopidogrel and statins to prevent strokes) and heart complications (calcium channel blockers for ischemic cardiomyopathy, warfarin and amiodarone or cardioverter device for arrhythmias).\",\n",
       " 2: u'The progression of chronic kidney disease CKD is largely independent of the underlying kidney disorder once renal function has fallen below a critical level. Hypertension is an independent risk factor for disease progression in both adult and pediatric patients with kidney disorders. Optimal blood pressure control (130 /80mm Hg) represents a main goal of conservative therapy in patients with chronic kidney disease CKD but it is rarely achieved in clinical practice. Angiotensin-converting enzyme inhibitors and angiotensin receptor blockers are more effective than other drugs in slowing progression of proteinuric CKD. Dietary salt restriction (\\u2264100 mEq/die of NaCl) may be useful to correct the extracellular volume expansion. If this intervention fails, hypertension can be treated by thiazide diuretics in patients with mild CKD, whereas loop diuretics at adequate doses are indicated in patients with more advanced CKD.'}"
      ]
     },
     "execution_count": 5,
     "metadata": {},
     "output_type": "execute_result"
    }
   ],
   "source": [
    "query.abstract_getter(ids)"
   ]
  },
  {
   "cell_type": "code",
   "execution_count": 13,
   "metadata": {
    "collapsed": false,
    "scrolled": true
   },
   "outputs": [
    {
     "name": "stdout",
     "output_type": "stream",
     "text": [
      "CPU times: user 152 ms, sys: 4 ms, total: 156 ms\n",
      "Wall time: 8.98 s\n"
     ]
    }
   ],
   "source": [
    "%%time\n",
    "#I just tried to download a few \n",
    "# if you don't want to download all abstracts, please do not use the download_all_abstracts() method, but rather the \n",
    "# abstract_getter() as below\n",
    "pb.PubMedQuery.COUNT = 0\n",
    "max_results = 10\n",
    "query = pb.PubMedQuery(search_term, max_results)\n",
    "ids = query.id_getter()\n",
    "abstracts = query.abstract_getter(ids)"
   ]
  },
  {
   "cell_type": "code",
   "execution_count": 6,
   "metadata": {
    "collapsed": false,
    "scrolled": true
   },
   "outputs": [
    {
     "data": {
      "text/plain": [
       "{0: u'Nonsteroidal antiinflammatory agents, \\u03b2-lactam antibiotics, non-\\u03b2 lactam antibiotics, and angiotensin-converting enzyme inhibitors are the most common classes of drugs that cause angioedema. Drug-induced angioedema is known to occur via mechanisms mediated by histamine, bradykinin, or leukotriene, and an understanding of these mechanisms is crucial in guiding therapeutic decisions. Nonallergic angioedema occurs in patients with genetic variants that affect metabolism or synthesis of bradykinin, substance P, prostaglandins, or leukotrienes, or when patients are taking drugs that have synergistic mechanisms. The mainstay in treatment of nonallergic drug-induced angioedema is cessation of the offending agents.',\n",
       " 1: \"Fabry's disease (FD) is a severe congenital metabolic disorder characterized by the deficient activity of lysosomal exoglycohydrolase alpha-galactosidase, characterized by glycosphingolipid deposition in several cells, such as capillary endothelial cells, renal, cardiac, and nerve cells. As a systemic disease leading to a contemporaneous myocardial and renal dysfunction, FD might be an example of cardiorenal syndrome type 5 (CRS-5). Kidney damage is commonly characterized by proteinuria, isosthenuria and altered tubular function when occurs at the second-third decade, azotemia and end-stage renal disease in third-fifth decade. Beyond the irreversible glomerular, tubular and vascular damages, the podocytes foot process effacement is the major cause of kidney dysfunction. Myocardial damage is usually observed with right and left ventricular hypertrophy, arrhythmias (due to sinus node and conduction system impairment), diastolic dysfunction, congestive heart failure, myocardial ischemia, fibrosis and cardiac death. The enzymatic replacement therapy is essential for the management of FD, as well as the control of renal (with anti-proteinuric agents such as angiotensin-converting enzyme inhibitors- and/or angiotensin II receptor blockers), brain (coated aspirin, clopidogrel and statins to prevent strokes) and heart complications (calcium channel blockers for ischemic cardiomyopathy, warfarin and amiodarone or cardioverter device for arrhythmias).\",\n",
       " 2: u'The progression of chronic kidney disease CKD is largely independent of the underlying kidney disorder once renal function has fallen below a critical level. Hypertension is an independent risk factor for disease progression in both adult and pediatric patients with kidney disorders. Optimal blood pressure control (130 /80mm Hg) represents a main goal of conservative therapy in patients with chronic kidney disease CKD but it is rarely achieved in clinical practice. Angiotensin-converting enzyme inhibitors and angiotensin receptor blockers are more effective than other drugs in slowing progression of proteinuric CKD. Dietary salt restriction (\\u2264100 mEq/die of NaCl) may be useful to correct the extracellular volume expansion. If this intervention fails, hypertension can be treated by thiazide diuretics in patients with mild CKD, whereas loop diuretics at adequate doses are indicated in patients with more advanced CKD.'}"
      ]
     },
     "execution_count": 6,
     "metadata": {},
     "output_type": "execute_result"
    }
   ],
   "source": [
    "abstracts = query.abstract_getter(ids)\n",
    "abstracts"
   ]
  },
  {
   "cell_type": "code",
   "execution_count": 7,
   "metadata": {
    "collapsed": false
   },
   "outputs": [
    {
     "name": "stdout",
     "output_type": "stream",
     "text": [
      "Saving to my_ten_abstracts.json\n"
     ]
    }
   ],
   "source": [
    "json_file = 'my_ten_abstracts.json'\n",
    "print 'Saving to ' + json_file\n",
    "with open(json_file, 'w') as outfile:\n",
    "    json.dump(abstracts, outfile, indent=4)"
   ]
  },
  {
   "cell_type": "markdown",
   "metadata": {},
   "source": [
    "## We might not need all the sentences in the abstract, so I am seeing what would happen if we just parse out the ones with key words, and write them to a textfile, and then parse the resulting file.\n",
    "\n",
    "Keyword selection could happen here in the sentence tokenizer."
   ]
  },
  {
   "cell_type": "code",
   "execution_count": 8,
   "metadata": {
    "collapsed": false
   },
   "outputs": [
    {
     "name": "stdout",
     "output_type": "stream",
     "text": [
      "Sentences:  16\n"
     ]
    }
   ],
   "source": [
    "sentences = []\n",
    "with open('my_ten_abstracts.json') as data_file:    \n",
    "    data = json.load(data_file)\n",
    "    for abstract in data.itervalues():\n",
    "        sentences.append(sent_tokenize(abstract))\n",
    "    # flatten the list of abstracts into one long list of sentences\n",
    "    sentences = [sent for s in sentences for sent in s]\n",
    "    print \"Sentences: \",len(sentences)"
   ]
  },
  {
   "cell_type": "code",
   "execution_count": 10,
   "metadata": {
    "collapsed": false,
    "scrolled": true
   },
   "outputs": [
    {
     "name": "stdout",
     "output_type": "stream",
     "text": [
      "Writing KeywordSentences.py\n"
     ]
    }
   ],
   "source": [
    "%%writefile KeywordSentences.py\n",
    "import json\n",
    "keyword = 'in'\n",
    "with open('my_ten_abstracts.json') as data_file:    \n",
    "    data = json.load(data_file)\n",
    "    #pick snippets related to ACE inhibitors\n",
    "    for i in range(len(data.keys())):\n",
    "        try:\n",
    "            if keyword in data[str(i)]:\n",
    "                print data[str(i)] + '\\n'\n",
    "            else:\n",
    "                next\n",
    "        except:\n",
    "            next"
   ]
  },
  {
   "cell_type": "code",
   "execution_count": 12,
   "metadata": {
    "collapsed": false
   },
   "outputs": [],
   "source": [
    "!python KeywordSentences.py > KeywordSentences.txt"
   ]
  },
  {
   "cell_type": "code",
   "execution_count": 13,
   "metadata": {
    "collapsed": false
   },
   "outputs": [
    {
     "name": "stdout",
     "output_type": "stream",
     "text": [
      "Fabry's disease (FD) is a severe congenital metabolic disorder characterized by the deficient activity of lysosomal exoglycohydrolase alpha-galactosidase, characterized by glycosphingolipid deposition in several cells, such as capillary endothelial cells, renal, cardiac, and nerve cells. As a systemic disease leading to a contemporaneous myocardial and renal dysfunction, FD might be an example of cardiorenal syndrome type 5 (CRS-5). Kidney damage is commonly characterized by proteinuria, isosthenuria and altered tubular function when occurs at the second-third decade, azotemia and end-stage renal disease in third-fifth decade. Beyond the irreversible glomerular, tubular and vascular damages, the podocytes foot process effacement is the major cause of kidney dysfunction. Myocardial damage is usually observed with right and left ventricular hypertrophy, arrhythmias (due to sinus node and conduction system impairment), diastolic dysfunction, congestive heart failure, myocardial ischemia, fibrosis and cardiac death. The enzymatic replacement therapy is essential for the management of FD, as well as the control of renal (with anti-proteinuric agents such as angiotensin-converting enzyme inhibitors- and/or angiotensin II receptor blockers), brain (coated aspirin, clopidogrel and statins to prevent strokes) and heart complications (calcium channel blockers for ischemic cardiomyopathy, warfarin and amiodarone or cardioverter device for arrhythmias).\r\n",
      "\r\n"
     ]
    }
   ],
   "source": [
    "#This mimics the format that the example parser file has\n",
    "!cat KeywordSentences.txt"
   ]
  },
  {
   "cell_type": "markdown",
   "metadata": {},
   "source": [
    "## Running the Stanford Parser\n",
    "\n",
    "We first have to set up a configurations file."
   ]
  },
  {
   "cell_type": "code",
   "execution_count": 22,
   "metadata": {
    "collapsed": false
   },
   "outputs": [
    {
     "name": "stdout",
     "output_type": "stream",
     "text": [
      "Exception in thread \"main\" edu.stanford.nlp.io.RuntimeIOException: argsToProperties could not read properties file: sampleProps.properties\r\n",
      "\tat edu.stanford.nlp.util.StringUtils.argsToProperties(StringUtils.java:1013)\r\n",
      "\tat edu.stanford.nlp.util.StringUtils.argsToProperties(StringUtils.java:929)\r\n",
      "\tat edu.stanford.nlp.pipeline.StanfordCoreNLP.main(StanfordCoreNLP.java:1334)\r\n",
      "Caused by: java.io.IOException: Unable to open \"sampleProps.properties\" as class path, filename or URL\r\n",
      "\tat edu.stanford.nlp.io.IOUtils.getInputStreamFromURLOrClasspathOrFileSystem(IOUtils.java:480)\r\n",
      "\tat edu.stanford.nlp.io.IOUtils.readerFromString(IOUtils.java:617)\r\n",
      "\tat edu.stanford.nlp.util.StringUtils.argsToProperties(StringUtils.java:1004)\r\n",
      "\t... 2 more\r\n"
     ]
    }
   ],
   "source": [
    "!java -cp \"*\" -Xmx2g edu.stanford.nlp.pipeline.StanfordCoreNLP -props sampleProps.properties"
   ]
  },
  {
   "cell_type": "markdown",
   "metadata": {},
   "source": [
    "## Pulling from the Readme file, this is what I am going to run:\n",
    "Runs Stanford CoreNLP.\n",
    "\n",
    "Simple uses for xml and plain text output to files are:\n",
    "\n",
    "`./corenlp.sh -file filename`\n",
    "\n",
    "`./corenlp.sh -file filename -outputFormat text`\n",
    "\n",
    "-outputFormat : Different methods for outputting results. \n",
    "Can be:\n",
    "\n",
    "“text”: An ad hoc human-readable text format. Tokens, s-expression parse trees, relation(head, dep) dependencies. Output file extension is .out. This is the default output format only if the XMLOutputter is unavailable.\n",
    "\n",
    "“xml”: An XML format with accompanying XSLT stylesheet, which allows web browser rendering. Output file extension is .xml. This is the default output format, unless the XMLOutputter is unavailable.\n",
    "\n",
    "“json”: JSON. Output file extension is .json. ‘Nuf said.\n",
    "\n",
    "“conll”: A tab-separated values (TSV) format. Output extension is .conll. This representation may give only a partial view of an Annotation and doesn’t correspond to any particular CoNLL format. Columns are: wordIndex, token, lemma, POS, NER, head, depRel.\n",
    "\n",
    "“conllu”: CoNLL-U output format, another tab-separated values (TSV) format. Output extension is .conllu. This representation may give only a partial view of an Annotation.\n",
    "\n",
    "“serialized”: Produces some serialized version of each Annotation. May or may not be lossy. What you actually get depends on the outputSerializer property, which you should also set. The default is the GenericAnnotationSerializer, which uses the built-in Java object serialization and writes a file with extension .ser.gz.\n",
    "\n",
    "\n",
    "\n",
    "Split into sentences, run POS tagger and NER, write CoNLL-style TSV file:\n",
    "`./corenlp.sh -annotators tokenize,ssplit,pos,lemma,ner -outputFormat conll -file input.txt`\n",
    "\n",
    "You can also start a simple shell where you can enter sentences to be processed:\n",
    "`./corenlp.sh`"
   ]
  },
  {
   "cell_type": "markdown",
   "metadata": {},
   "source": [
    "## I am going to simply run it as a text file, with a text output. What it will do is keep the same file name, and append \"out\"."
   ]
  },
  {
   "cell_type": "code",
   "execution_count": 23,
   "metadata": {
    "collapsed": false,
    "scrolled": true
   },
   "outputs": [
    {
     "name": "stdout",
     "output_type": "stream",
     "text": [
      "java -mx5g -cp \"./*\" edu.stanford.nlp.pipeline.StanfordCoreNLP -annotators tokenize,ssplit,pos -file KeywordSentences.txt -outputFormat text\n",
      "[main] INFO edu.stanford.nlp.pipeline.StanfordCoreNLP - Adding annotator tokenize\n",
      "[main] INFO edu.stanford.nlp.pipeline.TokenizerAnnotator - No tokenizer type provided. Defaulting to PTBTokenizer.\n",
      "[main] INFO edu.stanford.nlp.pipeline.StanfordCoreNLP - Adding annotator ssplit\n",
      "[main] INFO edu.stanford.nlp.pipeline.StanfordCoreNLP - Adding annotator pos\n",
      "[main] INFO edu.stanford.nlp.tagger.maxent.MaxentTagger - Loading POS tagger from edu/stanford/nlp/models/pos-tagger/english-left3words/english-left3words-distsim.tagger ... done [1.4 sec].\n",
      "\n",
      "Processing file /Users/lisabarcelo/Desktop/W266/stanford-corenlp-full-2017-06-09/KeywordSentences.txt ... writing to /Users/lisabarcelo/Desktop/W266/stanford-corenlp-full-2017-06-09/KeywordSentences.txt.out\n",
      "Annotating file /Users/lisabarcelo/Desktop/W266/stanford-corenlp-full-2017-06-09/KeywordSentences.txt ... done [0.2 sec].\n",
      "\n",
      "Annotation pipeline timing information:\n",
      "TokenizerAnnotator: 0.1 sec.\n",
      "WordsToSentencesAnnotator: 0.0 sec.\n",
      "POSTaggerAnnotator: 0.1 sec.\n",
      "TOTAL: 0.2 sec. for 231 tokens at 1004.3 tokens/sec.\n",
      "Pipeline setup: 1.5 sec.\n",
      "Total time for StanfordCoreNLP pipeline: 1.9 sec.\n"
     ]
    }
   ],
   "source": [
    "!./corenlp.sh -annotators tokenize,ssplit,pos -file KeywordSentences.txt -outputFormat text"
   ]
  },
  {
   "cell_type": "markdown",
   "metadata": {},
   "source": [
    "## Now we can see the output of the file."
   ]
  },
  {
   "cell_type": "code",
   "execution_count": 27,
   "metadata": {
    "collapsed": false
   },
   "outputs": [
    {
     "name": "stdout",
     "output_type": "stream",
     "text": [
      "Sentence #1 (44 tokens):\r\n",
      "Fabry's disease (FD) is a severe congenital metabolic disorder characterized by the deficient activity of lysosomal exoglycohydrolase alpha-galactosidase, characterized by glycosphingolipid deposition in several cells, such as capillary endothelial cells, renal, cardiac, and nerve cells.\r\n",
      "[Text=Fabry CharacterOffsetBegin=0 CharacterOffsetEnd=5 PartOfSpeech=NN]\r\n",
      "[Text='s CharacterOffsetBegin=5 CharacterOffsetEnd=7 PartOfSpeech=POS]\r\n",
      "[Text=disease CharacterOffsetBegin=8 CharacterOffsetEnd=15 PartOfSpeech=NN]\r\n",
      "[Text=-LRB- CharacterOffsetBegin=16 CharacterOffsetEnd=17 PartOfSpeech=-LRB-]\r\n",
      "[Text=FD CharacterOffsetBegin=17 CharacterOffsetEnd=19 PartOfSpeech=NN]\r\n",
      "[Text=-RRB- CharacterOffsetBegin=19 CharacterOffsetEnd=20 PartOfSpeech=-RRB-]\r\n",
      "[Text=is CharacterOffsetBegin=21 CharacterOffsetEnd=23 PartOfSpeech=VBZ]\r\n",
      "[Text=a CharacterOffsetBegin=24 CharacterOffsetEnd=25 PartOfSpeech=DT]\r\n"
     ]
    }
   ],
   "source": [
    "!head KeywordSentences.txt.out"
   ]
  },
  {
   "cell_type": "markdown",
   "metadata": {},
   "source": [
    "## Experimenting.... what if I don't feed in the annotators?"
   ]
  },
  {
   "cell_type": "code",
   "execution_count": 28,
   "metadata": {
    "collapsed": false
   },
   "outputs": [
    {
     "name": "stdout",
     "output_type": "stream",
     "text": [
      "java -mx5g -cp \"./*\" edu.stanford.nlp.pipeline.StanfordCoreNLP -file KeywordSentences.txt -outputFormat text\n",
      "[main] INFO edu.stanford.nlp.pipeline.StanfordCoreNLP - Searching for resource: StanfordCoreNLP.properties ... not found.\n",
      "[main] INFO edu.stanford.nlp.pipeline.StanfordCoreNLP - Searching for resource: edu/stanford/nlp/pipeline/StanfordCoreNLP.properties ... found.\n",
      "[main] INFO edu.stanford.nlp.pipeline.StanfordCoreNLP - Adding annotator tokenize\n",
      "[main] INFO edu.stanford.nlp.pipeline.StanfordCoreNLP - Adding annotator ssplit\n",
      "[main] INFO edu.stanford.nlp.pipeline.StanfordCoreNLP - Adding annotator pos\n",
      "[main] INFO edu.stanford.nlp.tagger.maxent.MaxentTagger - Loading POS tagger from edu/stanford/nlp/models/pos-tagger/english-left3words/english-left3words-distsim.tagger ... done [1.4 sec].\n",
      "[main] INFO edu.stanford.nlp.pipeline.StanfordCoreNLP - Adding annotator lemma\n",
      "[main] INFO edu.stanford.nlp.pipeline.StanfordCoreNLP - Adding annotator ner\n",
      "[main] INFO edu.stanford.nlp.ie.AbstractSequenceClassifier - Loading classifier from edu/stanford/nlp/models/ner/english.all.3class.distsim.crf.ser.gz ... done [1.9 sec].\n",
      "[main] INFO edu.stanford.nlp.ie.AbstractSequenceClassifier - Loading classifier from edu/stanford/nlp/models/ner/english.muc.7class.distsim.crf.ser.gz ... done [1.8 sec].\n",
      "[main] INFO edu.stanford.nlp.ie.AbstractSequenceClassifier - Loading classifier from edu/stanford/nlp/models/ner/english.conll.4class.distsim.crf.ser.gz ... done [0.8 sec].\n",
      "[main] INFO edu.stanford.nlp.time.JollyDayHolidays - Initializing JollyDayHoliday for SUTime from classpath edu/stanford/nlp/models/sutime/jollyday/Holidays_sutime.xml as sutime.binder.1.\n",
      "[main] INFO edu.stanford.nlp.pipeline.StanfordCoreNLP - Adding annotator depparse\n",
      "[main] INFO edu.stanford.nlp.parser.nndep.DependencyParser - Loading depparse model file: edu/stanford/nlp/models/parser/nndep/english_UD.gz ... \n",
      "[main] INFO edu.stanford.nlp.parser.nndep.Classifier - PreComputed 99996, Elapsed Time: 17.378 (s)\n",
      "[main] INFO edu.stanford.nlp.parser.nndep.DependencyParser - Initializing dependency parser ... done [18.8 sec].\n",
      "[main] INFO edu.stanford.nlp.pipeline.StanfordCoreNLP - Adding annotator mention\n",
      "[main] INFO edu.stanford.nlp.pipeline.MentionAnnotator - Using mention detector type: dependency\n",
      "[main] INFO edu.stanford.nlp.pipeline.StanfordCoreNLP - Adding annotator coref\n",
      "[main] INFO edu.stanford.nlp.coref.statistical.SimpleLinearClassifier - Loading coref model edu/stanford/nlp/models/coref/statistical/ranking_model.ser.gz ... done [1.0 sec].\n",
      "\n",
      "Processing file /Users/lisabarcelo/Desktop/W266/stanford-corenlp-full-2017-06-09/KeywordSentences.txt ... writing to /Users/lisabarcelo/Desktop/W266/stanford-corenlp-full-2017-06-09/KeywordSentences.txt.out\n",
      "Error interpreting number second-third: Error in wordToNumber function.\n",
      "Error interpreting number third-fifth: Error in wordToNumber function.\n",
      "Annotating file /Users/lisabarcelo/Desktop/W266/stanford-corenlp-full-2017-06-09/KeywordSentences.txt ... done [5.9 sec].\n",
      "\n",
      "Annotation pipeline timing information:\n",
      "TokenizerAnnotator: 0.1 sec.\n",
      "WordsToSentencesAnnotator: 0.0 sec.\n",
      "POSTaggerAnnotator: 0.1 sec.\n",
      "MorphaAnnotator: 0.1 sec.\n",
      "NERCombinerAnnotator: 0.9 sec.\n",
      "DependencyParseAnnotator: 0.8 sec.\n",
      "MentionAnnotator: 0.0 sec.\n",
      "CorefAnnotator: 4.0 sec.\n",
      "TOTAL: 5.8 sec. for 231 tokens at 39.5 tokens/sec.\n",
      "Pipeline setup: 45.6 sec.\n",
      "Total time for StanfordCoreNLP pipeline: 51.5 sec.\n"
     ]
    }
   ],
   "source": [
    "!./corenlp.sh -file KeywordSentences.txt -outputFormat text"
   ]
  },
  {
   "cell_type": "code",
   "execution_count": 30,
   "metadata": {
    "collapsed": false
   },
   "outputs": [
    {
     "name": "stdout",
     "output_type": "stream",
     "text": [
      "Sentence #1 (44 tokens):\r\n",
      "Fabry's disease (FD) is a severe congenital metabolic disorder characterized by the deficient activity of lysosomal exoglycohydrolase alpha-galactosidase, characterized by glycosphingolipid deposition in several cells, such as capillary endothelial cells, renal, cardiac, and nerve cells.\r\n",
      "[Text=Fabry CharacterOffsetBegin=0 CharacterOffsetEnd=5 PartOfSpeech=NN Lemma=fabry NamedEntityTag=O]\r\n",
      "[Text='s CharacterOffsetBegin=5 CharacterOffsetEnd=7 PartOfSpeech=POS Lemma='s NamedEntityTag=O]\r\n",
      "[Text=disease CharacterOffsetBegin=8 CharacterOffsetEnd=15 PartOfSpeech=NN Lemma=disease NamedEntityTag=O]\r\n",
      "[Text=-LRB- CharacterOffsetBegin=16 CharacterOffsetEnd=17 PartOfSpeech=-LRB- Lemma=-lrb- NamedEntityTag=O]\r\n",
      "[Text=FD CharacterOffsetBegin=17 CharacterOffsetEnd=19 PartOfSpeech=NN Lemma=fd NamedEntityTag=O]\r\n",
      "[Text=-RRB- CharacterOffsetBegin=19 CharacterOffsetEnd=20 PartOfSpeech=-RRB- Lemma=-rrb- NamedEntityTag=O]\r\n",
      "[Text=is CharacterOffsetBegin=21 CharacterOffsetEnd=23 PartOfSpeech=VBZ Lemma=be NamedEntityTag=O]\r\n",
      "[Text=a CharacterOffsetBegin=24 CharacterOffsetEnd=25 PartOfSpeech=DT Lemma=a NamedEntityTag=O]\r\n"
     ]
    }
   ],
   "source": [
    "!head KeywordSentences.txt.out"
   ]
  },
  {
   "cell_type": "markdown",
   "metadata": {},
   "source": [
    "##  Next step: Sentiment Analysis! To be continued...\n",
    "<https://stanfordnlp.github.io/CoreNLP/>"
   ]
  },
  {
   "cell_type": "code",
   "execution_count": null,
   "metadata": {
    "collapsed": true
   },
   "outputs": [],
   "source": []
  }
 ],
 "metadata": {
  "anaconda-cloud": {},
  "kernelspec": {
   "display_name": "Python 2",
   "language": "python",
   "name": "python2"
  },
  "language_info": {
   "codemirror_mode": {
    "name": "ipython",
    "version": 2
   },
   "file_extension": ".py",
   "mimetype": "text/x-python",
   "name": "python",
   "nbconvert_exporter": "python",
   "pygments_lexer": "ipython2",
   "version": "2.7.12"
  }
 },
 "nbformat": 4,
 "nbformat_minor": 2
}
