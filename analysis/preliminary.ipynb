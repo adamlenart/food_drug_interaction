{
 "cells": [
  {
   "cell_type": "markdown",
   "metadata": {
    "collapsed": false
   },
   "source": [
    "# Analyzing food and drug interactions through PubMed abstracts"
   ]
  },
  {
   "cell_type": "code",
   "execution_count": 1,
   "metadata": {
    "collapsed": true
   },
   "outputs": [],
   "source": [
    "import pubmed.downloader as pb"
   ]
  },
  {
   "cell_type": "markdown",
   "metadata": {},
   "source": [
    "The _pubmed.downloader_ module implements a _PubMedQuery_ class which searches the PubMed database for a search term and returns at most _max_\\__results_ abstracts. "
   ]
  },
  {
   "cell_type": "code",
   "execution_count": 2,
   "metadata": {
    "collapsed": false
   },
   "outputs": [],
   "source": [
    "search_term = 'ACE inhibitor'\n",
    "max_results = 3\n",
    "query = pb.PubMedQuery(search_term, max_results)"
   ]
  },
  {
   "cell_type": "markdown",
   "metadata": {},
   "source": [
    "After instantiating a _PubMedQuery_ instance, _PubMedQuery.id_\\__getter_ should be called to read the ids of the articles of the search results."
   ]
  },
  {
   "cell_type": "code",
   "execution_count": 3,
   "metadata": {
    "collapsed": false
   },
   "outputs": [
    {
     "name": "stdout",
     "output_type": "stream",
     "text": [
      "28576479,28573254,28571891\n"
     ]
    }
   ],
   "source": [
    "ids = query.id_getter()\n",
    "print ids"
   ]
  },
  {
   "cell_type": "code",
   "execution_count": 4,
   "metadata": {
    "collapsed": false
   },
   "outputs": [
    {
     "data": {
      "text/plain": [
       "{0: u'Aldosterone breakthrough (ABT) is the condition in which angiotensin converting enzyme inhibitors (ACEIs) and/or angiotensin receptor blockers fail to effectively suppress the activity of the renin angiotensin aldosterone system. The objective of this study was to determine if ABT occurs in dogs with naturally occurring myxomatous mitral valve disease\\xa0receiving an ACEI, using the urine aldosterone to creatinine ratio (UAldo:C) as a measure of renin angiotensin aldosterone system activation.',\n",
       " 1: u'This study includes 39\\xa0dogs with myxomatous mitral valve disease. A UAldo:C cut-off definition (derived from a normal population of healthy, adult, and client-owned dogs) was used to determine the prevalence of ABT in this population. Spearman analysis and univariate logistic regression were used to evaluate the relationship between UAldo:C and ABT (yes/no) and eight variables (age, serum K(+) concentration, serum creatinine concentration, ACEI therapy duration and ACEI dosage, furosemide therapy duration and furosemide dosage, and urine sample storage time). Finally, the UAldo:C in dogs receiving spironolactone, as part congestive heart failure (CHF) therapy, was compared to dogs with CHF that were not receiving spironolactone.',\n",
       " 2: 'The prevalence of ABT was 32% in dogs with CHF and 30% in dogs without CHF. There was no relationship between either the UAldo:C or the likelihood of ABT and the eight variables. Therapy with spironolactone lead to a significant elevation of the UAldo:C.',\n",
       " 3: 'Using the UAldo:C and a relatively stringent definition of ABT, it appears that incomplete RAAS blockade is common in dogs with MMVD receiving an ACEI. The prevalence of ABT in this canine population mirrors that reported in humans. While the mechanism of ABT is likely multifactorial and still poorly understood, the proven existence of ABT in dogs offers the potential to improve the prognosis for MMVD with the addition of a mineralocorticoid receptor blocker to current therapeutic regimens.',\n",
       " 4: 'Approximately 30% of dogs being treated for heart disease and CHF satisfied the definition of ABT. Identifying patient subpopulations experiencing ABT may help guide future study design and clinical decision-making.',\n",
       " 5: 'The commercially available synthetic angiotensin-I-converting enzyme (ACE) inhibitors are known to exert negative side effects which have driven many research groups globally to discover the novel ACE inhibitors.',\n",
       " 6: 'Literature search was performed within the PubMed, ScienceDirect.com and Google Scholar.',\n",
       " 7: 'The presence of proline at the C-terminal tripeptide of ACE inhibitor can competitively inhibit the ACE activity. The effects of other amino acids are less studied leading to difficulties in predicting potent peptide sequences. The broad specificity of the enzyme may be due to the dual active sites observed on the somatic ACE. The inhibitors may not necessarily competitively inhibit the enzyme which explains why some reported inhibitors do not have the common ACE inhibitor characteristics. Finally, the in vivo assay has to be carried out before the peptides as the antihypertensive agents can be claimed. The peptides must be absorbed into circulation without being degraded, which will affect their bioavailability and potency. Thus, peptides with strong in vitro IC50 values do not necessarily have the same effect in vivo and vice versa.',\n",
       " 8: 'The relationship between peptide amino acid sequence and inhibitory activity, in vivo studies of the active peptides and bioavailability must be studied before the peptides as antihypertensive agents can be claimed.',\n",
       " 9: 'A collective century of discoveries establishes the importance of the renin angiotensin aldosterone system in maintaining blood pressure, fluid volume and electrolyte homeostasis via autocrine, paracrine and endocrine signaling. While research continues to yield new functions of angiotensin II and angiotensin-(1-7), the gap between basic research and clinical application of these new findings is widening. As data accumulates on the efficacy of angiotensin converting enzyme inhibitors and angiotensin II receptor blockers as drugs of fundamental importance in the treatment of cardiovascular and renal disorders, it is becoming apparent that the achieved clinical benefits is suboptimal and surprisingly no different than what can be achieved with other therapeutic interventions. We discuss this issue and summarize new pathways and mechanisms effecting the synthesis and actions of angiotensin II. The presence of renin-independent non-canonical pathways for angiotensin II production are largely unaffected by agents inhibiting renin angiotensin system activity. Hence, new efforts should be directed to develop drugs that can effectively block the synthesis and/or action of intracellular angiotensin II. Improved drug penetration into cardiac or renal sites of disease, inhibiting chymase -the primary angiotensin II forming enzyme in the human heart-, and/or inhibiting angiotensinogen synthesis would all be more effective strategies to inhibit the system. Additionally, given the role of angiotensin II in the maintenance of renal homeostatic mechanisms, any new inhibitor should possess greater selectivity of targeting pathogenic angiotensin II signaling processes and thereby limit inappropriate inhibition.'}"
      ]
     },
     "execution_count": 4,
     "metadata": {},
     "output_type": "execute_result"
    }
   ],
   "source": [
    "query.abstract_getter(ids)"
   ]
  },
  {
   "cell_type": "markdown",
   "metadata": {},
   "source": [
    "Becuase of pairing IDs with abstracts is a little bit tricky as some search result files are differently formatted than others, _abstract_\\__getter_ just assigns a generic ID (a counter) to the abstracts.\n",
    "\n",
    "If we went through the IDs one-by-one, the ids could get paired correctly with the abstracts, and then we would have ID and abstract text pairing...but then it would take very long and we are likely not going to use this information.\n",
    "\n",
    "## Downloading abstracts to local jsons"
   ]
  },
  {
   "cell_type": "markdown",
   "metadata": {},
   "source": [
    "The _download_\\_all_\\__abstracts_ method saves _max_\\__results_ abstracts to a json file as below."
   ]
  },
  {
   "cell_type": "code",
   "execution_count": 5,
   "metadata": {
    "collapsed": false
   },
   "outputs": [
    {
     "name": "stdout",
     "output_type": "stream",
     "text": [
      "Saving to pbabstract1.json\n",
      "500/50407 downloaded\n",
      "Saving to pbabstract2.json\n",
      "1000/50407 downloaded\n",
      "Saving to pbabstract3.json\n",
      "1500/50407 downloaded\n",
      "Saving to pbabstract4.json\n",
      "2000/50407 downloaded\n",
      "Saving to pbabstract5.json\n",
      "2500/50407 downloaded\n",
      "Saving to pbabstract6.json\n",
      "3000/50407 downloaded\n",
      "Saving to pbabstract7.json\n",
      "3500/50407 downloaded\n",
      "Saving to pbabstract8.json\n",
      "4000/50407 downloaded\n",
      "Saving to pbabstract9.json\n",
      "4500/50407 downloaded\n",
      "Saving to pbabstract10.json\n",
      "5000/50407 downloaded\n",
      "Saving to pbabstract11.json\n",
      "5500/50407 downloaded\n",
      "Saving to pbabstract12.json\n",
      "6000/50407 downloaded\n",
      "Saving to pbabstract13.json\n",
      "6500/50407 downloaded\n",
      "Saving to pbabstract14.json\n",
      "7000/50407 downloaded\n",
      "Saving to pbabstract15.json\n",
      "7500/50407 downloaded\n",
      "Saving to pbabstract16.json\n",
      "8000/50407 downloaded\n",
      "Saving to pbabstract17.json\n",
      "8500/50407 downloaded\n",
      "Saving to pbabstract18.json\n",
      "9000/50407 downloaded\n",
      "Saving to pbabstract19.json\n",
      "9500/50407 downloaded\n",
      "Saving to pbabstract20.json\n",
      "10000/50407 downloaded\n",
      "Saving to pbabstract21.json\n",
      "10500/50407 downloaded\n",
      "Saving to pbabstract22.json\n",
      "11000/50407 downloaded\n",
      "Saving to pbabstract23.json\n",
      "11500/50407 downloaded\n",
      "Saving to pbabstract24.json\n",
      "12000/50407 downloaded\n",
      "Saving to pbabstract25.json\n",
      "12500/50407 downloaded\n",
      "Saving to pbabstract26.json\n",
      "13000/50407 downloaded\n",
      "Saving to pbabstract27.json\n",
      "13500/50407 downloaded\n",
      "Saving to pbabstract28.json\n",
      "14000/50407 downloaded\n",
      "Saving to pbabstract29.json\n",
      "14500/50407 downloaded\n",
      "Saving to pbabstract30.json\n",
      "15000/50407 downloaded\n",
      "Saving to pbabstract31.json\n",
      "15500/50407 downloaded\n",
      "Saving to pbabstract32.json\n",
      "16000/50407 downloaded\n",
      "Saving to pbabstract33.json\n",
      "16500/50407 downloaded\n",
      "Saving to pbabstract34.json\n",
      "17000/50407 downloaded\n",
      "Saving to pbabstract35.json\n",
      "17500/50407 downloaded\n",
      "Saving to pbabstract36.json\n",
      "18000/50407 downloaded\n",
      "Saving to pbabstract37.json\n",
      "18500/50407 downloaded\n",
      "Saving to pbabstract38.json\n",
      "19000/50407 downloaded\n",
      "Saving to pbabstract39.json\n",
      "19500/50407 downloaded\n",
      "Saving to pbabstract40.json\n",
      "20000/50407 downloaded\n",
      "Saving to pbabstract41.json\n",
      "20500/50407 downloaded\n",
      "Saving to pbabstract42.json\n",
      "21000/50407 downloaded\n",
      "Saving to pbabstract43.json\n",
      "21500/50407 downloaded\n",
      "Saving to pbabstract44.json\n",
      "22000/50407 downloaded\n",
      "Saving to pbabstract45.json\n",
      "22500/50407 downloaded\n",
      "Saving to pbabstract46.json\n",
      "23000/50407 downloaded\n",
      "Saving to pbabstract47.json\n",
      "23500/50407 downloaded\n",
      "Saving to pbabstract48.json\n",
      "24000/50407 downloaded\n",
      "Saving to pbabstract49.json\n",
      "24500/50407 downloaded\n",
      "Saving to pbabstract50.json\n",
      "25000/50407 downloaded\n",
      "Saving to pbabstract51.json\n",
      "25500/50407 downloaded\n",
      "Saving to pbabstract52.json\n",
      "26000/50407 downloaded\n",
      "Saving to pbabstract53.json\n",
      "26500/50407 downloaded\n",
      "Saving to pbabstract54.json\n",
      "27000/50407 downloaded\n",
      "Saving to pbabstract55.json\n",
      "27500/50407 downloaded\n",
      "Saving to pbabstract56.json\n",
      "28000/50407 downloaded\n",
      "Saving to pbabstract57.json\n",
      "28500/50407 downloaded\n",
      "Saving to pbabstract58.json\n",
      "29000/50407 downloaded\n",
      "Saving to pbabstract59.json\n",
      "29500/50407 downloaded\n",
      "Saving to pbabstract60.json\n",
      "30000/50407 downloaded\n",
      "Saving to pbabstract61.json\n",
      "30500/50407 downloaded\n",
      "Saving to pbabstract62.json\n",
      "31000/50407 downloaded\n",
      "Saving to pbabstract63.json\n",
      "31500/50407 downloaded\n",
      "Saving to pbabstract64.json\n",
      "32000/50407 downloaded\n",
      "Saving to pbabstract65.json\n",
      "32500/50407 downloaded\n",
      "Saving to pbabstract66.json\n",
      "33000/50407 downloaded\n",
      "Saving to pbabstract67.json\n",
      "33500/50407 downloaded\n",
      "Saving to pbabstract68.json\n",
      "34000/50407 downloaded\n",
      "Saving to pbabstract69.json\n",
      "34500/50407 downloaded\n",
      "Saving to pbabstract70.json\n",
      "35000/50407 downloaded\n",
      "Saving to pbabstract71.json\n",
      "35500/50407 downloaded\n",
      "Saving to pbabstract72.json\n",
      "36000/50407 downloaded\n",
      "Saving to pbabstract73.json\n",
      "36500/50407 downloaded\n",
      "Saving to pbabstract74.json\n",
      "37000/50407 downloaded\n",
      "Saving to pbabstract75.json\n",
      "37500/50407 downloaded\n",
      "Saving to pbabstract76.json\n",
      "38000/50407 downloaded\n",
      "Saving to pbabstract77.json\n",
      "38500/50407 downloaded\n",
      "Saving to pbabstract78.json\n",
      "39000/50407 downloaded\n",
      "Saving to pbabstract79.json\n",
      "39500/50407 downloaded\n",
      "Saving to pbabstract80.json\n",
      "40000/50407 downloaded\n",
      "Saving to pbabstract81.json\n",
      "40500/50407 downloaded\n",
      "Saving to pbabstract82.json\n",
      "41000/50407 downloaded\n",
      "Saving to pbabstract83.json\n",
      "41500/50407 downloaded\n",
      "Saving to pbabstract84.json\n",
      "42000/50407 downloaded\n",
      "Saving to pbabstract85.json\n",
      "42500/50407 downloaded\n",
      "Saving to pbabstract86.json\n",
      "43000/50407 downloaded\n",
      "Saving to pbabstract87.json\n",
      "43500/50407 downloaded\n",
      "Saving to pbabstract88.json\n",
      "44000/50407 downloaded\n",
      "Saving to pbabstract89.json\n",
      "44500/50407 downloaded\n",
      "Saving to pbabstract90.json\n",
      "45000/50407 downloaded\n",
      "Saving to pbabstract91.json\n",
      "45500/50407 downloaded\n",
      "Saving to pbabstract92.json\n",
      "46000/50407 downloaded\n",
      "Saving to pbabstract93.json\n",
      "46500/50407 downloaded\n",
      "Saving to pbabstract94.json\n",
      "47000/50407 downloaded\n",
      "Saving to pbabstract95.json\n",
      "47500/50407 downloaded\n",
      "Saving to pbabstract96.json\n",
      "48000/50407 downloaded\n",
      "Saving to pbabstract97.json\n",
      "48500/50407 downloaded\n",
      "Saving to pbabstract98.json\n",
      "49000/50407 downloaded\n",
      "Saving to pbabstract99.json\n",
      "49500/50407 downloaded\n",
      "Saving to pbabstract100.json\n",
      "50000/50407 downloaded\n",
      "CPU times: user 2min 5s, sys: 2.6 s, total: 2min 8s\n",
      "Wall time: 10min 26s\n"
     ]
    }
   ],
   "source": [
    "%%time\n",
    "# reset the counter before calling the download_all_abstracts method as we have already called it once above\n",
    "pb.PubMedQuery.COUNT = 0\n",
    "max_results = 500\n",
    "pb.download_all_abstracts(search_term, max_results)"
   ]
  },
  {
   "cell_type": "markdown",
   "metadata": {
    "collapsed": true
   },
   "source": [
    "### Adding Jython Code for Parser\n",
    "<https://github.com/vpekar/stanford-parser-in-jython>"
   ]
  },
  {
   "cell_type": "markdown",
   "metadata": {},
   "source": [
    "1. Download the parser from http://nlp.stanford.edu/downloads/lex-parser.shtml\n",
    "2. Unpack into a local dir, put the path to stanford-parser.jar into the classpath for jython\n",
    "3. Put the path to englishPCFG.ser.gz as an arg to StanfordParser"
   ]
  },
  {
   "cell_type": "code",
   "execution_count": 13,
   "metadata": {
    "collapsed": false
   },
   "outputs": [
    {
     "name": "stdout",
     "output_type": "stream",
     "text": [
      "Traceback (innermost last):\r\n",
      "  (no code object) at line 0\r\n",
      "  File \"stanford.py\", line 127\r\n",
      "\t        tag = 'Z' if parent == None else parent.value()\r\n",
      "\t                  ^\r\n",
      "SyntaxError: invalid syntax\r\n"
     ]
    }
   ],
   "source": [
    "!java -jar jython.jar stanford.py"
   ]
  },
  {
   "cell_type": "code",
   "execution_count": 18,
   "metadata": {
    "collapsed": false
   },
   "outputs": [
    {
     "ename": "Exception",
     "evalue": "The script should be run from Jython!",
     "output_type": "error",
     "traceback": [
      "\u001b[0;31m---------------------------------------------------------------------------\u001b[0m",
      "\u001b[0;31mException\u001b[0m                                 Traceback (most recent call last)",
      "\u001b[0;32m<ipython-input-18-de6b13ddeceb>\u001b[0m in \u001b[0;36m<module>\u001b[0;34m()\u001b[0m\n\u001b[1;32m      2\u001b[0m     \u001b[0;32massert\u001b[0m \u001b[0;34m'java'\u001b[0m \u001b[0;32min\u001b[0m \u001b[0msys\u001b[0m\u001b[0;34m.\u001b[0m\u001b[0mplatform\u001b[0m\u001b[0;34m\u001b[0m\u001b[0m\n\u001b[1;32m      3\u001b[0m \u001b[0;32mexcept\u001b[0m \u001b[0mAssertionError\u001b[0m\u001b[0;34m:\u001b[0m\u001b[0;34m\u001b[0m\u001b[0m\n\u001b[0;32m----> 4\u001b[0;31m     \u001b[0;32mraise\u001b[0m \u001b[0mException\u001b[0m\u001b[0;34m(\u001b[0m\u001b[0;34m\"The script should be run from Jython!\"\u001b[0m\u001b[0;34m)\u001b[0m\u001b[0;34m\u001b[0m\u001b[0m\n\u001b[0m",
      "\u001b[0;31mException\u001b[0m: The script should be run from Jython!"
     ]
    }
   ],
   "source": [
    "try:\n",
    "    assert 'java' in sys.platform\n",
    "except AssertionError:\n",
    "    raise Exception(\"The script should be run from Jython!\")"
   ]
  },
  {
   "cell_type": "markdown",
   "metadata": {},
   "source": [
    "### Code for Training Sentiment Analysis\n",
    "<https://nlp.stanford.edu/sentiment/code.html>"
   ]
  },
  {
   "cell_type": "code",
   "execution_count": null,
   "metadata": {
    "collapsed": true
   },
   "outputs": [],
   "source": []
  }
 ],
 "metadata": {
  "anaconda-cloud": {},
  "kernelspec": {
   "display_name": "Python 2",
   "language": "python",
   "name": "python2"
  },
  "language_info": {
   "codemirror_mode": {
    "name": "ipython",
    "version": 2
   },
   "file_extension": ".py",
   "mimetype": "text/x-python",
   "name": "python",
   "nbconvert_exporter": "python",
   "pygments_lexer": "ipython2",
   "version": "2.7.12"
  }
 },
 "nbformat": 4,
 "nbformat_minor": 2
}
