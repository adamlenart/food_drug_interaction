{
 "cells": [
  {
   "cell_type": "markdown",
   "metadata": {
    "collapsed": false
   },
   "source": [
    "# Analyzing food and drug interactions through PubMed abstracts"
   ]
  },
  {
   "cell_type": "code",
   "execution_count": 2,
   "metadata": {
    "collapsed": true
   },
   "outputs": [],
   "source": [
    "import pubmed.downloader as pb"
   ]
  },
  {
   "cell_type": "markdown",
   "metadata": {},
   "source": [
    "The _pubmed.downloader_ module implements a _PubMedQuery_ class which searches the PubMed database for a search term and returns at most _max_\\__results_ abstracts. "
   ]
  },
  {
   "cell_type": "code",
   "execution_count": 3,
   "metadata": {
    "collapsed": false
   },
   "outputs": [],
   "source": [
    "search_term = 'ACE inhibitor'\n",
    "max_results = 3\n",
    "query = pb.PubMedQuery(search_term, max_results)"
   ]
  },
  {
   "cell_type": "markdown",
   "metadata": {},
   "source": [
    "After instantiating a _PubMedQuery_ instance, _PubMedQuery.id_\\__getter_ should be called to read the ids of the articles of the search results."
   ]
  },
  {
   "cell_type": "code",
   "execution_count": 4,
   "metadata": {
    "collapsed": false
   },
   "outputs": [
    {
     "name": "stdout",
     "output_type": "stream",
     "text": [
      "28573254,28571891,28567349\n"
     ]
    }
   ],
   "source": [
    "ids = query.id_getter()\n",
    "print ids"
   ]
  },
  {
   "cell_type": "code",
   "execution_count": 5,
   "metadata": {
    "collapsed": false
   },
   "outputs": [
    {
     "data": {
      "text/plain": [
       "{u'28567349': 'The presence of proline at the C-terminal tripeptide of ACE inhibitor can competitively inhibit the ACE activity. The effects of other amino acids are less studied leading to difficulties in predicting potent peptide sequences. The broad specificity of the enzyme may be due to the dual active sites observed on the somatic ACE. The inhibitors may not necessarily competitively inhibit the enzyme which explains why some reported inhibitors do not have the common ACE inhibitor characteristics. Finally, the in vivo assay has to be carried out before the peptides as the antihypertensive agents can be claimed. The peptides must be absorbed into circulation without being degraded, which will affect their bioavailability and potency. Thus, peptides with strong in vitro IC50 values do not necessarily have the same effect in vivo and vice versa.',\n",
       " u'28571891': 'Literature search was performed within the PubMed, ScienceDirect.com and Google Scholar.',\n",
       " u'28573254': 'The commercially available synthetic angiotensin-I-converting enzyme (ACE) inhibitors are known to exert negative side effects which have driven many research groups globally to discover the novel ACE inhibitors.'}"
      ]
     },
     "execution_count": 5,
     "metadata": {},
     "output_type": "execute_result"
    }
   ],
   "source": [
    "query.abstract_getter(ids)"
   ]
  },
  {
   "cell_type": "markdown",
   "metadata": {},
   "source": [
    "Currenty, the abstract getter implementation is a little bit buggy... the abstract above should be one abstract with three fields such as background, methods and results. \n",
    "\n",
    "This is not an issue with most of the articles as the abstract is saved within one field..but there a few tricky ones such as ID 28573254... \n",
    "\n",
    "However, if we care only about building vocabulary from the text and not if the abstracts are correctly paired with the IDs, then this is fine.\n",
    "\n",
    "If we went through the IDs one-by-one, the ids could get paired correctly with the abstracts...but then it would take very long.\n",
    "\n",
    "## Downloading abstracts to local jsons"
   ]
  },
  {
   "cell_type": "markdown",
   "metadata": {},
   "source": [
    "The _download_\\_all_\\__abstracts_ method saves _max_\\__results_ abstracts to a json file as below."
   ]
  },
  {
   "cell_type": "code",
   "execution_count": null,
   "metadata": {
    "collapsed": false
   },
   "outputs": [
    {
     "name": "stdout",
     "output_type": "stream",
     "text": [
      "Saving to pbabstract1.json\n",
      "500/50406 downloaded\n",
      "Saving to pbabstract2.json\n",
      "1000/50406 downloaded\n",
      "Saving to pbabstract3.json\n",
      "1500/50406 downloaded\n",
      "Saving to pbabstract4.json\n",
      "2000/50406 downloaded\n",
      "Saving to pbabstract5.json\n",
      "2500/50406 downloaded\n",
      "Saving to pbabstract6.json\n",
      "3000/50406 downloaded\n",
      "Saving to pbabstract7.json\n",
      "3500/50406 downloaded\n",
      "Saving to pbabstract8.json\n",
      "4000/50406 downloaded\n",
      "Saving to pbabstract9.json\n",
      "4500/50406 downloaded\n",
      "Saving to pbabstract10.json\n",
      "5000/50406 downloaded\n",
      "Saving to pbabstract11.json\n",
      "5500/50406 downloaded\n",
      "Saving to pbabstract12.json\n",
      "6000/50406 downloaded\n",
      "Saving to pbabstract13.json\n",
      "6500/50406 downloaded\n",
      "Saving to pbabstract14.json\n",
      "7000/50406 downloaded\n",
      "Saving to pbabstract15.json\n",
      "7500/50406 downloaded\n",
      "Saving to pbabstract16.json\n",
      "8000/50406 downloaded\n",
      "Saving to pbabstract17.json\n",
      "8500/50406 downloaded\n",
      "Saving to pbabstract18.json\n",
      "9000/50406 downloaded\n",
      "Saving to pbabstract19.json\n",
      "9500/50406 downloaded\n",
      "Saving to pbabstract20.json\n",
      "10000/50406 downloaded\n",
      "Saving to pbabstract21.json\n",
      "10500/50406 downloaded\n",
      "Saving to pbabstract22.json\n",
      "11000/50406 downloaded\n",
      "Saving to pbabstract23.json\n",
      "11500/50406 downloaded\n",
      "Saving to pbabstract24.json\n",
      "12000/50406 downloaded\n",
      "Saving to pbabstract25.json\n",
      "12500/50406 downloaded\n",
      "Saving to pbabstract26.json\n",
      "13000/50406 downloaded\n",
      "Saving to pbabstract27.json\n",
      "13500/50406 downloaded\n",
      "Saving to pbabstract28.json\n",
      "14000/50406 downloaded\n",
      "Saving to pbabstract29.json\n",
      "14500/50406 downloaded\n",
      "Saving to pbabstract30.json\n",
      "15000/50406 downloaded\n",
      "Saving to pbabstract31.json\n",
      "15500/50406 downloaded\n",
      "Saving to pbabstract32.json\n",
      "16000/50406 downloaded\n",
      "Saving to pbabstract33.json\n",
      "16500/50406 downloaded\n",
      "Saving to pbabstract34.json\n",
      "17000/50406 downloaded\n",
      "Saving to pbabstract35.json\n",
      "17500/50406 downloaded\n",
      "Saving to pbabstract36.json\n",
      "18000/50406 downloaded\n",
      "Saving to pbabstract37.json\n",
      "18500/50406 downloaded\n",
      "Saving to pbabstract38.json\n",
      "19000/50406 downloaded\n",
      "Saving to pbabstract39.json\n",
      "19500/50406 downloaded\n",
      "Saving to pbabstract40.json\n",
      "20000/50406 downloaded\n",
      "Saving to pbabstract41.json\n",
      "20500/50406 downloaded\n"
     ]
    }
   ],
   "source": [
    "# reset the counter before calling the download_all_abstracts method as we have already called it once above\n",
    "pb.PubMedQuery.COUNT = 0\n",
    "max_results = 500\n",
    "pb.download_all_abstracts(search_term, max_results)"
   ]
  },
  {
   "cell_type": "code",
   "execution_count": null,
   "metadata": {
    "collapsed": true
   },
   "outputs": [],
   "source": []
  }
 ],
 "metadata": {
  "anaconda-cloud": {},
  "kernelspec": {
   "display_name": "Python [conda env:python2]",
   "language": "python",
   "name": "conda-env-python2-py"
  },
  "language_info": {
   "codemirror_mode": {
    "name": "ipython",
    "version": 2
   },
   "file_extension": ".py",
   "mimetype": "text/x-python",
   "name": "python",
   "nbconvert_exporter": "python",
   "pygments_lexer": "ipython2",
   "version": "2.7.12"
  }
 },
 "nbformat": 4,
 "nbformat_minor": 2
}
