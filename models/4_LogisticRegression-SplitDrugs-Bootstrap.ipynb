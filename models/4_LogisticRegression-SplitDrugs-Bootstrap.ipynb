{
 "cells": [
  {
   "cell_type": "code",
   "execution_count": 1,
   "metadata": {},
   "outputs": [
    {
     "name": "stderr",
     "output_type": "stream",
     "text": [
      "/Applications/anaconda/lib/python2.7/site-packages/sklearn/cross_validation.py:44: DeprecationWarning: This module was deprecated in version 0.18 in favor of the model_selection module into which all the refactored classes and functions are moved. Also note that the interface of the new CV iterators are different from that of this module. This module will be removed in 0.20.\n",
      "  \"This module will be removed in 0.20.\", DeprecationWarning)\n",
      "/Applications/anaconda/lib/python2.7/site-packages/sklearn/grid_search.py:43: DeprecationWarning: This module was deprecated in version 0.18 in favor of the model_selection module into which all the refactored classes and functions are moved. This module will be removed in 0.20.\n",
      "  DeprecationWarning)\n"
     ]
    }
   ],
   "source": [
    "# This tells matplotlib not to try opening a new window for each plot.\n",
    "%matplotlib inline\n",
    "\n",
    "# General libraries.\n",
    "import re\n",
    "import numpy as np\n",
    "import pandas as pd\n",
    "import matplotlib.pyplot as plt\n",
    "import seaborn as sn\n",
    "import time\n",
    "\n",
    "# SK-learn libraries for learning.\n",
    "from sklearn.pipeline import Pipeline\n",
    "from sklearn.neighbors import KNeighborsClassifier\n",
    "from sklearn.linear_model import LogisticRegression\n",
    "from sklearn.naive_bayes import BernoulliNB\n",
    "from sklearn.naive_bayes import MultinomialNB\n",
    "from sklearn.grid_search import GridSearchCV\n",
    "from sklearn.svm import SVC\n",
    "\n",
    "# SK-learn libraries for evaluation.\n",
    "from sklearn.metrics import confusion_matrix\n",
    "from sklearn import metrics\n",
    "from sklearn.metrics import classification_report\n",
    "from sklearn.metrics import roc_auc_score\n",
    "\n",
    "# SK-learn libraries for feature extraction from text.\n",
    "from sklearn.feature_extraction.text import *"
   ]
  },
  {
   "cell_type": "markdown",
   "metadata": {},
   "source": [
    "## Prepare Train and Test Dataset"
   ]
  },
  {
   "cell_type": "code",
   "execution_count": 2,
   "metadata": {},
   "outputs": [
    {
     "data": {
      "text/html": [
       "<div>\n",
       "<table border=\"1\" class=\"dataframe\">\n",
       "  <thead>\n",
       "    <tr style=\"text-align: right;\">\n",
       "      <th></th>\n",
       "      <th>Label_alpha</th>\n",
       "      <th>Label_num</th>\n",
       "      <th>Drug</th>\n",
       "      <th>Food</th>\n",
       "      <th>sentence</th>\n",
       "    </tr>\n",
       "    <tr>\n",
       "      <th>ID</th>\n",
       "      <th></th>\n",
       "      <th></th>\n",
       "      <th></th>\n",
       "      <th></th>\n",
       "      <th></th>\n",
       "    </tr>\n",
       "  </thead>\n",
       "  <tbody>\n",
       "    <tr>\n",
       "      <th>400</th>\n",
       "      <td>neutral</td>\n",
       "      <td>1</td>\n",
       "      <td>ACE inhibitor</td>\n",
       "      <td>pentadecanoic acid</td>\n",
       "      <td>(123)iodine labelled beta-methyl-iodophenyl pe...</td>\n",
       "    </tr>\n",
       "    <tr>\n",
       "      <th>333</th>\n",
       "      <td>positive</td>\n",
       "      <td>2</td>\n",
       "      <td>ACE inhibitor</td>\n",
       "      <td>2-phenylethanol</td>\n",
       "      <td>2-Phenylethanol is a widely used aroma compoun...</td>\n",
       "    </tr>\n",
       "    <tr>\n",
       "      <th>77</th>\n",
       "      <td>positive</td>\n",
       "      <td>2</td>\n",
       "      <td>ACE inhibitor</td>\n",
       "      <td>3,4-dihydroxyphenylacetic acid</td>\n",
       "      <td>3,4-dihydroxyphenylacetic acid and 4-methylcat...</td>\n",
       "    </tr>\n",
       "    <tr>\n",
       "      <th>338</th>\n",
       "      <td>neutral</td>\n",
       "      <td>1</td>\n",
       "      <td>ACE inhibitor</td>\n",
       "      <td>arachin</td>\n",
       "      <td>A 96-well microplate format of this method was...</td>\n",
       "    </tr>\n",
       "    <tr>\n",
       "      <th>214</th>\n",
       "      <td>neutral</td>\n",
       "      <td>1</td>\n",
       "      <td>ACE inhibitor</td>\n",
       "      <td>diethylamine</td>\n",
       "      <td>A biochemical study was performed in order to ...</td>\n",
       "    </tr>\n",
       "  </tbody>\n",
       "</table>\n",
       "</div>"
      ],
      "text/plain": [
       "    Label_alpha  Label_num           Drug                            Food  \\\n",
       "ID                                                                          \n",
       "400     neutral          1  ACE inhibitor              pentadecanoic acid   \n",
       "333    positive          2  ACE inhibitor                 2-phenylethanol   \n",
       "77     positive          2  ACE inhibitor  3,4-dihydroxyphenylacetic acid   \n",
       "338     neutral          1  ACE inhibitor                         arachin   \n",
       "214     neutral          1  ACE inhibitor                    diethylamine   \n",
       "\n",
       "                                              sentence  \n",
       "ID                                                      \n",
       "400  (123)iodine labelled beta-methyl-iodophenyl pe...  \n",
       "333  2-Phenylethanol is a widely used aroma compoun...  \n",
       "77   3,4-dihydroxyphenylacetic acid and 4-methylcat...  \n",
       "338  A 96-well microplate format of this method was...  \n",
       "214  A biochemical study was performed in order to ...  "
      ]
     },
     "execution_count": 2,
     "metadata": {},
     "output_type": "execute_result"
    }
   ],
   "source": [
    "df = pd.read_csv(\"../labeled_dataAll.csv\", index_col='ID')\n",
    "df.head(5)"
   ]
  },
  {
   "cell_type": "code",
   "execution_count": 3,
   "metadata": {},
   "outputs": [
    {
     "data": {
      "text/plain": [
       "array(['ACE inhibitor', 'Antacid', 'GLP-1', 'Thyroxine', 'Statin',\n",
       "       'Acetaminophen', 'Digoxin', 'Isoniazid', 'Antihistamine', 'MOAI',\n",
       "       'Analgesics', 'Bronchodialators'], dtype=object)"
      ]
     },
     "execution_count": 3,
     "metadata": {},
     "output_type": "execute_result"
    }
   ],
   "source": [
    "df.Drug.unique()"
   ]
  },
  {
   "cell_type": "code",
   "execution_count": 4,
   "metadata": {
    "collapsed": true
   },
   "outputs": [],
   "source": [
    "df_train = df[(df.Drug != \"Statin\") & (df.Drug != \"Isoniazid\") & (df.Drug != \"Digoxin\")]\n",
    "df_test = df[(df.Drug == \"Statin\") | (df.Drug == \"Isoniazid\") | (df.Drug == \"Digoxin\")]"
   ]
  },
  {
   "cell_type": "code",
   "execution_count": 5,
   "metadata": {},
   "outputs": [
    {
     "name": "stdout",
     "output_type": "stream",
     "text": [
      "['ACE inhibitor' 'Antacid' 'GLP-1' 'Thyroxine' 'Acetaminophen'\n",
      " 'Antihistamine' 'MOAI' 'Analgesics' 'Bronchodialators']\n"
     ]
    }
   ],
   "source": [
    "drugs = df_train.Drug.unique()\n",
    "print drugs\n",
    "add_dict = {}\n",
    "\n",
    "for drug in drugs:\n",
    "    \n",
    "    count_list = []\n",
    "    for i in range(3):\n",
    "        count = len(df_train[(df_train.Drug == drug) & (df_train.Label_num == i)])\n",
    "        count_list.append(count)\n",
    "        \n",
    "    max_count = max(count_list)\n",
    "    add_list = [max(0,max_count-c) for c in count_list]\n",
    "    add_dict[drug] = add_list\n",
    "    "
   ]
  },
  {
   "cell_type": "code",
   "execution_count": 6,
   "metadata": {},
   "outputs": [
    {
     "name": "stdout",
     "output_type": "stream",
     "text": [
      "{'GLP-1': [109, 0, 59], 'Thyroxine': [66, 0, 85], 'MOAI': [34, 2, 0], 'Antihistamine': [18, 0, 5], 'Analgesics': [8, 2, 0], 'Acetaminophen': [334, 0, 435], 'Antacid': [22, 0, 16], 'Bronchodialators': [12, 0, 2], 'ACE inhibitor': [272, 0, 107]}\n"
     ]
    }
   ],
   "source": [
    "print add_dict"
   ]
  },
  {
   "cell_type": "code",
   "execution_count": 7,
   "metadata": {},
   "outputs": [
    {
     "name": "stdout",
     "output_type": "stream",
     "text": [
      "1829\n"
     ]
    }
   ],
   "source": [
    "original_n = len(df_train)\n",
    "print original_n"
   ]
  },
  {
   "cell_type": "code",
   "execution_count": 8,
   "metadata": {},
   "outputs": [
    {
     "name": "stdout",
     "output_type": "stream",
     "text": [
      "3417\n"
     ]
    }
   ],
   "source": [
    "for drug in drugs:\n",
    "    for i in range(3):\n",
    "        temp = df_train[(df_train.Drug == drug) & (df_train.Label_num == i)].sample(add_dict[drug][i], replace=True)\n",
    "        df_train = df_train.append(temp)\n",
    "\n",
    "print len(df_train)"
   ]
  },
  {
   "cell_type": "code",
   "execution_count": 9,
   "metadata": {},
   "outputs": [
    {
     "name": "stdout",
     "output_type": "stream",
     "text": [
      "3417\n"
     ]
    }
   ],
   "source": [
    "# check if equal to above number\n",
    "print sum([j for i in add_dict.values() for j in i]) + original_n"
   ]
  },
  {
   "cell_type": "code",
   "execution_count": 10,
   "metadata": {},
   "outputs": [
    {
     "name": "stderr",
     "output_type": "stream",
     "text": [
      "/Applications/anaconda/lib/python2.7/site-packages/ipykernel/__main__.py:19: SettingWithCopyWarning: \n",
      "A value is trying to be set on a copy of a slice from a DataFrame\n",
      "\n",
      "See the caveats in the documentation: http://pandas.pydata.org/pandas-docs/stable/indexing.html#indexing-view-versus-copy\n",
      "/Applications/anaconda/lib/python2.7/site-packages/ipykernel/__main__.py:20: SettingWithCopyWarning: \n",
      "A value is trying to be set on a copy of a slice from a DataFrame\n",
      "\n",
      "See the caveats in the documentation: http://pandas.pydata.org/pandas-docs/stable/indexing.html#indexing-view-versus-copy\n",
      "/Applications/anaconda/lib/python2.7/site-packages/ipykernel/__main__.py:21: SettingWithCopyWarning: \n",
      "A value is trying to be set on a copy of a slice from a DataFrame\n",
      "\n",
      "See the caveats in the documentation: http://pandas.pydata.org/pandas-docs/stable/indexing.html#indexing-view-versus-copy\n",
      "/Applications/anaconda/lib/python2.7/site-packages/ipykernel/__main__.py:22: SettingWithCopyWarning: \n",
      "A value is trying to be set on a copy of a slice from a DataFrame\n",
      "\n",
      "See the caveats in the documentation: http://pandas.pydata.org/pandas-docs/stable/indexing.html#indexing-view-versus-copy\n"
     ]
    }
   ],
   "source": [
    "# Randomly shuffle the data. Use same random seed to get same results every time. \n",
    "df_shuffle = df_train.sample(frac=1, random_state=0).reset_index(drop=True)\n",
    "\n",
    "# Separate labels\n",
    "labels = [i for i in df_shuffle.Label_num]\n",
    "labels = np.array(labels)\n",
    "n = len(labels)\n",
    "\n",
    "labels2 = [i for i in df_test.Label_num]\n",
    "labels2 = np.array(labels2)\n",
    "\n",
    "\n",
    "# Drop unecessary columns from input data\n",
    "df_shuffle.drop('Label_alpha', axis=1, inplace=True)\n",
    "df_shuffle.drop('Label_num', axis=1, inplace=True)\n",
    "df_shuffle.drop('Drug', axis=1, inplace=True)\n",
    "df_shuffle.drop('Food', axis=1, inplace=True)\n",
    "\n",
    "df_test.drop('Label_alpha', axis=1, inplace=True)\n",
    "df_test.drop('Label_num', axis=1, inplace=True)\n",
    "df_test.drop('Drug', axis=1, inplace=True)\n",
    "df_test.drop('Food', axis=1, inplace=True)\n",
    "\n",
    "\n",
    "# Split the train data into training and dev datasets\n",
    "train_data =  df_shuffle[:3*n/4].sentence.tolist()\n",
    "dev_data = df_shuffle[3*n/4:].sentence.tolist()\n",
    "test_data = df_test.sentence.tolist()\n",
    "\n",
    "# Separate training and dev labels\n",
    "train_labels =  labels[:3*n/4]\n",
    "dev_labels = labels[3*n/4:]\n",
    "test_labels = labels2"
   ]
  },
  {
   "cell_type": "code",
   "execution_count": 11,
   "metadata": {},
   "outputs": [
    {
     "name": "stdout",
     "output_type": "stream",
     "text": [
      "training label shape: (2562,)\n",
      "test label shape: (642,)\n",
      "dev label shape: (855,)\n"
     ]
    }
   ],
   "source": [
    "print 'training label shape:', train_labels.shape\n",
    "print 'test label shape:', test_labels.shape\n",
    "print 'dev label shape:', dev_labels.shape"
   ]
  },
  {
   "cell_type": "code",
   "execution_count": 12,
   "metadata": {
    "collapsed": true
   },
   "outputs": [],
   "source": [
    "classes = ['negative', 'neutral', 'positive'] # corresponding labels = 0, 1, 2\n",
    "classes_dict = {0:'negative', 1:'neutral', 2:'positive'} # corresponding labels = 0, 1, 2"
   ]
  },
  {
   "cell_type": "code",
   "execution_count": 13,
   "metadata": {
    "collapsed": true
   },
   "outputs": [],
   "source": [
    "def count_classes(value, labels):\n",
    "    return len([i for i in labels if i == value])"
   ]
  },
  {
   "cell_type": "code",
   "execution_count": 14,
   "metadata": {},
   "outputs": [
    {
     "name": "stdout",
     "output_type": "stream",
     "text": [
      "Dataset split among Negative, Neutral and Positive\n",
      "\n",
      "        dataset |       negative |        neutral |       positive\n",
      "          train |     834.000000 |     855.000000 |     873.000000\n",
      "            dev |     305.000000 |     284.000000 |     266.000000\n",
      "           test |      95.000000 |     446.000000 |     101.000000\n"
     ]
    }
   ],
   "source": [
    "# Check number of classes per train/dev/test dataset:\n",
    "print \"Dataset split among Negative, Neutral and Positive\"\n",
    "print \"\"\n",
    "\n",
    "print \"{0:>15} |{1:>15} |{2:>15} |{3:>15}\".format(\"dataset\",\"negative\", \"neutral\", \"positive\")\n",
    "print \"{0:>15} |{1:>15f} |{2:>15f} |{3:>15f}\".format(\"train\",count_classes(0,train_labels), \n",
    "                                                     count_classes(1,train_labels),\n",
    "                                                     count_classes(2,train_labels))\n",
    "print \"{0:>15} |{1:>15f} |{2:>15f} |{3:>15f}\".format(\"dev\",count_classes(0,dev_labels), \n",
    "                                                     count_classes(1,dev_labels),\n",
    "                                                     count_classes(2,dev_labels))\n",
    "print \"{0:>15} |{1:>15f} |{2:>15f} |{3:>15f}\".format(\"test\",count_classes(0,test_labels), \n",
    "                                                     count_classes(1,test_labels),\n",
    "                                                     count_classes(2,test_labels))"
   ]
  },
  {
   "cell_type": "code",
   "execution_count": 15,
   "metadata": {},
   "outputs": [
    {
     "name": "stdout",
     "output_type": "stream",
     "text": [
      "Training example 1\n",
      "Label 2 ( positive )\n",
      "Sentence:\n",
      "Among these, phellopterin activated GPR119 and increased active GLP-1 and insulin secretion in vitro and enhanced glucose tolerance in normal and db/db mice.\" \n",
      "\n",
      "\n",
      "Training example 2\n",
      "Label 2 ( positive )\n",
      "Sentence:\n",
      "Lower levels of ACE inhibition were observed with ethanol extracts of oregano (18.5 %) and lemon balm (0.5 %). \n",
      "\n",
      "\n",
      "Training example 3\n",
      "Label 2 ( positive )\n",
      "Sentence:\n",
      "All the types of honey showed some activity but chestnut honey had the highest ACE inhibitory activity. \n",
      "\n",
      "\n",
      "Training example 4\n",
      "Label 0 ( negative )\n",
      "Sentence:\n",
      "The results reveal that delayed release occurs in preparations compounded with acetaminophen (AA) as the active ingredient and erythritol (ET) and crospovidone (CP) as excipients. \n",
      "\n",
      "\n",
      "Training example 5\n",
      "Label 1 ( neutral )\n",
      "Sentence:\n",
      "We examined the angiotensin I-converting enzyme (ACE) inhibitory activity and antihypertensive effect of the hot water extract of wakame, Undaria pinnatifida.\" \n",
      "\n",
      "\n"
     ]
    }
   ],
   "source": [
    "# Check few sentences\n",
    "\n",
    "def print_examples(num_examples=5):\n",
    "\n",
    "    for i in range(num_examples):\n",
    "        print \"Training example\", i+1\n",
    "        print \"Label\", train_labels[i], \"(\", classes_dict[train_labels[i]],\")\"\n",
    "        print \"Sentence:\\n\", train_data[i], \"\\n\\n\"\n",
    "       \n",
    "    \n",
    "print_examples(5)"
   ]
  },
  {
   "cell_type": "markdown",
   "metadata": {},
   "source": [
    "# Logistic Regression Model"
   ]
  },
  {
   "cell_type": "code",
   "execution_count": 16,
   "metadata": {
    "collapsed": true
   },
   "outputs": [],
   "source": [
    "# Turn the raw training text into feature vectors based on \"td-idf\"\n",
    "vectorizer = TfidfVectorizer()\n",
    "vocab_train_tf = vectorizer.fit_transform(train_data)\n",
    "vocab_dev_tf = vectorizer.transform(dev_data)\n"
   ]
  },
  {
   "cell_type": "code",
   "execution_count": 17,
   "metadata": {},
   "outputs": [
    {
     "name": "stdout",
     "output_type": "stream",
     "text": [
      "Evaluating Logistic Regression model ...\n",
      "Performing grid search for Logistic Regression model. It may take a few minutes ...\n",
      "Logistic Regression grid search model fitting time = 0.874567 seconds.\n",
      "As per the grid search on the training data, the optimal value of C = 50.000000.\n"
     ]
    },
    {
     "data": {
      "text/plain": [
       "LogisticRegression(C=50.0, class_weight=None, dual=False, fit_intercept=True,\n",
       "          intercept_scaling=1, max_iter=100, multi_class='ovr', n_jobs=1,\n",
       "          penalty='l2', random_state=None, solver='liblinear', tol=0.0001,\n",
       "          verbose=0, warm_start=False)"
      ]
     },
     "execution_count": 17,
     "metadata": {},
     "output_type": "execute_result"
    }
   ],
   "source": [
    "# Logistic Regression:\n",
    "print \"Evaluating Logistic Regression model ...\"\n",
    "\n",
    "# Create a Logistic Regression model. \n",
    "LRmodel = LogisticRegression(C=1.0)\n",
    "\n",
    "# Create a grid search.\n",
    "print \"Performing grid search for Logistic Regression model. It may take a few minutes ...\"\n",
    "Cs = {'C': [0.0001, 0.001, 0.01, 0.1, 0.5, 1.0, 2.0, 5.0, 10.0, 20.0, 50.0, 100.0]}\n",
    "CV_LRmodel = GridSearchCV(estimator=LRmodel, param_grid=Cs)\n",
    "\n",
    "# Fit the models using grid search and display the results.\n",
    "start_time = time.time()\n",
    "CV_LRmodel.fit(vocab_train_tf, train_labels)\n",
    "end_time = time.time()\n",
    "print \"Logistic Regression grid search model fitting time = %f seconds.\" % (end_time - start_time)\n",
    "\n",
    "optimal_Cs = CV_LRmodel.best_params_['C']\n",
    "print \"As per the grid search on the training data, the optimal value of C = %f.\" % optimal_Cs\n",
    "\n",
    "# Construct model with optimal C\n",
    "model_LR = LogisticRegression(C=optimal_Cs)\n",
    "model_LR.fit(vocab_train_tf, train_labels)\n",
    "    "
   ]
  },
  {
   "cell_type": "markdown",
   "metadata": {},
   "source": [
    "## Dev data"
   ]
  },
  {
   "cell_type": "code",
   "execution_count": 18,
   "metadata": {},
   "outputs": [
    {
     "name": "stdout",
     "output_type": "stream",
     "text": [
      "Dev dataset with 855 sentences\n",
      "\n",
      "Data split - Negative, Neutral, Positive\n",
      "----------------------------------------\n",
      "        dataset |       negative |        neutral |       positive\n",
      "  dev_predicted |     309.000000 |     279.000000 |     267.000000\n",
      "     dev_actual |     305.000000 |     284.000000 |     266.000000\n",
      "\n",
      "Accuracy\n",
      "--------\n",
      "Accuracy (test data): 0.918\n",
      "\n",
      "Classification Report\n",
      "---------------------\n",
      "             precision    recall  f1-score   support\n",
      "\n",
      "          0       0.96      0.97      0.97       305\n",
      "          1       0.89      0.88      0.88       284\n",
      "          2       0.90      0.90      0.90       266\n",
      "\n",
      "avg / total       0.92      0.92      0.92       855\n",
      "\n",
      "\n",
      "Confusion matrix for Dev data\n",
      "-----------------------------\n",
      "The most confused pair of classes is: 1 ( neutral )  incorrectly predicted as 2 ( positive )\n",
      "Number of such confusion occurences: 27\n"
     ]
    },
    {
     "data": {
      "image/png": "[encoded data removed]",
      "text/plain": [
       "<matplotlib.figure.Figure at 0x106244f90>"
      ]
     },
     "metadata": {},
     "output_type": "display_data"
    }
   ],
   "source": [
    "# Validation data\n",
    "predicted_labels_LR = model_LR.predict(vocab_dev_tf)\n",
    "\n",
    "print \"Dev dataset with\", len(predicted_labels_LR), \"sentences\"\n",
    "print \"\"\n",
    "\n",
    "print \"Data split - Negative, Neutral, Positive\"\n",
    "print \"----------------------------------------\"\n",
    "print \"{0:>15} |{1:>15} |{2:>15} |{3:>15}\".format(\"dataset\",\"negative\", \"neutral\", \"positive\")\n",
    "print \"{0:>15} |{1:>15f} |{2:>15f} |{3:>15f}\".format(\"dev_predicted\",count_classes(0,predicted_labels_LR), \n",
    "                                                     count_classes(1,predicted_labels_LR),\n",
    "                                                     count_classes(2,predicted_labels_LR))\n",
    "print \"{0:>15} |{1:>15f} |{2:>15f} |{3:>15f}\".format(\"dev_actual\",count_classes(0,dev_labels), \n",
    "                                                     count_classes(1,dev_labels),\n",
    "                                                     count_classes(2,dev_labels))\n",
    "\n",
    "\n",
    "accuracy = model_LR.score(vocab_dev_tf, dev_labels)\n",
    "print \"\\nAccuracy\"\n",
    "print \"--------\"\n",
    "print \"Accuracy (test data): %.3f\" %(accuracy)\n",
    "\n",
    "print \"\\nClassification Report\"\n",
    "print \"---------------------\"\n",
    "print classification_report(dev_labels, predicted_labels_LR)\n",
    "\n",
    "print \"\\nConfusion matrix for Dev data\"\n",
    "print \"-----------------------------\"\n",
    "\n",
    "array = confusion_matrix(dev_labels, predicted_labels_LR)\n",
    "df_cm = pd.DataFrame(array, index = [\"negative\", \"neutral\", \"positive\"],\n",
    "                  columns = [\"negative\", \"neutral\", \"positive\"])\n",
    "plt.figure(figsize = (10,7))\n",
    "sn.heatmap(df_cm, annot=True)\n",
    "\n",
    "# Find the most confused pair\n",
    "cm2 = confusion_matrix(dev_labels, predicted_labels_LR)  # copy the cm matrix so that can modify the copy without affecting original cm\n",
    "np.fill_diagonal(cm2, 0)  # set the values in the diagonal = 0 to obtain number of confused pairs matrix\n",
    "maximum_pair_idx = np.where(cm2 == cm2.max())  # returns the indices of the max value in cm matrix\n",
    "true_interaction = maximum_pair_idx[0][0]\n",
    "predicted_interaction = maximum_pair_idx[1][0]\n",
    "max_wrong_prediction = cm2[true_interaction][predicted_interaction]\n",
    "print \"The most confused pair of classes is:\", true_interaction, \"(\", classes_dict[true_interaction],\")\",\\\n",
    "\" incorrectly predicted as\", predicted_interaction, \"(\", classes_dict[predicted_interaction],\")\"\n",
    "print \"Number of such confusion occurences:\", max_wrong_prediction"
   ]
  },
  {
   "cell_type": "markdown",
   "metadata": {},
   "source": [
    "## Test data"
   ]
  },
  {
   "cell_type": "code",
   "execution_count": 20,
   "metadata": {},
   "outputs": [
    {
     "name": "stdout",
     "output_type": "stream",
     "text": [
      "Test dataset with 642 sentences\n",
      "\n",
      "Data split - Negative, Neutral, Positive\n",
      "----------------------------------------\n",
      "        dataset |       negative |        neutral |       positive\n",
      " test_predicted |      41.000000 |     515.000000 |      86.000000\n",
      "    test_actual |      95.000000 |     446.000000 |     101.000000\n",
      "\n",
      "Accuracy\n",
      "--------\n",
      "Accuracy (test data): 0.687\n",
      "\n",
      "Classification Report\n",
      "---------------------\n",
      "             precision    recall  f1-score   support\n",
      "\n",
      "          0       0.39      0.17      0.24        95\n",
      "          1       0.78      0.90      0.83       446\n",
      "          2       0.28      0.24      0.26       101\n",
      "\n",
      "avg / total       0.64      0.69      0.65       642\n",
      "\n",
      "\n",
      "Confusion matrix for test data\n",
      "------------------------------\n",
      "The most confused pair of classes is: 2 ( positive )  incorrectly predicted as 1 ( neutral )\n",
      "Number of such confusion occurences: 70\n"
     ]
    },
    {
     "data": {
      "image/png": "[encoded data removed]",
      "text/plain": [
       "<matplotlib.figure.Figure at 0x111b3cb50>"
      ]
     },
     "metadata": {},
     "output_type": "display_data"
    }
   ],
   "source": [
    "# Test data\n",
    "\n",
    "vocab_test_tf = vectorizer.transform(test_data)\n",
    "predicted_labels_LR2 = model_LR.predict(vocab_test_tf)\n",
    "print \"Test dataset with\", len(predicted_labels_LR2), \"sentences\"\n",
    "print \"\"\n",
    "\n",
    "print \"Data split - Negative, Neutral, Positive\"\n",
    "print \"----------------------------------------\"\n",
    "print \"{0:>15} |{1:>15} |{2:>15} |{3:>15}\".format(\"dataset\",\"negative\", \"neutral\", \"positive\")\n",
    "print \"{0:>15} |{1:>15f} |{2:>15f} |{3:>15f}\".format(\"test_predicted\",count_classes(0,predicted_labels_LR2), \n",
    "                                                     count_classes(1,predicted_labels_LR2),\n",
    "                                                     count_classes(2,predicted_labels_LR2))\n",
    "print \"{0:>15} |{1:>15f} |{2:>15f} |{3:>15f}\".format(\"test_actual\",count_classes(0,test_labels), \n",
    "                                                     count_classes(1,test_labels),\n",
    "                                                     count_classes(2,test_labels))\n",
    "\n",
    "accuracy = model_LR.score(vocab_test_tf, test_labels)\n",
    "print \"\\nAccuracy\"\n",
    "print \"--------\"\n",
    "print \"Accuracy (test data): %.3f\" %(accuracy)\n",
    "\n",
    "print \"\\nClassification Report\"\n",
    "print \"---------------------\"\n",
    "print classification_report(test_labels, predicted_labels_LR2)\n",
    "\n",
    "\n",
    "print \"\\nConfusion matrix for test data\"\n",
    "print \"------------------------------\"\n",
    "\n",
    "array = confusion_matrix(test_labels, predicted_labels_LR2)\n",
    "df_cm = pd.DataFrame(array, index = [\"negative\", \"neutral\", \"positive\"],\n",
    "                  columns = [\"negative\", \"neutral\", \"positive\"])\n",
    "plt.figure(figsize = (10,7))\n",
    "sn.heatmap(df_cm, annot=True, fmt='g')\n",
    "\n",
    "\n",
    "# Find the most confused pair\n",
    "cm3 = confusion_matrix(test_labels, predicted_labels_LR2)  # copy the cm matrix so that can modify the copy without affecting original cm\n",
    "np.fill_diagonal(cm3, 0)  # set the values in the diagonal = 0 to obtain number of confused pairs matrix\n",
    "maximum_pair_idx = np.where(cm3 == cm3.max())  # returns the indices of the max value in cm matrix\n",
    "true_interaction = maximum_pair_idx[0][0]\n",
    "predicted_interaction = maximum_pair_idx[1][0]\n",
    "max_wrong_prediction = cm3[true_interaction][predicted_interaction]\n",
    "print \"The most confused pair of classes is:\", true_interaction, \"(\", classes_dict[true_interaction],\")\",\\\n",
    "\" incorrectly predicted as\", predicted_interaction, \"(\", classes_dict[predicted_interaction],\")\"\n",
    "print \"Number of such confusion occurences:\", max_wrong_prediction"
   ]
  },
  {
   "cell_type": "markdown",
   "metadata": {},
   "source": [
    "# Analysis of errors"
   ]
  },
  {
   "cell_type": "markdown",
   "metadata": {},
   "source": [
    "## 1. Words with the highest weights per class"
   ]
  },
  {
   "cell_type": "code",
   "execution_count": 21,
   "metadata": {},
   "outputs": [
    {
     "name": "stdout",
     "output_type": "stream",
     "text": [
      "Class 0 ( negative )\n",
      "1 weight: 9.029 for feature \" induced \"\n",
      "2 weight: 8.099 for feature \" acetylneuraminic \"\n",
      "3 weight: 6.967 for feature \" reversed \"\n",
      "4 weight: 6.932 for feature \" inhibited \"\n",
      "5 weight: 6.754 for feature \" also \"\n",
      "6 weight: 6.730 for feature \" nicotine \"\n",
      "7 weight: 6.685 for feature \" mug \"\n",
      "8 weight: 6.491 for feature \" mitochondrial \"\n",
      "9 weight: 6.485 for feature \" hepatotoxicity \"\n",
      "10 weight: 6.480 for feature \" stimulated \"\n",
      "Class 1 ( neutral )\n",
      "1 weight: 8.304 for feature \" on \"\n",
      "2 weight: 7.743 for feature \" study \"\n",
      "3 weight: 7.073 for feature \" investigated \"\n",
      "4 weight: 6.736 for feature \" not \"\n",
      "5 weight: 6.329 for feature \" were \"\n",
      "6 weight: 6.226 for feature \" measured \"\n",
      "7 weight: 5.891 for feature \" studied \"\n",
      "8 weight: 5.719 for feature \" no \"\n",
      "9 weight: 5.415 for feature \" evaluate \"\n",
      "10 weight: 5.406 for feature \" using \"\n",
      "Class 2 ( positive )\n",
      "1 weight: 8.108 for feature \" increased \"\n",
      "2 weight: 7.884 for feature \" inhibitory \"\n",
      "3 weight: 7.100 for feature \" increasing \"\n",
      "4 weight: 6.926 for feature \" identified \"\n",
      "5 weight: 6.281 for feature \" pectin \"\n",
      "6 weight: 5.801 for feature \" antagonism \"\n",
      "7 weight: 5.762 for feature \" h2o2 \"\n",
      "8 weight: 5.692 for feature \" aa \"\n",
      "9 weight: 5.498 for feature \" diabetic \"\n",
      "10 weight: 5.375 for feature \" monoamine \"\n",
      "\n",
      "Table of weights for each feature for each of the 3 labels:\n",
      "\n",
      "                                negative             neutral            positive\n",
      "             induced               9.029              -4.615              -6.430\n",
      "    acetylneuraminic               8.099              -2.569              -5.806\n",
      "            reversed               6.967              -2.893              -4.149\n",
      "           inhibited               6.932              -5.859              -0.439\n",
      "                also               6.754              -3.836              -2.965\n",
      "            nicotine               6.730              -3.077              -3.541\n",
      "                 mug               6.685              -2.297              -4.009\n",
      "       mitochondrial               6.491              -5.597              -1.469\n",
      "      hepatotoxicity               6.485              -2.696              -5.381\n",
      "          stimulated               6.480              -4.937              -1.614\n",
      "                  on              -1.895               8.304              -8.412\n",
      "               study              -6.948               7.743              -4.009\n",
      "        investigated              -3.195               7.073              -6.719\n",
      "                 not              -4.182               6.736              -2.126\n",
      "                were              -4.938               6.329              -3.042\n",
      "            measured              -3.522               6.226              -2.713\n",
      "             studied              -1.827               5.891              -4.202\n",
      "                  no              -0.481               5.719              -5.008\n",
      "            evaluate              -3.177               5.415              -3.365\n",
      "               using              -2.569               5.406              -4.142\n",
      "           increased              -0.137              -7.782               8.108\n",
      "          inhibitory              -2.707              -6.926               7.884\n",
      "          increasing              -3.207              -4.453               7.100\n",
      "          identified              -2.442              -5.628               6.926\n",
      "              pectin              -3.509              -3.234               6.281\n",
      "          antagonism              -1.693              -3.717               5.801\n",
      "                h2o2              -2.364              -3.056               5.762\n",
      "                  aa              -2.448              -3.044               5.692\n",
      "            diabetic              -3.708              -3.227               5.498\n",
      "           monoamine              -2.902              -1.993               5.375\n"
     ]
    }
   ],
   "source": [
    "vectorizer = TfidfVectorizer()\n",
    "vocab_train = vectorizer.fit_transform(train_data)\n",
    "feature_names = vectorizer.get_feature_names()\n",
    "\n",
    "model_LR = LogisticRegression(C=optimal_Cs)\n",
    "model_LR.fit(vocab_train, train_labels)\n",
    "\n",
    "weights = model_LR.coef_   # weight vector for each label\n",
    "top30_features_index = []  # list of 30 features (10 words with the largest weights for each label)\n",
    "class_list = ['negative', 'neutral', 'positive']\n",
    "\n",
    "for i in range(3):  # 4 labels\n",
    "    weights_label_i = list(weights[i])  # list of weights for label i\n",
    "    top10_weights_label_i = sorted(weights_label_i, reverse=True)[0:10]  # sort and filter greatest 10 weights\n",
    "    top10_features_index_i = [weights_label_i.index(weight) \\\n",
    "                             for weight in top10_weights_label_i]  # find index of top 10\n",
    "    top10_features_i = [feature_names[index] for index in top10_features_index_i]  # list of features of top 10 weights\n",
    "    top30_features_index += top10_features_index_i  # add the top 10 weigths index of label i to the list of 30\n",
    "\n",
    "    # Print top 5 features per label\n",
    "    print \"Class\", i, \"(\", class_list[i] , \")\"\n",
    "    for index, (weight, feature) in enumerate(zip(top10_weights_label_i,top10_features_i), start = 1):\n",
    "        print index, \"weight: %.3f\" %(weight), \"for feature \\\"\", feature, \"\\\"\"\n",
    "\n",
    "top30_features = [feature_names[index] for index in top30_features_index]  # list of features of top 20 weights\n",
    "\n",
    "# Formatting weights for each class for printing table of results\n",
    "top30_w_class0 = [\"%.3f\" %(list(weights[0])[index]) for index in top30_features_index]\n",
    "top30_w_class1 = [\"%.3f\" %(list(weights[1])[index]) for index in top30_features_index]\n",
    "top30_w_class2 = [\"%.3f\" %(list(weights[2])[index]) for index in top30_features_index]\n",
    "\n",
    "\n",
    "\n",
    "weights_array = np.column_stack((top30_w_class0, top30_w_class1, top30_w_class2))\n",
    "\n",
    "# Print table of weights for the 20 top features\n",
    "print \"\\nTable of weights for each feature for each of the 3 labels:\\n\"\n",
    "row_format =\"{:>20}\" * (len(class_list) + 1)\n",
    "print row_format.format(\"\", *class_list)\n",
    "for feature, weights in zip(top30_features, weights_array):\n",
    "    print row_format.format(feature, *weights)\n"
   ]
  },
  {
   "cell_type": "markdown",
   "metadata": {},
   "source": [
    "## 2. R-ratio analysis - look at individual sentences with highest errors"
   ]
  },
  {
   "cell_type": "code",
   "execution_count": 22,
   "metadata": {},
   "outputs": [
    {
     "name": "stdout",
     "output_type": "stream",
     "text": [
      "\n",
      "Top 10 sentences where the ratio R is largest:\n",
      "\n",
      "                         ratio R     Max pred Pr      Correct Pr Predicted label      True label       Doc Index\n",
      "       Highest R         386.589           0.975           0.003             1.0             2.0           344.0\n",
      "     2nd highest         239.864           0.508           0.002             2.0             0.0           593.0\n",
      "     3rd highest         224.204           0.973           0.004             2.0             0.0           387.0\n",
      "             4th         218.533           0.867           0.004             1.0             0.0           164.0\n",
      "             5th         175.276           0.596           0.003             1.0             0.0            56.0\n",
      "             6th         175.276           0.596           0.003             1.0             0.0            57.0\n",
      "             7th         175.276           0.596           0.003             1.0             0.0            58.0\n",
      "             8th         172.807           0.985           0.006             1.0             0.0           124.0\n",
      "             9th         170.902           0.549           0.003             1.0             0.0           554.0\n",
      "            10th         137.194           0.794           0.006             1.0             0.0           403.0\n",
      "\n",
      "Sentences:\n",
      "\n",
      "1) Sentence with ratio R = 386.589 :\n",
      "We developed a diagnostic assay based upon color transformations of polydiacetylene, a unique conjugated polymer, upon interactions with blood plasma obtained from healthy individuals, hypercholesterolemic patients, hypercholesterolemic patients treated with statin, and hypercholesterolemic patients treated with statin together with pomegranate extracts.\n",
      "\n",
      "2) Sentence with ratio R = 239.864 :\n",
      "A concurrent increase in plasma 3-O-methyldopa (3-OMD) and a decrease in plasma 3,4-dihydroxyphenylacetic acid (DOPAC) and homovanillic acid (HVA), the three major metabolites of levodopa, suggests an inhibition of the enzyme dopa decarboxylase, probably by isoniazid.\n",
      "\n",
      "3) Sentence with ratio R = 224.204 :\n",
      "Bupropion administration significantly increased digoxin renal clearance in rats.\\\n",
      "\n",
      "4) Sentence with ratio R = 218.533 :\n",
      "Nevertheless, lovastatin did inhibit the accumulation of gibberellins in the culture medium; this inhibition, however, was counteracted by the addition of mevalonate to the medium.\n",
      "\n",
      "5) Sentence with ratio R = 175.276 :\n",
      "Consumption of pectin or oat bran together with Lovastatin reduces absorption of the drug, while alcohol intake does not appear to affect the efficacy and safety of Fluvastatin treatment.\n",
      "\n",
      "6) Sentence with ratio R = 175.276 :\n",
      "Consumption of pectin or oat bran together with Lovastatin reduces absorption of the drug, while alcohol intake does not appear to affect the efficacy and safety of Fluvastatin treatment.\n",
      "\n",
      "7) Sentence with ratio R = 175.276 :\n",
      "Consumption of pectin or oat bran together with Lovastatin reduces absorption of the drug, while alcohol intake does not appear to affect the efficacy and safety of Fluvastatin treatment.\"\n",
      "\n",
      "8) Sentence with ratio R = 172.807 :\n",
      "In this study, we tested the hypothesis that statins act directly on sensory neurons to decrease expression of proinflammatory neuropeptides that trigger neurogenic inflammation, specifically calcitonin gene-related peptide (CGRP) and substance P. Reverse transcriptase-polymerase chain reaction, radioimmunoassay, and immunocytochemistry were used to quantify CGRP and substance P expression in dorsal root ganglia (DRG) harvested from adult male rats and in primary cultures of sensory neurons derived from embryonic rat DRG.\n",
      "\n",
      "9) Sentence with ratio R = 170.902 :\n",
      "In animals pretreated with microinjections of isoniazid, 150 micrograms, an inhibitor of activity of the GABA-synthesizing enzyme, L-glutamic acid decarboxylase, into the substantia nigra pars reticulata (SNR), bilaterally, non-convulsant doses of pilocarpine, 100 and 200 mg/kg, resulted in severe motor limbic seizures and status epilepticus.\n",
      "\n",
      "10) Sentence with ratio R = 137.194 :\n",
      "Drugs which reduce digoxin absorption include the antacids aluminium hydroxide, magnesium hydroxide and magnesium trisilicate, the antidiarrhoeals kaolin and pectin, the hypocholesterolaemic agent cholestyramine and the chemotoxins cyclophosphamide, vincristine and bleomycin.\\\n",
      "\n",
      "Sentence 1 (example number 344 ):\n",
      "Influential word: patients with magnitude: 1.56835722571\n",
      "Influential word: assay with magnitude: 0.5945889718\n",
      "Influential word: pomegranate with magnitude: 0.474120098123\n",
      "Influential word: we with magnitude: 0.402457945349\n",
      "Influential word: obtained with magnitude: 0.366814336195\n",
      "\n",
      "Sentence 2 (example number 593 ):\n",
      "Influential word: decrease with magnitude: 0.689604727429\n",
      "Influential word: increase with magnitude: 0.680514658316\n",
      "Influential word: suggests with magnitude: 0.614038037393\n",
      "Influential word: in with magnitude: 0.427028328718\n",
      "Influential word: concurrent with magnitude: 0.41700097484\n",
      "\n",
      "Sentence 3 (example number 387 ):\n",
      "Influential word: clearance with magnitude: 1.98824341072\n",
      "Influential word: increased with magnitude: 1.72837371135\n",
      "Influential word: renal with magnitude: 1.30580158207\n",
      "Influential word: significantly with magnitude: 0.982483667512\n",
      "Influential word: rats with magnitude: 0.51802284309\n",
      "\n",
      "Sentence 4 (example number 164 ):\n",
      "Influential word: medium with magnitude: 1.60085258991\n",
      "Influential word: this with magnitude: 0.663588268124\n",
      "Influential word: did with magnitude: 0.568567709304\n",
      "Influential word: culture with magnitude: 0.316830916389\n",
      "Influential word: of with magnitude: 0.311128364461\n",
      "\n",
      "Sentence 5 (example number 56 ):\n",
      "Influential word: not with magnitude: 0.885744279973\n",
      "Influential word: affect with magnitude: 0.746040913215\n",
      "Influential word: or with magnitude: 0.501892237949\n",
      "Influential word: of with magnitude: 0.381455213305\n",
      "Influential word: alcohol with magnitude: 0.335098584249\n",
      "\n",
      "Sentence 6 (example number 57 ):\n",
      "Influential word: not with magnitude: 0.885744279973\n",
      "Influential word: affect with magnitude: 0.746040913215\n",
      "Influential word: or with magnitude: 0.501892237949\n",
      "Influential word: of with magnitude: 0.381455213305\n",
      "Influential word: alcohol with magnitude: 0.335098584249\n",
      "\n",
      "Sentence 7 (example number 58 ):\n",
      "Influential word: not with magnitude: 0.885744279973\n",
      "Influential word: affect with magnitude: 0.746040913215\n",
      "Influential word: or with magnitude: 0.501892237949\n",
      "Influential word: of with magnitude: 0.381455213305\n",
      "Influential word: alcohol with magnitude: 0.335098584249\n",
      "\n",
      "Sentence 8 (example number 124 ):\n",
      "Influential word: expression with magnitude: 1.01386739442\n",
      "Influential word: substance with magnitude: 0.981060366422\n",
      "Influential word: study with magnitude: 0.539135873628\n",
      "Influential word: calcitonin with magnitude: 0.529134866765\n",
      "Influential word: tested with magnitude: 0.524335155827\n",
      "\n",
      "Sentence 9 (example number 554 ):\n",
      "Influential word: 200 with magnitude: 0.595607864103\n",
      "Influential word: of with magnitude: 0.425054922266\n",
      "Influential word: doses with magnitude: 0.408328087241\n",
      "Influential word: 100 with magnitude: 0.398821065934\n",
      "Influential word: isoniazid with magnitude: 0.339233142388\n",
      "\n",
      "Sentence 10 (example number 403 ):\n",
      "Influential word: magnesium with magnitude: 0.803673685392\n",
      "Influential word: aluminium with magnitude: 0.566703618379\n",
      "Influential word: and with magnitude: 0.425422236581\n",
      "Influential word: include with magnitude: 0.348377372297\n",
      "Influential word: hydroxide with magnitude: 0.282756863552\n"
     ]
    }
   ],
   "source": [
    "vectorizer = TfidfVectorizer()\n",
    "vocab_train_tf = vectorizer.fit_transform(train_data)\n",
    "vocab_test_tf = vectorizer.transform(test_data)\n",
    "feature_names = vectorizer.get_feature_names()\n",
    "\n",
    "# Logistic regression model with optimal C\n",
    "model_LR = LogisticRegression(C=optimal_Cs)\n",
    "model_LR.fit(vocab_train_tf, train_labels)\n",
    "predicted_labels_LR = model_LR.predict(vocab_test_tf)\n",
    "\n",
    "#feature_names = vectorizer.get_feature_names()\n",
    "#print \"features names length:\", len(feature_names)\n",
    "\n",
    "    \n",
    "# Variables to calculate R\n",
    "probabilities = model_LR.predict_proba(vocab_test_tf)  # Each label probability (4) for each document\n",
    "proba_max = probabilities.max(axis=1)  # Maximum predicted probability\n",
    "proba_correct_label = [probabilities[i][test_labels[i]] \\\n",
    "                       for i in range(probabilities.shape[0])]  # Predicted prob of the correct label\n",
    "r_ratio = proba_max/proba_correct_label  # R = maximum predicted prob / predicted prob of the correct label\n",
    "sentence_index = [i for i in range(probabilities.shape[0])]  # Index of the document to retrace once sorted by R\n",
    "\n",
    "# Results array with 5 columns (R, max prob, prob of correct label, predicted labels, true labels,\n",
    "# document index)\n",
    "results = np.column_stack((r_ratio, proba_max, proba_correct_label, predicted_labels_LR, \\\n",
    "                           test_labels, sentence_index))\n",
    "results_max3r = sorted(results, key=lambda x: x[0], reverse=True)[:10]  # top 10 sentences with highest R\n",
    "\n",
    "\n",
    "# Format and print top 3 documents with highest R:\n",
    "# 1) print top 10 sentences related info - probabilities, predicted/correct labels, etc.\n",
    "print \"\\nTop 10 sentences where the ratio R is largest:\\n\"\n",
    "column_names = [\"ratio R\", \"Max pred Pr\", \"Correct Pr\", \"Predicted label\", \"True label\", \\\n",
    "                \"Doc Index\"]\n",
    "row_format =\"{:>16}\" * (len(column_names)+1)\n",
    "print row_format.format(\"\", *column_names)\n",
    "top_10 = [\"Highest R\", \"2nd highest\", \"3rd highest\", \"4th\", \"5th\", \"6th\", \"7th\", \"8th\", \"9th\", \"10th\"]\n",
    "for index, row in zip(top_10, results_max3r):\n",
    "    row = [round(item,3) for item in row]\n",
    "    print row_format.format(index, *row)\n",
    "\n",
    "# 2) print top 3 R documents messages\n",
    "print \"\\nSentences:\"\n",
    "i = 1\n",
    "for row in results_max3r:\n",
    "    print \"\\n\" + str(i) +\") Sentence with ratio R = %.3f\" %(row[0]), \":\"\n",
    "    print test_data[int(row[5])]\n",
    "    i +=1  \n",
    "\n",
    "\n",
    "# Diagnosis of influential words in the 3 documents with highest R\n",
    "weights = model_LR.coef_\n",
    "sentence_list = [int(result[5]) for result in results_max3r]\n",
    "j=1\n",
    "\n",
    "for example in sentence_list:\n",
    "    predicted_label = predicted_labels_LR[example]\n",
    "    indices = vocab_test_tf[example].indices  # list of indices of non zero features of document\n",
    "    vocab_freq = vocab_test_tf[example].data  # list of features values of document\n",
    "    weights_example = [weights[predicted_label][index] for index in indices]  # list of LR weights \n",
    "                                                                              # for non zero features of doc\n",
    "    feature_importance = vocab_freq * weights_example  # feature value x weight for total influence on prediction\n",
    "\n",
    "    features_array = np.column_stack((feature_importance, indices))\n",
    "    features_sorted = sorted(features_array, key=lambda x: x[0], reverse=True)  # Sort words by influence\n",
    "\n",
    "    # Print top 5 features (words) of the document with heaviest weight x value\n",
    "    \n",
    "    print \"\\nSentence\", j,  \"(example number\", example, \"):\"\n",
    "    for i in range(5):\n",
    "        index = int(features_sorted[i][1])\n",
    "        print \"Influential word:\", feature_names[index] ,\"with magnitude:\", features_sorted[i][0]\n",
    "    j +=1"
   ]
  },
  {
   "cell_type": "markdown",
   "metadata": {},
   "source": [
    "# Model Improvements"
   ]
  },
  {
   "cell_type": "markdown",
   "metadata": {},
   "source": [
    "## 1. Preprocessor"
   ]
  },
  {
   "cell_type": "code",
   "execution_count": 31,
   "metadata": {
    "collapsed": true
   },
   "outputs": [],
   "source": [
    "def empty_preprocessor(s):\n",
    "    return s\n",
    "\n",
    "def better_preprocessor(s):\n",
    "    #s = s.lower()  # to lowercase all letters in the string\n",
    "    #s = re.sub(\"[^a-zA-Z0-9]\", \" \", s) # to remove non-letter and non-numerical characters\n",
    "    #s = re.sub ('\\d+', \" numsequence \",s)  # replace sequences of numbers with a single token\n",
    "    \n",
    "    pronoun_list = ['you', 'he', 'she', 'we', 'they', 'me', 'him', 'his', 'her', 'hers', 'yours', 'us', 'our'\\\n",
    "                   'ours', 'their', 'theirs']  # list of pronouns as stopwords since not informative for prediciton\n",
    "    for word in pronoun_list:\n",
    "        s = re.sub(r'\\b%s\\b' % word, \" \",s)  # to remove stopwords in the list\n",
    "        \n",
    "    nothelping = ['or', 'to', 'of', 'a', 'on', 'the']\n",
    "    for word in nothelping:\n",
    "        s = re.sub(r'\\b%s\\b' % word, \" \",s)  # to remove stopwords in the list\n",
    "        \n",
    "    #s = re.sub(r'ly\\b', \"\",s)   # to remove \"ly\" from words ending by \"ly\"\n",
    "    s = re.sub(r'ing\\b', \"\",s)  # to remove \"ing\" from words ending by \"ing\"\n",
    "    #s = re.sub(r's\\b', \"\",s)    # to remove \"s\" from words ending by \"s\"\n",
    "    \n",
    "    for word in s.split():  # to shorten words longer than 15 characters (from histogram, most words < 15)\n",
    "        if len(word)>15:\n",
    "            short_word = word[:15]\n",
    "            s = s.replace(word,short_word)\n",
    "    \n",
    "    return s"
   ]
  },
  {
   "cell_type": "code",
   "execution_count": 32,
   "metadata": {},
   "outputs": [
    {
     "name": "stdout",
     "output_type": "stream",
     "text": [
      "Size of vocabulary with no preprocessor: 8057\n",
      "accuracy with no custom preprocessor is: 0.687\n",
      "\n",
      "Size of vocabulary with custom preprocessor: 8600\n",
      "accuracy with custom preprocessor is: 0.676\n"
     ]
    }
   ],
   "source": [
    "# No preprocessor\n",
    "vectorizer_initial = TfidfVectorizer()\n",
    "vocab_train_initial = vectorizer_initial.fit_transform(train_data)\n",
    "vocab_test_initial = vectorizer_initial.transform(test_data)\n",
    "count_features_init = len(vectorizer_initial.get_feature_names())\n",
    "print \"Size of vocabulary with no preprocessor:\", count_features_init\n",
    "\n",
    "model_LR_initial = LogisticRegression(C=optimal_Cs)\n",
    "model_LR_initial.fit(vocab_train_initial, train_labels)\n",
    "predicted_labels_initial = model_LR_initial.predict(vocab_test_initial)\n",
    "accuracy_initial = model_LR_initial.score(vocab_test_initial, test_labels)\n",
    "print \"accuracy with no custom preprocessor is: %.3f\" %(accuracy_initial)\n",
    "print \"\"\n",
    "\n",
    "\n",
    "# With preprocessor\n",
    "vectorizer_better = TfidfVectorizer(preprocessor=better_preprocessor)\n",
    "vocab_train_better = vectorizer_better.fit_transform(train_data)\n",
    "vocab_test_better = vectorizer_better.transform(test_data)\n",
    "\n",
    "count_features_better = len(vectorizer_better.get_feature_names())\n",
    "print \"Size of vocabulary with custom preprocessor:\", count_features_better\n",
    "\n",
    "model_LR_better = LogisticRegression(C=optimal_Cs)\n",
    "model_LR_better.fit(vocab_train_better, train_labels)\n",
    "predicted_labels_better = model_LR_better.predict(vocab_test_better)\n",
    "accuracy_better = model_LR_better.score(vocab_test_better, test_labels)\n",
    "print \"accuracy with custom preprocessor is: %.3f\" %(accuracy_better)"
   ]
  },
  {
   "cell_type": "markdown",
   "metadata": {},
   "source": [
    "## 2. N-grams instead of unigrams"
   ]
  },
  {
   "cell_type": "code",
   "execution_count": 33,
   "metadata": {},
   "outputs": [
    {
     "name": "stdout",
     "output_type": "stream",
     "text": [
      "Accuracy (dev data): 0.912\n",
      "Accuracy (test data): 0.688\n"
     ]
    }
   ],
   "source": [
    "# Turn the raw training text into feature vectors based on \"td-idf\"\n",
    "vectorizer = TfidfVectorizer(analyzer='word' , ngram_range=(4,5))\n",
    "vocab_train_tf = vectorizer.fit_transform(train_data)\n",
    "vocab_dev_tf = vectorizer.transform(dev_data)\n",
    "\n",
    "# Logistic regression model\n",
    "model_LR = LogisticRegression(C=optimal_Cs)\n",
    "model_LR.fit(vocab_train_tf, train_labels)\n",
    "predicted_labels_LR_ngram = model_LR.predict(vocab_dev_tf)\n",
    "\n",
    "accuracy = model_LR.score(vocab_dev_tf, dev_labels)\n",
    "print \"Accuracy (dev data): %.3f\" %(accuracy)\n",
    "\n",
    "vocab_test_tf = vectorizer.transform(test_data)\n",
    "predicted_labels_LR_ngram2 = model_LR.predict(vocab_test_tf)\n",
    "accuracy = model_LR.score(vocab_test_tf, test_labels)\n",
    "print \"Accuracy (test data): %.3f\" %(accuracy)"
   ]
  },
  {
   "cell_type": "markdown",
   "metadata": {},
   "source": [
    "# SVM model"
   ]
  },
  {
   "cell_type": "code",
   "execution_count": 16,
   "metadata": {
    "collapsed": true
   },
   "outputs": [],
   "source": [
    "vectorizer = TfidfVectorizer()\n",
    "vocab_train_tf = vectorizer.fit_transform(train_data)\n",
    "vocab_dev_tf = vectorizer.transform(dev_data)\n",
    "vocab_test_tf = vectorizer.transform(test_data)"
   ]
  },
  {
   "cell_type": "code",
   "execution_count": 49,
   "metadata": {},
   "outputs": [
    {
     "name": "stdout",
     "output_type": "stream",
     "text": [
      "Evaluating Support Vector Machine model ...\n",
      "Performing grid search for Support Vector Machine model. It may take a few minutes ...\n",
      "Support Vector Machines grid search model fitting time = 10.589717 seconds.\n",
      "As per the grid search on the training data, the optimal value of C = 0.000100.\n",
      "Support Vector Machines prediction time for dev data = 0.110224 seconds.\n",
      "Accuracy on dev data for Support Vector Machine is = 0.596070\n",
      "Classification Report\n",
      "             precision    recall  f1-score   support\n",
      "\n",
      "          0       0.00      0.00      0.00        76\n",
      "          1       0.60      1.00      0.75       273\n",
      "          2       0.00      0.00      0.00       109\n",
      "\n",
      "avg / total       0.36      0.60      0.45       458\n",
      "\n"
     ]
    }
   ],
   "source": [
    "import time\n",
    "# Support Vector Machines:\n",
    "print \"Evaluating Support Vector Machine model ...\"\n",
    "\n",
    "# Create a Support Vector Machine model. \n",
    "SVMmodel = SVC(C=1.0)\n",
    "\n",
    "# Create a grid search.\n",
    "print \"Performing grid search for Support Vector Machine model. It may take a few minutes ...\"\n",
    "Cs = {'C': [0.0001, 0.001, 0.01, 0.1, 0.5, 1.0, 2.0, 5.0, 10.0, 20.0, 50.0, 100.0]}\n",
    "CV_SVMmodel = GridSearchCV(estimator=SVMmodel, param_grid=Cs)\n",
    "\n",
    "# Fit the models using grid search and display the results.\n",
    "start_time = time.time()\n",
    "CV_SVMmodel.fit(vocab_train_tf, train_labels)\n",
    "end_time = time.time()\n",
    "print \"Support Vector Machines grid search model fitting time = %f seconds.\" % (end_time - start_time)\n",
    "\n",
    "optimal_Cs = CV_SVMmodel.best_params_['C']\n",
    "print \"As per the grid search on the training data, the optimal value of C = %f.\" % optimal_Cs\n",
    "\n",
    "# Predict labels for dev data and calculate accuracy using optimal C\n",
    "start_time = time.time()\n",
    "SVMmodel = CV_SVMmodel.predict(vocab_dev_tf)\n",
    "end_time = time.time()\n",
    "print \"Support Vector Machines prediction time for dev data = %f seconds.\" % (end_time - start_time)\n",
    "\n",
    "# Print goodness of fit measures\n",
    "print \"Accuracy on dev data for Support Vector Machine is = %f\" % CV_SVMmodel.score(vocab_dev_tf, dev_labels)\n",
    "print \"Classification Report\\n\", classification_report(dev_labels, SVMmodel)  "
   ]
  },
  {
   "cell_type": "code",
   "execution_count": 18,
   "metadata": {},
   "outputs": [
    {
     "name": "stdout",
     "output_type": "stream",
     "text": [
      "SVM model\n",
      "Accuracy (dev data): 0.620\n",
      "Test dataset with 671 sentences\n",
      "Accuracy (test data): 0.715\n",
      "        dataset |       negative |        neutral |       positive\n",
      " test_predicted |       0.000000 |     671.000000 |       0.000000\n",
      "    test_actual |     146.000000 |     480.000000 |      45.000000\n",
      "Confusion matrix for test data\n",
      "The most confused pair of classes is: 0 ( negative )  incorrectly predicted as 1 ( neutral )\n",
      "Number of such confusion occurences: 146\n"
     ]
    },
    {
     "data": {
      "image/png": "[encoded data removed]",
      "text/plain": [
       "<matplotlib.figure.Figure at 0x11195fa10>"
      ]
     },
     "metadata": {},
     "output_type": "display_data"
    }
   ],
   "source": [
    "# Turn the raw training text into feature vectors based on \"td-idf\"\n",
    "#vectorizer = TfidfVectorizer()\n",
    "#vocab_train_tf = vectorizer.fit_transform(train_data)\n",
    "#vocab_dev_tf = vectorizer.transform(dev_data)\n",
    "\n",
    "# SVM model\n",
    "model_SVM = SVC(C=0.0001)\n",
    "model_SVM.fit(vocab_train_tf, train_labels)\n",
    "predicted_labels_SVM = model_SVM.predict(vocab_dev_tf)\n",
    "\n",
    "# DEV\n",
    "print \"SVM model\"\n",
    "accuracy = model_SVM.score(vocab_dev_tf, dev_labels)\n",
    "print \"Accuracy (dev data): %.3f\" %(accuracy)\n",
    "\n",
    "# TEST\n",
    "vocab_test_tf = vectorizer.transform(test_data)\n",
    "predicted_labels_SVM2 = model_SVM.predict(vocab_test_tf)\n",
    "print \"Test dataset with\", len(predicted_labels_SVM2), \"sentences\"\n",
    "accuracy = model_SVM.score(vocab_test_tf, test_labels)\n",
    "print \"Accuracy (test data): %.3f\" %(accuracy)\n",
    "\n",
    "print \"{0:>15} |{1:>15} |{2:>15} |{3:>15}\".format(\"dataset\",\"negative\", \"neutral\", \"positive\")\n",
    "print \"{0:>15} |{1:>15f} |{2:>15f} |{3:>15f}\".format(\"test_predicted\",count_classes(0,predicted_labels_SVM2), \n",
    "                                                     count_classes(1,predicted_labels_SVM2),\n",
    "                                                     count_classes(2,predicted_labels_SVM2))\n",
    "print \"{0:>15} |{1:>15f} |{2:>15f} |{3:>15f}\".format(\"test_actual\",count_classes(0,test_labels), \n",
    "                                                     count_classes(1,test_labels),\n",
    "                                                     count_classes(2,test_labels))\n",
    "\n",
    "print \"Confusion matrix for test data\"\n",
    "\n",
    "array = confusion_matrix(test_labels, predicted_labels_SVM2)\n",
    "df_cm = pd.DataFrame(array, index = [\"negative\", \"neutral\", \"positive\"],\n",
    "                  columns = [\"negative\", \"neutral\", \"positive\"])\n",
    "plt.figure(figsize = (10,7))\n",
    "sn.heatmap(df_cm, annot=True)\n",
    "\n",
    "\n",
    "# Find the most confused pair\n",
    "cm3 = confusion_matrix(test_labels, predicted_labels_SVM2)  # copy the cm matrix so that can modify the copy without affecting original cm\n",
    "np.fill_diagonal(cm3, 0)  # set the values in the diagonal = 0 to obtain number of confused pairs matrix\n",
    "maximum_pair_idx = np.where(cm3 == cm3.max())  # returns the indices of the max value in cm matrix\n",
    "true_interaction = maximum_pair_idx[0][0]\n",
    "predicted_interaction = maximum_pair_idx[1][0]\n",
    "max_wrong_prediction = cm3[true_interaction][predicted_interaction]\n",
    "print \"The most confused pair of classes is:\", true_interaction, \"(\", classes_dict[true_interaction],\")\",\\\n",
    "\" incorrectly predicted as\", predicted_interaction, \"(\", classes_dict[predicted_interaction],\")\"\n",
    "print \"Number of such confusion occurences:\", max_wrong_prediction"
   ]
  },
  {
   "cell_type": "code",
   "execution_count": null,
   "metadata": {
    "collapsed": true
   },
   "outputs": [],
   "source": []
  }
 ],
 "metadata": {
  "anaconda-cloud": {},
  "kernelspec": {
   "display_name": "Python 2",
   "language": "python",
   "name": "python2"
  },
  "language_info": {
   "codemirror_mode": {
    "name": "ipython",
    "version": 2
   },
   "file_extension": ".py",
   "mimetype": "text/x-python",
   "name": "python",
   "nbconvert_exporter": "python",
   "pygments_lexer": "ipython2",
   "version": "2.7.12"
  }
 },
 "nbformat": 4,
 "nbformat_minor": 2
}
