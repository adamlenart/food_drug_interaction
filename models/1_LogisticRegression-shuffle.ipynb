{
 "cells": [
  {
   "cell_type": "code",
   "execution_count": 1,
   "metadata": {},
   "outputs": [
    {
     "name": "stderr",
     "output_type": "stream",
     "text": [
      "/Applications/anaconda/lib/python2.7/site-packages/sklearn/cross_validation.py:44: DeprecationWarning: This module was deprecated in version 0.18 in favor of the model_selection module into which all the refactored classes and functions are moved. Also note that the interface of the new CV iterators are different from that of this module. This module will be removed in 0.20.\n",
      "  \"This module will be removed in 0.20.\", DeprecationWarning)\n",
      "/Applications/anaconda/lib/python2.7/site-packages/sklearn/grid_search.py:43: DeprecationWarning: This module was deprecated in version 0.18 in favor of the model_selection module into which all the refactored classes and functions are moved. This module will be removed in 0.20.\n",
      "  DeprecationWarning)\n"
     ]
    }
   ],
   "source": [
    "# This tells matplotlib not to try opening a new window for each plot.\n",
    "%matplotlib inline\n",
    "\n",
    "# General libraries.\n",
    "import re\n",
    "import numpy as np\n",
    "import pandas as pd\n",
    "import matplotlib.pyplot as plt\n",
    "import seaborn as sn\n",
    "import time\n",
    "\n",
    "# SK-learn libraries for learning.\n",
    "from sklearn.pipeline import Pipeline\n",
    "from sklearn.neighbors import KNeighborsClassifier\n",
    "from sklearn.linear_model import LogisticRegression\n",
    "from sklearn.naive_bayes import BernoulliNB\n",
    "from sklearn.naive_bayes import MultinomialNB\n",
    "from sklearn.grid_search import GridSearchCV\n",
    "from sklearn.svm import SVC\n",
    "\n",
    "# SK-learn libraries for evaluation.\n",
    "from sklearn.metrics import confusion_matrix\n",
    "from sklearn import metrics\n",
    "from sklearn.metrics import classification_report\n",
    "from sklearn.metrics import roc_auc_score\n",
    "\n",
    "# SK-learn libraries for feature extraction from text.\n",
    "from sklearn.feature_extraction.text import *\n",
    "\n"
   ]
  },
  {
   "cell_type": "markdown",
   "metadata": {},
   "source": [
    "## Prepare Train and Test Dataset"
   ]
  },
  {
   "cell_type": "code",
   "execution_count": 2,
   "metadata": {},
   "outputs": [
    {
     "data": {
      "text/html": [
       "<div>\n",
       "<table border=\"1\" class=\"dataframe\">\n",
       "  <thead>\n",
       "    <tr style=\"text-align: right;\">\n",
       "      <th></th>\n",
       "      <th>Label_alpha</th>\n",
       "      <th>Label_num</th>\n",
       "      <th>Drug</th>\n",
       "      <th>Food</th>\n",
       "      <th>sentence</th>\n",
       "    </tr>\n",
       "    <tr>\n",
       "      <th>ID</th>\n",
       "      <th></th>\n",
       "      <th></th>\n",
       "      <th></th>\n",
       "      <th></th>\n",
       "      <th></th>\n",
       "    </tr>\n",
       "  </thead>\n",
       "  <tbody>\n",
       "    <tr>\n",
       "      <th>400</th>\n",
       "      <td>neutral</td>\n",
       "      <td>1</td>\n",
       "      <td>ACE inhibitor</td>\n",
       "      <td>pentadecanoic acid</td>\n",
       "      <td>(123)iodine labelled beta-methyl-iodophenyl pe...</td>\n",
       "    </tr>\n",
       "    <tr>\n",
       "      <th>333</th>\n",
       "      <td>positive</td>\n",
       "      <td>2</td>\n",
       "      <td>ACE inhibitor</td>\n",
       "      <td>2-phenylethanol</td>\n",
       "      <td>2-Phenylethanol is a widely used aroma compoun...</td>\n",
       "    </tr>\n",
       "    <tr>\n",
       "      <th>77</th>\n",
       "      <td>positive</td>\n",
       "      <td>2</td>\n",
       "      <td>ACE inhibitor</td>\n",
       "      <td>3,4-dihydroxyphenylacetic acid</td>\n",
       "      <td>3,4-dihydroxyphenylacetic acid and 4-methylcat...</td>\n",
       "    </tr>\n",
       "    <tr>\n",
       "      <th>338</th>\n",
       "      <td>neutral</td>\n",
       "      <td>1</td>\n",
       "      <td>ACE inhibitor</td>\n",
       "      <td>arachin</td>\n",
       "      <td>A 96-well microplate format of this method was...</td>\n",
       "    </tr>\n",
       "    <tr>\n",
       "      <th>214</th>\n",
       "      <td>neutral</td>\n",
       "      <td>1</td>\n",
       "      <td>ACE inhibitor</td>\n",
       "      <td>diethylamine</td>\n",
       "      <td>A biochemical study was performed in order to ...</td>\n",
       "    </tr>\n",
       "  </tbody>\n",
       "</table>\n",
       "</div>"
      ],
      "text/plain": [
       "    Label_alpha  Label_num           Drug                            Food  \\\n",
       "ID                                                                          \n",
       "400     neutral          1  ACE inhibitor              pentadecanoic acid   \n",
       "333    positive          2  ACE inhibitor                 2-phenylethanol   \n",
       "77     positive          2  ACE inhibitor  3,4-dihydroxyphenylacetic acid   \n",
       "338     neutral          1  ACE inhibitor                         arachin   \n",
       "214     neutral          1  ACE inhibitor                    diethylamine   \n",
       "\n",
       "                                              sentence  \n",
       "ID                                                      \n",
       "400  (123)iodine labelled beta-methyl-iodophenyl pe...  \n",
       "333  2-Phenylethanol is a widely used aroma compoun...  \n",
       "77   3,4-dihydroxyphenylacetic acid and 4-methylcat...  \n",
       "338  A 96-well microplate format of this method was...  \n",
       "214  A biochemical study was performed in order to ...  "
      ]
     },
     "execution_count": 2,
     "metadata": {},
     "output_type": "execute_result"
    }
   ],
   "source": [
    "df = pd.read_csv(\"../labeled_dataAll.csv\", index_col='ID')\n",
    "df.head(5)"
   ]
  },
  {
   "cell_type": "code",
   "execution_count": 3,
   "metadata": {
    "collapsed": true
   },
   "outputs": [],
   "source": [
    "# Randomly shuffle the data. Use same random seed to get same results every time. \n",
    "df_shuffle = df.sample(frac=1, random_state=0).reset_index(drop=True)\n",
    "\n",
    "# Separate labels\n",
    "labels = [i for i in df_shuffle.Label_num]\n",
    "labels = np.array(labels)\n",
    "n = len(labels)\n",
    "\n",
    "# Drop unecessary columns from input data\n",
    "df_shuffle.drop('Label_alpha', axis=1, inplace=True)\n",
    "df_shuffle.drop('Label_num', axis=1, inplace=True)\n",
    "df_shuffle.drop('Drug', axis=1, inplace=True)\n",
    "df_shuffle.drop('Food', axis=1, inplace=True)\n",
    "\n",
    "\n",
    "# Split the train data into training and dev datasets\n",
    "train_data =  df_shuffle[:n/2].sentence.tolist()\n",
    "dev_data = df_shuffle[n/2: 3*n/4].sentence.tolist()\n",
    "test_data = df_shuffle[3*n/4:].sentence.tolist()\n",
    "\n",
    "# Separate training and dev labels\n",
    "train_labels =  labels[:n/2]\n",
    "dev_labels = labels[n/2: 3*n/4]\n",
    "test_labels = labels[3*n/4:]"
   ]
  },
  {
   "cell_type": "code",
   "execution_count": 4,
   "metadata": {},
   "outputs": [
    {
     "name": "stdout",
     "output_type": "stream",
     "text": [
      "training label shape: (1235,)\n",
      "test label shape: (618,)\n",
      "dev label shape: (618,)\n"
     ]
    }
   ],
   "source": [
    "print 'training label shape:', train_labels.shape\n",
    "print 'test label shape:', test_labels.shape\n",
    "print 'dev label shape:', dev_labels.shape"
   ]
  },
  {
   "cell_type": "code",
   "execution_count": 5,
   "metadata": {
    "collapsed": true
   },
   "outputs": [],
   "source": [
    "classes = ['negative', 'neutral', 'positive'] # corresponding labels = 0, 1, 2\n",
    "classes_dict = {0:'negative', 1:'neutral', 2:'positive'} # corresponding labels = 0, 1, 2"
   ]
  },
  {
   "cell_type": "code",
   "execution_count": 6,
   "metadata": {
    "collapsed": true
   },
   "outputs": [],
   "source": [
    "def count_classes(value, labels):\n",
    "    return len([i for i in labels if i == value])"
   ]
  },
  {
   "cell_type": "code",
   "execution_count": 7,
   "metadata": {},
   "outputs": [
    {
     "name": "stdout",
     "output_type": "stream",
     "text": [
      "Dataset split among Negative, Neutral and Positive\n",
      "        dataset |       negative |        neutral |       positive\n",
      "          train |     176.000000 |     795.000000 |     264.000000\n",
      "            dev |      79.000000 |     397.000000 |     142.000000\n",
      "           test |     104.000000 |     389.000000 |     125.000000\n"
     ]
    }
   ],
   "source": [
    "# Check number of classes per train/dev/test dataset:\n",
    "print \"Dataset split among Negative, Neutral and Positive\"\n",
    "\n",
    "print \"{0:>15} |{1:>15} |{2:>15} |{3:>15}\".format(\"dataset\",\"negative\", \"neutral\", \"positive\")\n",
    "print \"{0:>15} |{1:>15f} |{2:>15f} |{3:>15f}\".format(\"train\",count_classes(0,train_labels), \n",
    "                                                     count_classes(1,train_labels),\n",
    "                                                     count_classes(2,train_labels))\n",
    "print \"{0:>15} |{1:>15f} |{2:>15f} |{3:>15f}\".format(\"dev\",count_classes(0,dev_labels), \n",
    "                                                     count_classes(1,dev_labels),\n",
    "                                                     count_classes(2,dev_labels))\n",
    "print \"{0:>15} |{1:>15f} |{2:>15f} |{3:>15f}\".format(\"test\",count_classes(0,test_labels), \n",
    "                                                     count_classes(1,test_labels),\n",
    "                                                     count_classes(2,test_labels))"
   ]
  },
  {
   "cell_type": "code",
   "execution_count": 8,
   "metadata": {},
   "outputs": [
    {
     "name": "stdout",
     "output_type": "stream",
     "text": [
      "Training example 1\n",
      "Label 0 ( negative )\n",
      "Sentence:\n",
      "Muscle content of malonyl-CoA was elevated in PTU-treated rats and depressed in thyroid hormone-treated rats. \n",
      "\n",
      "\n",
      "Training example 2\n",
      "Label 0 ( negative )\n",
      "Sentence:\n",
      "Phytoremediation of selected pharmaceuticals (diclofenac, ibuprofen, and acetaminophen) using Armoracia rusticana and Linum usitatissimum cell cultures and by hydroponically cultivated Lupinus albus, Hordeum vulgaris, and Phragmites australis plants in laboratory conditions is described. \n",
      "\n",
      "\n",
      "Training example 3\n",
      "Label 1 ( neutral )\n",
      "Sentence:\n",
      "The data generated in the current work provide the basic information on the effect of bivalent cations, namely, Ca2+, Zn2+ and Mn2+, on the HPMMs' solubility and, consequently, on the performances (disintegration and drug dissolution) of acetaminophen gastroresistant tablets when exposed to fluid containing such salts. \n",
      "\n",
      "\n",
      "Training example 4\n",
      "Label 1 ( neutral )\n",
      "Sentence:\n",
      "Initial studies using different substrates (serotonin, 5-hydroxytryptophol, 4-nitrophenol, acetaminophen, and valproic acid) showed similar results with 2-fold higher glucuronidation by UGT1A6(*)2 (S7A/T181A/R184S) compared with UGT1A6(*)1 (reference), and intermediate activities for other variants. \n",
      "\n",
      "\n",
      "Training example 5\n",
      "Label 1 ( neutral )\n",
      "Sentence:\n",
      "The aim of the present study was to clarify whether waterborne exposure to a selected statin, atorvastatin, would affect gene expression in rainbow trout (Oncorhynchus mykiss) gill or liver or ion regulation in gills.\" \n",
      "\n",
      "\n"
     ]
    }
   ],
   "source": [
    "# Check few sentences\n",
    "\n",
    "def print_examples(num_examples=5):\n",
    "\n",
    "    for i in range(num_examples):\n",
    "        print \"Training example\", i+1\n",
    "        print \"Label\", train_labels[i], \"(\", classes_dict[train_labels[i]],\")\"\n",
    "        print \"Sentence:\\n\", train_data[i], \"\\n\\n\"\n",
    "       \n",
    "    \n",
    "print_examples(5)"
   ]
  },
  {
   "cell_type": "markdown",
   "metadata": {},
   "source": [
    "# Logistic Regression Model"
   ]
  },
  {
   "cell_type": "code",
   "execution_count": 9,
   "metadata": {
    "collapsed": true
   },
   "outputs": [],
   "source": [
    "# Turn the raw training text into feature vectors based on \"td-idf\"\n",
    "vectorizer = TfidfVectorizer()\n",
    "vocab_train_tf = vectorizer.fit_transform(train_data)\n",
    "vocab_dev_tf = vectorizer.transform(dev_data)"
   ]
  },
  {
   "cell_type": "code",
   "execution_count": 10,
   "metadata": {},
   "outputs": [
    {
     "name": "stdout",
     "output_type": "stream",
     "text": [
      "Evaluating Logistic Regression model ...\n",
      "Performing grid search for Logistic Regression model. It may take a few minutes ...\n",
      "Logistic Regression grid search model fitting time = 0.577730 seconds.\n",
      "As per the grid search on the training data, the optimal value of C = 100.000000.\n"
     ]
    },
    {
     "data": {
      "text/plain": [
       "LogisticRegression(C=100.0, class_weight=None, dual=False, fit_intercept=True,\n",
       "          intercept_scaling=1, max_iter=100, multi_class='ovr', n_jobs=1,\n",
       "          penalty='l2', random_state=None, solver='liblinear', tol=0.0001,\n",
       "          verbose=0, warm_start=False)"
      ]
     },
     "execution_count": 10,
     "metadata": {},
     "output_type": "execute_result"
    }
   ],
   "source": [
    "# Logistic Regression:\n",
    "print \"Evaluating Logistic Regression model ...\"\n",
    "\n",
    "# Create a Logistic Regression model. \n",
    "LRmodel = LogisticRegression(C=1.0)\n",
    "\n",
    "# Create a grid search.\n",
    "print \"Performing grid search for Logistic Regression model. It may take a few minutes ...\"\n",
    "Cs = {'C': [0.0001, 0.001, 0.01, 0.1, 0.5, 1.0, 2.0, 5.0, 10.0, 20.0, 50.0, 100.0]}\n",
    "CV_LRmodel = GridSearchCV(estimator=LRmodel, param_grid=Cs)\n",
    "\n",
    "# Fit the models using grid search and display the results.\n",
    "start_time = time.time()\n",
    "CV_LRmodel.fit(vocab_train_tf, train_labels)\n",
    "end_time = time.time()\n",
    "print \"Logistic Regression grid search model fitting time = %f seconds.\" % (end_time - start_time)\n",
    "\n",
    "optimal_Cs = CV_LRmodel.best_params_['C']\n",
    "print \"As per the grid search on the training data, the optimal value of C = %f.\" % optimal_Cs\n",
    "\n",
    "# Construct model with optimal C\n",
    "model_LR = LogisticRegression(C=optimal_Cs)\n",
    "model_LR.fit(vocab_train_tf, train_labels)\n",
    "    "
   ]
  },
  {
   "cell_type": "markdown",
   "metadata": {},
   "source": [
    "# Dev Data"
   ]
  },
  {
   "cell_type": "code",
   "execution_count": 11,
   "metadata": {},
   "outputs": [
    {
     "name": "stdout",
     "output_type": "stream",
     "text": [
      "Dev dataset with 618 sentences\n",
      "\n",
      "Data split - Negative, Neutral, Positive\n",
      "----------------------------------------\n",
      "        dataset |       negative |        neutral |       positive\n",
      "  dev_predicted |      47.000000 |     460.000000 |     111.000000\n",
      "     dev_actual |      79.000000 |     397.000000 |     142.000000\n",
      "\n",
      "Accuracy\n",
      "--------\n",
      "Accuracy (test data): 0.756\n",
      "\n",
      "Classification Report\n",
      "---------------------\n",
      "             precision    recall  f1-score   support\n",
      "\n",
      "          0       0.55      0.33      0.41        79\n",
      "          1       0.80      0.92      0.85       397\n",
      "          2       0.68      0.53      0.59       142\n",
      "\n",
      "avg / total       0.74      0.76      0.74       618\n",
      "\n",
      "\n",
      "Confusion matrix for Dev data\n",
      "-----------------------------\n",
      "The most confused pair of classes is: 2 ( positive )  incorrectly predicted as 1 ( neutral )\n",
      "Number of such confusion occurences: 58\n"
     ]
    },
    {
     "data": {
      "image/png": "[encoded data removed]",
      "text/plain": [
       "<matplotlib.figure.Figure at 0x1118acfd0>"
      ]
     },
     "metadata": {},
     "output_type": "display_data"
    }
   ],
   "source": [
    "# Validation data\n",
    "predicted_labels_LR = model_LR.predict(vocab_dev_tf)\n",
    "\n",
    "print \"Dev dataset with\", len(predicted_labels_LR), \"sentences\"\n",
    "print \"\"\n",
    "\n",
    "print \"Data split - Negative, Neutral, Positive\"\n",
    "print \"----------------------------------------\"\n",
    "print \"{0:>15} |{1:>15} |{2:>15} |{3:>15}\".format(\"dataset\",\"negative\", \"neutral\", \"positive\")\n",
    "print \"{0:>15} |{1:>15f} |{2:>15f} |{3:>15f}\".format(\"dev_predicted\",count_classes(0,predicted_labels_LR), \n",
    "                                                     count_classes(1,predicted_labels_LR),\n",
    "                                                     count_classes(2,predicted_labels_LR))\n",
    "print \"{0:>15} |{1:>15f} |{2:>15f} |{3:>15f}\".format(\"dev_actual\",count_classes(0,dev_labels), \n",
    "                                                     count_classes(1,dev_labels),\n",
    "                                                     count_classes(2,dev_labels))\n",
    "\n",
    "\n",
    "accuracy = model_LR.score(vocab_dev_tf, dev_labels)\n",
    "print \"\\nAccuracy\"\n",
    "print \"--------\"\n",
    "print \"Accuracy (test data): %.3f\" %(accuracy)\n",
    "\n",
    "print \"\\nClassification Report\"\n",
    "print \"---------------------\"\n",
    "print classification_report(dev_labels, predicted_labels_LR)\n",
    "\n",
    "print \"\\nConfusion matrix for Dev data\"\n",
    "print \"-----------------------------\"\n",
    "\n",
    "array = confusion_matrix(dev_labels, predicted_labels_LR)\n",
    "df_cm = pd.DataFrame(array, index = [\"negative\", \"neutral\", \"positive\"],\n",
    "                  columns = [\"negative\", \"neutral\", \"positive\"])\n",
    "plt.figure(figsize = (10,7))\n",
    "sn.heatmap(df_cm, annot=True)\n",
    "\n",
    "# Find the most confused pair\n",
    "cm2 = confusion_matrix(dev_labels, predicted_labels_LR)  # copy the cm matrix so that can modify the copy without affecting original cm\n",
    "np.fill_diagonal(cm2, 0)  # set the values in the diagonal = 0 to obtain number of confused pairs matrix\n",
    "maximum_pair_idx = np.where(cm2 == cm2.max())  # returns the indices of the max value in cm matrix\n",
    "true_interaction = maximum_pair_idx[0][0]\n",
    "predicted_interaction = maximum_pair_idx[1][0]\n",
    "max_wrong_prediction = cm2[true_interaction][predicted_interaction]\n",
    "print \"The most confused pair of classes is:\", true_interaction, \"(\", classes_dict[true_interaction],\")\",\\\n",
    "\" incorrectly predicted as\", predicted_interaction, \"(\", classes_dict[predicted_interaction],\")\"\n",
    "print \"Number of such confusion occurences:\", max_wrong_prediction"
   ]
  },
  {
   "cell_type": "markdown",
   "metadata": {},
   "source": [
    "## Test data"
   ]
  },
  {
   "cell_type": "code",
   "execution_count": 12,
   "metadata": {},
   "outputs": [
    {
     "name": "stdout",
     "output_type": "stream",
     "text": [
      "Test dataset with 618 sentences\n",
      "\n",
      "Data split - Negative, Neutral, Positive\n",
      "----------------------------------------\n",
      "        dataset |       negative |        neutral |       positive\n",
      " test_predicted |      59.000000 |     467.000000 |      92.000000\n",
      "    test_actual |     104.000000 |     389.000000 |     125.000000\n",
      "\n",
      "Accuracy\n",
      "--------\n",
      "Accuracy (test data): 0.727\n",
      "\n",
      "Classification Report\n",
      "---------------------\n",
      "             precision    recall  f1-score   support\n",
      "\n",
      "          0       0.69      0.39      0.50       104\n",
      "          1       0.76      0.91      0.82       389\n",
      "          2       0.60      0.44      0.51       125\n",
      "\n",
      "avg / total       0.71      0.73      0.71       618\n",
      "\n",
      "\n",
      "Confusion matrix for test data\n",
      "------------------------------\n",
      "The most confused pair of classes is: 2 ( positive )  incorrectly predicted as 1 ( neutral )\n",
      "Number of such confusion occurences: 66\n"
     ]
    },
    {
     "data": {
      "image/png": "[encoded data removed]",
      "text/plain": [
       "<matplotlib.figure.Figure at 0x111d77510>"
      ]
     },
     "metadata": {},
     "output_type": "display_data"
    }
   ],
   "source": [
    "# Test data\n",
    "\n",
    "vocab_test_tf = vectorizer.transform(test_data)\n",
    "predicted_labels_LR2 = model_LR.predict(vocab_test_tf)\n",
    "print \"Test dataset with\", len(predicted_labels_LR2), \"sentences\"\n",
    "print \"\"\n",
    "\n",
    "print \"Data split - Negative, Neutral, Positive\"\n",
    "print \"----------------------------------------\"\n",
    "print \"{0:>15} |{1:>15} |{2:>15} |{3:>15}\".format(\"dataset\",\"negative\", \"neutral\", \"positive\")\n",
    "print \"{0:>15} |{1:>15f} |{2:>15f} |{3:>15f}\".format(\"test_predicted\",count_classes(0,predicted_labels_LR2), \n",
    "                                                     count_classes(1,predicted_labels_LR2),\n",
    "                                                     count_classes(2,predicted_labels_LR2))\n",
    "print \"{0:>15} |{1:>15f} |{2:>15f} |{3:>15f}\".format(\"test_actual\",count_classes(0,test_labels), \n",
    "                                                     count_classes(1,test_labels),\n",
    "                                                     count_classes(2,test_labels))\n",
    "\n",
    "accuracy = model_LR.score(vocab_test_tf, test_labels)\n",
    "print \"\\nAccuracy\"\n",
    "print \"--------\"\n",
    "print \"Accuracy (test data): %.3f\" %(accuracy)\n",
    "\n",
    "print \"\\nClassification Report\"\n",
    "print \"---------------------\"\n",
    "print classification_report(test_labels, predicted_labels_LR2)\n",
    "\n",
    "\n",
    "print \"\\nConfusion matrix for test data\"\n",
    "print \"------------------------------\"\n",
    "\n",
    "array = confusion_matrix(test_labels, predicted_labels_LR2)\n",
    "df_cm = pd.DataFrame(array, index = [\"negative\", \"neutral\", \"positive\"],\n",
    "                  columns = [\"negative\", \"neutral\", \"positive\"])\n",
    "plt.figure(figsize = (10,7))\n",
    "sn.heatmap(df_cm, annot=True)\n",
    "\n",
    "\n",
    "# Find the most confused pair\n",
    "cm3 = confusion_matrix(test_labels, predicted_labels_LR2)  # copy the cm matrix so that can modify the copy without affecting original cm\n",
    "np.fill_diagonal(cm3, 0)  # set the values in the diagonal = 0 to obtain number of confused pairs matrix\n",
    "maximum_pair_idx = np.where(cm3 == cm3.max())  # returns the indices of the max value in cm matrix\n",
    "true_interaction = maximum_pair_idx[0][0]\n",
    "predicted_interaction = maximum_pair_idx[1][0]\n",
    "max_wrong_prediction = cm3[true_interaction][predicted_interaction]\n",
    "print \"The most confused pair of classes is:\", true_interaction, \"(\", classes_dict[true_interaction],\")\",\\\n",
    "\" incorrectly predicted as\", predicted_interaction, \"(\", classes_dict[predicted_interaction],\")\"\n",
    "print \"Number of such confusion occurences:\", max_wrong_prediction"
   ]
  },
  {
   "cell_type": "markdown",
   "metadata": {},
   "source": [
    "# Analysis of Errors"
   ]
  },
  {
   "cell_type": "markdown",
   "metadata": {},
   "source": [
    "## 1. Words with the highest weights per class"
   ]
  },
  {
   "cell_type": "code",
   "execution_count": 13,
   "metadata": {},
   "outputs": [
    {
     "name": "stdout",
     "output_type": "stream",
     "text": [
      "Class 0 ( negative )\n",
      "1 weight: 8.548 for feature \" induced \"\n",
      "2 weight: 6.672 for feature \" exposure \"\n",
      "3 weight: 6.461 for feature \" dopa \"\n",
      "4 weight: 5.875 for feature \" acetylneuraminic \"\n",
      "5 weight: 5.853 for feature \" protect \"\n",
      "6 weight: 5.816 for feature \" elevated \"\n",
      "7 weight: 5.692 for feature \" while \"\n",
      "8 weight: 5.380 for feature \" stimulated \"\n",
      "9 weight: 5.169 for feature \" acetaminophen \"\n",
      "10 weight: 5.095 for feature \" coa \"\n",
      "Class 1 ( neutral )\n",
      "1 weight: 9.686 for feature \" study \"\n",
      "2 weight: 6.504 for feature \" total \"\n",
      "3 weight: 5.831 for feature \" on \"\n",
      "4 weight: 5.638 for feature \" investigated \"\n",
      "5 weight: 5.596 for feature \" we \"\n",
      "6 weight: 5.518 for feature \" studied \"\n",
      "7 weight: 5.417 for feature \" no \"\n",
      "8 weight: 5.292 for feature \" were \"\n",
      "9 weight: 5.096 for feature \" sodium \"\n",
      "10 weight: 5.056 for feature \" gamma \"\n",
      "Class 2 ( positive )\n",
      "1 weight: 7.277 for feature \" showed \"\n",
      "2 weight: 6.736 for feature \" red \"\n",
      "3 weight: 6.710 for feature \" enhanced \"\n",
      "4 weight: 6.293 for feature \" analgesic \"\n",
      "5 weight: 6.187 for feature \" increased \"\n",
      "6 weight: 6.148 for feature \" monoamine \"\n",
      "7 weight: 5.993 for feature \" which \"\n",
      "8 weight: 5.984 for feature \" inhibitory \"\n",
      "9 weight: 5.933 for feature \" significantly \"\n",
      "10 weight: 5.718 for feature \" inducing \"\n",
      "\n",
      "Table of weights for each feature for each of the 3 labels:\n",
      "\n",
      "                                negative             neutral            positive\n",
      "             induced               8.548              -4.093              -5.597\n",
      "            exposure               6.672              -3.513              -3.272\n",
      "                dopa               6.461              -4.035              -2.234\n",
      "    acetylneuraminic               5.875              -1.616              -3.467\n",
      "             protect               5.853              -6.150               0.589\n",
      "            elevated               5.816              -4.940              -0.410\n",
      "               while               5.692              -5.543               0.717\n",
      "          stimulated               5.380              -5.928               1.382\n",
      "       acetaminophen               5.169              -0.192              -6.917\n",
      "                 coa               5.095              -5.658               1.775\n",
      "               study              -6.352               9.686              -6.431\n",
      "               total              -1.317               6.504              -5.178\n",
      "                  on              -2.759               5.831              -4.604\n",
      "        investigated              -1.824               5.638              -6.398\n",
      "                  we              -2.669               5.596              -4.282\n",
      "             studied              -3.221               5.518              -3.577\n",
      "                  no              -0.369               5.417              -5.237\n",
      "                were              -3.057               5.292              -3.541\n",
      "              sodium              -0.557               5.096              -5.435\n",
      "               gamma              -2.205               5.056              -2.788\n",
      "              showed               0.309              -6.497               7.277\n",
      "                 red              -0.921              -5.133               6.736\n",
      "            enhanced               1.127              -7.579               6.710\n",
      "           analgesic              -1.760              -5.086               6.293\n",
      "           increased               4.304              -9.063               6.187\n",
      "           monoamine              -3.345              -2.789               6.148\n",
      "               which              -1.542              -4.196               5.993\n",
      "          inhibitory              -0.127              -7.322               5.984\n",
      "       significantly               0.697              -5.658               5.933\n",
      "            inducing              -1.177              -4.122               5.718\n"
     ]
    }
   ],
   "source": [
    "vectorizer = TfidfVectorizer()\n",
    "vocab_train = vectorizer.fit_transform(train_data)\n",
    "feature_names = vectorizer.get_feature_names()\n",
    "\n",
    "model_LR = LogisticRegression(C=optimal_Cs)\n",
    "model_LR.fit(vocab_train, train_labels)\n",
    "\n",
    "weights = model_LR.coef_   # weight vector for each label\n",
    "top30_features_index = []  # list of 30 features (10 words with the largest weights for each label)\n",
    "class_list = ['negative', 'neutral', 'positive']\n",
    "\n",
    "for i in range(3):  # 4 labels\n",
    "    weights_label_i = list(weights[i])  # list of weights for label i\n",
    "    top10_weights_label_i = sorted(weights_label_i, reverse=True)[0:10]  # sort and filter greatest 10 weights\n",
    "    top10_features_index_i = [weights_label_i.index(weight) \\\n",
    "                             for weight in top10_weights_label_i]  # find index of top 10\n",
    "    top10_features_i = [feature_names[index] for index in top10_features_index_i]  # list of features of top 10 weights\n",
    "    top30_features_index += top10_features_index_i  # add the top 10 weigths index of label i to the list of 30\n",
    "\n",
    "    # Print top 5 features per label\n",
    "    print \"Class\", i, \"(\", class_list[i] , \")\"\n",
    "    for index, (weight, feature) in enumerate(zip(top10_weights_label_i,top10_features_i), start = 1):\n",
    "        print index, \"weight: %.3f\" %(weight), \"for feature \\\"\", feature, \"\\\"\"\n",
    "\n",
    "top30_features = [feature_names[index] for index in top30_features_index]  # list of features of top 20 weights\n",
    "\n",
    "# Formatting weights for each class for printing table of results\n",
    "top30_w_class0 = [\"%.3f\" %(list(weights[0])[index]) for index in top30_features_index]\n",
    "top30_w_class1 = [\"%.3f\" %(list(weights[1])[index]) for index in top30_features_index]\n",
    "top30_w_class2 = [\"%.3f\" %(list(weights[2])[index]) for index in top30_features_index]\n",
    "\n",
    "\n",
    "\n",
    "weights_array = np.column_stack((top30_w_class0, top30_w_class1, top30_w_class2))\n",
    "\n",
    "# Print table of weights for the 20 top features\n",
    "print \"\\nTable of weights for each feature for each of the 3 labels:\\n\"\n",
    "row_format =\"{:>20}\" * (len(class_list) + 1)\n",
    "print row_format.format(\"\", *class_list)\n",
    "for feature, weights in zip(top30_features, weights_array):\n",
    "    print row_format.format(feature, *weights)\n"
   ]
  },
  {
   "cell_type": "markdown",
   "metadata": {},
   "source": [
    "** Observations **\n",
    "1. Some neutral prediction words seem promising, in particular, \"study\", \"investigated\", \"studied\"\n",
    "2. Some negative and positive prediciton words seem helpful\n",
    "3. Main weakness of the model: this is a bag of word model with feature based on tf-idf. Thus, a drug name or food compound can also result with an important weight to predict a class and this is misleading. For example, \"monoamine\" has a high weight for class \"positive\" based on the positive labels of sentences containing this word. Thus, even if we will add a sentence with a negative interaction between monoamine and a food compound, the BOW model will predict a positive label. The proportion of labels for a drug-food interaction sentences in the training will affect how the model will retain those drugs or food compounds as predictors of positive/negative/neutral. "
   ]
  },
  {
   "cell_type": "markdown",
   "metadata": {},
   "source": [
    "## 2. R-ratio analysis - look at individual sentences with highest errors"
   ]
  },
  {
   "cell_type": "markdown",
   "metadata": {},
   "source": [
    "R is equal to maximum predicted probability divided by predicted probability of the correct label.  \n",
    "In other words, it looks how \"far\" the prediction of a class is from the true class.\n"
   ]
  },
  {
   "cell_type": "code",
   "execution_count": 14,
   "metadata": {},
   "outputs": [
    {
     "name": "stdout",
     "output_type": "stream",
     "text": [
      "\n",
      "Top 10 sentences where the ratio R is largest:\n",
      "\n",
      "                         ratio R     Max pred Pr      Correct Pr Predicted label      True label       Doc Index\n",
      "       Highest R        1145.199           0.955           0.001             1.0             2.0            63.0\n",
      "     2nd highest         866.044           0.966           0.001             1.0             2.0           485.0\n",
      "     3rd highest         703.035           0.735           0.001             1.0             2.0           299.0\n",
      "             4th         582.337           0.908           0.002             1.0             0.0            91.0\n",
      "             5th          497.53            0.98           0.002             1.0             2.0           146.0\n",
      "             6th         315.515           0.988           0.003             1.0             2.0           428.0\n",
      "             7th         294.064           0.979           0.003             1.0             0.0            30.0\n",
      "             8th         282.868           0.934           0.003             2.0             0.0           337.0\n",
      "             9th         259.297           0.963           0.004             1.0             0.0           462.0\n",
      "            10th         211.585           0.753           0.004             1.0             2.0           156.0\n",
      "\n",
      "Sentences:\n",
      "\n",
      "1) Sentence with ratio R = 1145.199 :\n",
      "The independent effects of catalase and phytic acid are related to their abilities to catalyse isoniazid oxidation.\n",
      "\n",
      "2) Sentence with ratio R = 866.044 :\n",
      "The procedure is based on the product of the reaction of isoniazid with benzaldehyde.\n",
      "\n",
      "3) Sentence with ratio R = 703.035 :\n",
      "Gastric emptying as measured by paracetamol absorption was also faster (P = 0.034) after low-viscosity oat bran beverage consumption.\n",
      "\n",
      "4) Sentence with ratio R = 582.337 :\n",
      "It was found that besides sodium salicylate and high doses of aspirin, other salicylate-type drugs, such as diflunisal, 4-aminosalicylic acid, 2,4-dihydroxybenzoic acid and methyl salicylate, and several non-acidic compounds, such as proquazone, benzydamine and paracetamol, were gastroprotective.\n",
      "\n",
      "5) Sentence with ratio R = 497.530 :\n",
      "A novel colorimetric sensor, 2-hydroxy naphthaldehyde isonicotinoyl hydrazone (HINH), was easily synthesized by the condensation of isoniazid and 2-hydroxy-1-naphthaldehyde.\n",
      "\n",
      "6) Sentence with ratio R = 315.515 :\n",
      "The release of acetaminophen (AAP) from tablets containing phospholipids was examined using hydrogenated soybean phospholipid (HSL) and its main components, phosphatidylcholine (PC), phosphatidylethanolamine (PE) and phosphatidylinositol (PI), although the PI was not well purified (PI rich).\n",
      "\n",
      "7) Sentence with ratio R = 294.064 :\n",
      "Activated carbon (AC)/CoFe2O4 nanocomposites, MAC-1 and MAC-2, were prepared by a simple pyrolytic method using a mixture of iron(III)/cobalt(II) benzoates and iron(III)/cobalt(II) oxalates, respectively, and were used as efficient adsorbents for the removal of amoxicillin (AMX) and paracetamol (PCT) of aqueous effluents.\n",
      "\n",
      "8) Sentence with ratio R = 282.868 :\n",
      "The IC(50) values of the four potent flavonoids, quercitrin, isoquercitrin, rutin, and quercetin on monoamine oxidase were 19.06, 11.64, 3.89, and 10.89 microM and enzyme kinetics analysis revealed apparent inhibition constants (K(i)) of 21.01, 2.72, 1.83, and 7.95 microM, respectively, on the substrate, benzylamine.\n",
      "\n",
      "9) Sentence with ratio R = 259.297 :\n",
      "We report an unusual case of acute 'familiar' digitalis poisoning in three patients who had eaten potato dumplings flavoured with leaves of Borago officinalis L. unconsciously mixed with leaves of Digitalis purpurea L. A complicated clinical course with marked bradyarrhythmias was presented, with good evolution thanks to the use of digoxin-specific antibody Fab fragments.\\\n",
      "\n",
      "10) Sentence with ratio R = 211.585 :\n",
      "The antihistamine effect reached a plateau after approximately 2 h of exposure, and the potency of emedastine decreased in the following order by vehicle: isopropyl myristate >geraniol >glycerin.\\\n",
      "\n",
      "Sentence 1 (example number 63 ):\n",
      "Influential word: to with magnitude: 0.836470748843\n",
      "Influential word: oxidation with magnitude: 0.711643362924\n",
      "Influential word: isoniazid with magnitude: 0.676326122924\n",
      "Influential word: acid with magnitude: 0.381449683552\n",
      "Influential word: and with magnitude: 0.248305045448\n",
      "\n",
      "Sentence 2 (example number 485 ):\n",
      "Influential word: on with magnitude: 0.960855656288\n",
      "Influential word: isoniazid with magnitude: 0.715793778657\n",
      "Influential word: based with magnitude: 0.418727494782\n",
      "Influential word: of with magnitude: 0.379359393555\n",
      "Influential word: product with magnitude: 0.322960701145\n",
      "\n",
      "Sentence 3 (example number 299 ):\n",
      "Influential word: gastric with magnitude: 1.04972851007\n",
      "Influential word: measured with magnitude: 1.03205983675\n",
      "Influential word: emptying with magnitude: 0.996387562455\n",
      "Influential word: low with magnitude: 0.477437819692\n",
      "Influential word: was with magnitude: 0.346726840632\n",
      "\n",
      "Sentence 4 (example number 91 ):\n",
      "Influential word: salicylate with magnitude: 1.59260000786\n",
      "Influential word: several with magnitude: 0.858280045092\n",
      "Influential word: sodium with magnitude: 0.731153281341\n",
      "Influential word: and with magnitude: 0.554459342447\n",
      "Influential word: were with magnitude: 0.439625176646\n",
      "\n",
      "Sentence 5 (example number 146 ):\n",
      "Influential word: synthesized with magnitude: 1.02385540044\n",
      "Influential word: isoniazid with magnitude: 0.568628649963\n",
      "Influential word: hydroxy with magnitude: 0.475031646173\n",
      "Influential word: was with magnitude: 0.345296400292\n",
      "Influential word: and with magnitude: 0.208765206586\n",
      "\n",
      "Sentence 6 (example number 428 ):\n",
      "Influential word: aap with magnitude: 0.628232556443\n",
      "Influential word: phosphatidylcholine with magnitude: 0.624361716367\n",
      "Influential word: not with magnitude: 0.619054087291\n",
      "Influential word: using with magnitude: 0.551396661256\n",
      "Influential word: was with magnitude: 0.529984791376\n",
      "\n",
      "Sentence 7 (example number 30 ):\n",
      "Influential word: were with magnitude: 0.774671030988\n",
      "Influential word: and with magnitude: 0.48851113775\n",
      "Influential word: using with magnitude: 0.420319104725\n",
      "Influential word: used with magnitude: 0.2913198532\n",
      "Influential word: method with magnitude: 0.288836044604\n",
      "\n",
      "Sentence 8 (example number 337 ):\n",
      "Influential word: 89 with magnitude: 0.844459172644\n",
      "Influential word: monoamine with magnitude: 0.677516530144\n",
      "Influential word: apparent with magnitude: 0.656481844422\n",
      "Influential word: values with magnitude: 0.531957443714\n",
      "Influential word: substrate with magnitude: 0.43880091695\n",
      "\n",
      "Sentence 9 (example number 462 ):\n",
      "Influential word: acute with magnitude: 0.558524100588\n",
      "Influential word: we with magnitude: 0.533658865667\n",
      "Influential word: digitalis with magnitude: 0.433548289181\n",
      "Influential word: leaves with magnitude: 0.349971920354\n",
      "Influential word: antibody with magnitude: 0.335783519348\n",
      "\n",
      "Sentence 10 (example number 156 ):\n",
      "Influential word: order with magnitude: 0.605043659867\n",
      "Influential word: following with magnitude: 0.506104413411\n",
      "Influential word: reached with magnitude: 0.318188134138\n",
      "Influential word: of with magnitude: 0.308744632371\n",
      "Influential word: and with magnitude: 0.213877882172\n"
     ]
    }
   ],
   "source": [
    "vectorizer = TfidfVectorizer()\n",
    "vocab_train_tf = vectorizer.fit_transform(train_data)\n",
    "vocab_test_tf = vectorizer.transform(test_data)\n",
    "feature_names = vectorizer.get_feature_names()\n",
    "\n",
    "# Logistic regression model with C=50\n",
    "model_LR = LogisticRegression(C=optimal_Cs)\n",
    "model_LR.fit(vocab_train_tf, train_labels)\n",
    "predicted_labels_LR = model_LR.predict(vocab_test_tf)\n",
    "\n",
    "#feature_names = vectorizer.get_feature_names()\n",
    "#print \"features names length:\", len(feature_names)\n",
    "\n",
    "    \n",
    "# Variables to calculate R\n",
    "probabilities = model_LR.predict_proba(vocab_test_tf)  # Each label probability (4) for each document\n",
    "proba_max = probabilities.max(axis=1)  # Maximum predicted probability\n",
    "proba_correct_label = [probabilities[i][test_labels[i]] \\\n",
    "                       for i in range(probabilities.shape[0])]  # Predicted prob of the correct label\n",
    "r_ratio = proba_max/proba_correct_label  # R = maximum predicted prob / predicted prob of the correct label\n",
    "sentence_index = [i for i in range(probabilities.shape[0])]  # Index of the document to retrace once sorted by R\n",
    "\n",
    "# Results array with 5 columns (R, max prob, prob of correct label, predicted labels, true labels,\n",
    "# document index)\n",
    "results = np.column_stack((r_ratio, proba_max, proba_correct_label, predicted_labels_LR, \\\n",
    "                           test_labels, sentence_index))\n",
    "results_max3r = sorted(results, key=lambda x: x[0], reverse=True)[:10]  # top 10 sentences with highest R\n",
    "\n",
    "\n",
    "# Format and print top 3 documents with highest R:\n",
    "# 1) print top 10 sentences related info - probabilities, predicted/correct labels, etc.\n",
    "print \"\\nTop 10 sentences where the ratio R is largest:\\n\"\n",
    "column_names = [\"ratio R\", \"Max pred Pr\", \"Correct Pr\", \"Predicted label\", \"True label\", \\\n",
    "                \"Doc Index\"]\n",
    "row_format =\"{:>16}\" * (len(column_names)+1)\n",
    "print row_format.format(\"\", *column_names)\n",
    "top_10 = [\"Highest R\", \"2nd highest\", \"3rd highest\", \"4th\", \"5th\", \"6th\", \"7th\", \"8th\", \"9th\", \"10th\"]\n",
    "for index, row in zip(top_10, results_max3r):\n",
    "    row = [round(item,3) for item in row]\n",
    "    print row_format.format(index, *row)\n",
    "\n",
    "# 2) print top 3 R documents messages\n",
    "print \"\\nSentences:\"\n",
    "i = 1\n",
    "for row in results_max3r:\n",
    "    print \"\\n\" + str(i) +\") Sentence with ratio R = %.3f\" %(row[0]), \":\"\n",
    "    print test_data[int(row[5])]\n",
    "    i +=1  \n",
    "\n",
    "\n",
    "# Diagnosis of influential words in the 3 documents with highest R\n",
    "weights = model_LR.coef_\n",
    "sentence_list = [int(result[5]) for result in results_max3r]\n",
    "j=1\n",
    "\n",
    "for example in sentence_list:\n",
    "    predicted_label = predicted_labels_LR[example]\n",
    "    indices = vocab_test_tf[example].indices  # list of indices of non zero features of document\n",
    "    vocab_freq = vocab_test_tf[example].data  # list of features values of document\n",
    "    weights_example = [weights[predicted_label][index] for index in indices]  # list of LR weights \n",
    "                                                                              # for non zero features of doc\n",
    "    feature_importance = vocab_freq * weights_example  # feature value x weight for total influence on prediction\n",
    "\n",
    "    features_array = np.column_stack((feature_importance, indices))\n",
    "    features_sorted = sorted(features_array, key=lambda x: x[0], reverse=True)  # Sort words by influence\n",
    "\n",
    "    # Print top 5 features (words) of the document with heaviest weight x value\n",
    "    \n",
    "    print \"\\nSentence\", j,  \"(example number\", example, \"):\"\n",
    "    for i in range(5):\n",
    "        index = int(features_sorted[i][1])\n",
    "        print \"Influential word:\", feature_names[index] ,\"with magnitude:\", features_sorted[i][0]\n",
    "    j +=1\n"
   ]
  },
  {
   "cell_type": "markdown",
   "metadata": {},
   "source": [
    "### Create file with list of probabilities and predicted/true labels"
   ]
  },
  {
   "cell_type": "code",
   "execution_count": 39,
   "metadata": {},
   "outputs": [
    {
     "name": "stdout",
     "output_type": "stream",
     "text": [
      "Total difference between 100% and probability of predicting right label 194.650667203\n",
      "Total difference between max probability and probability of predicting right label 104.33371905\n"
     ]
    }
   ],
   "source": [
    "# Items: diff_true_from_1, diff_pred_true, proba_max, proba_correct_label, predicted_label, correct_label\n",
    "proba_list = []\n",
    "\n",
    "for r_ratio, proba_max, proba_correct_label, predicted_labels_LR, test_labels, sentence_index in results:\n",
    "    diff_true_from_1 = 1.0 - proba_correct_label\n",
    "    diff_pred_true = proba_max - proba_correct_label\n",
    "    proba_list.append([diff_true_from_1, diff_pred_true, proba_max, proba_correct_label, \n",
    "                       predicted_labels_LR, test_labels])\n",
    "\n",
    "total_diff_true_from_1 = sum([item[0] for item in proba_list])\n",
    "total_diff_pred_true = sum([item[1] for item in proba_list])\n",
    "\n",
    "print \"Total difference between 100% and probability of predicting right label\", total_diff_true_from_1\n",
    "print \"Total difference between max probability and probability of predicting right label\", total_diff_pred_true\n"
   ]
  },
  {
   "cell_type": "code",
   "execution_count": 42,
   "metadata": {},
   "outputs": [],
   "source": [
    "proba_list = np.array(proba_list)\n",
    "np.savetxt(\"LR_probabilities_m1.csv\", proba_list, delimiter=\",\")"
   ]
  },
  {
   "cell_type": "code",
   "execution_count": 45,
   "metadata": {},
   "outputs": [
    {
     "name": "stdout",
     "output_type": "stream",
     "text": [
      "194.650667203\n",
      "104.33371905\n"
     ]
    }
   ],
   "source": [
    "# If need to load it again:\n",
    "test = np.loadtxt(\"LR_probabilities_m1.csv\", delimiter=\",\")\n",
    "\n",
    "test1 = sum([i[0] for i in test])\n",
    "test2 = sum([i[1] for i in test])\n",
    "\n",
    "print test1\n",
    "print test2"
   ]
  },
  {
   "cell_type": "markdown",
   "metadata": {},
   "source": [
    "# SVM model"
   ]
  },
  {
   "cell_type": "code",
   "execution_count": 21,
   "metadata": {
    "collapsed": true
   },
   "outputs": [],
   "source": [
    "vectorizer = TfidfVectorizer()\n",
    "vocab_train_tf = vectorizer.fit_transform(train_data)\n",
    "vocab_dev_tf = vectorizer.transform(dev_data)\n",
    "vocab_test_tf = vectorizer.transform(test_data)"
   ]
  },
  {
   "cell_type": "code",
   "execution_count": 22,
   "metadata": {},
   "outputs": [
    {
     "name": "stdout",
     "output_type": "stream",
     "text": [
      "Evaluating Support Vector Machine model ...\n",
      "Performing grid search for Support Vector Machine model. It may take a few minutes ...\n",
      "Support Vector Machines grid search model fitting time = 8.541200 seconds.\n",
      "As per the grid search on the training data, the optimal value of C = 0.000100.\n",
      "Support Vector Machines prediction time for dev data = 0.128497 seconds.\n",
      "Accuracy on dev data for Support Vector Machine is = 0.642395\n",
      "Classification Report\n",
      "             precision    recall  f1-score   support\n",
      "\n",
      "          0       0.00      0.00      0.00        79\n",
      "          1       0.64      1.00      0.78       397\n",
      "          2       0.00      0.00      0.00       142\n",
      "\n",
      "avg / total       0.41      0.64      0.50       618\n",
      "\n"
     ]
    },
    {
     "name": "stderr",
     "output_type": "stream",
     "text": [
      "/Applications/anaconda/lib/python2.7/site-packages/sklearn/metrics/classification.py:1113: UndefinedMetricWarning: Precision and F-score are ill-defined and being set to 0.0 in labels with no predicted samples.\n",
      "  'precision', 'predicted', average, warn_for)\n"
     ]
    }
   ],
   "source": [
    "import time\n",
    "# Support Vector Machines:\n",
    "print \"Evaluating Support Vector Machine model ...\"\n",
    "\n",
    "# Create a Support Vector Machine model. \n",
    "SVMmodel = SVC(C=1.0)\n",
    "\n",
    "# Create a grid search.\n",
    "print \"Performing grid search for Support Vector Machine model. It may take a few minutes ...\"\n",
    "Cs = {'C': [0.0001, 0.001, 0.01, 0.1, 0.5, 1.0, 2.0, 5.0, 10.0, 20.0, 50.0, 100.0]}\n",
    "CV_SVMmodel = GridSearchCV(estimator=SVMmodel, param_grid=Cs)\n",
    "\n",
    "# Fit the models using grid search and display the results.\n",
    "start_time = time.time()\n",
    "CV_SVMmodel.fit(vocab_train_tf, train_labels)\n",
    "end_time = time.time()\n",
    "print \"Support Vector Machines grid search model fitting time = %f seconds.\" % (end_time - start_time)\n",
    "\n",
    "optimal_Cs = CV_SVMmodel.best_params_['C']\n",
    "print \"As per the grid search on the training data, the optimal value of C = %f.\" % optimal_Cs\n",
    "\n",
    "# Predict labels for dev data and calculate accuracy using optimal C\n",
    "start_time = time.time()\n",
    "SVMmodel = CV_SVMmodel.predict(vocab_dev_tf)\n",
    "end_time = time.time()\n",
    "print \"Support Vector Machines prediction time for dev data = %f seconds.\" % (end_time - start_time)\n",
    "\n",
    "# Print goodness of fit measures\n",
    "print \"Accuracy on dev data for Support Vector Machine is = %f\" % CV_SVMmodel.score(vocab_dev_tf, dev_labels)\n",
    "print \"Classification Report\\n\", classification_report(dev_labels, SVMmodel)  "
   ]
  },
  {
   "cell_type": "code",
   "execution_count": 23,
   "metadata": {},
   "outputs": [
    {
     "name": "stdout",
     "output_type": "stream",
     "text": [
      "SVM model\n",
      "Accuracy (dev data): 0.642\n",
      "Test dataset with 618 sentences\n",
      "Accuracy (test data): 0.629\n",
      "        dataset |       negative |        neutral |       positive\n",
      " test_predicted |       0.000000 |     618.000000 |       0.000000\n",
      "    test_actual |     104.000000 |     389.000000 |     125.000000\n",
      "Confusion matrix for test data\n",
      "The most confused pair of classes is: 2 ( positive )  incorrectly predicted as 1 ( neutral )\n",
      "Number of such confusion occurences: 125\n"
     ]
    },
    {
     "data": {
      "image/png": "[encoded data removed]",
      "text/plain": [
       "<matplotlib.figure.Figure at 0x115d26850>"
      ]
     },
     "metadata": {},
     "output_type": "display_data"
    }
   ],
   "source": [
    "# Turn the raw training text into feature vectors based on \"td-idf\"\n",
    "#vectorizer = TfidfVectorizer()\n",
    "#vocab_train_tf = vectorizer.fit_transform(train_data)\n",
    "#vocab_dev_tf = vectorizer.transform(dev_data)\n",
    "\n",
    "# SVM model\n",
    "model_SVM = SVC(C=0.0001)\n",
    "model_SVM.fit(vocab_train_tf, train_labels)\n",
    "predicted_labels_SVM = model_SVM.predict(vocab_dev_tf)\n",
    "\n",
    "# DEV\n",
    "print \"SVM model\"\n",
    "accuracy = model_SVM.score(vocab_dev_tf, dev_labels)\n",
    "print \"Accuracy (dev data): %.3f\" %(accuracy)\n",
    "\n",
    "# TEST\n",
    "vocab_test_tf = vectorizer.transform(test_data)\n",
    "predicted_labels_SVM2 = model_SVM.predict(vocab_test_tf)\n",
    "print \"Test dataset with\", len(predicted_labels_SVM2), \"sentences\"\n",
    "accuracy = model_SVM.score(vocab_test_tf, test_labels)\n",
    "print \"Accuracy (test data): %.3f\" %(accuracy)\n",
    "\n",
    "print \"{0:>15} |{1:>15} |{2:>15} |{3:>15}\".format(\"dataset\",\"negative\", \"neutral\", \"positive\")\n",
    "print \"{0:>15} |{1:>15f} |{2:>15f} |{3:>15f}\".format(\"test_predicted\",count_classes(0,predicted_labels_SVM2), \n",
    "                                                     count_classes(1,predicted_labels_SVM2),\n",
    "                                                     count_classes(2,predicted_labels_SVM2))\n",
    "print \"{0:>15} |{1:>15f} |{2:>15f} |{3:>15f}\".format(\"test_actual\",count_classes(0,test_labels), \n",
    "                                                     count_classes(1,test_labels),\n",
    "                                                     count_classes(2,test_labels))\n",
    "\n",
    "print \"Confusion matrix for test data\"\n",
    "\n",
    "array = confusion_matrix(test_labels, predicted_labels_SVM2)\n",
    "df_cm = pd.DataFrame(array, index = [\"negative\", \"neutral\", \"positive\"],\n",
    "                  columns = [\"negative\", \"neutral\", \"positive\"])\n",
    "plt.figure(figsize = (10,7))\n",
    "sn.heatmap(df_cm, annot=True)\n",
    "\n",
    "\n",
    "# Find the most confused pair\n",
    "cm3 = confusion_matrix(test_labels, predicted_labels_SVM2)  # copy the cm matrix so that can modify the copy without affecting original cm\n",
    "np.fill_diagonal(cm3, 0)  # set the values in the diagonal = 0 to obtain number of confused pairs matrix\n",
    "maximum_pair_idx = np.where(cm3 == cm3.max())  # returns the indices of the max value in cm matrix\n",
    "true_interaction = maximum_pair_idx[0][0]\n",
    "predicted_interaction = maximum_pair_idx[1][0]\n",
    "max_wrong_prediction = cm3[true_interaction][predicted_interaction]\n",
    "print \"The most confused pair of classes is:\", true_interaction, \"(\", classes_dict[true_interaction],\")\",\\\n",
    "\" incorrectly predicted as\", predicted_interaction, \"(\", classes_dict[predicted_interaction],\")\"\n",
    "print \"Number of such confusion occurences:\", max_wrong_prediction"
   ]
  },
  {
   "cell_type": "code",
   "execution_count": null,
   "metadata": {
    "collapsed": true
   },
   "outputs": [],
   "source": []
  }
 ],
 "metadata": {
  "anaconda-cloud": {},
  "kernelspec": {
   "display_name": "Python 2",
   "language": "python",
   "name": "python2"
  },
  "language_info": {
   "codemirror_mode": {
    "name": "ipython",
    "version": 2
   },
   "file_extension": ".py",
   "mimetype": "text/x-python",
   "name": "python",
   "nbconvert_exporter": "python",
   "pygments_lexer": "ipython2",
   "version": "2.7.12"
  }
 },
 "nbformat": 4,
 "nbformat_minor": 2
}
