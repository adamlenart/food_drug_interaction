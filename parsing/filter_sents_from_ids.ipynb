{
 "cells": [
  {
   "cell_type": "markdown",
   "metadata": {},
   "source": [
    "# Leave only those sentences pr PMIDs that have the food or compound name\n",
    "\n",
    "Use Jaro-Winkler distance and ngrams to filter the sentences\n",
    "\n",
    "Depends on hits and pmids pickle files that are created by download_food_ids.ipynb."
   ]
  },
  {
   "cell_type": "code",
   "execution_count": 6,
   "metadata": {
    "collapsed": false
   },
   "outputs": [],
   "source": [
    "from __future__ import print_function\n",
    "import sys,pickle, re, jellyfish\n",
    "import pubmed.utils as pb\n",
    "from collections import defaultdict\n",
    "from nltk.tokenize import sent_tokenize\n",
    "\n",
    "\n",
    "# load temporary results \n",
    "hits = pickle.load(open( \"hits_0_4859.pickle\", \"rb\" ) )\n",
    "pmids = pickle.load(open( \"pmids_0_4859.pickle\", \"rb\" ) )\n",
    "\n",
    "def splitSentences(abstract):\n",
    "    sentences = sent_tokenize(abstract)\n",
    "    return sentences\n",
    "\n",
    "def flat_map(sentences):\n",
    "    return [sent for s in sentences for sent in s]\n",
    "\n",
    "def findFood(sentence, foods):\n",
    "    ''' Calculates the Jaro Wrinkler distance between food name and ngrams in the sentence.\n",
    "        Returns True if distance > limit\n",
    "    '''\n",
    " \n",
    "    result = False\n",
    "    # If using string distance method:\n",
    "    for f in foods:\n",
    "        n = min(3, len(f.split()))  # Assuming max as trigram        \n",
    "        sentence_ngrams = find_ngrams(sentence, n)  # Note: punctuation at end of sentence will be included with\n",
    "                                                    # last word. For now ok, since the JW will still be > 05\n",
    "        for ngram in sentence_ngrams:\n",
    "            # Note: when using jaro_winkler, need to convert into unicode format\n",
    "            if jellyfish.jaro_winkler(f.lower(), u\"{}\".format(ngram.lower())) > 0.95:\n",
    "                result = True\n",
    "                break\n",
    "    return result\n",
    "\n",
    "def findDrug(sentence, dglist, limit):\n",
    "    ''' Calculates the Jaro Wrinkler distance between drug name and ngrams in the sentence.\n",
    "        Returns True if distance > limit\n",
    "    '''\n",
    "    result = False\n",
    "    for drug in dglist:\n",
    "        n = min(5, len(drug.split()))  # Assuming max as 5-gram        \n",
    "        sentence_ngrams = find_ngrams(sentence, n)  # Note: punctuation at end of sentence will be included with\n",
    "                                                # last word. For now ok, since the JW will still be > limit\n",
    "        for ngram in sentence_ngrams:\n",
    "            # Note: when using jaro_winkler, need to convert into unicode format\n",
    "            ngram_distance = jellyfish.jaro_winkler(u\"{}\".format(drug.lower()), u\"{}\".format(ngram.lower()))\n",
    "            if ngram_distance > limit:  \n",
    "                result = True\n",
    "                break\n",
    "\n",
    "    return result\n",
    "\n",
    "\n",
    "def find_ngrams(sentence, n):\n",
    "    ''' Return list of ngrams from a sentence\n",
    "    '''\n",
    "    words_list = sentence.split()\n",
    "    ngrams = zip(*[words_list[i:] for i in range(n)])\n",
    "    return [''.join([w+' ' for w in ngram]).strip() for ngram in ngrams]\n",
    "\n"
   ]
  },
  {
   "cell_type": "markdown",
   "metadata": {},
   "source": [
    "## Build food - id - sentence dictionary\n",
    "Extract only those that have fewer than 100 ids (more than those are likely not valid results)"
   ]
  },
  {
   "cell_type": "code",
   "execution_count": 7,
   "metadata": {
    "collapsed": false
   },
   "outputs": [],
   "source": [
    "foods_pmids = defaultdict(list)\n",
    "# food names are between quotation marks in the search term\n",
    "RE = re.compile(r'\"(.*?)\"')\n",
    "for fc, pmid in zip(hits, pmids):\n",
    "    if len(pmid) < 100:\n",
    "        food_or_compound = RE.findall(fc)[0]\n",
    "        foods_pmids[food_or_compound] = pmid"
   ]
  },
  {
   "cell_type": "code",
   "execution_count": 10,
   "metadata": {
    "collapsed": false
   },
   "outputs": [
    {
     "name": "stdout",
     "output_type": "stream",
     "text": [
      "Food or compound item: 557 / 557"
     ]
    }
   ],
   "source": [
    "filtered_sentences = defaultdict(lambda : defaultdict(list))\n",
    "N_FOODS = len(foods_pmids)\n",
    "\n",
    "for i, items in enumerate(foods_pmids.items()):\n",
    "    food, pmids = items\n",
    "    # start dynamic iteration counter to track where we are \n",
    "    print('\\rFood or compound item:', i+1, '/', N_FOODS,end='')\n",
    "    sys.stdout.flush()\n",
    "    try:\n",
    "        abstracts = pb.PubMedQuery.abstract_getter(pmids)\n",
    "        sentences = [splitSentences(abstract) for abstract in abstracts.values()]\n",
    "        for pmid, sents in zip(pmids, sentences):\n",
    "            food_filtered = filter(lambda sent: findFood(sent, [food]), sents)\n",
    "            food_drug_filtered = filter(lambda sent: findDrug(sent, ['angiotensin-converting enzyme','ACE'],0.9), \n",
    "                                        food_filtered)\n",
    "            if len(food_drug_filtered) > 0:\n",
    "                filtered_sentences[food][pmid] = food_drug_filtered\n",
    "    except:\n",
    "        pass\n",
    "\n",
    "\n",
    "    \n"
   ]
  },
  {
   "cell_type": "code",
   "execution_count": 12,
   "metadata": {
    "collapsed": false
   },
   "outputs": [
    {
     "data": {
      "text/plain": [
       "[u\"Rubra) and white ginger (Zingiber officinale Roscoe) were prepared and the ability of the extracts to inhibit ACE along with Fe(2+)- and SNP-induced lipid peroxidation was determined in rat's heart in vitro.\",\n",
       " u'However, red ginger extract (EC50=27.5 \\u03bcg/mL) had a significantly (P<.05) higher inhibitory effect on ACE than white ginger extract (EC50=87.0 \\u03bcg/mL).',\n",
       " u'This suggests that the possible mechanism through which ginger exerts its antihypertensive properties may be through inhibition of ACE activity and prevention of lipid peroxidation in the heart.',\n",
       " u'Furthermore, red ginger showed stronger inhibition of ACE than white ginger.']"
      ]
     },
     "execution_count": 12,
     "metadata": {},
     "output_type": "execute_result"
    }
   ],
   "source": [
    "filtered_sentences[u'ginger'][u'23875904']"
   ]
  },
  {
   "cell_type": "code",
   "execution_count": null,
   "metadata": {
    "collapsed": true
   },
   "outputs": [],
   "source": []
  }
 ],
 "metadata": {
  "kernelspec": {
   "display_name": "Python [conda env:python2]",
   "language": "python",
   "name": "conda-env-python2-py"
  },
  "language_info": {
   "codemirror_mode": {
    "name": "ipython",
    "version": 2
   },
   "file_extension": ".py",
   "mimetype": "text/x-python",
   "name": "python",
   "nbconvert_exporter": "python",
   "pygments_lexer": "ipython2",
   "version": "2.7.12"
  }
 },
 "nbformat": 4,
 "nbformat_minor": 2
}
