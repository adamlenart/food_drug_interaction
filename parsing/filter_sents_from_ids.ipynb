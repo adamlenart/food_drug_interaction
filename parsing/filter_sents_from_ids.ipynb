{
 "cells": [
  {
   "cell_type": "markdown",
   "metadata": {},
   "source": [
    "# Leave only those sentences pr PMIDs that have the food or compound name\n",
    "\n",
    "Use Jaro-Winkler distance and ngrams to filter the sentences\n",
    "\n",
    "Depends on hits and pmids pickle files that are created by download_food_ids.ipynb."
   ]
  },
  {
   "cell_type": "code",
   "execution_count": 20,
   "metadata": {
    "collapsed": true
   },
   "outputs": [],
   "source": [
    "from __future__ import print_function\n",
    "import sys,pickle, re, jellyfish\n",
    "import pubmed.utils as pb\n",
    "from collections import defaultdict\n",
    "from nltk.tokenize import sent_tokenize\n",
    "from urllib2 import HTTPError\n",
    "\n",
    "# load temporary results \n",
    "hits0 = pickle.load(open( \"hits_0_3642.pickle\", \"rb\" ) )\n",
    "pmids0 = pickle.load(open( \"pmids_0_3642.pickle\", \"rb\" ) )\n",
    "hits1 = pickle.load(open( \"hits_3643_3799.pickle\", \"rb\" ) )\n",
    "pmids1 = pickle.load(open( \"pmids_3643_3799.pickle\", \"rb\" ) )\n",
    "hits2 = pickle.load(open( \"hits_3799_end.pickle\", \"rb\" ) )\n",
    "pmids2 = pickle.load(open( \"pmids_3799_end.pickle\", \"rb\" ) ) "
   ]
  },
  {
   "cell_type": "code",
   "execution_count": 2,
   "metadata": {
    "collapsed": false
   },
   "outputs": [],
   "source": [
    "\n",
    "def splitSentences(abstract):\n",
    "    sentences = sent_tokenize(abstract)\n",
    "    return sentences\n",
    "\n",
    "def flat_map(sentences):\n",
    "    return [sent for s in sentences for sent in s]\n",
    "\n",
    "def findFood(sentence, foods):\n",
    "    ''' Calculates the Jaro Wrinkler distance between food name and ngrams in the sentence.\n",
    "        Returns True if distance > limit\n",
    "    '''\n",
    " \n",
    "    result = False\n",
    "    # If using string distance method:\n",
    "    for f in foods:\n",
    "        n = min(3, len(f.split()))  # Assuming max as trigram        \n",
    "        sentence_ngrams = find_ngrams(sentence, n)  # Note: punctuation at end of sentence will be included with\n",
    "                                                    # last word. For now ok, since the JW will still be > 05\n",
    "        for ngram in sentence_ngrams:\n",
    "            # Note: when using jaro_winkler, need to convert into unicode format\n",
    "            if jellyfish.jaro_winkler(f.lower(), u\"{}\".format(ngram.lower())) > 0.95:\n",
    "                result = True\n",
    "                break\n",
    "    return result\n",
    "\n",
    "def findDrug(sentence, dglist, limit):\n",
    "    ''' Calculates the Jaro Wrinkler distance between drug name and ngrams in the sentence.\n",
    "        Returns True if distance > limit\n",
    "    '''\n",
    "    result = False\n",
    "    for drug in dglist:\n",
    "        n = min(5, len(drug.split()))  # Assuming max as 5-gram        \n",
    "        sentence_ngrams = find_ngrams(sentence, n)  # Note: punctuation at end of sentence will be included with\n",
    "                                                # last word. For now ok, since the JW will still be > limit\n",
    "        for ngram in sentence_ngrams:\n",
    "            # Note: when using jaro_winkler, need to convert into unicode format\n",
    "            ngram_distance = jellyfish.jaro_winkler(u\"{}\".format(drug.lower()), u\"{}\".format(ngram.lower()))\n",
    "            if ngram_distance > limit:  \n",
    "                result = True\n",
    "                break\n",
    "\n",
    "    return result\n",
    "\n",
    "\n",
    "def find_ngrams(sentence, n):\n",
    "    ''' Return list of ngrams from a sentence\n",
    "    '''\n",
    "    words_list = sentence.split()\n",
    "    ngrams = zip(*[words_list[i:] for i in range(n)])\n",
    "    return [''.join([w+' ' for w in ngram]).strip() for ngram in ngrams]\n",
    "\n"
   ]
  },
  {
   "cell_type": "markdown",
   "metadata": {},
   "source": [
    "## Build food - id - sentence dictionary\n",
    "Extract only those that have fewer than 100 ids (more than those are likely not valid results)"
   ]
  },
  {
   "cell_type": "code",
   "execution_count": 21,
   "metadata": {
    "collapsed": false
   },
   "outputs": [],
   "source": [
    "foods_pmids = defaultdict(list)\n",
    "# food names are between quotation marks in the search term\n",
    "RE = re.compile(r'\"(.*?)\"')\n",
    "for hits, pmids in zip([hits0, hits1, hits2],[pmids0, pmids1, pmids2]):\n",
    "    for fc, pmid in zip(hits, pmids):\n",
    "        if len(pmid) < 100:\n",
    "            food_or_compound = RE.findall(fc)[0]\n",
    "            foods_pmids[food_or_compound] = pmid"
   ]
  },
  {
   "cell_type": "markdown",
   "metadata": {},
   "source": [
    "Find sentences that contain both food names and ACE"
   ]
  },
  {
   "cell_type": "code",
   "execution_count": 45,
   "metadata": {
    "collapsed": false
   },
   "outputs": [
    {
     "name": "stdout",
     "output_type": "stream",
     "text": [
      "Food or compound item: 2 / 1287 Unicode again! How did it get here?\n",
      "Food or compound item: 145 / 1287 Oh-no, a None, let's escape!\n",
      "Food or compound item: 207 / 1287 Unicode again! How did it get here?\n",
      "Food or compound item: 486 / 1287 Unicode again! How did it get here?\n",
      "Food or compound item: 540 / 1287 Unicode again! How did it get here?\n",
      "Food or compound item: 711 / 1287 Unicode again! How did it get here?\n",
      "Food or compound item: 1076 / 1287 Unicode again! How did it get here?\n",
      "Food or compound item: 1132 / 1287 Unicode again! How did it get here?\n",
      "Food or compound item: 1199 / 1287 Unicode again! How did it get here?\n",
      "Food or compound item: 1276 / 1287 Unicode again! How did it get here?\n",
      "Food or compound item: 1284 / 1287 Unicode again! How did it get here?\n",
      "Food or compound item: 1287 / 1287"
     ]
    }
   ],
   "source": [
    "filtered_sentences = defaultdict(lambda : defaultdict(list))\n",
    "N_FOODS = len(foods_pmids)\n",
    "\n",
    "for i, items in enumerate(foods_pmids.items()):\n",
    "    food, pmids = items\n",
    "    # start dynamic iteration counter to track where we are \n",
    "    print('\\rFood or compound item:', i+1, '/', N_FOODS,end='')\n",
    "    sys.stdout.flush()\n",
    "    try:\n",
    "        abstracts = pb.PubMedQuery.abstract_getter(pmids)\n",
    "        sentences = [splitSentences(abstract) for abstract in abstracts.values()]\n",
    "        for pmid, sents in zip(pmids, sentences):\n",
    "            food_filtered = filter(lambda sent: findFood(sent, [unicode(food)]), sents)\n",
    "            food_drug_filtered = filter(lambda sent: findDrug(sent, [u'angiotensin-converting enzyme',u'ACE'],0.8), \n",
    "                                        food_filtered)\n",
    "            if len(food_drug_filtered) > 0:\n",
    "                filtered_sentences[food][pmid] = food_drug_filtered\n",
    "    except HTTPError:\n",
    "        print('HTTPError here but why?')\n",
    "    except UnicodeDecodeError:\n",
    "        print(' Unicode again! How did it get here?')\n",
    "    except TypeError:\n",
    "        print(\" Oh-no, a None, let's escape!\")\n",
    "\n",
    "   \n"
   ]
  },
  {
   "cell_type": "code",
   "execution_count": 49,
   "metadata": {
    "collapsed": false
   },
   "outputs": [
    {
     "data": {
      "text/plain": [
       "[u\"Therefore, this study sought to investigate the inhibitory effect of aqueous extracts of two varieties of ginger on a key enzyme linked to hypertension (angiotensin I-converting enzyme [ACE]), and on pro-oxidants [Fe(2+) and sodium nitroprusside (SNP)] which have been shown to induce lipid peroxidation in the rat's isolated heart in vitro.\",\n",
       " u\"Rubra) and white ginger (Zingiber officinale Roscoe) were prepared and the ability of the extracts to inhibit ACE along with Fe(2+)- and SNP-induced lipid peroxidation was determined in rat's heart in vitro.\",\n",
       " u'However, red ginger extract (EC50=27.5 \\u03bcg/mL) had a significantly (P<.05) higher inhibitory effect on ACE than white ginger extract (EC50=87.0 \\u03bcg/mL).',\n",
       " u'This suggests that the possible mechanism through which ginger exerts its antihypertensive properties may be through inhibition of ACE activity and prevention of lipid peroxidation in the heart.',\n",
       " u'Furthermore, red ginger showed stronger inhibition of ACE than white ginger.']"
      ]
     },
     "execution_count": 49,
     "metadata": {},
     "output_type": "execute_result"
    }
   ],
   "source": [
    "filtered_sentences[u'ginger'][u'23875904']"
   ]
  },
  {
   "cell_type": "markdown",
   "metadata": {},
   "source": [
    "Asssign to a new dictionary because pickle had problems with defaultdict lambda"
   ]
  },
  {
   "cell_type": "code",
   "execution_count": 81,
   "metadata": {
    "collapsed": false
   },
   "outputs": [],
   "source": [
    "new_filtered_sentences = []\n",
    "for key, values in filtered_sentences.items():\n",
    "    for k, v in values.items():\n",
    "        for w in v:\n",
    "            new_filtered_sentences.append('{0} | {1} | {2}'.format(k, key, w.encode('ascii', 'ignore')))\n"
   ]
  },
  {
   "cell_type": "code",
   "execution_count": 83,
   "metadata": {
    "collapsed": false
   },
   "outputs": [],
   "source": [
    "pickle.dump(new_filtered_sentences, open('ACE_filtered_sentences.pickle','wb'))"
   ]
  },
  {
   "cell_type": "code",
   "execution_count": 82,
   "metadata": {
    "collapsed": false
   },
   "outputs": [],
   "source": [
    "import pandas as pd\n",
    "pd.DataFrame(new_filtered_sentences).to_csv('ACE_filtered_sentences.csv')"
   ]
  },
  {
   "cell_type": "code",
   "execution_count": null,
   "metadata": {
    "collapsed": true
   },
   "outputs": [],
   "source": []
  }
 ],
 "metadata": {
  "anaconda-cloud": {},
  "kernelspec": {
   "display_name": "Python [conda env:python2]",
   "language": "python",
   "name": "conda-env-python2-py"
  },
  "language_info": {
   "codemirror_mode": {
    "name": "ipython",
    "version": 2
   },
   "file_extension": ".py",
   "mimetype": "text/x-python",
   "name": "python",
   "nbconvert_exporter": "python",
   "pygments_lexer": "ipython2",
   "version": "2.7.12"
  }
 },
 "nbformat": 4,
 "nbformat_minor": 2
}
