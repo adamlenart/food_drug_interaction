{
 "cells": [
  {
   "cell_type": "markdown",
   "metadata": {},
   "source": [
    "# Model estimation"
   ]
  },
  {
   "cell_type": "code",
   "execution_count": 1,
   "metadata": {
    "collapsed": false
   },
   "outputs": [
    {
     "name": "stderr",
     "output_type": "stream",
     "text": [
      "Using TensorFlow backend.\n"
     ]
    }
   ],
   "source": [
    "import numpy as np\n",
    "from random import shuffle\n",
    "import sys,os, pickle, jellyfish\n",
    "from collections import defaultdict\n",
    "from collections import Counter\n",
    "from keras.models import Sequential\n",
    "from keras.layers import Dense\n",
    "from keras.layers import LSTM\n",
    "from keras.layers import Dropout\n",
    "from keras.layers.embeddings import Embedding\n",
    "from keras.preprocessing import sequence\n",
    "from keras.preprocessing import text\n",
    "from keras.utils.np_utils import to_categorical\n",
    "from keras import optimizers\n",
    "\n",
    "\n",
    "# ------------------------ helper functions -------------------------- #\n",
    "\n",
    "def get_parent_dir(directory):\n",
    "    '''Returns the parent directory of the current one'''\n",
    "    return os.path.dirname(directory)\n",
    "\n",
    "\n",
    "# ------------------------ functions for processing the text ---------- #\n",
    "def make_digit(word):\n",
    "    '''Transforms string labels to digits'''\n",
    "    if word == 'positive':\n",
    "        return int(0)\n",
    "    elif word == 'neutral':\n",
    "        return int(1)\n",
    "    elif word == 'negative':\n",
    "        return int(2)\n",
    "    else:\n",
    "        '{} is neither positive, neutral or negative'.format(word)\n",
    "        \n",
    "        \n",
    "def get_word_ids(sentence, vocabulary):\n",
    "    '''Returns index in the vocabulary for each word of the sentence.'''\n",
    "    words = text.text_to_word_sequence(sentence)\n",
    "    return [vocabulary.index(x) if x in vocabulary else len(vocabulary) for x in words]\n",
    "\n",
    "current_dirs_parent = get_parent_dir(os.getcwd())"
   ]
  },
  {
   "cell_type": "markdown",
   "metadata": {},
   "source": [
    "### read in vocabulary and word-vector files"
   ]
  },
  {
   "cell_type": "code",
   "execution_count": 3,
   "metadata": {
    "collapsed": false
   },
   "outputs": [
    {
     "name": "stdout",
     "output_type": "stream",
     "text": [
      "4929266\n"
     ]
    }
   ],
   "source": [
    "vocabulary = []\n",
    "occurrences = {}\n",
    "\n",
    "with open('/Users/lisabarcelo/Desktop/W266/food_drug_interaction/BioNLP/ri-3gram-400-tsv/vocab.tsv') as vocabulary_file:\n",
    "    for line in vocabulary_file:\n",
    "        word, occurrence = line.strip().split('\\t')\n",
    "        vocabulary.append(word)\n",
    "        occurrences[word] = occurrence\n",
    "\n",
    "print(len(vocabulary))"
   ]
  },
  {
   "cell_type": "code",
   "execution_count": 4,
   "metadata": {
    "collapsed": true
   },
   "outputs": [],
   "source": [
    "embeddings_index = {}\n",
    "with open('/Users/lisabarcelo/Desktop/W266/food_drug_interaction/BioNLP/ri-3gram-400-tsv/vectors.tsv') as embedding_file:\n",
    "    for i, line in enumerate(embedding_file):\n",
    "        values = line.strip().split('\\t')\n",
    "        vector = np.asarray(values, dtype='float32')\n",
    "        embeddings_index[vocabulary[i]] = vector"
   ]
  },
  {
   "cell_type": "code",
   "execution_count": 8,
   "metadata": {
    "collapsed": false
   },
   "outputs": [],
   "source": [
    "#pickle.dump(embeddings_index, open('/Users/lisabarcelo/Desktop/W266/food_drug_interaction/BioNLP/embeddings_index.pickle','wb'))\n",
    "#embeddings_index = pickle.load(open('/Users/lisabarcelo/Desktop/W266/food_drug_interaction/BioNLP/embeddings_index.pickle','rb'))"
   ]
  },
  {
   "cell_type": "markdown",
   "metadata": {},
   "source": [
    "### Read-in compounds in order to add them to vocabulary"
   ]
  },
  {
   "cell_type": "code",
   "execution_count": 14,
   "metadata": {
    "collapsed": false
   },
   "outputs": [],
   "source": [
    "compounds = Counter()\n",
    "   \n",
    "with open(current_dirs_parent + '/data/labeled_dataAll.tsv', 'r') as labelled_sents: \n",
    "    for num, line in enumerate(labelled_sents):\n",
    "        _,label,_,_,compound, sent = line.strip().split('\\t')\n",
    "        compounds[compound] += 1\n",
    "        # here we could canonicalize"
   ]
  },
  {
   "cell_type": "code",
   "execution_count": 15,
   "metadata": {
    "collapsed": false
   },
   "outputs": [
    {
     "name": "stdout",
     "output_type": "stream",
     "text": [
      "[('pectin', 17), ('l-dopa', 16), ('styrene', 15), ('genistein', 14), ('glycyrrhizin', 14), ('potato', 13), ('rainbow trout', 13), ('procyanidin', 12), ('lard', 12), ('thiamine', 12)]\n"
     ]
    },
    {
     "data": {
      "text/plain": [
       "983"
      ]
     },
     "execution_count": 15,
     "metadata": {},
     "output_type": "execute_result"
    }
   ],
   "source": [
    "print(compounds.most_common(10))\n",
    "len(compounds)"
   ]
  },
  {
   "cell_type": "markdown",
   "metadata": {},
   "source": [
    "### pre-trained embeddings for the compounds\n",
    "\n",
    "If there is more than one alternative (alternative specified by JW distance > .95), than take weighted average of the word vectors, weighted by number of occurences of the compound in the corpus."
   ]
  },
  {
   "cell_type": "code",
   "execution_count": 16,
   "metadata": {
    "collapsed": false
   },
   "outputs": [],
   "source": [
    "i = 0\n",
    "compound_index = {}\n",
    "for compound in compounds:\n",
    "    # the word vectors are 400 long\n",
    "    compound_embedding = np.zeros(400)\n",
    "    num_alternatives = 0\n",
    "    occurrence_total = 0\n",
    "    for i, word in enumerate(vocabulary):\n",
    "        # take weighted average (element-wise) of the word vectors, weighted by the occurrences of the compound in corpus\n",
    "        if jellyfish.jaro_winkler(compound, word) > 0.95:\n",
    "            compound_embedding += embeddings_index[word]*int(occurrences[word])\n",
    "            num_alternatives += 1\n",
    "            occurrence_total += int(occurrences[word])\n",
    "            \n",
    "    compound_index[compound] = compound_embedding/(num_alternatives*occurrence_total)"
   ]
  },
  {
   "cell_type": "code",
   "execution_count": 8,
   "metadata": {
    "collapsed": false
   },
   "outputs": [],
   "source": [
    "#pickle.dump(compound_index, open('/media/adam/Data/BioNLP/compound_index.pickle','wb'))\n",
    "#compound_index = pickle.load(open('/media/adam/Data/BioNLP/compound_index.pickle','rb'))"
   ]
  },
  {
   "cell_type": "markdown",
   "metadata": {},
   "source": [
    "Should have paid more attention to zero division above, rewrite the vectors to 0s if they are np.nans "
   ]
  },
  {
   "cell_type": "code",
   "execution_count": 17,
   "metadata": {
    "collapsed": false
   },
   "outputs": [
    {
     "data": {
      "text/plain": [
       "780"
      ]
     },
     "execution_count": 17,
     "metadata": {},
     "output_type": "execute_result"
    }
   ],
   "source": [
    "temp_compounds = {}\n",
    "for k,v in compound_index.items():\n",
    "    if any(np.isnan(v)):\n",
    "        continue\n",
    "    temp_compounds[k] = v\n",
    "len(temp_compounds)"
   ]
  },
  {
   "cell_type": "markdown",
   "metadata": {},
   "source": [
    "Before finding alternative spellings, there were 581 compounds found of our 886, after JW distance alternatives, we have 693. As it doesn't take much time and improves visibility, in another step, let's take out those compounds which are in the top 20k of the vocabulary."
   ]
  },
  {
   "cell_type": "code",
   "execution_count": 18,
   "metadata": {
    "collapsed": false
   },
   "outputs": [],
   "source": [
    "#Tried 30k words!\n",
    "V = 30000\n",
    "j = 0\n",
    "final_compounds = {}\n",
    "for compound, vector in temp_compounds.items():\n",
    "    if compound not in vocabulary[:V]:\n",
    "        final_compounds[compound] = vector\n",
    "# top 20k words, remaining compounds not in the top 20k, and one extra line for the unknown words        \n",
    "V_total = V + len(final_compounds) + 1"
   ]
  },
  {
   "cell_type": "markdown",
   "metadata": {},
   "source": [
    "### Prepare embedding matrix"
   ]
  },
  {
   "cell_type": "code",
   "execution_count": 20,
   "metadata": {
    "collapsed": false
   },
   "outputs": [],
   "source": [
    "dim = 400\n",
    "\n",
    "vocab_final = []\n",
    "embedding_matrix = np.zeros((V, dim))\n",
    "for i, word in enumerate(vocabulary[:V]):\n",
    "    embedding_matrix[i] = embeddings_index[word]\n",
    "    vocab_final.append(word)\n",
    "\n",
    "    \n",
    "final_compound_matrix = np.zeros((len(final_compounds), dim))\n",
    "for i, item in enumerate(final_compounds.items()):\n",
    "    compound, vector = item\n",
    "    final_compound_matrix[i] = vector\n",
    "    vocab_final.append(compound)\n",
    "\n",
    "# stack top 20k words, compounds not found among the 20k words and a\n",
    "# vector of zeros for the words not in the vocabulary    \n",
    "embedding_matrix = np.vstack([embedding_matrix, final_compound_matrix, np.zeros(dim)])\n",
    "assert embedding_matrix.shape == (V_total, dim)"
   ]
  },
  {
   "cell_type": "code",
   "execution_count": 21,
   "metadata": {
    "collapsed": false
   },
   "outputs": [
    {
     "data": {
      "text/plain": [
       "True"
      ]
     },
     "execution_count": 21,
     "metadata": {},
     "output_type": "execute_result"
    }
   ],
   "source": [
    "'honey' in temp_compounds.keys()"
   ]
  },
  {
   "cell_type": "markdown",
   "metadata": {},
   "source": [
    "### Prepare sentences for analysis\n",
    "Most importantly, change the words in the sentences to indeces corresponding to the rows of the embedding matrix."
   ]
  },
  {
   "cell_type": "code",
   "execution_count": 22,
   "metadata": {
    "collapsed": false
   },
   "outputs": [],
   "source": [
    "labels = defaultdict(list)\n",
    "sent_classified = list()\n",
    "sentences = defaultdict(list)\n",
    "sent_label = list()\n",
    "max_sentence_length = 0\n",
    "\n",
    "with open(current_dirs_parent + '/data/labeled_dataAll.tsv', 'r') as labelled_sents: \n",
    "    for num, line in enumerate(labelled_sents):\n",
    "        if num == 0: continue\n",
    "        _,label,_,_,compound, sent = line.strip().split('\\t')\n",
    "        # include only those compounds that are found in the corpus\n",
    "        if compound in temp_compounds.keys():\n",
    "            labels[num-1] = label.lower()\n",
    "            sentences[num-1] = sent.lower()\n",
    "            try:\n",
    "                sent_label.append(make_digit(label.strip()))\n",
    "                max_sentence_length = np.max([max_sentence_length, len(sent.split(' '))])\n",
    "                sent_classified.append(get_word_ids(sent, vocab_final))\n",
    "            except KeyError:\n",
    "                pass"
   ]
  },
  {
   "cell_type": "markdown",
   "metadata": {},
   "source": [
    "## Trainable parameters/settings"
   ]
  },
  {
   "cell_type": "code",
   "execution_count": 23,
   "metadata": {
    "collapsed": true
   },
   "outputs": [],
   "source": [
    "LSTM_UNITS = 300\n",
    "NUM_EPOCHS = 100\n",
    "optim = optimizers.Adam(lr=0.001, beta_1=0.9, beta_2=0.999, epsilon=1e-08, decay=0.0)\n",
    "# change vocabulary size? maybe 20k is too much?"
   ]
  },
  {
   "cell_type": "markdown",
   "metadata": {},
   "source": [
    "### Fit model\n",
    "\n",
    "Here I pad the sentences to max sentence length but maybe we could truncate?"
   ]
  },
  {
   "cell_type": "code",
   "execution_count": 24,
   "metadata": {
    "collapsed": false,
    "scrolled": true
   },
   "outputs": [
    {
     "name": "stdout",
     "output_type": "stream",
     "text": [
      "_________________________________________________________________\n",
      "Layer (type)                 Output Shape              Param #   \n",
      "=================================================================\n",
      "embedding_1 (Embedding)      (None, 665, 400)          12222400  \n",
      "_________________________________________________________________\n",
      "dropout_1 (Dropout)          (None, 665, 400)          0         \n",
      "_________________________________________________________________\n",
      "lstm_1 (LSTM)                (None, 300)               841200    \n",
      "_________________________________________________________________\n",
      "dense_1 (Dense)              (None, 3)                 903       \n",
      "=================================================================\n",
      "Total params: 13,064,503\n",
      "Trainable params: 842,103\n",
      "Non-trainable params: 12,222,400\n",
      "_________________________________________________________________\n",
      "None\n",
      "Epoch 1/100\n",
      "1541/1541 [==============================] - 310s - loss: 0.9890 - categorical_accuracy: 0.5977   \n",
      "Epoch 2/100\n",
      "1541/1541 [==============================] - 303s - loss: 0.9734 - categorical_accuracy: 0.6191   \n",
      "Epoch 3/100\n",
      "1541/1541 [==============================] - 289s - loss: 0.9264 - categorical_accuracy: 0.6308   \n",
      "Epoch 4/100\n",
      "1541/1541 [==============================] - 331s - loss: 0.9117 - categorical_accuracy: 0.6288   \n",
      "Epoch 5/100\n",
      "1541/1541 [==============================] - 293s - loss: 0.9274 - categorical_accuracy: 0.6262   \n",
      "Epoch 6/100\n",
      "1541/1541 [==============================] - 269s - loss: 0.9037 - categorical_accuracy: 0.6321   \n",
      "Epoch 7/100\n",
      "1541/1541 [==============================] - 293s - loss: 0.8951 - categorical_accuracy: 0.6282   \n",
      "Epoch 8/100\n",
      "1541/1541 [==============================] - 295s - loss: 0.8899 - categorical_accuracy: 0.6347   \n",
      "Epoch 9/100\n",
      "1541/1541 [==============================] - 299s - loss: 0.8706 - categorical_accuracy: 0.6372   \n",
      "Epoch 10/100\n",
      "1541/1541 [==============================] - 315s - loss: 0.8833 - categorical_accuracy: 0.6392   \n",
      "Epoch 11/100\n",
      "1541/1541 [==============================] - 324s - loss: 0.8613 - categorical_accuracy: 0.6353   \n",
      "Epoch 12/100\n",
      "1541/1541 [==============================] - 276s - loss: 0.8700 - categorical_accuracy: 0.6392   \n",
      "Epoch 13/100\n",
      "1541/1541 [==============================] - 263s - loss: 0.8611 - categorical_accuracy: 0.6424   \n",
      "Epoch 14/100\n",
      "1541/1541 [==============================] - 270s - loss: 0.8517 - categorical_accuracy: 0.6366   \n",
      "Epoch 15/100\n",
      "1541/1541 [==============================] - 279s - loss: 0.8509 - categorical_accuracy: 0.6392   \n",
      "Epoch 16/100\n",
      "1541/1541 [==============================] - 260s - loss: 0.8683 - categorical_accuracy: 0.6327   \n",
      "Epoch 17/100\n",
      "1541/1541 [==============================] - 304s - loss: 0.8641 - categorical_accuracy: 0.6418   \n",
      "Epoch 18/100\n",
      "1541/1541 [==============================] - 312s - loss: 0.8577 - categorical_accuracy: 0.6282   \n",
      "Epoch 19/100\n",
      "1541/1541 [==============================] - 348s - loss: 0.8644 - categorical_accuracy: 0.6353   \n",
      "Epoch 20/100\n",
      "1541/1541 [==============================] - 265s - loss: 0.8586 - categorical_accuracy: 0.6405   \n",
      "Epoch 21/100\n",
      "1541/1541 [==============================] - 281s - loss: 0.8504 - categorical_accuracy: 0.6489   \n",
      "Epoch 22/100\n",
      "1541/1541 [==============================] - 313s - loss: 0.8492 - categorical_accuracy: 0.6450   \n",
      "Epoch 23/100\n",
      "1541/1541 [==============================] - 278s - loss: 0.8452 - categorical_accuracy: 0.6411   \n",
      "Epoch 24/100\n",
      "1541/1541 [==============================] - 273s - loss: 0.8460 - categorical_accuracy: 0.6398   \n",
      "Epoch 25/100\n",
      "1541/1541 [==============================] - 308s - loss: 0.8466 - categorical_accuracy: 0.6398   \n",
      "Epoch 26/100\n",
      "1541/1541 [==============================] - 324s - loss: 0.8279 - categorical_accuracy: 0.6450   \n",
      "Epoch 27/100\n",
      "1541/1541 [==============================] - 299s - loss: 0.8231 - categorical_accuracy: 0.6496   \n",
      "Epoch 28/100\n",
      "1541/1541 [==============================] - 272s - loss: 0.8298 - categorical_accuracy: 0.6418   \n",
      "Epoch 29/100\n",
      "1541/1541 [==============================] - 270s - loss: 0.8386 - categorical_accuracy: 0.6450   \n",
      "Epoch 30/100\n",
      "1541/1541 [==============================] - 254s - loss: 0.8462 - categorical_accuracy: 0.6411   \n",
      "Epoch 31/100\n",
      "1541/1541 [==============================] - 255s - loss: 0.8311 - categorical_accuracy: 0.6522   \n",
      "Epoch 32/100\n",
      "1541/1541 [==============================] - 267s - loss: 0.8241 - categorical_accuracy: 0.6450   \n",
      "Epoch 33/100\n",
      "1541/1541 [==============================] - 323s - loss: 0.8214 - categorical_accuracy: 0.6483   \n",
      "Epoch 34/100\n",
      "1541/1541 [==============================] - 264s - loss: 0.8117 - categorical_accuracy: 0.6561   \n",
      "Epoch 35/100\n",
      "1541/1541 [==============================] - 256s - loss: 0.8282 - categorical_accuracy: 0.6398   \n",
      "Epoch 36/100\n",
      "1541/1541 [==============================] - 257s - loss: 0.8263 - categorical_accuracy: 0.6470   \n",
      "Epoch 37/100\n",
      "1541/1541 [==============================] - 288s - loss: 0.8053 - categorical_accuracy: 0.6509   \n",
      "Epoch 38/100\n",
      "1541/1541 [==============================] - 299s - loss: 0.8086 - categorical_accuracy: 0.6567   \n",
      "Epoch 39/100\n",
      "1541/1541 [==============================] - 272s - loss: 0.8069 - categorical_accuracy: 0.6528   \n",
      "Epoch 40/100\n",
      "1541/1541 [==============================] - 286s - loss: 0.8113 - categorical_accuracy: 0.6489   \n",
      "Epoch 41/100\n",
      "1541/1541 [==============================] - 289s - loss: 0.7960 - categorical_accuracy: 0.6613   \n",
      "Epoch 42/100\n",
      "1541/1541 [==============================] - 258s - loss: 0.7949 - categorical_accuracy: 0.6574   \n",
      "Epoch 43/100\n",
      "1541/1541 [==============================] - 286s - loss: 0.7907 - categorical_accuracy: 0.6587   \n",
      "Epoch 44/100\n",
      "1541/1541 [==============================] - 254s - loss: 0.8009 - categorical_accuracy: 0.6463   \n",
      "Epoch 45/100\n",
      "1541/1541 [==============================] - 255s - loss: 0.7838 - categorical_accuracy: 0.6606   \n",
      "Epoch 46/100\n",
      "1541/1541 [==============================] - 262s - loss: 0.7778 - categorical_accuracy: 0.6697   \n",
      "Epoch 47/100\n",
      "1541/1541 [==============================] - 362s - loss: 0.7855 - categorical_accuracy: 0.6626   \n",
      "Epoch 48/100\n",
      "1541/1541 [==============================] - 284s - loss: 0.7817 - categorical_accuracy: 0.6710   \n",
      "Epoch 49/100\n",
      "1541/1541 [==============================] - 276s - loss: 0.7580 - categorical_accuracy: 0.6729   \n",
      "Epoch 50/100\n",
      "1541/1541 [==============================] - 280s - loss: 0.7739 - categorical_accuracy: 0.6652   \n",
      "Epoch 51/100\n",
      "1541/1541 [==============================] - 283s - loss: 0.7790 - categorical_accuracy: 0.6587   \n",
      "Epoch 52/100\n",
      "1541/1541 [==============================] - 288s - loss: 0.7784 - categorical_accuracy: 0.6619   \n",
      "Epoch 53/100\n",
      "1541/1541 [==============================] - 279s - loss: 0.7624 - categorical_accuracy: 0.6827   \n",
      "Epoch 54/100\n",
      "1541/1541 [==============================] - 288s - loss: 0.7553 - categorical_accuracy: 0.6684   \n",
      "Epoch 55/100\n",
      "1541/1541 [==============================] - 257s - loss: 0.7581 - categorical_accuracy: 0.6781   \n",
      "Epoch 56/100\n",
      "1541/1541 [==============================] - 289s - loss: 0.7541 - categorical_accuracy: 0.6840   \n",
      "Epoch 57/100\n",
      "1541/1541 [==============================] - 268s - loss: 0.7644 - categorical_accuracy: 0.6716   \n",
      "Epoch 58/100\n",
      "1541/1541 [==============================] - 267s - loss: 0.7538 - categorical_accuracy: 0.6781   \n",
      "Epoch 59/100\n",
      "1541/1541 [==============================] - 272s - loss: 0.7541 - categorical_accuracy: 0.6827   \n",
      "Epoch 60/100\n",
      "1541/1541 [==============================] - 304s - loss: 0.7573 - categorical_accuracy: 0.6762   \n",
      "Epoch 61/100\n",
      "1541/1541 [==============================] - 301s - loss: 0.7450 - categorical_accuracy: 0.6892   \n",
      "Epoch 62/100\n",
      "1541/1541 [==============================] - 278s - loss: 0.7381 - categorical_accuracy: 0.6762   \n",
      "Epoch 63/100\n",
      "1541/1541 [==============================] - 266s - loss: 0.7476 - categorical_accuracy: 0.6827   \n",
      "Epoch 64/100\n",
      "1541/1541 [==============================] - 266s - loss: 0.7462 - categorical_accuracy: 0.6820   \n",
      "Epoch 65/100\n",
      "1541/1541 [==============================] - 266s - loss: 0.7421 - categorical_accuracy: 0.6814   \n",
      "Epoch 66/100\n",
      "1541/1541 [==============================] - 286s - loss: 0.7306 - categorical_accuracy: 0.6781   \n",
      "Epoch 67/100\n",
      "1541/1541 [==============================] - 317s - loss: 0.7352 - categorical_accuracy: 0.6879   \n",
      "Epoch 68/100\n",
      "1541/1541 [==============================] - 337s - loss: 0.7149 - categorical_accuracy: 0.7008   \n",
      "Epoch 69/100\n",
      "1541/1541 [==============================] - 351s - loss: 0.7117 - categorical_accuracy: 0.6892   \n",
      "Epoch 70/100\n",
      "1541/1541 [==============================] - 291s - loss: 0.7045 - categorical_accuracy: 0.7112   \n",
      "Epoch 71/100\n",
      "1541/1541 [==============================] - 262s - loss: 0.6990 - categorical_accuracy: 0.7073   \n",
      "Epoch 72/100\n",
      "1541/1541 [==============================] - 275s - loss: 0.7143 - categorical_accuracy: 0.6885   \n",
      "Epoch 73/100\n",
      "1541/1541 [==============================] - 316s - loss: 0.6949 - categorical_accuracy: 0.6976   \n",
      "Epoch 74/100\n",
      "1541/1541 [==============================] - 317s - loss: 0.6975 - categorical_accuracy: 0.6931   \n",
      "Epoch 75/100\n",
      "1541/1541 [==============================] - 291s - loss: 0.7023 - categorical_accuracy: 0.6963   \n",
      "Epoch 76/100\n",
      "1541/1541 [==============================] - 268s - loss: 0.6764 - categorical_accuracy: 0.7145   \n",
      "Epoch 77/100\n",
      "1541/1541 [==============================] - 262s - loss: 0.6956 - categorical_accuracy: 0.7021   \n",
      "Epoch 78/100\n",
      "1541/1541 [==============================] - 305s - loss: 0.6875 - categorical_accuracy: 0.7054   \n",
      "Epoch 79/100\n",
      "1541/1541 [==============================] - 297s - loss: 0.6806 - categorical_accuracy: 0.7034   \n",
      "Epoch 80/100\n",
      "1541/1541 [==============================] - 341s - loss: 0.6673 - categorical_accuracy: 0.7229   \n",
      "Epoch 81/100\n",
      "1541/1541 [==============================] - 281s - loss: 0.6715 - categorical_accuracy: 0.7138   \n",
      "Epoch 82/100\n",
      "1541/1541 [==============================] - 298s - loss: 0.6676 - categorical_accuracy: 0.7171   \n",
      "Epoch 83/100\n",
      "1541/1541 [==============================] - 319s - loss: 0.6635 - categorical_accuracy: 0.7184   \n",
      "Epoch 84/100\n",
      "1541/1541 [==============================] - 268s - loss: 0.6662 - categorical_accuracy: 0.7177   \n",
      "Epoch 85/100\n",
      "1541/1541 [==============================] - 285s - loss: 0.6558 - categorical_accuracy: 0.7164   \n",
      "Epoch 86/100\n",
      "1541/1541 [==============================] - 279s - loss: 0.6576 - categorical_accuracy: 0.7197   \n",
      "Epoch 87/100\n",
      "1541/1541 [==============================] - 296s - loss: 0.6516 - categorical_accuracy: 0.7223   \n",
      "Epoch 88/100\n",
      "1541/1541 [==============================] - 309s - loss: 0.6336 - categorical_accuracy: 0.7262   \n",
      "Epoch 89/100\n",
      "1541/1541 [==============================] - 303s - loss: 0.6630 - categorical_accuracy: 0.7171   \n",
      "Epoch 90/100\n",
      "1541/1541 [==============================] - 290s - loss: 0.6215 - categorical_accuracy: 0.7456   \n",
      "Epoch 91/100\n",
      "1541/1541 [==============================] - 268s - loss: 0.6196 - categorical_accuracy: 0.7268   \n",
      "Epoch 92/100\n",
      "1541/1541 [==============================] - 264s - loss: 0.6303 - categorical_accuracy: 0.7229   \n",
      "Epoch 93/100\n",
      "1541/1541 [==============================] - 280s - loss: 0.6186 - categorical_accuracy: 0.7268   \n",
      "Epoch 94/100\n",
      "1541/1541 [==============================] - 281s - loss: 0.6366 - categorical_accuracy: 0.7294   \n",
      "Epoch 95/100\n",
      "1541/1541 [==============================] - 281s - loss: 0.6234 - categorical_accuracy: 0.7294   \n",
      "Epoch 96/100\n",
      "1541/1541 [==============================] - 290s - loss: 0.6274 - categorical_accuracy: 0.7268   \n",
      "Epoch 97/100\n",
      "1541/1541 [==============================] - 299s - loss: 0.5964 - categorical_accuracy: 0.7482   \n",
      "Epoch 98/100\n",
      "1541/1541 [==============================] - 307s - loss: 0.6083 - categorical_accuracy: 0.7430   \n",
      "Epoch 99/100\n",
      "1541/1541 [==============================] - 331s - loss: 0.6240 - categorical_accuracy: 0.7313   \n",
      "Epoch 100/100\n",
      "1541/1541 [==============================] - 315s - loss: 0.6154 - categorical_accuracy: 0.7320   \n",
      "Test accuracy: 59.25925925925925\n"
     ]
    }
   ],
   "source": [
    "ids = list(range(len(sentences)))\n",
    "shuffle(ids)\n",
    "P_TRAIN = .75\n",
    "N_TRAIN = int(round(P_TRAIN * len(sent_label),0))\n",
    "train_ids = ids[:N_TRAIN]\n",
    "test_ids = ids[(N_TRAIN + 1):]\n",
    "train_sents, train_labels = zip(*[(sent_classified[train_id], sent_label[train_id]) for train_id in train_ids])\n",
    "test_sents, test_labels = zip(*[(sent_classified[test_id], sent_label[test_id]) for test_id in test_ids])\n",
    "\n",
    "# add padding so that all of the sentences have the same length\n",
    "train_sents = sequence.pad_sequences(train_sents, maxlen=max_sentence_length)\n",
    "test_sents = sequence.pad_sequences(test_sents, maxlen=max_sentence_length)\n",
    "train_labels = to_categorical(train_labels)\n",
    "test_labels = to_categorical(test_labels)\n",
    "\n",
    "# create the model\n",
    "model = Sequential()\n",
    "model.add(Embedding(V_total, dim, weights=[embedding_matrix],\n",
    "                    input_length=max_sentence_length, trainable=False))\n",
    "model.add(Dropout(0.5))\n",
    "model.add(LSTM(LSTM_UNITS))\n",
    "model.add(Dense(3, activation='softmax'))\n",
    "\n",
    "# Compile model\n",
    "model.compile(loss='categorical_crossentropy', optimizer=optim, metrics=['categorical_accuracy'])\n",
    "print(model.summary())\n",
    "\n",
    "# Final evaluation of the model\n",
    "model.fit(train_sents, train_labels, epochs=NUM_EPOCHS, batch_size=32)\n",
    "scores = model.evaluate(test_sents, test_labels, verbose=0)\n",
    "print(\"Test accuracy: {}\".format(scores[1]*100))"
   ]
  },
  {
   "cell_type": "code",
   "execution_count": 25,
   "metadata": {
    "collapsed": false
   },
   "outputs": [],
   "source": [
    "training_prediction = model.predict(train_sents)"
   ]
  },
  {
   "cell_type": "code",
   "execution_count": 26,
   "metadata": {
    "collapsed": false
   },
   "outputs": [],
   "source": [
    "pred_classes = np.argmax(training_prediction, axis = 1)\n",
    "p = 0\n",
    "neu = 0\n",
    "neg = 0\n",
    "for i in pred_classes:\n",
    "    if i == 0:\n",
    "        p += 1\n",
    "    elif i == 1:\n",
    "        neu += 1\n",
    "    else:\n",
    "        neg += 1"
   ]
  },
  {
   "cell_type": "code",
   "execution_count": 27,
   "metadata": {
    "collapsed": false
   },
   "outputs": [
    {
     "data": {
      "text/plain": [
       "[300, 1083, 158]"
      ]
     },
     "execution_count": 27,
     "metadata": {},
     "output_type": "execute_result"
    }
   ],
   "source": [
    "[p,neu,neg]"
   ]
  },
  {
   "cell_type": "code",
   "execution_count": 28,
   "metadata": {
    "collapsed": false
   },
   "outputs": [],
   "source": [
    "true_classes = np.argmax(train_labels, axis=1)\n",
    "p = 0\n",
    "neu = 0\n",
    "neg = 0\n",
    "for i in true_classes:\n",
    "    if i == 0:\n",
    "        p += 1\n",
    "    elif i == 1:\n",
    "        neu += 1\n",
    "    else:\n",
    "        neg += 1"
   ]
  },
  {
   "cell_type": "code",
   "execution_count": 29,
   "metadata": {
    "collapsed": false
   },
   "outputs": [
    {
     "data": {
      "text/plain": [
       "[333, 980, 228]"
      ]
     },
     "execution_count": 29,
     "metadata": {},
     "output_type": "execute_result"
    }
   ],
   "source": [
    "[p, neu, neg]"
   ]
  },
  {
   "cell_type": "code",
   "execution_count": 30,
   "metadata": {
    "collapsed": false
   },
   "outputs": [],
   "source": [
    "with open('pred_true_30k.csv','w') as outfile:\n",
    "    for i in range(len(true_classes)):\n",
    "        if i == 0:\n",
    "            print('true,predicted', file=outfile)\n",
    "        print('{0},{1}'.format(true_classes[i],pred_classes[i]), file=outfile)"
   ]
  },
  {
   "cell_type": "code",
   "execution_count": 61,
   "metadata": {
    "collapsed": false
   },
   "outputs": [
    {
     "name": "stdout",
     "output_type": "stream",
     "text": [
      "0.7769130998702983\n"
     ]
    }
   ],
   "source": [
    "correct = 0\n",
    "incorrect = 0\n",
    "total = 0\n",
    "for item in open('pred_true_30k.csv','r'):\n",
    "    total += 1\n",
    "    true, predicted = item.split(\",\")\n",
    "    true = str(true[0])\n",
    "    predicted = str(predicted[0])\n",
    "    if true == predicted:\n",
    "        correct += 1 \n",
    "    else:\n",
    "        #print (true, predicted, true==predicted)\n",
    "        incorrect += 1\n",
    "    \n",
    "print (correct/total)"
   ]
  },
  {
   "cell_type": "code",
   "execution_count": null,
   "metadata": {
    "collapsed": true
   },
   "outputs": [],
   "source": []
  }
 ],
 "metadata": {
  "anaconda-cloud": {},
  "kernelspec": {
   "display_name": "Python 3",
   "language": "python",
   "name": "python3"
  },
  "language_info": {
   "codemirror_mode": {
    "name": "ipython",
    "version": 3
   },
   "file_extension": ".py",
   "mimetype": "text/x-python",
   "name": "python",
   "nbconvert_exporter": "python",
   "pygments_lexer": "ipython3",
   "version": "3.5.1"
  }
 },
 "nbformat": 4,
 "nbformat_minor": 2
}
