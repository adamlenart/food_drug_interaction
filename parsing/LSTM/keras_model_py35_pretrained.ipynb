{
 "cells": [
  {
   "cell_type": "markdown",
   "metadata": {},
   "source": [
    "# Model estimation"
   ]
  },
  {
   "cell_type": "code",
   "execution_count": 178,
   "metadata": {
    "collapsed": false
   },
   "outputs": [],
   "source": [
    "import numpy as np\n",
    "from random import shuffle\n",
    "import sys,os, pickle, jellyfish\n",
    "from collections import defaultdict\n",
    "from collections import Counter\n",
    "from keras.models import Sequential\n",
    "from keras.layers import Dense\n",
    "from keras.layers import LSTM\n",
    "from keras.layers.embeddings import Embedding\n",
    "from keras.preprocessing import sequence\n",
    "from keras.preprocessing import text\n",
    "from keras.utils.np_utils import to_categorical\n",
    "from keras import optimizers\n",
    "\n",
    "\n",
    "# ------------------------ helper functions -------------------------- #\n",
    "\n",
    "def get_parent_dir(directory):\n",
    "    '''Returns the parent directory of the current one'''\n",
    "    return os.path.dirname(directory)\n",
    "\n",
    "\n",
    "# ------------------------ functions for processing the text ---------- #\n",
    "def make_digit(word):\n",
    "    '''Transforms string labels to digits'''\n",
    "    if word == 'positive':\n",
    "        return int(0)\n",
    "    elif word == 'neutral':\n",
    "        return int(1)\n",
    "    elif word == 'negative':\n",
    "        return int(2)\n",
    "    else:\n",
    "        '{} is neither positive, neutral or negative'.format(word)\n",
    "        \n",
    "def get_word_ids(sentence, vocabulary):\n",
    "    '''Returns index in the vocabulary for each word of the sentence.'''\n",
    "    words = text.text_to_word_sequence(sentence)\n",
    "    return [vocabulary.index(x) if x in vocabulary else len(vocabulary) for x in words]\n",
    "\n",
    "current_dirs_parent = get_parent_dir(os.getcwd())"
   ]
  },
  {
   "cell_type": "markdown",
   "metadata": {},
   "source": [
    "### read in vocabulary and word-vector files"
   ]
  },
  {
   "cell_type": "code",
   "execution_count": 11,
   "metadata": {
    "collapsed": false
   },
   "outputs": [
    {
     "name": "stdout",
     "output_type": "stream",
     "text": [
      "4929266\n"
     ]
    }
   ],
   "source": [
    "vocabulary = []\n",
    "occurrences = {}\n",
    "\n",
    "with open('/media/adam/Data/BioNLP/ri-3gram-400-tsv/vocab.tsv') as vocabulary_file:\n",
    "    for line in vocabulary_file:\n",
    "        word, occurrence = line.strip().split('\\t')\n",
    "        vocabulary.append(word)\n",
    "        occurrences[word] = occurrence\n",
    "\n",
    "\n",
    "\n",
    "print(len(vocabulary))\n"
   ]
  },
  {
   "cell_type": "code",
   "execution_count": null,
   "metadata": {
    "collapsed": true
   },
   "outputs": [],
   "source": [
    "embeddings_index = {}\n",
    "with open('/media/adam/Data/BioNLP/ri-3gram-400-tsv/vectors.tsv') as embedding_file:\n",
    "    for i, line in enumerate(embedding_file):\n",
    "        values = line.strip().split('\\t')\n",
    "        vector = np.asarray(values, dtype='float32')\n",
    "        embeddings_index[vocabulary[i]] = vector"
   ]
  },
  {
   "cell_type": "code",
   "execution_count": 5,
   "metadata": {
    "collapsed": false
   },
   "outputs": [],
   "source": [
    "#pickle.dump(embeddings_index, open('/media/adam/Data/BioNLP/embeddings_index.pickle','wb'))\n",
    "embeddings_index = pickle.load(open('/media/adam/Data/BioNLP/embeddings_index.pickle','rb'))"
   ]
  },
  {
   "cell_type": "markdown",
   "metadata": {},
   "source": [
    "### Read-in compounds in order to add them to vocabulary"
   ]
  },
  {
   "cell_type": "code",
   "execution_count": 175,
   "metadata": {
    "collapsed": false
   },
   "outputs": [],
   "source": [
    "compounds = Counter()\n",
    "\n",
    "       \n",
    "with open(current_dirs_parent + '/data/labeled_dataAll.tsv', 'r') as labelled_sents: \n",
    "    for num, line in enumerate(labelled_sents):\n",
    "        _,label,_,_,compound, sent = line.strip().split('\\t')\n",
    "        compounds[compound] += 1\n",
    "        # here we could canonicalize\n"
   ]
  },
  {
   "cell_type": "code",
   "execution_count": 83,
   "metadata": {
    "collapsed": false
   },
   "outputs": [
    {
     "name": "stdout",
     "output_type": "stream",
     "text": [
      "[('l-dopa', 16), ('styrene', 14), ('pectin', 14), ('glycyrrhizin', 13), ('sodium nitrite', 12), ('procyanidin', 12), ('vinegar', 12), ('lard', 12), ('genistein', 11), ('oncorhynchus', 11)]\n"
     ]
    },
    {
     "data": {
      "text/plain": [
       "886"
      ]
     },
     "execution_count": 83,
     "metadata": {},
     "output_type": "execute_result"
    }
   ],
   "source": [
    "print(compounds.most_common(10))\n",
    "len(compounds)"
   ]
  },
  {
   "cell_type": "markdown",
   "metadata": {},
   "source": [
    "### pre-trained embeddings for the compounds\n",
    "\n",
    "If there is more than one alternative (alternative specified by JW distance > .95), than take weighted average of the word vectors, weighted by number of occurences of the compound in the corpus."
   ]
  },
  {
   "cell_type": "code",
   "execution_count": 58,
   "metadata": {
    "collapsed": false
   },
   "outputs": [],
   "source": [
    "i = 0\n",
    "compound_index = {}\n",
    "for compound in compounds:\n",
    "    # the word vectors are 400 long\n",
    "    compound_embedding = np.zeros(400)\n",
    "    num_alternatives = 0\n",
    "    occurrence_total = 0\n",
    "    for i, word in enumerate(vocabulary):\n",
    "        # take weighted average (element-wise) of the word vectors, weighted by the occurrences of the compound in corpus\n",
    "        if jellyfish.jaro_winkler(compound, word) > 0.95:\n",
    "            compound_embedding += embeddings_index[word]*int(occurrences[word])\n",
    "            num_alternatives += 1\n",
    "            occurrence_total += int(occurrences[word])\n",
    "            \n",
    "    compound_index[compound] = compound_embedding/(num_alternatives*occurrence_total)\n"
   ]
  },
  {
   "cell_type": "code",
   "execution_count": 8,
   "metadata": {
    "collapsed": false
   },
   "outputs": [],
   "source": [
    "#pickle.dump(compound_index, open('/media/adam/Data/BioNLP/compound_index.pickle','wb'))\n",
    "compound_index = pickle.load(open('/media/adam/Data/BioNLP/compound_index.pickle','rb'))"
   ]
  },
  {
   "cell_type": "markdown",
   "metadata": {},
   "source": [
    "Should have paid more attention to zero division above, rewrite the vectors to 0s if they are np.nans "
   ]
  },
  {
   "cell_type": "code",
   "execution_count": 9,
   "metadata": {
    "collapsed": false
   },
   "outputs": [
    {
     "data": {
      "text/plain": [
       "693"
      ]
     },
     "execution_count": 9,
     "metadata": {},
     "output_type": "execute_result"
    }
   ],
   "source": [
    "temp_compounds = {}\n",
    "for k,v in compound_index.items():\n",
    "    if any(np.isnan(v)):\n",
    "        continue\n",
    "    temp_compounds[k] = v\n",
    "len(temp_compounds)"
   ]
  },
  {
   "cell_type": "markdown",
   "metadata": {},
   "source": [
    "Before finding alternative spellings, there were 581 compounds found of our 886, after JW distance alternatives, we have 693. As it doesn't take much time and improves visibility, in another step, let's take out those compounds which are in the top 20k of the vocabulary."
   ]
  },
  {
   "cell_type": "code",
   "execution_count": 139,
   "metadata": {
    "collapsed": false
   },
   "outputs": [],
   "source": [
    "V = 20000\n",
    "j = 0\n",
    "final_compounds = {}\n",
    "for compound, vector in temp_compounds.items():\n",
    "    if compound not in vocabulary[:V]:\n",
    "        final_compounds[compound] = vector\n",
    "V_total = V + len(final_compounds) + 1"
   ]
  },
  {
   "cell_type": "code",
   "execution_count": 140,
   "metadata": {
    "collapsed": false
   },
   "outputs": [],
   "source": [
    "dim = 400\n",
    "\n",
    "vocab_final = []\n",
    "embedding_matrix = np.zeros((V, dim))\n",
    "for i, word in enumerate(vocabulary[:V]):\n",
    "    embedding_matrix[i] = embeddings_index[word]\n",
    "    vocab_final.append(word)\n",
    "\n",
    "    \n",
    "final_compound_matrix = np.zeros((len(final_compounds), dim))\n",
    "for i, item in enumerate(final_compounds.items()):\n",
    "    compound, vector = item\n",
    "    final_compound_matrix[i] = vector\n",
    "    vocab_final.append(compound)\n",
    "\n",
    "# stack top 20k words, compounds not found among the 20k words and a\n",
    "# vector of zeros for the words not in the vocabulary    \n",
    "embedding_matrix = np.vstack([embedding_matrix, final_compound_matrix, np.zeros(dim)])\n",
    "assert embedding_matrix.shape == (V_total, dim)"
   ]
  },
  {
   "cell_type": "markdown",
   "metadata": {},
   "source": [
    "### Prepare sentences for analysis\n",
    "Most importantly, change the words in the sentences to indeces corresponding to the rows of the embedding matrix."
   ]
  },
  {
   "cell_type": "code",
   "execution_count": 173,
   "metadata": {
    "collapsed": false
   },
   "outputs": [],
   "source": [
    "labels = defaultdict(list)\n",
    "sent_classified = list()\n",
    "sentences = defaultdict(list)\n",
    "sent_label = list()\n",
    "max_sentence_length = 0\n",
    "\n",
    "with open(current_dirs_parent + '/data/labeled_dataAll.tsv', 'r') as labelled_sents: \n",
    "    for num, line in enumerate(labelled_sents):\n",
    "        if num == 0: continue\n",
    "        _,label,_,_,compound, sent = line.strip().split('\\t')\n",
    "        labels[num-1] = label.lower()\n",
    "        sentences[num-1] = sent.lower()\n",
    "        try:\n",
    "            sent_label.append(make_digit(label.strip()))\n",
    "            max_sentence_length = np.max([max_sentence_length, len(sent.split(' '))])\n",
    "            sent_classified.append(get_word_ids(sent, vocab_final))\n",
    "        except KeyError:\n",
    "            pass"
   ]
  },
  {
   "cell_type": "markdown",
   "metadata": {},
   "source": [
    "### Train-test split e.g., on 75%-25%, and we should cross validate but we have so few sentences, that i just wanted to check whether it works"
   ]
  },
  {
   "cell_type": "code",
   "execution_count": 207,
   "metadata": {
    "collapsed": true
   },
   "outputs": [],
   "source": [
    "ids = list(range(len(sentences)))\n",
    "shuffle(ids)\n",
    "P_TRAIN = .75\n",
    "N_TRAIN = int(round(P_TRAIN * len(sent_label),0))\n",
    "train_ids = ids[:N_TRAIN]\n",
    "test_ids = ids[(N_TRAIN + 1):]\n",
    "train_sents, train_labels = zip(*[(sent_classified[train_id], sent_label[train_id]) for train_id in train_ids])\n",
    "test_sents, test_labels = zip(*[(sent_classified[test_id], sent_label[test_id]) for test_id in test_ids])"
   ]
  },
  {
   "cell_type": "markdown",
   "metadata": {},
   "source": [
    "## Trainable parameters/settings"
   ]
  },
  {
   "cell_type": "code",
   "execution_count": 208,
   "metadata": {
    "collapsed": true
   },
   "outputs": [],
   "source": [
    "LSTM_UNITS = 300\n",
    "NUM_EPOCHS = 5\n",
    "optim = optimizers.Adam(lr=0.01, beta_1=0.9, beta_2=0.999, epsilon=1e-08, decay=0.0)"
   ]
  },
  {
   "cell_type": "markdown",
   "metadata": {},
   "source": [
    "### Fit model\n",
    "\n",
    "Here I pad the sentences to max sentence length but maybe we could truncate?"
   ]
  },
  {
   "cell_type": "code",
   "execution_count": null,
   "metadata": {
    "collapsed": false
   },
   "outputs": [
    {
     "name": "stdout",
     "output_type": "stream",
     "text": [
      "_________________________________________________________________\n",
      "Layer (type)                 Output Shape              Param #   \n",
      "=================================================================\n",
      "embedding_25 (Embedding)     (None, 665, 400)          8221600   \n",
      "_________________________________________________________________\n",
      "lstm_24 (LSTM)               (None, 300)               841200    \n",
      "_________________________________________________________________\n",
      "dense_24 (Dense)             (None, 3)                 903       \n",
      "=================================================================\n",
      "Total params: 9,063,703\n",
      "Trainable params: 842,103\n",
      "Non-trainable params: 8,221,600\n",
      "_________________________________________________________________\n",
      "None\n",
      "Epoch 1/5\n",
      "1853/1853 [==============================] - 231s - loss: 1.0038 - acc: 0.6163   \n",
      "Epoch 2/5\n",
      " 384/1853 [=====>........................] - ETA: 180s - loss: 0.8947 - acc: 0.6562"
     ]
    }
   ],
   "source": [
    "# add padding so that all of the sentences have the same length\n",
    "train_sents = sequence.pad_sequences(train_sents, maxlen=max_sentence_length)\n",
    "test_sents = sequence.pad_sequences(test_sents, maxlen=max_sentence_length)\n",
    "train_labels = to_categorical(train_labels)\n",
    "test_labels = to_categorical(test_labels)\n",
    "\n",
    "# create the model\n",
    "model = Sequential()\n",
    "model.add(Embedding(V_total, dim, weights=[embedding_matrix],\n",
    "                    input_length=max_sentence_length, trainable=False))\n",
    "model.add(LSTM(LSTM_UNITS))\n",
    "model.add(Dense(3, activation='softmax'))\n",
    "\n",
    "# Compile model\n",
    "model.compile(loss='categorical_crossentropy', optimizer=optim, metrics=['accuracy'])\n",
    "print(model.summary())\n",
    "\n",
    "# Final evaluation of the model\n",
    "model.fit(train_sents, train_labels, epochs=NUM_EPOCHS, batch_size=32)\n",
    "scores = model.evaluate(test_sents, test_labels, verbose=0)\n",
    "print(\"Test accuracy: {}\".format(scores[1]*100))"
   ]
  },
  {
   "cell_type": "code",
   "execution_count": null,
   "metadata": {
    "collapsed": true
   },
   "outputs": [],
   "source": []
  }
 ],
 "metadata": {
  "anaconda-cloud": {},
  "kernelspec": {
   "display_name": "Python [conda root]",
   "language": "python",
   "name": "conda-root-py"
  },
  "language_info": {
   "codemirror_mode": {
    "name": "ipython",
    "version": 3
   },
   "file_extension": ".py",
   "mimetype": "text/x-python",
   "name": "python",
   "nbconvert_exporter": "python",
   "pygments_lexer": "ipython3",
   "version": "3.5.2"
  }
 },
 "nbformat": 4,
 "nbformat_minor": 2
}
