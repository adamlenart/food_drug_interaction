{
 "cells": [
  {
   "cell_type": "markdown",
   "metadata": {},
   "source": [
    "# Baseline : Food-drug Interaction Project"
   ]
  },
  {
   "cell_type": "markdown",
   "metadata": {},
   "source": [
    "# Step 1: Load food names or compounds into a list of unique items"
   ]
  },
  {
   "cell_type": "markdown",
   "metadata": {},
   "source": [
    "### Option 1 (not used): directly load csv data in Pandas dataframe"
   ]
  },
  {
   "cell_type": "code",
   "execution_count": 1,
   "metadata": {
    "collapsed": true
   },
   "outputs": [],
   "source": [
    "import pandas as pd\n",
    "import numpy as np\n",
    "import json"
   ]
  },
  {
   "cell_type": "code",
   "execution_count": 46,
   "metadata": {},
   "outputs": [],
   "source": [
    "db_food = pd.read_csv(\"data/contents copy.csv\", encoding = 'utf8')"
   ]
  },
  {
   "cell_type": "code",
   "execution_count": 47,
   "metadata": {},
   "outputs": [
    {
     "data": {
      "text/html": [
       "<div>\n",
       "<table border=\"1\" class=\"dataframe\">\n",
       "  <thead>\n",
       "    <tr style=\"text-align: right;\">\n",
       "      <th></th>\n",
       "      <th>id</th>\n",
       "      <th>orig_food_common_name</th>\n",
       "    </tr>\n",
       "  </thead>\n",
       "  <tbody>\n",
       "    <tr>\n",
       "      <th>0</th>\n",
       "      <td>1</td>\n",
       "      <td>Kiwi</td>\n",
       "    </tr>\n",
       "    <tr>\n",
       "      <th>1</th>\n",
       "      <td>2</td>\n",
       "      <td>Onion</td>\n",
       "    </tr>\n",
       "    <tr>\n",
       "      <th>2</th>\n",
       "      <td>3</td>\n",
       "      <td>Onion</td>\n",
       "    </tr>\n",
       "    <tr>\n",
       "      <th>3</th>\n",
       "      <td>4</td>\n",
       "      <td>Chives</td>\n",
       "    </tr>\n",
       "    <tr>\n",
       "      <th>4</th>\n",
       "      <td>5</td>\n",
       "      <td>Cashew</td>\n",
       "    </tr>\n",
       "  </tbody>\n",
       "</table>\n",
       "</div>"
      ],
      "text/plain": [
       "   id orig_food_common_name\n",
       "0   1                  Kiwi\n",
       "1   2                 Onion\n",
       "2   3                 Onion\n",
       "3   4                Chives\n",
       "4   5                Cashew"
      ]
     },
     "execution_count": 47,
     "metadata": {},
     "output_type": "execute_result"
    }
   ],
   "source": [
    "db_food.head()"
   ]
  },
  {
   "cell_type": "code",
   "execution_count": 48,
   "metadata": {
    "collapsed": true
   },
   "outputs": [],
   "source": [
    "food = db_food[\"orig_food_common_name\"].tolist()  # somehow, converting to a set instead of list didn't work..."
   ]
  },
  {
   "cell_type": "code",
   "execution_count": 49,
   "metadata": {},
   "outputs": [
    {
     "data": {
      "text/plain": [
       "1048575"
      ]
     },
     "execution_count": 49,
     "metadata": {},
     "output_type": "execute_result"
    }
   ],
   "source": [
    "len(food)"
   ]
  },
  {
   "cell_type": "code",
   "execution_count": 87,
   "metadata": {},
   "outputs": [],
   "source": [
    "foodlist = set()\n",
    "\n",
    "for f in food:\n",
    "    for term in str(f).lower().split(\",\"):\n",
    "        if len(term) >=3:  # in case some single letter or determinant is included?\n",
    "            foodlist.add(term.strip())\n",
    "\n"
   ]
  },
  {
   "cell_type": "code",
   "execution_count": 68,
   "metadata": {},
   "outputs": [
    {
     "name": "stdout",
     "output_type": "stream",
     "text": [
      "smart balance light buttery spread\n",
      "yellow\n",
      "baking chocolate\n",
      "swiss chard stems [red]\n",
      "low salt (includes oyster\n",
      "dry mix\n",
      "diet strawberry kiwi\n",
      "chocolate sandwich\n",
      "endive [escarole]\n",
      "no cholesterol\n",
      "ready -to-heat\n",
      "pancakes plain\n",
      "standard-type\n",
      "immature seeds\n",
      "chocolate cake\n",
      "taco with chicken\n",
      "regular (10 minute)\n",
      "pepeao\n",
      "broiler\n",
      "wholemeal\n",
      "broiled\n"
     ]
    }
   ],
   "source": [
    "i = 0\n",
    "for f in foodlist:\n",
    "    print f\n",
    "    i += 1\n",
    "    if i >20:\n",
    "        break"
   ]
  },
  {
   "cell_type": "code",
   "execution_count": 69,
   "metadata": {},
   "outputs": [
    {
     "data": {
      "text/plain": [
       "6143"
      ]
     },
     "execution_count": 69,
     "metadata": {},
     "output_type": "execute_result"
    }
   ],
   "source": [
    "len(foodlist)"
   ]
  },
  {
   "cell_type": "code",
   "execution_count": 70,
   "metadata": {
    "collapsed": true
   },
   "outputs": [],
   "source": [
    "with codecs.open(\"foodlist.txt\", \"w\", \"utf-8\") as fdlist:\n",
    "    for item in foodlist:\n",
    "        fdlist.write(item + \"\\n\")"
   ]
  },
  {
   "cell_type": "markdown",
   "metadata": {},
   "source": [
    "### Option 2: Using Adam's pickle file (food common name as sample)"
   ]
  },
  {
   "cell_type": "markdown",
   "metadata": {},
   "source": [
    "For pickling the data from foodb.ca database, see Adam's notebook **compound_food_id.ipynb**  \n",
    "\n",
    "As a first test, we will use only the food common name (not scientific name) only. Compounds names will be added once this test passes."
   ]
  },
  {
   "cell_type": "code",
   "execution_count": 115,
   "metadata": {},
   "outputs": [],
   "source": [
    "import pickle\n",
    "\n",
    "# food_common.pickle: Dictionary with common English food names as keys, compounds as values\n",
    "test = pickle.load(open( \"data/food_common.pickle\", \"rb\"))"
   ]
  },
  {
   "cell_type": "code",
   "execution_count": 101,
   "metadata": {},
   "outputs": [
    {
     "name": "stdout",
     "output_type": "stream",
     "text": [
      "food name\n",
      "----------\n",
      "Oregon yampah\n",
      "Okra\n",
      "Black mulberry\n",
      "Avocado\n",
      "Parsley\n",
      "Elderberry\n",
      "Sugar\n",
      "Sweet bay\n",
      "Common bean\n",
      "Fig\n",
      "Lard\n"
     ]
    }
   ],
   "source": [
    "for i, item in enumerate(test.iteritems()):\n",
    "    if i == 0:\n",
    "        print 'food name'\n",
    "        print '-'*10\n",
    "    print '{0}'.format(item[0])\n",
    "    if i == 10: break"
   ]
  },
  {
   "cell_type": "code",
   "execution_count": 104,
   "metadata": {
    "collapsed": true
   },
   "outputs": [],
   "source": [
    "foodlist_test = set(test.keys())  # Will work with a set rather than a list. Faster search for later (hash)"
   ]
  },
  {
   "cell_type": "code",
   "execution_count": 116,
   "metadata": {
    "collapsed": true
   },
   "outputs": [],
   "source": [
    "with open(\"foodlist.txt\", \"w\") as fdlist:\n",
    "    for item in foodlist_test:\n",
    "        fdlist.write(item + \"\\n\")"
   ]
  },
  {
   "cell_type": "code",
   "execution_count": 132,
   "metadata": {},
   "outputs": [],
   "source": [
    "# Problem: there are 2 words with unusual symbols (dragee, cupuacu) and have been modified in the file and renamed\n",
    "# as \"foodlisr2.txt\"\n",
    "# Any ideas how to deal with this without changing the file manually?? Looks like codecs does not work on pickle file\n",
    "\n",
    "foodlist = set()\n",
    "\n",
    "with open(\"foodlist2.txt\", \"r\") as fdlist2:\n",
    "    for line in fdlist2:\n",
    "        foodlist.add(str(line).lower().strip())\n"
   ]
  },
  {
   "cell_type": "markdown",
   "metadata": {},
   "source": [
    "# Step 2: Filter sentences from abstract with drug keyword and food names"
   ]
  },
  {
   "cell_type": "markdown",
   "metadata": {},
   "source": [
    "Note: Test with only the abstracts' first json file. Once works, we can add all 100 remaining files."
   ]
  },
  {
   "cell_type": "code",
   "execution_count": 147,
   "metadata": {
    "collapsed": true
   },
   "outputs": [],
   "source": [
    "import pyspark\n",
    "from pyspark import SparkContext\n",
    "sc = SparkContext()"
   ]
  },
  {
   "cell_type": "code",
   "execution_count": 52,
   "metadata": {},
   "outputs": [],
   "source": [
    "import json\n",
    "# UTF-8 support\n",
    "import codecs\n",
    "\n",
    "name = \"pbabstract1.json\"\n",
    "with codecs.open(name,\"r\",\"utf-8\") as data_file:\n",
    "    data = json.load(data_file)\n",
    "abstractRDD = sc.parallelize(data.values())  # To load only the values and not the key (ID number)"
   ]
  },
  {
   "cell_type": "code",
   "execution_count": 29,
   "metadata": {},
   "outputs": [
    {
     "data": {
      "text/plain": [
       "[u'Heart failure still has a significant disease burden with poor outcomes worldwide despite advances in therapy. The standard therapies have been focused on blockade of renin-angiotensin-aldosterone system with angiotensin-converting enzyme inhibitors, angiotensin receptor blockers and mineralocorticoid antagonists and the sympathetic nervous system with \\u03b2-blockers. The natriuretic peptide system is a potential counter-regulatory system that promotes vasodilatation and natriuresis. Angiotensin receptor neprilysin inhibitors are a new class drug capable of blocking the renin-angiotensin-aldosterone system and enhancing the natriuretic peptide system to improve neurohormonal balance. The success of the PARADIGM-HF trial with LCZ696 and its approval for heart failure treatment is likely to generate a paradigm shift. This review summarises the current knowledge of LCZ696 with a focus on pharmacology, pharmacokinetics and pharmacodynamics, mechanisms of action, clinical efficacy and safety.',\n",
       " u'All patients with lower extremity peripheral arterial disease (LE-PAD) should benefit from recommended pharmacologic therapies including antiplatelet agents, angiotensin-converting enzyme (ACE) inhibitors, or angiotensin receptor blockers (ARBs), and hydroxy-methyl-glutaryl-coenzyme A reductase inhibitors (statins). In the present study, this triple therapy was defined as the best medical treatment. This study was designed to determine the number of patients who received best medical treatment at admission and at discharge from a vascular surgery department. We also examined the number of patients who received adapted medical treatment and every pharmacologic class separately. Finally, we investigated whether there were differences in prescribing rates according to patient characteristics and cardiovascular history, clinical grade of LE-PAD, and the type of surgery practiced.']"
      ]
     },
     "execution_count": 29,
     "metadata": {},
     "output_type": "execute_result"
    }
   ],
   "source": [
    "abstractRDD.take(2)"
   ]
  },
  {
   "cell_type": "code",
   "execution_count": 53,
   "metadata": {
    "collapsed": true
   },
   "outputs": [],
   "source": [
    "# To use PubMed API\n",
    "import pubmed.utils as pb\n",
    "\n",
    "# Split abstracts to sentences\n",
    "from nltk.tokenize import sent_tokenize\n",
    "\n",
    "\n",
    "\n",
    "def splitSentences(abstract):\n",
    "    sentences = sent_tokenize(abstract)\n",
    "    return sentences"
   ]
  },
  {
   "cell_type": "code",
   "execution_count": 88,
   "metadata": {
    "collapsed": true
   },
   "outputs": [],
   "source": [
    "drugkeyword = \"ACEI\"\n",
    "#foodlist = {\"bla bla pla\", \"hahaha\"}\n",
    "#print type(foodlist)"
   ]
  },
  {
   "cell_type": "code",
   "execution_count": 89,
   "metadata": {
    "collapsed": true
   },
   "outputs": [],
   "source": [
    "def includeFoodCmpd(sentence, fdlist):\n",
    "    if any(word in sentence for word in fdlist):\n",
    "        return True\n",
    "    else:\n",
    "        return False"
   ]
  },
  {
   "cell_type": "code",
   "execution_count": 133,
   "metadata": {},
   "outputs": [],
   "source": [
    "sentences = abstractRDD.flatMap(splitSentences) \\\n",
    "                       .map(lambda a: pb.ace_substitutor(a, drugkeyword)) \\\n",
    "                       .filter(lambda a: drugkeyword in a)\\\n",
    "                       .filter(lambda a: includeFoodCmpd(a, foodlist))\n",
    "\n"
   ]
  },
  {
   "cell_type": "code",
   "execution_count": 134,
   "metadata": {},
   "outputs": [
    {
     "data": {
      "text/plain": [
       "[u'the standard therapies have been focused on blockade of renin-angiotensin-aldosterone system with ACEI, angiotensin receptor blockers and mineralocorticoid antagonists and the sympathetic nervous system with \\u03b2-blockers.',\n",
       " u'all patients with lower extremity peripheral arterial disease (le-pad) should benefit from recommended pharmacologic therapies including antiplatelet agents, ACEI (ACEI) inhibitors, or angiotensin receptor blockers (arbs), and hydroxy-methyl-glutaryl-coenzyme a reductase inhibitors (statins).',\n",
       " u'results were consistent across calendar periods, across subgroups of patients, and among continuing users.conclusions\\xa0increases in creatinine after the start of ACEI/angiotensin receptor blocker treatment were associated with adverse cardiorenal outcomes in a graduated relation, even below the guideline recommended threshold of a 30% increase for stopping treatment.',\n",
       " u'in multivariable analyses, duration from implantation >1\\xa0year (or: 2.44, 95% ci 1.12-5.31; p\\u2009=\\u20090.03), absence of ACEI/angiotensin ii receptor blockers (or 1.95, 95% ci 1.10-3.44; p\\u2009=\\u20090.02) or statins at the time of isr (or 3.12, 95% ci 1.42-6.84; p\\u2009=\\u20090.01), and first-generation vs first-generation des (or 5.32, 95% ci 2.82-10.10; p\\u2009<\\u20090.001) correlated with a higher prevalence of neoatherosclerosis.',\n",
       " u'predictors of a triggered acs were age <65\\xa0years, previous angina, no previous ACEI/angiotensin 2 receptor blockers, impaired functional class, not having typical chest pain on admission, and a final diagnosis of unstable angina.',\n",
       " u'ACEI/arb doses were r/d in 17.2% because of acute kidney injury (56.7%), hypotension (23.3%), and hyperkalemia (10%).',\n",
       " u'in this study, we examined the separated caseins and whey proteins of goat milk for the presence of ACEI inhibitory peptides.',\n",
       " u'digestion of isolated whey proteins and caseins of goat milk by gastric pepsin generated soluble hydrolysates exhibiting significant inhibition of ACEI compared to weak inhibition by undigested proteins.',\n",
       " u'the late-eluting fraction (f4) of either whey or caseins exhibited greater ACEI inhibition.',\n",
       " u'maldi-tof ms/ms resulted in identification of three potent ACEI inhibitory peptides: peqslacqcl from \\u03b2-lactoglobulin (residues 113-122), qslvypftgpi from \\u03b2-casein (residues 56-66), and arhphphlsfm from \\u03ba-casein (residues 96-106).',\n",
       " u'the peptides from whey and caseins exert significant ACEI inhibitory activities comparable to that of captopril, an antihypertensive drug, exhibiting ic50 values of 4.45\\xa0\\u03bcm and 4.27\\xa0\\u03bcm, respectively.',\n",
       " u'the results introduce, for the first time, new potent ACEI-inhibitory peptides that can be released by gastric pepsin of goat milk whey and caseins and thus may pave the way for their candidacy as anti-hypertensive bioactive peptides and prevention of associated disorders.',\n",
       " u'pharmacokinetic and pharmacodynamic (pk/pd) properties of the ACEI benazeprilat have not been evaluated in horses.',\n",
       " u'this study also aims to determine the effects of benazeprilat on serum ACEI (ACEI), selecting the most appropriate dose that suppresses ACEI activity.',\n",
       " u'blood pressures (bp) were measured and blood samples were obtained at different times in order to measure serum drug concentrations and serum ACEI activity, using liquid chromatography-tandem mass spectrometry (lc-ms/ms) and spectrophotometry, respectively.',\n",
       " u'although oral availability was low, benazeprilat 1.00mg/kg, reached sufficient serum concentrations to induce long lasting serum ACEI inhibitions (between 88 and 50%) for the first 48h.',\n",
       " u'in this study, a marine microalga spirulina\\xa0sp.-derived protein was hydrolyzed using gastrointestinal enzymes to produce an angiotensin\\xa0i\\xa0(ang\\xa0i)-converting enzyme\\xa0(ACEI) inhibitory peptide.',\n",
       " u'these results indicated that this spirulina\\xa0sp.-derived peptide warrants further investigation as a potential pharmacological inhibitor of ACEI and vascular dysfunction.',\n",
       " u'its prevalence is increasing because of ageing of the population and improved treatment of acute cardiovascular events, despite the efficacy of many therapies for patients with heart failure with reduced ejection fraction, such as ACEI (ACEI) inhibitors, angiotensin receptor blockers (arbs), \\u03b2 blockers, and mineralocorticoid receptor antagonists, and advanced device therapies.',\n",
       " u'ACEI use between 1 january 2003 and the index date were determined by the date of hospitalization for acute pancreatitis among the cases.',\n",
       " u'commonly used drugs including ACEI and statins increase a risk of hyperkalemia.',\n",
       " u'the study compared the effect of physical exercise on the changes of serum potassium in hypertensive patients receiving ACEI alone or in combination with statin.',\n",
       " u'there were no differences in the exercise-induced changes of serum potassium during the exercise tests performed after ACEI combined with statin or with placebo.',\n",
       " u'addition of statin to ACEI does not increase the risk of hyperkalemia in hypertensive patients with preserved renal function during physical exercise with intensity typical for routine daily activities.',\n",
       " u'one quarter of patients age 66 and older who initiated an ACEI or arb had their serum creatinine and potassium monitored within 7 to 30 days.',\n",
       " u'areas where more attention may be needed are laboratory testing to confirm initial abnormal kidney function test results and monitoring serum creatinine and potassium after initiating a new ACEI or arb.',\n",
       " u'we investigated the molecular mechanisms involved in the ACEI (ACEI) inhibition by (-)-epigallocatechin-3-gallate (egcg), a major tea catechin.',\n",
       " u'renin-angiotensin-aldosterone system inhibitors (raasis), including ACEI, angiotensin at1 receptor blockers and mineralocorticoid receptor antagonists (mras), are the cornerstone for the treatment of cardiovascular and renal diseases.',\n",
       " u'data are conflicting regarding the role of the renin-angiotensin system on angiogenesis and recent data suggest that the use of angiotensin system inhibitors (asis; angiotensin receptor blockers or ACEI) is associated with improved survival in metastatic renal cell carcinoma (mrcc), particularly when used with vegf targeted therapies.',\n",
       " u'besides controlling hypertension and reduction of intra-glomerular pressure, ACEI appear to have anti-fibrotic effects in the renal cortex.',\n",
       " u'n-acetyl-seryl-aspartyl-lysyl-proline (ac-sdkp), an endogenous tetrapeptide that is degraded by ACEI, has also been shown to ameliorate the pro-fibrotic phenotype displayed in ckd in our recent study.',\n",
       " u'the study of the metabolic relationship between the et-1 and ACEI among coronary patients reveals other therapeutics targets.',\n",
       " u'the enzymatic replacement therapy is essential for the management of fd, as well as the control of renal (with anti-proteinuric agents such as ACEI- and/or angiotensin ii receptor blockers), brain (coated aspirin, clopidogrel and statins to prevent strokes) and heart complications (calcium channel blockers for ischemic cardiomyopathy, warfarin and amiodarone or cardioverter device for arrhythmias).',\n",
       " u'biostat-chf was specifically designed to study uptitration of ACEI-inhibitors/arbs and/or beta-blockers in 2516 heart failure patients from 69 centres in 11 european countries who were selected if they were suboptimally treated while initiation or uptitration was anticipated and encouraged.',\n",
       " u'chronic treatment results in 40% increase in serum ACEI concentrations, with the exception of 1 patient.',\n",
       " u'the 15min uv-c treatment resulted in the highest antioxidant dpph radical-scavenging activity, while the 15min uv-c and fir treatments had higher ACEI inhibitory and antioxidant activities than those of 5min treatments.',\n",
       " u'most prominently, the concentration of ACEI \\u03b2-casein203-209 increased approximately 10\\u202f000-fold after combined oral, gastric, and intestinal digestion.',\n",
       " u'the use of antiplatelets (acetylsalicylic acid [asa], ticlopidine, and clopidogrel), oral anticoagulant therapy (oat), statins and antihypertensives (ACEI [ACEI-i]/angiotensin receptor blockers [arbs], \\u03b2-blockers [bb]) administration was evaluated.',\n",
       " u'it has also been shown that the ACEI lisinopril, and the natural product curcumin are also beneficial in different models of ckd in rats.',\n",
       " u'here, using magnetic resonance imaging (mri) we profile the effects of mna on endothelial phenotype in mice with atherosclerosis (apoe/ldlr(-/-)) in vivo, in comparison to angiotensin (ang) -converting enzyme (ACEI) inhibitor (perindopril), with known vasoprotective activity.',\n",
       " u'on a biochemical level, we analyzed whether mna- or perindopril-induced improvement in endothelial function results in changes in ACEI/ang ii-ace2/ang-(1-7) balance, and l-arginine/asymmetric dimethylarginine (adma) ratio.',\n",
       " u'activity of ACEI/ang ii and ace2/ang-(1-7) pathways as well as metabolites of l-arginine/adma pathway were measured using liquid chromatography/mass spectrometry-based methods.',\n",
       " u'functional and biochemical endothelial profiling in apoe/ldlr(-/-) mice in vivo revealed that 2-month treatment with mna (100 mg/kg/day) displayed a similar profile of vasoprotective effect as 2-month treatment with perindopril (10 mg/kg/day): i.e., the improvement in endothelial function that was associated with the beneficial changes in ACEI/ang ii-ace2/ang (1-7) balance and in l-arginine/adma ratio in plasma.',\n",
       " u'subsequently, the american college of cardiology/american heart association/heart failure society of america recently updated guideline recommendations for stage c patients with heart failure with reduced ejection fraction to recommend ACEI, angiotensin receptor blockers, or sacubitril/valsartan in conjunction with other evidence-based therapies to reduce morbidity and mortality.',\n",
       " u'the baseline serum creatinine level, use of ACEI or angiotensin-ii receptor antagonists, red blood cell transfusion volume, and history of coronary artery disease were independent risk factors for aki.',\n",
       " u'the importance of the ras in the development and pathogenesis of cardiovascular, hypertensive and kidney diseases has now been firmly established in clinical trials and practice using renin inhibitors, ACEI (ACEI) inhibitors, type 1 (at1) angiotensin ii (ang ii) receptor blockers (arbs), or aldosterone receptor antagonists as major therapeutic drugs.',\n",
       " u'since the roles and therapeutic implications of the classic angiotensinogen/renin/ACEI/ang ii/at1 receptor axis have been extensively reviewed, this article will focus primarily on reviewing the roles and therapeutic implications of the vasoprotective axes of the ras in cardiovascular, hypertensive and kidney diseases.',\n",
       " u'to assess the effect of early ACEI (ACEI) inhibitor therapy in patients with normal left ventricular function on the progression of myocardial fibrosis (mf) identified on cardiovascular magnetic resonance (cmr).',\n",
       " u'this meta-analysis of randomized parallel controlled trials was designed to compare the efficacy of atenolol with ACEI in changing pulse wave velocity (pwv), peripheral blood pressure and heart rate (hr) among patients with essential hypertension.',\n",
       " u'ACEI could be considered as possible therapeutic agent in victims with prominent increase in ACEI and ang ii while kallikrein inhibitor and antioxidants may be effective in the treatment of late hypotensive ones.',\n",
       " u'the aim of this study was to investigate the effects of plasma and tissue ACEI (ACEI-is) against propofol-induced endothelial dysfunction and to elucidate the involved mechanisms in vitro.',\n",
       " u'using the ualdo:c and a relatively stringent definition of abt, it appears that incomplete raas blockade is common in dogs with mmvd receiving an ACEI.',\n",
       " u'spearman analysis and univariate logistic regression were used to evaluate the relationship between ualdo:c and abt (yes/no) and eight variables (age, serum k(+) concentration, serum creatinine concentration, ACEI therapy duration and ACEI dosage, furosemide therapy duration and furosemide dosage, and urine sample storage time).',\n",
       " u'as data accumulates on the efficacy of ACEI and angiotensin ii receptor blockers as drugs of fundamental importance in the treatment of cardiovascular and renal disorders, it is becoming apparent that the achieved clinical benefits is suboptimal and surprisingly no different than what can be achieved with other therapeutic interventions.',\n",
       " u'ACEI lisinopril did not produce major histomorphological alterations in regenerating fibrotic liver following partial hepatectomy, however, it may improve its functional capability.',\n",
       " u'enzymatic hydrolysis of proteins from rice, soy, pea and wheat, with both chymotrypsin and thermolysin, resulted in hydrolysates, which are efficient inhibitors of the ACEI (ACEI).',\n",
       " u'compared to hydrolysates from whey protein, where the inhibitory effect can almost exclusively be attributed to ile-trp, the ACEI inhibition by plant protein hydrolysates is caused by a variety of peptides, in particular tyrosine-containing peptides.',\n",
       " u'use of ACEI, beta-blockers (bb), and statins appeared to reduce risk of cv death (or: 0.37, 0.33, and 0.32, respectively).',\n",
       " u'all pharmacy claims from the years 2012 and 2013 were provided by ases and subsequently evaluated by the investigators to identify those involving the prescription of an ACEI-i, an arb, or a combination of drugs belonging to both therapeutic classes.',\n",
       " u'the aim of this study was to examine whether the molecular variations of klk1 play role in determining the therapeutic response to benazepril, an ACEI.',\n",
       " u'when replacing the previously used ACEI or sartans on mouth-dispersible form of perindopril arginine bp decreased from 140,9+/-12.7/84.2+/-7.6 to 127.0+/-8.4/78.1+/-5.8 mm hg.',\n",
       " u'crystallographic structures of \\u03b1-amylase, \\u03b1-glucosidase, glycogen phosphorylase (gp), pancreatic lipase, cholesterol esterase (cease), angiotensin-i-converting enzyme (ACEI), acetyl cholinesterase (ache), and urease available on the protein databank database were docked to mangiferin using gold 6.0 software.',\n",
       " u'sacubitril/valsartan may be used instead of an ACEI or arb in chronic symptomatic hf and abnormal lv ejection fraction.',\n",
       " u'drug such as ACEI, angiotensin receptor blockers, potassium-sparing diuretics, and nonsteroidal antiinflammatory drugs can also lead to hyperkalemia.',\n",
       " u'whether ACEI (ACEI) and angiotensin receptor blockers (arb) are differentially associated with reductions in cardiovascular events and mortality in patients receiving maintenance dialysis is uncertain.',\n",
       " u'we compared outcomes between ACEI and arb users among hypertensive, maintenance dialysis patients.',\n",
       " u'the secondary prevention treatment for acute coronary syndrome (acs) is based on the combined use of drugs from four therapeutic classes (beta-blockers, antiplatelet agents, statins, and ACEI or angiotensin receptor blockers).',\n",
       " u'ACEI and angiotensin ii receptor type 1 blockers (arbs) are often prescribed for renal transplant recipients (rtrs), but the outcomes of these medications in rtrs remain controversial.',\n",
       " u'angiotensin receptor-neprilysin inhibitor (arni) combinations are the latest addition to the heart failure medical armamentarium, which is built on the cornerstone regimen of beta blockers, ACEI (ACEI) inhibitors/angiotensin receptor blockers, and aldosterone antagonists.',\n",
       " u'after short-term treatment (less than 1\\xa0year), significant differences were found in changes of 24-hour proteinuria (wmd-0.57\\xa0g/d; 95% ci: -0.72 to -0.42) and serum potassium (wmd 0.25\\xa0meq/l; 95% ci: 0.14 to 0.37) in ACEI/arb groups compared to control arm, while these differences were not confirmed in the long run.',\n",
       " u'patients initiating maintenance dialysis who received an ACEI faced an increased risk for mortality and a trend towards an increased risk for cv-endpoints when compared to patients who received an arb.',\n",
       " u'ACEI-inhibitory peptides from food origins could be a good alternative to synthetic drugs.',\n",
       " u'in the present study, 270 type 2 diabetes mellitus patients with nephropathy were enrolled and treated with ACEI (ramipril) and followed at 6 mo for renal function and albumin excretion by estimating serum creatinine, end stage renal disease, and albumin/creatinine ratio (acr) in urine.',\n",
       " u'genotyping of ACEI i/d and agt m235t polymorphisms were performed by using primer specific polymerase chain reaction (pcr) and pcr-rflp techniques, respectively.',\n",
       " u'at present there is no validated severity scoring or discharge criteria for ACEI-a.',\n",
       " u'we sought to develop and validate an investigator rating scale with corresponding discharge criteria using clinicians experienced in treating ACEI-a.',\n",
       " u'in line with the clinical observations of the bone-preservative properties following ACEI-1 inhibition, local activation of ACEI-2/ang1-7/mas signaling and suppressed osteoclastogenesis seem responsible for the osteo-preservative effect of captopril, which could offers a potential therapeutic value in treatment of disabling bone and skeletal muscular diseases.',\n",
       " u'preventing prolongation of cold ischemia time, lowering blood cholesterol levels, ACEI and angiotensin receptor blocker treatment even without existing proteinuria and avoiding higher doses of calcineurin inhibitors should be major approaches in kidney transplant recipients.',\n",
       " u'he was diagnosed with acute ischemic stroke with cranial nerve 7 palsy (with right hemiparesis), acute on chronic kidney disease precipitated by dehydration and ACEI, and hyperkalemia.',\n",
       " u'mice were injected with androctonus australis hector (aah) scorpion venom (0.5mg/kg, subcutaneously), in the presence or absence of an ACEI (ACEI) inhibitor, captopril (15mg/kg/day/1day intraperitoneally) or an angiotensin type-1 receptor (at1r) antagonist, valsartan (15mg/kg/day/15days, orally).',\n",
       " u'these findings suggest that co-administration of mra and ACEI/arb has beneficial effects on renal outcomes with increasing the incidence of hyperkalemia.',\n",
       " u'there was a significant increase in the risk of hyperkalemia on the addition of mra to ACEI/arb treatment (relative risk 3.74, 95% confidence intervals 2.30-6.09, p < 0.00001).',\n",
       " u'acromegaly is associated with a disease-specific cardiomyopathy, the pathogenesis of which is poorly understood.the cardiac indices of patients with active acromegaly with no hypertension (group a, n=4), established hypertension not taking ACEI/arbs (group b, n=4) and established hypertension taking ACEI/arbs (group c, n=4) were compared using cardiac magnetic imaging.patients taking ACEI/arbs had lower end diastolic volume index (edvi) and end systolic volume index (esvi) than the other 2 groups ([c] 73.24 vs. [a] 97.92 vs. [b] 101.03\\u2009ml/m(2), anova p=0.034, b vs. c p<0.01).',\n",
       " u'the annual rate of adverse events related to ACEI (ie, the number of reported cases of adverse events per 1000 patients receiving an ACEI) was calculated from data captured on the date the events were first reported for the 5 years before and 5 years after the revocation of the pa constraint.',\n",
       " u'for venom immunotherapy, there are more data supporting the concomitant use of beta-blockers and ACEI in the build-up and maintenance phases.',\n",
       " u'recent meta-analysis of large clinical trials on the use of ACEI and angiotensin receptor blockers in cardiovascular disease has demonstrated an imbalance between patients that significantly benefit from these therapeutic agents and those that remain at risk for heart disease progression.',\n",
       " u'we recommend continuing ACEI therapy if elevated blood pressure persists after maintenance hemodialysis.',\n",
       " u'three crystal structures of ACEI were utilized for docking studies and 19 oligopeptides were finally identified with potential ACEI inhibitory activity.',\n",
       " u'since that, hypertension control gradually worsened, hypertensive organ damage aggravated and hypokalemia developed in spite of ACEI treatment.',\n",
       " u'in contrast, mice over expressing ACEI in neutrophils (neu(ACEI) mice) have increased resistance to mrsa, and better in vitro killing of mrsa, p. aeruginosa, and k. pneumoniae ACEI overexpression increased neutrophil production of reactive oxygen species (ros) following mrsa challenge, an effect independent of the angiotensin ii at1 receptor.',\n",
       " u'prior stroke/tia and/or pad patients were less likely to receive evidence-based medical therapies (dual antiplatelet therapy: stroke/tia= 88.6%, pad= 86.6%, stroke/tia+pad= 85.7%, none= 92.2%, p<0.001; \\u03b2-blockers: stroke/tia= 77.1%, pad= 72.1%, stroke/tia+pad= 71.9%, none= 80.8%, p<0.001; ACEI/angiotensin receptor blockers: stroke/tia= 86.3%, pad= 83.6%, stroke/tia+pad= 83.2%, none= 87.1%, p=0.030) and to undergo percutaneous revascularization (stroke/tia= 52.8%, pad= 45.6%, stroke/tia+pad= 43.7%, none= 67.9%, p<0.001), despite more extensive coronary artery disease (three-vessel disease: stroke/tia= 29.1%, pad= 38.3%, stroke/tia+pad= 38.3%, none= 20.2%, p<0.001).',\n",
       " u'the ras is primarily comprised of the precursor protein angiotensinogen and the two proteases, renin and ACEI (ACEI).',\n",
       " u'this review describes involvement of brain ras in pathophysiology of neuropsychiatric disorders and an intriguing possibilities of improvement in pharmacological treatment outcome, where using angiotensin-converting-enzyme inhibitors (ACEI) and angiotensin receptor blockers (arb), goes beyond blood pressure control.',\n",
       " u'chromatographic separation was achieved with a gradient mobile phase comprising: (a) 0.2% ammonia in purified water; (b) 0.1% formic acid in isopropyl alcohol/methanol (1: 1\\u2009v/v); and (c) acetonitrile at a flow rate of 1\\u2009ml/min on an ACEI-5, c18 (4.6\\u2009\\xd7\\u200950\\u2009mm) column with a run time of 5.5\\u2009min.',\n",
       " u'we conducted a genome-wide association study on ACEI-induced cough and used our dataset to replicate candidate genes identified in previous studies.',\n",
       " u'these compounds were subjected to docking (against at1 receptor protein enzyme in complex with lisinopril), in vitro ACEI inhibition, anti-proliferative, anti-inflammatory screening (through egg albumin denaturation inhibition and red blood cell membrane stabilization assay) and finally anti-fungal activity analyses.',\n",
       " u'in univariate analysis, none of the factors including, age at time of transplant, dialysis vintage, use of ACEI-i, living-donor transplant, cytomegalovirus infection, and serum\\xa0cr at 1\\xa0year were predictive of graft failure.',\n",
       " u'the results indicated that phenolics from rabbiteye blueberry leaves could be potential antioxidants, inflammation and ACEI, and rabbiteye blueberry leaves provide a new resources of phytochemicals beneficial for cardiovascular health.',\n",
       " u'ar-42 downregulated e-cadherin, n-cadherin, twist, myof, anoikis resistance, and osteomimicry genes, while it upregulated snail, pten, fak, and zeb1 gene expression in ACEI-1 cells.',\n",
       " u'the results showed that the drugs containing the active substances of the ACEI class had had significant increases in quantitative and value sales, bringing substantial revenues to pharmacies.',\n",
       " u'ts3 (former tityustoxin or tsiv) is an \\u03b1-neurotoxin acting on voltage-gated sodium channels while ts10 (former peptide t) is a bradykinin-potentiating peptide and was originally reported as inhibitor of the ACEI (ACEI).',\n",
       " u'the present investigation thus establishes newer vista for food derived peptides having ACEI inhibitory potential for nutraceutical or therapeutic applications.',\n",
       " u'renin-angiotensin-aldosterone system (raas) antagonists, including ACEI, angiotensin receptor blockers (arb), and mineralocorticoid receptor antagonists (mra) decrease mortality and morbidity in heart failure but increase the risk of hyperkalemia, especially when used in combination.',\n",
       " u'decreases in ejection fraction (ef)] were immediately addressed by therapeutic intervention with the ACEI lisinopril and beta-blocker metoprolol.']"
      ]
     },
     "execution_count": 134,
     "metadata": {},
     "output_type": "execute_result"
    }
   ],
   "source": [
    "sentences.collect()"
   ]
  },
  {
   "cell_type": "code",
   "execution_count": 93,
   "metadata": {},
   "outputs": [
    {
     "data": {
      "text/plain": [
       "796"
      ]
     },
     "execution_count": 93,
     "metadata": {},
     "output_type": "execute_result"
    }
   ],
   "source": [
    "sentences.count()"
   ]
  },
  {
   "cell_type": "code",
   "execution_count": 94,
   "metadata": {
    "collapsed": true
   },
   "outputs": [],
   "source": [
    "s = \"the standard therapies have been focused on blockade of renin-angiotensin-aldosterone system with ACEI, angiotensin receptor blockers and mineralocorticoid antagonists and the sympathetic nervous system with \\u03b2-blockers.\""
   ]
  },
  {
   "cell_type": "code",
   "execution_count": 143,
   "metadata": {},
   "outputs": [],
   "source": [
    "def findFoodItems(sentence, foods):\n",
    "    for item in foods:\n",
    "        if item in sentence:\n",
    "            print item"
   ]
  },
  {
   "cell_type": "code",
   "execution_count": 144,
   "metadata": {},
   "outputs": [
    {
     "name": "stdout",
     "output_type": "stream",
     "text": [
      "pie\n"
     ]
    }
   ],
   "source": [
    "findFoodItems(s, foodlist)"
   ]
  },
  {
   "cell_type": "code",
   "execution_count": 145,
   "metadata": {},
   "outputs": [
    {
     "name": "stdout",
     "output_type": "stream",
     "text": [
      "pie\n"
     ]
    }
   ],
   "source": [
    "s2 = \"all patients with lower extremity peripheral arterial disease (le-pad) should benefit from recommended pharmacologic therapies including antiplatelet agents, ACEI (ACEI) inhibitors, or angiotensin receptor blockers (arbs), and hydroxy-methyl-glutaryl-coenzyme a reductase inhibitors (statins).\"\n",
    "findFoodItems(s2, foodlist)"
   ]
  },
  {
   "cell_type": "markdown",
   "metadata": {},
   "source": [
    "**Problem**: need to find words in foodlist as a complete word in the sentence and not part of a word"
   ]
  },
  {
   "cell_type": "code",
   "execution_count": 140,
   "metadata": {},
   "outputs": [
    {
     "data": {
      "text/plain": [
       "[u'results were consistent across calendar periods, across subgroups of patients, and among continuing users.conclusions\\xa0increases in creatinine after the start of ACEI/angiotensin receptor blocker treatment were associated with adverse cardiorenal outcomes in a graduated relation, even below the guideline recommended threshold of a 30% increase for stopping treatment.',\n",
       " u'in multivariable analyses, duration from implantation >1\\xa0year (or: 2.44, 95% ci 1.12-5.31; p\\u2009=\\u20090.03), absence of ACEI/angiotensin ii receptor blockers (or 1.95, 95% ci 1.10-3.44; p\\u2009=\\u20090.02) or statins at the time of isr (or 3.12, 95% ci 1.42-6.84; p\\u2009=\\u20090.01), and first-generation vs first-generation des (or 5.32, 95% ci 2.82-10.10; p\\u2009<\\u20090.001) correlated with a higher prevalence of neoatherosclerosis.',\n",
       " u'predictors of a triggered acs were age <65\\xa0years, previous angina, no previous ACEI/angiotensin 2 receptor blockers, impaired functional class, not having typical chest pain on admission, and a final diagnosis of unstable angina.',\n",
       " u'ACEI/arb doses were r/d in 17.2% because of acute kidney injury (56.7%), hypotension (23.3%), and hyperkalemia (10%).',\n",
       " u'in this study, we examined the separated caseins and whey proteins of goat milk for the presence of ACEI inhibitory peptides.',\n",
       " u'digestion of isolated whey proteins and caseins of goat milk by gastric pepsin generated soluble hydrolysates exhibiting significant inhibition of ACEI compared to weak inhibition by undigested proteins.',\n",
       " u'the late-eluting fraction (f4) of either whey or caseins exhibited greater ACEI inhibition.',\n",
       " u'maldi-tof ms/ms resulted in identification of three potent ACEI inhibitory peptides: peqslacqcl from \\u03b2-lactoglobulin (residues 113-122), qslvypftgpi from \\u03b2-casein (residues 56-66), and arhphphlsfm from \\u03ba-casein (residues 96-106).',\n",
       " u'the peptides from whey and caseins exert significant ACEI inhibitory activities comparable to that of captopril, an antihypertensive drug, exhibiting ic50 values of 4.45\\xa0\\u03bcm and 4.27\\xa0\\u03bcm, respectively.',\n",
       " u'the results introduce, for the first time, new potent ACEI-inhibitory peptides that can be released by gastric pepsin of goat milk whey and caseins and thus may pave the way for their candidacy as anti-hypertensive bioactive peptides and prevention of associated disorders.',\n",
       " u'pharmacokinetic and pharmacodynamic (pk/pd) properties of the ACEI benazeprilat have not been evaluated in horses.',\n",
       " u'this study also aims to determine the effects of benazeprilat on serum ACEI (ACEI), selecting the most appropriate dose that suppresses ACEI activity.',\n",
       " u'blood pressures (bp) were measured and blood samples were obtained at different times in order to measure serum drug concentrations and serum ACEI activity, using liquid chromatography-tandem mass spectrometry (lc-ms/ms) and spectrophotometry, respectively.',\n",
       " u'although oral availability was low, benazeprilat 1.00mg/kg, reached sufficient serum concentrations to induce long lasting serum ACEI inhibitions (between 88 and 50%) for the first 48h.',\n",
       " u'in this study, a marine microalga spirulina\\xa0sp.-derived protein was hydrolyzed using gastrointestinal enzymes to produce an angiotensin\\xa0i\\xa0(ang\\xa0i)-converting enzyme\\xa0(ACEI) inhibitory peptide.',\n",
       " u'these results indicated that this spirulina\\xa0sp.-derived peptide warrants further investigation as a potential pharmacological inhibitor of ACEI and vascular dysfunction.',\n",
       " u'ACEI use between 1 january 2003 and the index date were determined by the date of hospitalization for acute pancreatitis among the cases.',\n",
       " u'commonly used drugs including ACEI and statins increase a risk of hyperkalemia.',\n",
       " u'the study compared the effect of physical exercise on the changes of serum potassium in hypertensive patients receiving ACEI alone or in combination with statin.',\n",
       " u'there were no differences in the exercise-induced changes of serum potassium during the exercise tests performed after ACEI combined with statin or with placebo.',\n",
       " u'addition of statin to ACEI does not increase the risk of hyperkalemia in hypertensive patients with preserved renal function during physical exercise with intensity typical for routine daily activities.',\n",
       " u'one quarter of patients age 66 and older who initiated an ACEI or arb had their serum creatinine and potassium monitored within 7 to 30 days.',\n",
       " u'areas where more attention may be needed are laboratory testing to confirm initial abnormal kidney function test results and monitoring serum creatinine and potassium after initiating a new ACEI or arb.',\n",
       " u'we investigated the molecular mechanisms involved in the ACEI (ACEI) inhibition by (-)-epigallocatechin-3-gallate (egcg), a major tea catechin.',\n",
       " u'renin-angiotensin-aldosterone system inhibitors (raasis), including ACEI, angiotensin at1 receptor blockers and mineralocorticoid receptor antagonists (mras), are the cornerstone for the treatment of cardiovascular and renal diseases.',\n",
       " u'besides controlling hypertension and reduction of intra-glomerular pressure, ACEI appear to have anti-fibrotic effects in the renal cortex.',\n",
       " u'n-acetyl-seryl-aspartyl-lysyl-proline (ac-sdkp), an endogenous tetrapeptide that is degraded by ACEI, has also been shown to ameliorate the pro-fibrotic phenotype displayed in ckd in our recent study.',\n",
       " u'the study of the metabolic relationship between the et-1 and ACEI among coronary patients reveals other therapeutics targets.',\n",
       " u'the enzymatic replacement therapy is essential for the management of fd, as well as the control of renal (with anti-proteinuric agents such as ACEI- and/or angiotensin ii receptor blockers), brain (coated aspirin, clopidogrel and statins to prevent strokes) and heart complications (calcium channel blockers for ischemic cardiomyopathy, warfarin and amiodarone or cardioverter device for arrhythmias).',\n",
       " u'biostat-chf was specifically designed to study uptitration of ACEI-inhibitors/arbs and/or beta-blockers in 2516 heart failure patients from 69 centres in 11 european countries who were selected if they were suboptimally treated while initiation or uptitration was anticipated and encouraged.',\n",
       " u'chronic treatment results in 40% increase in serum ACEI concentrations, with the exception of 1 patient.',\n",
       " u'the 15min uv-c treatment resulted in the highest antioxidant dpph radical-scavenging activity, while the 15min uv-c and fir treatments had higher ACEI inhibitory and antioxidant activities than those of 5min treatments.',\n",
       " u'most prominently, the concentration of ACEI \\u03b2-casein203-209 increased approximately 10\\u202f000-fold after combined oral, gastric, and intestinal digestion.',\n",
       " u'the use of antiplatelets (acetylsalicylic acid [asa], ticlopidine, and clopidogrel), oral anticoagulant therapy (oat), statins and antihypertensives (ACEI [ACEI-i]/angiotensin receptor blockers [arbs], \\u03b2-blockers [bb]) administration was evaluated.',\n",
       " u'it has also been shown that the ACEI lisinopril, and the natural product curcumin are also beneficial in different models of ckd in rats.',\n",
       " u'here, using magnetic resonance imaging (mri) we profile the effects of mna on endothelial phenotype in mice with atherosclerosis (apoe/ldlr(-/-)) in vivo, in comparison to angiotensin (ang) -converting enzyme (ACEI) inhibitor (perindopril), with known vasoprotective activity.',\n",
       " u'on a biochemical level, we analyzed whether mna- or perindopril-induced improvement in endothelial function results in changes in ACEI/ang ii-ace2/ang-(1-7) balance, and l-arginine/asymmetric dimethylarginine (adma) ratio.',\n",
       " u'activity of ACEI/ang ii and ace2/ang-(1-7) pathways as well as metabolites of l-arginine/adma pathway were measured using liquid chromatography/mass spectrometry-based methods.',\n",
       " u'functional and biochemical endothelial profiling in apoe/ldlr(-/-) mice in vivo revealed that 2-month treatment with mna (100 mg/kg/day) displayed a similar profile of vasoprotective effect as 2-month treatment with perindopril (10 mg/kg/day): i.e., the improvement in endothelial function that was associated with the beneficial changes in ACEI/ang ii-ace2/ang (1-7) balance and in l-arginine/adma ratio in plasma.',\n",
       " u'subsequently, the american college of cardiology/american heart association/heart failure society of america recently updated guideline recommendations for stage c patients with heart failure with reduced ejection fraction to recommend ACEI, angiotensin receptor blockers, or sacubitril/valsartan in conjunction with other evidence-based therapies to reduce morbidity and mortality.',\n",
       " u'the baseline serum creatinine level, use of ACEI or angiotensin-ii receptor antagonists, red blood cell transfusion volume, and history of coronary artery disease were independent risk factors for aki.',\n",
       " u'the importance of the ras in the development and pathogenesis of cardiovascular, hypertensive and kidney diseases has now been firmly established in clinical trials and practice using renin inhibitors, ACEI (ACEI) inhibitors, type 1 (at1) angiotensin ii (ang ii) receptor blockers (arbs), or aldosterone receptor antagonists as major therapeutic drugs.',\n",
       " u'since the roles and therapeutic implications of the classic angiotensinogen/renin/ACEI/ang ii/at1 receptor axis have been extensively reviewed, this article will focus primarily on reviewing the roles and therapeutic implications of the vasoprotective axes of the ras in cardiovascular, hypertensive and kidney diseases.',\n",
       " u'to assess the effect of early ACEI (ACEI) inhibitor therapy in patients with normal left ventricular function on the progression of myocardial fibrosis (mf) identified on cardiovascular magnetic resonance (cmr).',\n",
       " u'this meta-analysis of randomized parallel controlled trials was designed to compare the efficacy of atenolol with ACEI in changing pulse wave velocity (pwv), peripheral blood pressure and heart rate (hr) among patients with essential hypertension.',\n",
       " u'ACEI could be considered as possible therapeutic agent in victims with prominent increase in ACEI and ang ii while kallikrein inhibitor and antioxidants may be effective in the treatment of late hypotensive ones.',\n",
       " u'the aim of this study was to investigate the effects of plasma and tissue ACEI (ACEI-is) against propofol-induced endothelial dysfunction and to elucidate the involved mechanisms in vitro.',\n",
       " u'using the ualdo:c and a relatively stringent definition of abt, it appears that incomplete raas blockade is common in dogs with mmvd receiving an ACEI.',\n",
       " u'spearman analysis and univariate logistic regression were used to evaluate the relationship between ualdo:c and abt (yes/no) and eight variables (age, serum k(+) concentration, serum creatinine concentration, ACEI therapy duration and ACEI dosage, furosemide therapy duration and furosemide dosage, and urine sample storage time).',\n",
       " u'as data accumulates on the efficacy of ACEI and angiotensin ii receptor blockers as drugs of fundamental importance in the treatment of cardiovascular and renal disorders, it is becoming apparent that the achieved clinical benefits is suboptimal and surprisingly no different than what can be achieved with other therapeutic interventions.',\n",
       " u'ACEI lisinopril did not produce major histomorphological alterations in regenerating fibrotic liver following partial hepatectomy, however, it may improve its functional capability.',\n",
       " u'enzymatic hydrolysis of proteins from rice, soy, pea and wheat, with both chymotrypsin and thermolysin, resulted in hydrolysates, which are efficient inhibitors of the ACEI (ACEI).',\n",
       " u'compared to hydrolysates from whey protein, where the inhibitory effect can almost exclusively be attributed to ile-trp, the ACEI inhibition by plant protein hydrolysates is caused by a variety of peptides, in particular tyrosine-containing peptides.',\n",
       " u'use of ACEI, beta-blockers (bb), and statins appeared to reduce risk of cv death (or: 0.37, 0.33, and 0.32, respectively).',\n",
       " u'all pharmacy claims from the years 2012 and 2013 were provided by ases and subsequently evaluated by the investigators to identify those involving the prescription of an ACEI-i, an arb, or a combination of drugs belonging to both therapeutic classes.',\n",
       " u'the aim of this study was to examine whether the molecular variations of klk1 play role in determining the therapeutic response to benazepril, an ACEI.',\n",
       " u'when replacing the previously used ACEI or sartans on mouth-dispersible form of perindopril arginine bp decreased from 140,9+/-12.7/84.2+/-7.6 to 127.0+/-8.4/78.1+/-5.8 mm hg.',\n",
       " u'crystallographic structures of \\u03b1-amylase, \\u03b1-glucosidase, glycogen phosphorylase (gp), pancreatic lipase, cholesterol esterase (cease), angiotensin-i-converting enzyme (ACEI), acetyl cholinesterase (ache), and urease available on the protein databank database were docked to mangiferin using gold 6.0 software.',\n",
       " u'sacubitril/valsartan may be used instead of an ACEI or arb in chronic symptomatic hf and abnormal lv ejection fraction.',\n",
       " u'drug such as ACEI, angiotensin receptor blockers, potassium-sparing diuretics, and nonsteroidal antiinflammatory drugs can also lead to hyperkalemia.',\n",
       " u'whether ACEI (ACEI) and angiotensin receptor blockers (arb) are differentially associated with reductions in cardiovascular events and mortality in patients receiving maintenance dialysis is uncertain.',\n",
       " u'we compared outcomes between ACEI and arb users among hypertensive, maintenance dialysis patients.',\n",
       " u'the secondary prevention treatment for acute coronary syndrome (acs) is based on the combined use of drugs from four therapeutic classes (beta-blockers, antiplatelet agents, statins, and ACEI or angiotensin receptor blockers).',\n",
       " u'angiotensin receptor-neprilysin inhibitor (arni) combinations are the latest addition to the heart failure medical armamentarium, which is built on the cornerstone regimen of beta blockers, ACEI (ACEI) inhibitors/angiotensin receptor blockers, and aldosterone antagonists.',\n",
       " u'after short-term treatment (less than 1\\xa0year), significant differences were found in changes of 24-hour proteinuria (wmd-0.57\\xa0g/d; 95% ci: -0.72 to -0.42) and serum potassium (wmd 0.25\\xa0meq/l; 95% ci: 0.14 to 0.37) in ACEI/arb groups compared to control arm, while these differences were not confirmed in the long run.',\n",
       " u'patients initiating maintenance dialysis who received an ACEI faced an increased risk for mortality and a trend towards an increased risk for cv-endpoints when compared to patients who received an arb.',\n",
       " u'ACEI-inhibitory peptides from food origins could be a good alternative to synthetic drugs.',\n",
       " u'in the present study, 270 type 2 diabetes mellitus patients with nephropathy were enrolled and treated with ACEI (ramipril) and followed at 6 mo for renal function and albumin excretion by estimating serum creatinine, end stage renal disease, and albumin/creatinine ratio (acr) in urine.',\n",
       " u'genotyping of ACEI i/d and agt m235t polymorphisms were performed by using primer specific polymerase chain reaction (pcr) and pcr-rflp techniques, respectively.',\n",
       " u'at present there is no validated severity scoring or discharge criteria for ACEI-a.',\n",
       " u'we sought to develop and validate an investigator rating scale with corresponding discharge criteria using clinicians experienced in treating ACEI-a.',\n",
       " u'in line with the clinical observations of the bone-preservative properties following ACEI-1 inhibition, local activation of ACEI-2/ang1-7/mas signaling and suppressed osteoclastogenesis seem responsible for the osteo-preservative effect of captopril, which could offers a potential therapeutic value in treatment of disabling bone and skeletal muscular diseases.',\n",
       " u'he was diagnosed with acute ischemic stroke with cranial nerve 7 palsy (with right hemiparesis), acute on chronic kidney disease precipitated by dehydration and ACEI, and hyperkalemia.',\n",
       " u'mice were injected with androctonus australis hector (aah) scorpion venom (0.5mg/kg, subcutaneously), in the presence or absence of an ACEI (ACEI) inhibitor, captopril (15mg/kg/day/1day intraperitoneally) or an angiotensin type-1 receptor (at1r) antagonist, valsartan (15mg/kg/day/15days, orally).',\n",
       " u'these findings suggest that co-administration of mra and ACEI/arb has beneficial effects on renal outcomes with increasing the incidence of hyperkalemia.',\n",
       " u'there was a significant increase in the risk of hyperkalemia on the addition of mra to ACEI/arb treatment (relative risk 3.74, 95% confidence intervals 2.30-6.09, p < 0.00001).',\n",
       " u'acromegaly is associated with a disease-specific cardiomyopathy, the pathogenesis of which is poorly understood.the cardiac indices of patients with active acromegaly with no hypertension (group a, n=4), established hypertension not taking ACEI/arbs (group b, n=4) and established hypertension taking ACEI/arbs (group c, n=4) were compared using cardiac magnetic imaging.patients taking ACEI/arbs had lower end diastolic volume index (edvi) and end systolic volume index (esvi) than the other 2 groups ([c] 73.24 vs. [a] 97.92 vs. [b] 101.03\\u2009ml/m(2), anova p=0.034, b vs. c p<0.01).',\n",
       " u'the annual rate of adverse events related to ACEI (ie, the number of reported cases of adverse events per 1000 patients receiving an ACEI) was calculated from data captured on the date the events were first reported for the 5 years before and 5 years after the revocation of the pa constraint.',\n",
       " u'for venom immunotherapy, there are more data supporting the concomitant use of beta-blockers and ACEI in the build-up and maintenance phases.',\n",
       " u'recent meta-analysis of large clinical trials on the use of ACEI and angiotensin receptor blockers in cardiovascular disease has demonstrated an imbalance between patients that significantly benefit from these therapeutic agents and those that remain at risk for heart disease progression.',\n",
       " u'we recommend continuing ACEI therapy if elevated blood pressure persists after maintenance hemodialysis.',\n",
       " u'three crystal structures of ACEI were utilized for docking studies and 19 oligopeptides were finally identified with potential ACEI inhibitory activity.',\n",
       " u'since that, hypertension control gradually worsened, hypertensive organ damage aggravated and hypokalemia developed in spite of ACEI treatment.',\n",
       " u'in contrast, mice over expressing ACEI in neutrophils (neu(ACEI) mice) have increased resistance to mrsa, and better in vitro killing of mrsa, p. aeruginosa, and k. pneumoniae ACEI overexpression increased neutrophil production of reactive oxygen species (ros) following mrsa challenge, an effect independent of the angiotensin ii at1 receptor.',\n",
       " u'the ras is primarily comprised of the precursor protein angiotensinogen and the two proteases, renin and ACEI (ACEI).',\n",
       " u'this review describes involvement of brain ras in pathophysiology of neuropsychiatric disorders and an intriguing possibilities of improvement in pharmacological treatment outcome, where using angiotensin-converting-enzyme inhibitors (ACEI) and angiotensin receptor blockers (arb), goes beyond blood pressure control.',\n",
       " u'chromatographic separation was achieved with a gradient mobile phase comprising: (a) 0.2% ammonia in purified water; (b) 0.1% formic acid in isopropyl alcohol/methanol (1: 1\\u2009v/v); and (c) acetonitrile at a flow rate of 1\\u2009ml/min on an ACEI-5, c18 (4.6\\u2009\\xd7\\u200950\\u2009mm) column with a run time of 5.5\\u2009min.',\n",
       " u'we conducted a genome-wide association study on ACEI-induced cough and used our dataset to replicate candidate genes identified in previous studies.',\n",
       " u'these compounds were subjected to docking (against at1 receptor protein enzyme in complex with lisinopril), in vitro ACEI inhibition, anti-proliferative, anti-inflammatory screening (through egg albumin denaturation inhibition and red blood cell membrane stabilization assay) and finally anti-fungal activity analyses.',\n",
       " u'in univariate analysis, none of the factors including, age at time of transplant, dialysis vintage, use of ACEI-i, living-donor transplant, cytomegalovirus infection, and serum\\xa0cr at 1\\xa0year were predictive of graft failure.',\n",
       " u'the results indicated that phenolics from rabbiteye blueberry leaves could be potential antioxidants, inflammation and ACEI, and rabbiteye blueberry leaves provide a new resources of phytochemicals beneficial for cardiovascular health.',\n",
       " u'ar-42 downregulated e-cadherin, n-cadherin, twist, myof, anoikis resistance, and osteomimicry genes, while it upregulated snail, pten, fak, and zeb1 gene expression in ACEI-1 cells.',\n",
       " u'the results showed that the drugs containing the active substances of the ACEI class had had significant increases in quantitative and value sales, bringing substantial revenues to pharmacies.',\n",
       " u'ts3 (former tityustoxin or tsiv) is an \\u03b1-neurotoxin acting on voltage-gated sodium channels while ts10 (former peptide t) is a bradykinin-potentiating peptide and was originally reported as inhibitor of the ACEI (ACEI).',\n",
       " u'the present investigation thus establishes newer vista for food derived peptides having ACEI inhibitory potential for nutraceutical or therapeutic applications.',\n",
       " u'renin-angiotensin-aldosterone system (raas) antagonists, including ACEI, angiotensin receptor blockers (arb), and mineralocorticoid receptor antagonists (mra) decrease mortality and morbidity in heart failure but increase the risk of hyperkalemia, especially when used in combination.',\n",
       " u'decreases in ejection fraction (ef)] were immediately addressed by therapeutic intervention with the ACEI lisinopril and beta-blocker metoprolol.']"
      ]
     },
     "execution_count": 140,
     "metadata": {},
     "output_type": "execute_result"
    }
   ],
   "source": [
    "# example without \"pie\" item in the foodlist\n",
    "foodlist2 = foodlist.copy()\n",
    "foodlist2.remove(\"pie\")\n",
    "\n",
    "sentences = abstractRDD.flatMap(splitSentences) \\\n",
    "                       .map(lambda a: pb.ace_substitutor(a, drugkeyword)) \\\n",
    "                       .filter(lambda a: drugkeyword in a)\\\n",
    "                       .filter(lambda a: includeFoodCmpd(a, foodlist2))\n",
    "            \n",
    "sentences.collect()"
   ]
  },
  {
   "cell_type": "code",
   "execution_count": 141,
   "metadata": {},
   "outputs": [
    {
     "data": {
      "text/plain": [
       "97"
      ]
     },
     "execution_count": 141,
     "metadata": {},
     "output_type": "execute_result"
    }
   ],
   "source": [
    "sentences.count()"
   ]
  },
  {
   "cell_type": "code",
   "execution_count": 146,
   "metadata": {},
   "outputs": [
    {
     "name": "stdout",
     "output_type": "stream",
     "text": [
      "topping\n"
     ]
    }
   ],
   "source": [
    "s3 = \"results were consistent across calendar periods, across subgroups of patients, and among continuing users.conclusions\\xa0increases in creatinine after the start of ACEI/angiotensin receptor blocker treatment were associated with adverse cardiorenal outcomes in a graduated relation, even below the guideline recommended threshold of a 30% increase for stopping treatment.\"\n",
    "findFoodItems(s3, foodlist2)"
   ]
  },
  {
   "cell_type": "markdown",
   "metadata": {},
   "source": [
    "Observation: topping in food list is part of word \"stopping\" in the sentence and thus filtered :("
   ]
  },
  {
   "cell_type": "markdown",
   "metadata": {},
   "source": [
    "## Step 3: Classify sentences as positive or negative based on a sentiment lexicon"
   ]
  },
  {
   "cell_type": "markdown",
   "metadata": {},
   "source": [
    "Sentiment lexicon used is the Harvard General Inquirer (http://www.wjh.harvard.edu/~inquirer/spreadsheet_guide.htm). It contains 1,915 positive words and 2,291 negative words and is free for research use."
   ]
  },
  {
   "cell_type": "code",
   "execution_count": 149,
   "metadata": {},
   "outputs": [
    {
     "name": "stderr",
     "output_type": "stream",
     "text": [
      "/Applications/anaconda/lib/python2.7/site-packages/IPython/core/interactiveshell.py:2723: DtypeWarning: Columns (63,108,109,110,176) have mixed types. Specify dtype option on import or set low_memory=False.\n",
      "  interactivity=interactivity, compiler=compiler, result=result)\n"
     ]
    }
   ],
   "source": [
    "db_sentiment = pd.read_csv(\"data/inquirerbasic.csv\", encoding = 'utf8')"
   ]
  },
  {
   "cell_type": "code",
   "execution_count": 150,
   "metadata": {},
   "outputs": [
    {
     "data": {
      "text/html": [
       "<div>\n",
       "<table border=\"1\" class=\"dataframe\">\n",
       "  <thead>\n",
       "    <tr style=\"text-align: right;\">\n",
       "      <th></th>\n",
       "      <th>Entry</th>\n",
       "      <th>Source</th>\n",
       "      <th>Positiv</th>\n",
       "      <th>Negativ</th>\n",
       "      <th>Pstv</th>\n",
       "      <th>Affil</th>\n",
       "      <th>Ngtv</th>\n",
       "      <th>Hostile</th>\n",
       "      <th>Strong</th>\n",
       "      <th>Power</th>\n",
       "      <th>...</th>\n",
       "      <th>Anomie</th>\n",
       "      <th>NegAff</th>\n",
       "      <th>PosAff</th>\n",
       "      <th>SureLw</th>\n",
       "      <th>If</th>\n",
       "      <th>NotLw</th>\n",
       "      <th>TimeSpc</th>\n",
       "      <th>FormLw</th>\n",
       "      <th>Othtags</th>\n",
       "      <th>Defined</th>\n",
       "    </tr>\n",
       "  </thead>\n",
       "  <tbody>\n",
       "    <tr>\n",
       "      <th>0</th>\n",
       "      <td>A</td>\n",
       "      <td>H4Lvd</td>\n",
       "      <td>NaN</td>\n",
       "      <td>NaN</td>\n",
       "      <td>NaN</td>\n",
       "      <td>NaN</td>\n",
       "      <td>NaN</td>\n",
       "      <td>NaN</td>\n",
       "      <td>NaN</td>\n",
       "      <td>NaN</td>\n",
       "      <td>...</td>\n",
       "      <td>NaN</td>\n",
       "      <td>NaN</td>\n",
       "      <td>NaN</td>\n",
       "      <td>NaN</td>\n",
       "      <td>NaN</td>\n",
       "      <td>NaN</td>\n",
       "      <td>NaN</td>\n",
       "      <td>NaN</td>\n",
       "      <td>DET ART</td>\n",
       "      <td>| article: Indefinite singular article--some o...</td>\n",
       "    </tr>\n",
       "    <tr>\n",
       "      <th>1</th>\n",
       "      <td>ABANDON</td>\n",
       "      <td>H4Lvd</td>\n",
       "      <td>NaN</td>\n",
       "      <td>Negativ</td>\n",
       "      <td>NaN</td>\n",
       "      <td>NaN</td>\n",
       "      <td>Ngtv</td>\n",
       "      <td>NaN</td>\n",
       "      <td>NaN</td>\n",
       "      <td>NaN</td>\n",
       "      <td>...</td>\n",
       "      <td>NaN</td>\n",
       "      <td>NaN</td>\n",
       "      <td>NaN</td>\n",
       "      <td>NaN</td>\n",
       "      <td>NaN</td>\n",
       "      <td>NaN</td>\n",
       "      <td>NaN</td>\n",
       "      <td>NaN</td>\n",
       "      <td>SUPV</td>\n",
       "      <td>|</td>\n",
       "    </tr>\n",
       "    <tr>\n",
       "      <th>2</th>\n",
       "      <td>ABANDONMENT</td>\n",
       "      <td>H4</td>\n",
       "      <td>NaN</td>\n",
       "      <td>Negativ</td>\n",
       "      <td>NaN</td>\n",
       "      <td>NaN</td>\n",
       "      <td>NaN</td>\n",
       "      <td>NaN</td>\n",
       "      <td>NaN</td>\n",
       "      <td>NaN</td>\n",
       "      <td>...</td>\n",
       "      <td>NaN</td>\n",
       "      <td>NaN</td>\n",
       "      <td>NaN</td>\n",
       "      <td>NaN</td>\n",
       "      <td>NaN</td>\n",
       "      <td>NaN</td>\n",
       "      <td>NaN</td>\n",
       "      <td>NaN</td>\n",
       "      <td>Noun</td>\n",
       "      <td>|</td>\n",
       "    </tr>\n",
       "    <tr>\n",
       "      <th>3</th>\n",
       "      <td>ABATE</td>\n",
       "      <td>H4Lvd</td>\n",
       "      <td>NaN</td>\n",
       "      <td>Negativ</td>\n",
       "      <td>NaN</td>\n",
       "      <td>NaN</td>\n",
       "      <td>NaN</td>\n",
       "      <td>NaN</td>\n",
       "      <td>NaN</td>\n",
       "      <td>NaN</td>\n",
       "      <td>...</td>\n",
       "      <td>NaN</td>\n",
       "      <td>NaN</td>\n",
       "      <td>NaN</td>\n",
       "      <td>NaN</td>\n",
       "      <td>NaN</td>\n",
       "      <td>NaN</td>\n",
       "      <td>NaN</td>\n",
       "      <td>NaN</td>\n",
       "      <td>SUPV</td>\n",
       "      <td>|</td>\n",
       "    </tr>\n",
       "    <tr>\n",
       "      <th>4</th>\n",
       "      <td>ABATEMENT</td>\n",
       "      <td>Lvd</td>\n",
       "      <td>NaN</td>\n",
       "      <td>NaN</td>\n",
       "      <td>NaN</td>\n",
       "      <td>NaN</td>\n",
       "      <td>NaN</td>\n",
       "      <td>NaN</td>\n",
       "      <td>NaN</td>\n",
       "      <td>NaN</td>\n",
       "      <td>...</td>\n",
       "      <td>NaN</td>\n",
       "      <td>NaN</td>\n",
       "      <td>NaN</td>\n",
       "      <td>NaN</td>\n",
       "      <td>NaN</td>\n",
       "      <td>NaN</td>\n",
       "      <td>NaN</td>\n",
       "      <td>NaN</td>\n",
       "      <td>Noun</td>\n",
       "      <td>NaN</td>\n",
       "    </tr>\n",
       "  </tbody>\n",
       "</table>\n",
       "<p>5 rows × 186 columns</p>\n",
       "</div>"
      ],
      "text/plain": [
       "         Entry Source Positiv  Negativ Pstv Affil  Ngtv Hostile Strong Power  \\\n",
       "0            A  H4Lvd     NaN      NaN  NaN   NaN   NaN     NaN    NaN   NaN   \n",
       "1      ABANDON  H4Lvd     NaN  Negativ  NaN   NaN  Ngtv     NaN    NaN   NaN   \n",
       "2  ABANDONMENT     H4     NaN  Negativ  NaN   NaN   NaN     NaN    NaN   NaN   \n",
       "3        ABATE  H4Lvd     NaN  Negativ  NaN   NaN   NaN     NaN    NaN   NaN   \n",
       "4    ABATEMENT    Lvd     NaN      NaN  NaN   NaN   NaN     NaN    NaN   NaN   \n",
       "\n",
       "                         ...                         Anomie NegAff PosAff  \\\n",
       "0                        ...                            NaN    NaN    NaN   \n",
       "1                        ...                            NaN    NaN    NaN   \n",
       "2                        ...                            NaN    NaN    NaN   \n",
       "3                        ...                            NaN    NaN    NaN   \n",
       "4                        ...                            NaN    NaN    NaN   \n",
       "\n",
       "  SureLw   If NotLw TimeSpc FormLw  Othtags  \\\n",
       "0    NaN  NaN   NaN     NaN    NaN  DET ART   \n",
       "1    NaN  NaN   NaN     NaN    NaN     SUPV   \n",
       "2    NaN  NaN   NaN     NaN    NaN     Noun   \n",
       "3    NaN  NaN   NaN     NaN    NaN     SUPV   \n",
       "4    NaN  NaN   NaN     NaN    NaN     Noun   \n",
       "\n",
       "                                             Defined  \n",
       "0  | article: Indefinite singular article--some o...  \n",
       "1                                                  |  \n",
       "2                                                  |  \n",
       "3                                                  |  \n",
       "4                                                NaN  \n",
       "\n",
       "[5 rows x 186 columns]"
      ]
     },
     "execution_count": 150,
     "metadata": {},
     "output_type": "execute_result"
    }
   ],
   "source": [
    "db_sentiment.head()"
   ]
  },
  {
   "cell_type": "code",
   "execution_count": 153,
   "metadata": {},
   "outputs": [
    {
     "name": "stdout",
     "output_type": "stream",
     "text": [
      "Entry\n",
      "Source\n",
      "Positiv\n",
      "Negativ\n",
      "Pstv\n",
      "Affil\n",
      "Ngtv\n",
      "Hostile\n",
      "Strong\n",
      "Power\n",
      "Weak\n",
      "Submit\n",
      "Active\n",
      "Passive\n",
      "Pleasur\n",
      "Pain\n",
      "Feel\n",
      "Arousal\n",
      "EMOT\n",
      "Virtue\n",
      "Vice\n",
      "Ovrst\n",
      "Undrst\n",
      "Academ\n",
      "Doctrin\n",
      "Econ@\n",
      "Exch\n",
      "ECON\n",
      "Exprsv\n",
      "Legal\n",
      "Milit\n",
      "Polit@\n",
      "POLIT\n",
      "Relig\n",
      "Role\n",
      "COLL\n",
      "Work\n",
      "Ritual\n",
      "SocRel\n",
      "Race\n",
      "Kin@\n",
      "MALE\n",
      "Female\n",
      "Nonadlt\n",
      "HU\n",
      "ANI\n",
      "PLACE\n",
      "Social\n",
      "Region\n",
      "Route\n",
      "Aquatic\n",
      "Land\n",
      "Sky\n",
      "Object\n",
      "Tool\n",
      "Food\n",
      "Vehicle\n",
      "BldgPt\n",
      "ComnObj\n",
      "NatObj\n",
      "BodyPt\n",
      "ComForm\n",
      "COM\n",
      "Say\n",
      "Need\n",
      "Goal\n",
      "Try\n",
      "Means\n",
      "Persist\n",
      "Complet\n",
      "Fail\n",
      "NatrPro\n",
      "Begin\n",
      "Vary\n",
      "Increas\n",
      "Decreas\n",
      "Finish\n",
      "Stay\n",
      "Rise\n",
      "Exert\n",
      "Fetch\n",
      "Travel\n",
      "Fall\n",
      "Think\n",
      "Know\n",
      "Causal\n",
      "Ought\n",
      "Perceiv\n",
      "Compare\n",
      "Eval@\n",
      "EVAL\n",
      "Solve\n",
      "Abs@\n",
      "ABS\n",
      "Quality\n",
      "Quan\n",
      "NUMB\n",
      "ORD\n",
      "CARD\n",
      "FREQ\n",
      "DIST\n",
      "Time@\n",
      "TIME\n",
      "Space\n",
      "POS\n",
      "DIM\n",
      "Rel\n",
      "COLOR\n",
      "Self\n",
      "Our\n",
      "You\n",
      "Name\n",
      "Yes\n",
      "No\n",
      "Negate\n",
      "Intrj\n",
      "IAV\n",
      "DAV\n",
      "SV\n",
      "IPadj\n",
      "IndAdj\n",
      "PowGain\n",
      "PowLoss\n",
      "PowEnds\n",
      "PowAren\n",
      "PowCon\n",
      "PowCoop\n",
      "PowAuPt\n",
      "PowPt\n",
      "PowDoct\n",
      "PowAuth\n",
      "PowOth\n",
      "PowTot\n",
      "RcEthic\n",
      "RcRelig\n",
      "RcGain\n",
      "RcLoss\n",
      "RcEnds\n",
      "RcTot\n",
      "RspGain\n",
      "RspLoss\n",
      "RspOth\n",
      "RspTot\n",
      "AffGain\n",
      "AffLoss\n",
      "AffPt\n",
      "AffOth\n",
      "AffTot\n",
      "WltPt\n",
      "WltTran\n",
      "WltOth\n",
      "WltTot\n",
      "WlbGain\n",
      "WlbLoss\n",
      "WlbPhys\n",
      "WlbPsyc\n",
      "WlbPt\n",
      "WlbTot\n",
      "EnlGain\n",
      "EnlLoss\n",
      "EnlEnds\n",
      "EnlPt\n",
      "EnlOth\n",
      "EnlTot\n",
      "SklAsth\n",
      "SklPt\n",
      "SklOth\n",
      "SklTot\n",
      "TrnGain\n",
      "TrnLoss\n",
      "TranLw\n",
      "MeansLw\n",
      "EndsLw\n",
      "ArenaLw\n",
      "PtLw\n",
      "Nation\n",
      "Anomie\n",
      "NegAff\n",
      "PosAff\n",
      "SureLw\n",
      "If\n",
      "NotLw\n",
      "TimeSpc\n",
      "FormLw\n",
      "Othtags\n",
      "Defined\n"
     ]
    }
   ],
   "source": [
    "# Look at all data fields available\n",
    "for column in db_sentiment.columns:\n",
    "    print column"
   ]
  },
  {
   "cell_type": "markdown",
   "metadata": {},
   "source": [
    "**Note:** some columns seem quite interesting for analysing relationship other than simply positive or negative sentiment (e.g. \"causal\", etc.). For the baseline, we will only use the \"positive\" and \"negative\" columns"
   ]
  },
  {
   "cell_type": "code",
   "execution_count": 156,
   "metadata": {
    "collapsed": true
   },
   "outputs": [],
   "source": [
    "# Filter only the words labeled positive or negative\n",
    "positive = db_sentiment[db_sentiment.Positiv == \"Positiv\"].Entry.map(lambda x: x.lower()).tolist()\n",
    "negative = db_sentiment[db_sentiment.Negativ == \"Negativ\"].Entry.map(lambda x: x.lower()).tolist()"
   ]
  },
  {
   "cell_type": "code",
   "execution_count": 157,
   "metadata": {},
   "outputs": [
    {
     "data": {
      "text/plain": [
       "[u'abide', u'ability', u'able', u'abound']"
      ]
     },
     "execution_count": 157,
     "metadata": {},
     "output_type": "execute_result"
    }
   ],
   "source": [
    "positive[:4]"
   ]
  },
  {
   "cell_type": "code",
   "execution_count": 158,
   "metadata": {},
   "outputs": [
    {
     "data": {
      "text/plain": [
       "[u'abandon', u'abandonment', u'abate', u'abdicate']"
      ]
     },
     "execution_count": 158,
     "metadata": {},
     "output_type": "execute_result"
    }
   ],
   "source": [
    "negative[:4]"
   ]
  },
  {
   "cell_type": "code",
   "execution_count": 159,
   "metadata": {
    "collapsed": true
   },
   "outputs": [],
   "source": [
    "# Transform list into sets for faster search\n",
    "positive = set(positive)\n",
    "negative = set(negative)"
   ]
  },
  {
   "cell_type": "markdown",
   "metadata": {},
   "source": [
    "Below is an attempt to classify whether a sentence is positive or negative.  \n",
    "Note the main weaknesses:  \n",
    "1. It is \"positively\" biased for now since looks at the positive words first and if it finds it, then it immediately returns positive. Thus, it may not look at the entire sentence in case of both positive or negative words.  \n",
    "2. Negation of a positive word is not taken into account"
   ]
  },
  {
   "cell_type": "code",
   "execution_count": 160,
   "metadata": {
    "collapsed": true
   },
   "outputs": [],
   "source": [
    "def includeSentiment(sentence, poslist, neglist): \n",
    "    ''' Classify sentence as positive or negative based on first word found\n",
    "        in the lexicon\n",
    "    '''\n",
    "    if any(word in sentence for word in poslist):\n",
    "        return (\"positive\", sentence)\n",
    "    elif any(word in sentence for word in neglist):\n",
    "        return (\"negative\", sentence)\n",
    "    else:\n",
    "        return (\"neutral\", sentence)"
   ]
  },
  {
   "cell_type": "code",
   "execution_count": 161,
   "metadata": {
    "collapsed": true
   },
   "outputs": [],
   "source": [
    "# Add sentiment as key in the RDD\n",
    "sentiments = sentences.map(lambda a: includeSentiment(a, positive, negative))\n"
   ]
  },
  {
   "cell_type": "code",
   "execution_count": 166,
   "metadata": {},
   "outputs": [
    {
     "data": {
      "text/plain": [
       "[('positive',\n",
       "  u'results were consistent across calendar periods, across subgroups of patients, and among continuing users.conclusions\\xa0increases in creatinine after the start of ACEI/angiotensin receptor blocker treatment were associated with adverse cardiorenal outcomes in a graduated relation, even below the guideline recommended threshold of a 30% increase for stopping treatment.'),\n",
       " ('positive',\n",
       "  u'in multivariable analyses, duration from implantation >1\\xa0year (or: 2.44, 95% ci 1.12-5.31; p\\u2009=\\u20090.03), absence of ACEI/angiotensin ii receptor blockers (or 1.95, 95% ci 1.10-3.44; p\\u2009=\\u20090.02) or statins at the time of isr (or 3.12, 95% ci 1.42-6.84; p\\u2009=\\u20090.01), and first-generation vs first-generation des (or 5.32, 95% ci 2.82-10.10; p\\u2009<\\u20090.001) correlated with a higher prevalence of neoatherosclerosis.')]"
      ]
     },
     "execution_count": 166,
     "metadata": {},
     "output_type": "execute_result"
    }
   ],
   "source": [
    "# Peek at 2 first lines\n",
    "sentiments.take(2)"
   ]
  },
  {
   "cell_type": "code",
   "execution_count": 177,
   "metadata": {
    "collapsed": true
   },
   "outputs": [],
   "source": [
    "# \n",
    "pos_sentiments = sentiments.lookup(\"positive\")\n",
    "neg_sentiments = sentiments.lookup(\"negative\")"
   ]
  },
  {
   "cell_type": "code",
   "execution_count": 183,
   "metadata": {},
   "outputs": [
    {
     "data": {
      "text/plain": [
       "[u'results were consistent across calendar periods, across subgroups of patients, and among continuing users.conclusions\\xa0increases in creatinine after the start of ACEI/angiotensin receptor blocker treatment were associated with adverse cardiorenal outcomes in a graduated relation, even below the guideline recommended threshold of a 30% increase for stopping treatment.',\n",
       " u'in multivariable analyses, duration from implantation >1\\xa0year (or: 2.44, 95% ci 1.12-5.31; p\\u2009=\\u20090.03), absence of ACEI/angiotensin ii receptor blockers (or 1.95, 95% ci 1.10-3.44; p\\u2009=\\u20090.02) or statins at the time of isr (or 3.12, 95% ci 1.42-6.84; p\\u2009=\\u20090.01), and first-generation vs first-generation des (or 5.32, 95% ci 2.82-10.10; p\\u2009<\\u20090.001) correlated with a higher prevalence of neoatherosclerosis.',\n",
       " u'predictors of a triggered acs were age <65\\xa0years, previous angina, no previous ACEI/angiotensin 2 receptor blockers, impaired functional class, not having typical chest pain on admission, and a final diagnosis of unstable angina.',\n",
       " u'ACEI/arb doses were r/d in 17.2% because of acute kidney injury (56.7%), hypotension (23.3%), and hyperkalemia (10%).',\n",
       " u'in this study, we examined the separated caseins and whey proteins of goat milk for the presence of ACEI inhibitory peptides.',\n",
       " u'digestion of isolated whey proteins and caseins of goat milk by gastric pepsin generated soluble hydrolysates exhibiting significant inhibition of ACEI compared to weak inhibition by undigested proteins.',\n",
       " u'maldi-tof ms/ms resulted in identification of three potent ACEI inhibitory peptides: peqslacqcl from \\u03b2-lactoglobulin (residues 113-122), qslvypftgpi from \\u03b2-casein (residues 56-66), and arhphphlsfm from \\u03ba-casein (residues 96-106).',\n",
       " u'the peptides from whey and caseins exert significant ACEI inhibitory activities comparable to that of captopril, an antihypertensive drug, exhibiting ic50 values of 4.45\\xa0\\u03bcm and 4.27\\xa0\\u03bcm, respectively.',\n",
       " u'the results introduce, for the first time, new potent ACEI-inhibitory peptides that can be released by gastric pepsin of goat milk whey and caseins and thus may pave the way for their candidacy as anti-hypertensive bioactive peptides and prevention of associated disorders.',\n",
       " u'pharmacokinetic and pharmacodynamic (pk/pd) properties of the ACEI benazeprilat have not been evaluated in horses.']"
      ]
     },
     "execution_count": 183,
     "metadata": {},
     "output_type": "execute_result"
    }
   ],
   "source": [
    "# Examples of sentences with positive sentiment lexicon\n",
    "pos_sentiments[:10]"
   ]
  },
  {
   "cell_type": "code",
   "execution_count": 179,
   "metadata": {},
   "outputs": [
    {
     "data": {
      "text/plain": [
       "[u'the late-eluting fraction (f4) of either whey or caseins exhibited greater ACEI inhibition.',\n",
       " u'commonly used drugs including ACEI and statins increase a risk of hyperkalemia.']"
      ]
     },
     "execution_count": 179,
     "metadata": {},
     "output_type": "execute_result"
    }
   ],
   "source": [
    "# Examples of sentences with negative sentiment lexicon\n",
    "neg_sentiments[:2]"
   ]
  },
  {
   "cell_type": "code",
   "execution_count": 180,
   "metadata": {
    "collapsed": true
   },
   "outputs": [],
   "source": [
    "def findSentiment(sentence, sentiment, poslist, neglist):\n",
    "    '''Print out the lexicon word that classified the sentence as positive or negative\n",
    "    '''\n",
    "    if sentiment == \"positive\":\n",
    "        lexicon = poslist\n",
    "    else:\n",
    "        lexicon = neglist\n",
    "    for word in lexicon:\n",
    "        # Note: had to use this \"try/except\" since there was an unicode ascii error... any ways\n",
    "        # to fix this without this try/except? if left the same, then we won't be able to see\n",
    "        # some sentiment word in some sentences.\n",
    "        try:\n",
    "            if word in sentence:\n",
    "                print word\n",
    "        except:\n",
    "            next"
   ]
  },
  {
   "cell_type": "code",
   "execution_count": 184,
   "metadata": {},
   "outputs": [
    {
     "name": "stdout",
     "output_type": "stream",
     "text": [
      "casein\n",
      "oat\n",
      "whey\n",
      "pro\n",
      "generate\n",
      "significant\n"
     ]
    }
   ],
   "source": [
    "s5 = \"digestion of isolated whey proteins and caseins of goat milk by gastric pepsin generated soluble hydrolysates exhibiting significant inhibition of ACEI compared to weak inhibition by undigested proteins\"\n",
    "findFoodItems(s5, foodlist)\n",
    "findSentiment(s5, \"positive\", positive, negative)"
   ]
  },
  {
   "cell_type": "code",
   "execution_count": 182,
   "metadata": {},
   "outputs": [
    {
     "name": "stdout",
     "output_type": "stream",
     "text": [
      "casein\n",
      "whey\n",
      "inhibit\n",
      "inhibition\n"
     ]
    }
   ],
   "source": [
    "s6 = \"the late-eluting fraction (f4) of either whey or caseins exhibited greater ACEI inhibition\"\n",
    "findFoodItems(s6, foodlist)\n",
    "findSentiment(s6, \"negative\", positive, negative)"
   ]
  },
  {
   "cell_type": "code",
   "execution_count": 185,
   "metadata": {
    "collapsed": true
   },
   "outputs": [],
   "source": [
    "def findTags(sentence, sentiment, foods, poslist, neglist):\n",
    "    ''' Returns the tags of the sentence \n",
    "        Both lexicon word that classified the sentence as positive or negative and food name\n",
    "    '''\n",
    "    \n",
    "    sent = []\n",
    "    food = []\n",
    "    \n",
    "    if sentiment == \"positive\":\n",
    "        lexicon = poslist\n",
    "    else:\n",
    "        lexicon = neglist\n",
    "    for word in lexicon:\n",
    "        # Note: had to use this \"try/except\" since there was an unicode ascii error... any ways\n",
    "        # to fix this without this try/except? if left the same, then we won't be able to see\n",
    "        # some sentiment word in some sentences.\n",
    "        try:\n",
    "            if word in sentence:\n",
    "                sent.append(word)\n",
    "        except:\n",
    "            next\n",
    "    for f in foods:\n",
    "        if f in sentence:\n",
    "            food.append(f)\n",
    "    return [sent, food, sentence]"
   ]
  },
  {
   "cell_type": "code",
   "execution_count": 197,
   "metadata": {
    "collapsed": true
   },
   "outputs": [],
   "source": [
    "# Save results in a text file\n",
    "# Note: this could have been also done in Spark! But felt lazy to code... feel free to try!"
   ]
  },
  {
   "cell_type": "code",
   "execution_count": 196,
   "metadata": {},
   "outputs": [],
   "source": [
    "with open(\"data/Positive.txt\", \"w\") as pos:\n",
    "    for sentence in pos_sentiments:\n",
    "        tags = findTags(sentence, \"positive\", foodlist, positive, negative)\n",
    "        pos.writelines(str(tags)+ \"\\n\")\n",
    "    \n",
    "    "
   ]
  },
  {
   "cell_type": "code",
   "execution_count": 195,
   "metadata": {},
   "outputs": [],
   "source": [
    "with open(\"data/Negative.txt\", \"w\") as pos:\n",
    "    for sentence in pos_sentiments:\n",
    "        tags = findTags(sentence, \"negative\", foodlist, positive, negative)\n",
    "        pos.writelines(str(tags)+ \"\\n\")"
   ]
  },
  {
   "cell_type": "code",
   "execution_count": null,
   "metadata": {
    "collapsed": true
   },
   "outputs": [],
   "source": []
  }
 ],
 "metadata": {
  "kernelspec": {
   "display_name": "Python 2",
   "language": "python",
   "name": "python2"
  },
  "language_info": {
   "codemirror_mode": {
    "name": "ipython",
    "version": 2
   },
   "file_extension": ".py",
   "mimetype": "text/x-python",
   "name": "python",
   "nbconvert_exporter": "python",
   "pygments_lexer": "ipython2",
   "version": "2.7.12"
  }
 },
 "nbformat": 4,
 "nbformat_minor": 2
}
