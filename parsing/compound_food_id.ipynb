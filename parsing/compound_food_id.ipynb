{
 "cells": [
  {
   "cell_type": "markdown",
   "metadata": {
    "collapsed": false,
    "scrolled": true
   },
   "source": [
    "# Compound and food dictionaries\n",
    "\n",
    "This notebook creates several dictionaries which can be readily loaded as pickled objects. \n",
    "\n",
    "Dictionaries saved in pickle files:\n",
    " - food_common.pickle: common English food names as keys, compounds as values\n",
    " - food_sci.pickle: scientific food names as keys, compounds as values\n",
    " - compound_common.pickle: compounds as keys, common English food names as values\n",
    " - compound_sci.pickle: compounds as keys, scientific food names as values\n",
    " - food_convert_common.pickle: common English food names as keys, scientific food names as values\n",
    " - food_convert_sci.pickle: scientific food names as keys, common English food names as values\n",
    " - food_sci_abbrev.pickle: scientific food names as keys, abbreviated scientific food names as values\n",
    " \n",
    "Example usage:"
   ]
  },
  {
   "cell_type": "code",
   "execution_count": 2,
   "metadata": {
    "collapsed": false
   },
   "outputs": [
    {
     "name": "stdout",
     "output_type": "stream",
     "text": [
      "id:name\n",
      "--------\n",
      "8-Deoxylactucin:['Chicory', 'Chicory', 'Chicory']\n",
      "Isorhamnetin 3-(2G-apiosylrutinoside):['Cereals and cereal products']\n",
      "Menthofurolactone:['Cornmint']\n",
      "1,3,5,11-Bisabolatetraen-10-one:['Herbs and Spices']\n",
      "Methyl [8]-Shogaol:['Ginger', 'Ginger']\n",
      "8-Hydroxy-7-methoxy-2H-1-benzopyran-2-one:['Green vegetables']\n",
      "1,4-Dimethylpyrrolo[1,2-a]pyrazine:['Animal foods']\n",
      "PC(14:0/22:0):['Cow milk, pasteurized, vitamin A + D added, 0% fat', 'Cow milk, pasteurized, vitamin A + D added, 1% fat', 'Cow milk, pasteurized, vitamin A + D added, 2% fat', 'Cow milk, pasteurized, vitamin D added, 3.25% fat']\n",
      "2-Ethylpyrazine:['Tea', 'Fenugreek', 'Cocoa and cocoa products', 'Potato', 'Coffee and coffee products', 'Tea', 'Mollusks', 'Cereals and cereal products', 'Green vegetables', 'Pulses', 'Crustaceans', 'Nuts']\n",
      "N-Isobutyleicosa-trans-2-trans-4-cis-8-trienamide:['Pepper (Spice)']\n",
      "2(3)-Benzoxazolinone:['Common wheat', 'Corn']\n"
     ]
    }
   ],
   "source": [
    "import pickle\n",
    "compound_common = pickle.load( open( \"compound_common.pickle\", \"rb\" ) )\n",
    "for i, item in enumerate(compound_common.iteritems()):\n",
    "    if i == 0:\n",
    "        print 'id:name'\n",
    "        print '-'*8\n",
    "    print '{0}:{1}'.format(item[0], item[1])\n",
    "    if i == 10: break"
   ]
  },
  {
   "cell_type": "markdown",
   "metadata": {},
   "source": [
    "## Create dictionaries"
   ]
  },
  {
   "cell_type": "markdown",
   "metadata": {},
   "source": [
    "First, extract only the second and fourth columns from the contents.csv files. The second column contains the compound id while the fourth has the food ids. If we want to join the ids with the food and compound names, we need to extract those from compounds.csv and foods.csv files."
   ]
  },
  {
   "cell_type": "code",
   "execution_count": 150,
   "metadata": {
    "collapsed": false
   },
   "outputs": [
    {
     "name": "stdout",
     "output_type": "stream",
     "text": [
      "id,source_id,\"source_type\",food_id,\"orig_food_id\",\"orig_food_common_name\",\"orig_food_scientific_name\",\"orig_food_part\",\"orig_source_id\",\"orig_source_name\",orig_content,orig_min,orig_max,\"orig_unit\",\"orig_citation\",\"citation\",\"citation_type\",creator_id,updater_id,\"created_at\",\"updated_at\",\"orig_method\",\"orig_unit_expression\",standard_content\r\n",
      "1,1,\"Nutrient\",4,\"29\",\"Kiwi\",\"Actinidia chinensis PLANCHON [Actinidiaceae]\",\"Fruit\",\"FAT\",\"FAT\",NULL,700.000000000,38400.000000000,\"ppm\",NULL,\"DUKE\",\"DATABASE\",NULL,NULL,\"2014-11-05 13:42:11\",\"2015-10-21 23:02:07\",NULL,NULL,1955.000000000\r\n",
      "2,1,\"Nutrient\",6,\"53\",\"Onion\",\"Allium cepa L. [Liliaceae]\",\"Bulb\",\"FAT\",\"FAT\",NULL,1000.000000000,36079.000000000,\"ppm\",NULL,\"DUKE\",\"DATABASE\",NULL,NULL,\"2014-11-05 13:42:11\",\"2015-10-21 23:02:07\",NULL,NULL,1853.950000000\r\n",
      "3,1,\"Nutrient\",6,\"53\",\"Onion\",\"Allium cepa L. [Liliaceae]\",\"Leaf\",\"FAT\",\"FAT\",NULL,6000.000000000,77000.000000000,\"ppm\",NULL,\"DUKE\",\"DATABASE\",NULL,NULL,\"2014-11-05 13:42:11\",\"2015-10-21 23:02:07\",NULL,NULL,4150.000000000\r\n",
      "4,1,\"Nutrient\",9,\"55\",\"Chives\",\"Allium schoenoprasum L. [Liliaceae]\",\"Leaf\",\"FAT\",\"FAT\",NULL,3000.000000000,75000.000000000,\"ppm\",NULL,\"DUKE\",\"DATABASE\",NULL,NULL,\"2014-11-05 13:42:11\",\"2015-10-21 23:02:07\",NULL,NULL,3900.000000000\r\n",
      "5,1,\"Nutrient\",11,\"70\",\"Cashew\",\"Anacardium occidentale L. [Anacardiaceae]\",\"Fruit\",\"FAT\",\"FAT\",NULL,1000.000000000,49000.000000000,\"ppm\",NULL,\"DUKE\",\"DATABASE\",NULL,NULL,\"2014-11-05 13:42:11\",\"2015-10-21 23:02:07\",NULL,NULL,2500.000000000\r\n",
      "6,1,\"Nutrient\",11,\"70\",\"Cashew\",\"Anacardium occidentale L. [Anacardiaceae]\",\"Leaf\",\"FAT\",\"FAT\",NULL,6000.000000000,20000.000000000,\"ppm\",NULL,\"DUKE\",\"DATABASE\",NULL,NULL,\"2014-11-05 13:42:11\",\"2015-10-21 23:02:07\",NULL,NULL,1300.000000000\r\n",
      "7,1,\"Nutrient\",11,\"70\",\"Cashew\",\"Anacardium occidentale L. [Anacardiaceae]\",\"Seed\",\"FAT\",\"FAT\",NULL,370000.000000000,482000.000000000,\"ppm\",NULL,\"DUKE\",\"DATABASE\",NULL,NULL,\"2014-11-05 13:42:11\",\"2015-10-21 23:02:07\",NULL,NULL,42600.000000000\r\n",
      "8,1,\"Nutrient\",12,\"74\",\"Pineapple\",\"Ananas comosus (L.) MERR. [Bromeliaceae]\",\"Fruit\",\"FAT\",\"FAT\",NULL,1000.000000000,42772.000000000,\"ppm\",NULL,\"DUKE\",\"DATABASE\",NULL,NULL,\"2014-11-05 13:42:11\",\"2015-10-21 23:02:07\",NULL,NULL,2188.600000000\r\n",
      "9,1,\"Nutrient\",13,\"83\",\"Dill\",\"Anethum graveolens L. [Apiaceae]\",\"Plant\",\"FAT\",\"FAT\",NULL,43000.000000000,47000.000000000,\"ppm\",NULL,\"DUKE\",\"DATABASE\",NULL,NULL,\"2014-11-05 13:42:11\",\"2015-10-21 23:02:07\",NULL,NULL,4500.000000000\r\n"
     ]
    }
   ],
   "source": [
    "from collections import defaultdict\n",
    "\n",
    "# pip install csvcut\n",
    "\n",
    "FOODB_PATH = '/home/adam/Documents/MIDS/W266/Project/data/foodb_2016-11-18/'\n",
    "COMPOUND_ID_PATH = FOODB_PATH + 'compounds.csv'\n",
    "FOOD_ID_PATH = FOODB_PATH + 'foods.csv'\n",
    "COMPOUND_FOOD_ID_PATH = FOODB_PATH + 'contents.csv'\n",
    "!head $COMPOUND_FOOD_ID_PATH\n",
    "!csvcut -c 2,4 $COMPOUND_FOOD_ID_PATH  > compound_food_id.csv \n",
    "!csvcut -c 1,5 $COMPOUND_ID_PATH > compound_id.csv\n",
    "!csvformat -D \"|\" compound_id.csv > compound_id_pipe_delimited.csv\n",
    "!csvcut -c 1,2,3 $FOOD_ID_PATH > food_id.csv\n",
    "!csvformat -D \"|\" food_id.csv > food_id_pipe_delimited.csv"
   ]
  },
  {
   "cell_type": "markdown",
   "metadata": {},
   "source": [
    "### Extracting compound ids and names"
   ]
  },
  {
   "cell_type": "code",
   "execution_count": 3,
   "metadata": {
    "collapsed": false,
    "scrolled": true
   },
   "outputs": [],
   "source": [
    "compound = {}\n",
    "with open('compound_id_pipe_delimited.csv','r') as infile:\n",
    "    for line in infile:\n",
    "        compound_id, name = line.strip('\\n').split('|')\n",
    "        # the longest compound id has 5 characters, any longer than that is invalid (that is, if somebody was kind enough\n",
    "        # to place a note in the id column)\n",
    "        if len(compound_id) > 5 or len(compound_id) == 0:\n",
    "            continue\n",
    "        compound[compound_id] = name"
   ]
  },
  {
   "cell_type": "markdown",
   "metadata": {},
   "source": [
    "example"
   ]
  },
  {
   "cell_type": "code",
   "execution_count": 4,
   "metadata": {
    "collapsed": false
   },
   "outputs": [
    {
     "name": "stdout",
     "output_type": "stream",
     "text": [
      "id:compound\n",
      "--------\n",
      "11542:Pectenotoxin 2\n",
      "11543:Pectenotoxin 3\n",
      "11540:Antibiotic A 41030\n",
      "11541:Pectenotoxin 1\n",
      "11546:Desglucodesrhamnoparillin\n",
      "11547:Testosterone\n",
      "11544:Pectenotoxin 4\n",
      "11545:Pectenotoxin 5\n",
      "11548:Tetronasin\n",
      "11549:24-Methylenelophenol\n",
      "5989:Chamaviolin\n"
     ]
    }
   ],
   "source": [
    "for i, item in enumerate(compound.iteritems()):\n",
    "    if i == 0:\n",
    "        print 'id:compound'\n",
    "        print '-'*8\n",
    "    print '{0}:{1}'.format(item[0], item[1])\n",
    "    if i == 10: break"
   ]
  },
  {
   "cell_type": "markdown",
   "metadata": {},
   "source": [
    "## Extracting food ids and names"
   ]
  },
  {
   "cell_type": "code",
   "execution_count": 5,
   "metadata": {
    "collapsed": false
   },
   "outputs": [],
   "source": [
    "food_english = {}\n",
    "food_latin = {}\n",
    "# translate common to scientific names and vice versa\n",
    "food_convert_common = {}\n",
    "food_convert_sci = {}\n",
    "with open('food_id_pipe_delimited.csv','r') as infile:\n",
    "    for line in infile:\n",
    "        try:\n",
    "            food_id, english_name, latin_name = line.strip('\\n').split('|')\n",
    "        # if a note which contains a ',' is recorded in the same column as the Latin name, extract only the id,\n",
    "        # English and Latin names.\n",
    "        except ValueError:\n",
    "            strings = line.strip('\\n').split(',')\n",
    "            food_id, english_name, latin_name = strings[0], strings[1], strings[2]\n",
    "        # the longest valid food id has three characters, any longer than that is invalid (that is, if somebody was \n",
    "        # kind enough to place a note in the id column)\n",
    "        if len(food_id) > 3 or len(food_id) == 0:\n",
    "            continue\n",
    "        food_english[food_id] = english_name\n",
    "        food_latin[food_id] = latin_name\n",
    "        food_convert_common[english_name] = latin_name\n",
    "        food_convert_sci[latin_name] = english_name\n",
    "        "
   ]
  },
  {
   "cell_type": "markdown",
   "metadata": {},
   "source": [
    "example"
   ]
  },
  {
   "cell_type": "code",
   "execution_count": 6,
   "metadata": {
    "collapsed": false
   },
   "outputs": [
    {
     "name": "stdout",
     "output_type": "stream",
     "text": [
      "id:name\n",
      "--------\n",
      "344:Common octopus\n",
      "345:Corn salad\n",
      "346:Cottonseed\n",
      "347:Catjang pea\n",
      "340:Nuttall cockle\n",
      "341:Coconut\n",
      "342:Pacific cod\n",
      "343:Atlantic cod\n",
      "810:Ice cream cone\n",
      "811:Molasses\n",
      "812:Cracker\n"
     ]
    }
   ],
   "source": [
    "for i, item in enumerate(food_english.iteritems()):\n",
    "    if i == 0:\n",
    "        print 'id:name'\n",
    "        print '-'*8\n",
    "    print '{0}:{1}'.format(item[0], item[1])\n",
    "    if i == 10: break"
   ]
  },
  {
   "cell_type": "markdown",
   "metadata": {},
   "source": [
    "example"
   ]
  },
  {
   "cell_type": "code",
   "execution_count": 8,
   "metadata": {
    "collapsed": false
   },
   "outputs": [
    {
     "name": "stdout",
     "output_type": "stream",
     "text": [
      "id:name\n",
      "--------\n",
      "344:Octopus vulgaris\n",
      "345:Valerianella locusta\n",
      "346:Gossypium\n",
      "347:Vigna unguiculata ssp. cylindrica\n",
      "340:Clinocardium nuttallii\n",
      "341:Cocos nucifera\n",
      "342:Gadus macrocephalus\n",
      "343:Gadus morhua\n",
      "810:NULL\n",
      "811:NULL\n",
      "812:NULL\n"
     ]
    }
   ],
   "source": [
    "for i, item in enumerate(food_latin.iteritems()):\n",
    "    if i == 0:\n",
    "        print 'id:name'\n",
    "        print '-'*8\n",
    "    print '{0}:{1}'.format(item[0], item[1])\n",
    "    if i == 10: break"
   ]
  },
  {
   "cell_type": "code",
   "execution_count": 9,
   "metadata": {
    "collapsed": false
   },
   "outputs": [
    {
     "name": "stdout",
     "output_type": "stream",
     "text": [
      "id:name\n",
      "--------\n",
      "Oregon yampah:Perideridia oregana\n",
      "Okra:Abelmoschus esculentus\n",
      "Snail:Gastropoda\n",
      "Black mulberry:Morus nigra\n",
      "Avocado:Persea americana\n",
      "Parsley:Petroselinum crispum\n",
      "Elderberry:Sambucus\n",
      "Sugar:NULL\n",
      "Sweet bay:Laurus nobilis\n",
      "Common bean:Phaseolus vulgaris\n",
      "Fig:Ficus carica\n"
     ]
    }
   ],
   "source": [
    "for i, item in enumerate(food_convert_common.iteritems()):\n",
    "    if i == 0:\n",
    "        print 'id:name'\n",
    "        print '-'*8\n",
    "    print '{0}:{1}'.format(item[0], item[1])\n",
    "    if i == 10: break"
   ]
  },
  {
   "cell_type": "markdown",
   "metadata": {},
   "source": [
    "## create compound - food id dictionaries"
   ]
  },
  {
   "cell_type": "code",
   "execution_count": 11,
   "metadata": {
    "collapsed": false
   },
   "outputs": [],
   "source": [
    "i = 0\n",
    "food_dict = defaultdict(list)\n",
    "compound_dict = defaultdict(list)\n",
    "with open('compound_food_id.csv','r') as compound_food_ids:\n",
    "    for line in compound_food_ids:\n",
    "        if i != 0:\n",
    "            compound_id, food_id = line.strip('\\n').split(',')\n",
    "            food_name = food_english[food_id]\n",
    "            try:\n",
    "                compound_name = compound[compound_id]\n",
    "                food_dict[food_name].append(compound_name)\n",
    "                compound_dict[compound_name].append(food_name)\n",
    "            # KeyError occurs when a compound is not in the dictionary, e.g., if it is a nutrient such as fat\n",
    "            # and not a small molecule\n",
    "            except KeyError:\n",
    "                pass\n",
    "        i += 1"
   ]
  },
  {
   "cell_type": "code",
   "execution_count": 12,
   "metadata": {
    "collapsed": false
   },
   "outputs": [],
   "source": [
    "i = 0\n",
    "# contains common names of foods \n",
    "food_common = defaultdict(list)\n",
    "compound_common = defaultdict(list)\n",
    "# contains scientific names of foods\n",
    "food_sci = defaultdict(list)\n",
    "compound_sci = defaultdict(list)\n",
    "\n",
    "\n",
    "with open('compound_food_id.csv','r') as compound_food_ids:\n",
    "    for line in compound_food_ids:\n",
    "        if i != 0:\n",
    "            compound_id, food_id = line.strip('\\n').split(',')\n",
    "            food_name_common = food_english[food_id]\n",
    "            food_name_sci = food_latin[food_id]\n",
    "            try:\n",
    "                compound_name = compound[compound_id]\n",
    "                food_common[food_name_common].append(compound_name)\n",
    "                food_sci[food_name_sci].append(compound_name)     \n",
    "                compound_common[compound_name].append(food_name_common)\n",
    "                compound_sci[compound_name].append(food_name_sci)\n",
    "            # KeyError occurs when a compound is not in the dictionary, e.g., if it is a nutrient such as fat\n",
    "            # and not a small molecule, so in this case, we can safely skip the key error\n",
    "            except KeyError:\n",
    "                pass\n",
    "        i += 1"
   ]
  },
  {
   "cell_type": "markdown",
   "metadata": {},
   "source": [
    "example"
   ]
  },
  {
   "cell_type": "code",
   "execution_count": 156,
   "metadata": {
    "collapsed": false,
    "scrolled": true
   },
   "outputs": [
    {
     "name": "stdout",
     "output_type": "stream",
     "text": [
      "id:name\n",
      "--------\n",
      "8-Deoxylactucin:['Chicory', 'Chicory', 'Chicory']\n",
      "Isorhamnetin 3-(2G-apiosylrutinoside):['Cereals and cereal products']\n",
      "Menthofurolactone:['Cornmint']\n",
      "1,3,5,11-Bisabolatetraen-10-one:['Herbs and Spices']\n",
      "Methyl [8]-Shogaol:['Ginger', 'Ginger']\n",
      "8-Hydroxy-7-methoxy-2H-1-benzopyran-2-one:['Green vegetables']\n",
      "1,4-Dimethylpyrrolo[1,2-a]pyrazine:['Animal foods']\n",
      "PC(14:0/22:0):['Cow milk, pasteurized, vitamin A + D added, 0% fat', 'Cow milk, pasteurized, vitamin A + D added, 1% fat', 'Cow milk, pasteurized, vitamin A + D added, 2% fat', 'Cow milk, pasteurized, vitamin D added, 3.25% fat']\n",
      "PC(20:2(11Z,14Z)/18:4(6Z,9Z,12Z,15Z)):['Cow milk, pasteurized, vitamin A + D added, 0% fat', 'Cow milk, pasteurized, vitamin A + D added, 1% fat', 'Cow milk, pasteurized, vitamin A + D added, 2% fat', 'Cow milk, pasteurized, vitamin D added, 3.25% fat']\n",
      "2-Ethylpyrazine:['Tea', 'Fenugreek', 'Cocoa and cocoa products', 'Potato', 'Coffee and coffee products', 'Tea', 'Mollusks', 'Cereals and cereal products', 'Green vegetables', 'Pulses', 'Crustaceans', 'Nuts']\n",
      "N-Isobutyleicosa-trans-2-trans-4-cis-8-trienamide:['Pepper (Spice)']\n"
     ]
    }
   ],
   "source": [
    "for i, item in enumerate(compound_common.iteritems()):\n",
    "    if i == 0:\n",
    "        print 'id:name'\n",
    "        print '-'*8\n",
    "    print '{0}:{1}'.format(item[0], item[1])\n",
    "    if i == 10: break"
   ]
  },
  {
   "cell_type": "code",
   "execution_count": 147,
   "metadata": {
    "collapsed": false
   },
   "outputs": [
    {
     "name": "stdout",
     "output_type": "stream",
     "text": [
      "id:name\n",
      "--------\n",
      "8-Deoxylactucin:['Cichorium intybus', 'Cichorium intybus', 'Cichorium intybus']\n",
      "Isorhamnetin 3-(2G-apiosylrutinoside):['NULL']\n",
      "Menthofurolactone:['Mentha arvensis']\n",
      "1,3,5,11-Bisabolatetraen-10-one:['NULL']\n",
      "Methyl [8]-Shogaol:['Zingiber officinale', 'Zingiber officinale']\n",
      "8-Hydroxy-7-methoxy-2H-1-benzopyran-2-one:['NULL']\n",
      "1,4-Dimethylpyrrolo[1,2-a]pyrazine:['NULL']\n",
      "PC(14:0/22:0):['', '', '', '']\n",
      "PC(20:2(11Z,14Z)/18:4(6Z,9Z,12Z,15Z)):['', '', '', '']\n",
      "2-Ethylpyrazine:['Camellia sinensis', 'Trigonella foenum-graecum', 'NULL', 'Solanum tuberosum', 'NULL', 'Camellia sinensis', 'NULL', 'NULL', 'NULL', 'NULL', 'NULL', 'NULL']\n",
      "N-Isobutyleicosa-trans-2-trans-4-cis-8-trienamide:['Piper nigrum']\n"
     ]
    }
   ],
   "source": [
    "for i, item in enumerate(compound_sci.iteritems()):\n",
    "    if i == 0:\n",
    "        print 'id:name'\n",
    "        print '-'*8\n",
    "    print '{0}:{1}'.format(item[0], item[1])\n",
    "    if i == 10: break"
   ]
  },
  {
   "cell_type": "code",
   "execution_count": 135,
   "metadata": {
    "collapsed": false
   },
   "outputs": [
    {
     "name": "stdout",
     "output_type": "stream",
     "text": [
      "id:name\n",
      "--------\n",
      "Norway pout:[\"Cyanidin 3-(6''-acetyl-galactoside)\", 'Pelargonidin 3-arabinoside', 'Saturated fatty acids', 'Unsaturated fatty acids', 'Unsaturated fatty acids', 'Sucrose', 'Ethanol', 'Ash', 'Water', 'Retinol', 'Retinol', 'beta-Carotene', 'Vitamin D', 'Vitamin D3', 'Ergocalciferol', 'alpha-Tocopherol', 'alpha-Tocopherol', 'Phytomenadione', 'Thiamine hydrochloride', 'Riboflavine', 'Nicotinic acid', 'Nicotinic acid', 'Nicotinic acid', 'Pyridoxine', 'Pantothenic acid', 'Biotin', 'Folic acid', 'Cyanocobalamin', 'L-Ascorbic acid', 'L-Ascorbic acid', 'L-Dehydroascorbic acid', 'Sodium', 'Potassium', 'Calcium', 'Magnesium', 'Phosphorus', 'Iron', 'Copper', 'Zinc', 'Iodine', 'Manganese', 'Chromium', 'Selenium', 'Nickel', 'D-Fructose', 'D-Glucose', 'Lactose', 'Maltose', 'Sucrose', 'Sugars', 'Starch', 'Butanoic acid', 'Hexanoic acid', 'Octanoic acid', 'Decanoic acid', 'Dodecanoic acid', 'Tetradecanoic acid', 'Pentadecanoic acid', 'Hexadecanoic acid', 'Heptanoic acid', 'Octadecanoic acid', 'Eicosanoic acid', 'Tetracosanoic acid', 'Saturated fatty acids', 'Myristoleic acid', 'Palmitoleic acid', 'C18:1, n-9', 'Vaccenic acid', 'Gadoleic acid', 'Erucic acid', 'C22:1, n-11', 'Unsaturated fatty acids', '(Z,Z)-9,12-Octadecadienoic acid', 'alpha-Linolenic acid', 'Stearidonic acid', 'Arachidonic acid', 'Eicosapentaenoic acid', 'Doconexent', 'Unsaturated fatty acids']\n"
     ]
    }
   ],
   "source": [
    "for i, item in enumerate(food_common.iteritems()):\n",
    "    if i == 15:\n",
    "        print 'id:name'\n",
    "        print '-'*8\n",
    "        print '{0}:{1}'.format(item[0], item[1])"
   ]
  },
  {
   "cell_type": "markdown",
   "metadata": {},
   "source": [
    "### Add abbreviated scientific names"
   ]
  },
  {
   "cell_type": "code",
   "execution_count": 34,
   "metadata": {
    "collapsed": false
   },
   "outputs": [],
   "source": [
    "food_sci_abbrev = defaultdict(list)\n",
    "for i, key in enumerate(food_sci.keys()):\n",
    "    keys = key.split(\" \")\n",
    "    # most scientific names are two words long\n",
    "    # if longer, keep only the first two\n",
    "    if len(keys) > 1:\n",
    "        genus, species = keys[:2]\n",
    "        food_sci_abbrev[key] = genus[0] + '. ' + species \n",
    "    # but some only have information on the family\n",
    "    else:\n",
    "        food_sci_abbrev[key] = key\n",
    "    "
   ]
  },
  {
   "cell_type": "markdown",
   "metadata": {},
   "source": [
    "## Save Python objects"
   ]
  },
  {
   "cell_type": "code",
   "execution_count": 35,
   "metadata": {
    "collapsed": false
   },
   "outputs": [],
   "source": [
    "pickle.dump(food_common, open( \"food_common.pickle\", \"wb\" ) )\n",
    "pickle.dump(food_sci, open( \"food_sci.pickle\", \"wb\" ) )\n",
    "pickle.dump(compound_common, open( \"compound_common.pickle\", \"wb\" ) )\n",
    "pickle.dump(compound_sci, open( \"compound_sci.pickle\", \"wb\" ) )\n",
    "pickle.dump(food_convert_common, open( \"food_convert_common.pickle\", \"wb\" ) )\n",
    "pickle.dump(food_convert_sci, open( \"food_convert_sci.pickle\", \"wb\" ) )\n",
    "pickle.dump(food_sci_abbrev, open( \"food_sci_abbrev.pickle\", \"wb\"))"
   ]
  },
  {
   "cell_type": "markdown",
   "metadata": {},
   "source": [
    "## Load Python objects"
   ]
  },
  {
   "cell_type": "code",
   "execution_count": 37,
   "metadata": {
    "collapsed": false
   },
   "outputs": [
    {
     "name": "stdout",
     "output_type": "stream",
     "text": [
      "id : name\n",
      "--------\n",
      "Pouteria sapota : P. sapota\n",
      "Scyphozoa : Scyphozoa\n",
      "Dromaius novaehollandiae : D. novaehollandiae\n",
      "Pistacia vera : P. vera\n",
      "Zoarces americanus : Z. americanus\n",
      "Phoenix dactylifera : P. dactylifera\n",
      "Syzygium jambos : S. jambos\n",
      "Clupeinae : Clupeinae\n",
      "Alces alces : A. alces\n",
      "Hyssopus officinalis : H. officinalis\n",
      "Vitis vinifera : V. vinifera\n"
     ]
    }
   ],
   "source": [
    "test = pickle.load( open( \"food_sci_abbrev.pickle\", \"rb\" ) )\n",
    "for i, item in enumerate(test.iteritems()):\n",
    "    if i == 0:\n",
    "        print 'id : name'\n",
    "        print '-'*8\n",
    "    print '{0} : {1}'.format(item[0], item[1])\n",
    "    if i == 10: break"
   ]
  },
  {
   "cell_type": "code",
   "execution_count": null,
   "metadata": {
    "collapsed": true
   },
   "outputs": [],
   "source": []
  }
 ],
 "metadata": {
  "anaconda-cloud": {},
  "kernelspec": {
   "display_name": "Python [conda env:python2]",
   "language": "python",
   "name": "conda-env-python2-py"
  },
  "language_info": {
   "codemirror_mode": {
    "name": "ipython",
    "version": 2
   },
   "file_extension": ".py",
   "mimetype": "text/x-python",
   "name": "python",
   "nbconvert_exporter": "python",
   "pygments_lexer": "ipython2",
   "version": "2.7.12"
  }
 },
 "nbformat": 4,
 "nbformat_minor": 2
}
