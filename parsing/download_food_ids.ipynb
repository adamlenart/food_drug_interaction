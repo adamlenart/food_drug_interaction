{
 "cells": [
  {
   "cell_type": "code",
   "execution_count": 26,
   "metadata": {
    "collapsed": false
   },
   "outputs": [],
   "source": [
    "from __future__ import unicode_literals\n",
    "import pubmed.utils as pb\n",
    "import pickle\n",
    "import re\n",
    "\n",
    "food_common = pickle.load(open( \"food_common.pickle\", \"rb\" ) )\n",
    "food_sci = pickle.load(open( \"food_sci.pickle\", \"rb\" ) )\n",
    "compound_common = pickle.load(open( \"compound_common.pickle\", \"rb\" ) )\n",
    "food_sci_abbrev = pickle.load(open( \"food_sci_abbrev.pickle\", \"rb\"))\n",
    "food_compound = []\n",
    "for key in food_common.keys():\n",
    "    food_compound.append(key.lower())\n",
    "for key in food_sci.keys():\n",
    "    food_compound.append(key.lower())\n",
    "for value in food_sci_abbrev.values():\n",
    "    food_compound.append(value.lower())\n",
    "for key in compound_common.keys():\n",
    "    food_compound.append(key.lower())"
   ]
  },
  {
   "cell_type": "code",
   "execution_count": null,
   "metadata": {
    "collapsed": false
   },
   "outputs": [
    {
     "name": "stdout",
     "output_type": "stream",
     "text": [
      "\n",
      "ACE inhibitor \"oregon yampah\" is a hit! Found 72 results! I am at 0/19810.\n",
      "\n",
      "\n",
      "ACE inhibitor \"sugar\" is a hit! Found 85 results! I am at 6/19810.\n",
      "\n",
      "\n",
      "ACE inhibitor \"common bean\" is a hit! Found 7 results! I am at 8/19810.\n",
      "\n",
      "\n",
      "ACE inhibitor \"fig\" is a hit! Found 17 results! I am at 9/19810.\n",
      "\n",
      "\n",
      "ACE inhibitor \"lard\" is a hit! Found 1 results! I am at 10/19810.\n",
      "\n",
      "\n",
      "ACE inhibitor \"gin\" is a hit! Found 9 results! I am at 12/19810.\n",
      "\n"
     ]
    }
   ],
   "source": [
    "reload(pb)\n",
    "max_results = 500\n",
    "hits = []\n",
    "pmids = []\n",
    "N_FOOD_COMPOUND = len(food_compound)\n",
    "for i, food_or_compound in enumerate(food_compound): \n",
    "        pb.PubMedQuery.COUNT = 0\n",
    "        if food_or_compound == \"\":\n",
    "            continue\n",
    "        try:\n",
    "            search_term = 'ACE inhibitor \"' + food_or_compound + '\"'\n",
    "            query = pb.PubMedQuery(search_term, max_results)\n",
    "            ids = query.id_getter()\n",
    "            if len(ids) > 0:\n",
    "                ids = ids.split(',')\n",
    "                pmids.append(ids)\n",
    "                print '\\n{0} is a hit! Found {1} results! I am at {2}/{3}.\\n'.format(search_term, len(ids), i, N_FOOD_COMPOUND)\n",
    "                hits.append(search_term)\n",
    "        except UnicodeDecodeError:\n",
    "            print \"I couldn't decode this one but I don't care\" "
   ]
  },
  {
   "cell_type": "code",
   "execution_count": 75,
   "metadata": {
    "collapsed": false
   },
   "outputs": [
    {
     "data": {
      "text/plain": [
       "548"
      ]
     },
     "execution_count": 75,
     "metadata": {},
     "output_type": "execute_result"
    }
   ],
   "source": [
    "i"
   ]
  },
  {
   "cell_type": "code",
   "execution_count": null,
   "metadata": {
    "collapsed": true
   },
   "outputs": [],
   "source": []
  }
 ],
 "metadata": {
  "kernelspec": {
   "display_name": "Python [conda env:python2]",
   "language": "python",
   "name": "conda-env-python2-py"
  },
  "language_info": {
   "codemirror_mode": {
    "name": "ipython",
    "version": 2
   },
   "file_extension": ".py",
   "mimetype": "text/x-python",
   "name": "python",
   "nbconvert_exporter": "python",
   "pygments_lexer": "ipython2",
   "version": "2.7.12"
  }
 },
 "nbformat": 4,
 "nbformat_minor": 2
}
