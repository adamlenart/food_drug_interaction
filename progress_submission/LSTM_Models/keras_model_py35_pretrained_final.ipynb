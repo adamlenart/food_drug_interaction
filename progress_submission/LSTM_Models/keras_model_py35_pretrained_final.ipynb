{
 "cells": [
  {
   "cell_type": "markdown",
   "metadata": {},
   "source": [
    "# Model estimation"
   ]
  },
  {
   "cell_type": "code",
   "execution_count": 1,
   "metadata": {
    "collapsed": false
   },
   "outputs": [
    {
     "name": "stderr",
     "output_type": "stream",
     "text": [
      "Using TensorFlow backend.\n"
     ]
    }
   ],
   "source": [
    "import numpy as np\n",
    "import pandas as pd\n",
    "import seaborn as sns\n",
    "from random import shuffle\n",
    "import sys,os, pickle, jellyfish\n",
    "from collections import defaultdict\n",
    "from collections import Counter\n",
    "from keras.models import Sequential\n",
    "from keras.layers import Dense\n",
    "from keras.layers import LSTM\n",
    "from keras.layers import Dropout\n",
    "from keras.layers.pooling import MaxPooling1D\n",
    "from keras.layers.embeddings import Embedding\n",
    "from keras.preprocessing import sequence\n",
    "from keras.preprocessing import text\n",
    "from keras.utils.np_utils import to_categorical\n",
    "from keras import optimizers\n",
    "\n",
    "\n",
    "# ------------------------ helper functions -------------------------- #\n",
    "\n",
    "def get_parent_dir(directory):\n",
    "    '''Returns the parent directory of the current one'''\n",
    "    return os.path.dirname(directory)\n",
    "\n",
    "\n",
    "# ------------------------ functions for processing the text ---------- #\n",
    "def make_digit(word):\n",
    "    '''Transforms string labels to digits'''\n",
    "    if word == 'negative':\n",
    "        return int(0)\n",
    "    elif word == 'neutral':\n",
    "        return int(1)\n",
    "    elif word == 'positive':\n",
    "        return int(2)\n",
    "    else:\n",
    "        '{} is neither positive, neutral or negative'.format(word)\n",
    "        \n",
    "        \n",
    "        \n",
    "        \n",
    "def get_word_ids(sentence, vocabulary):\n",
    "    '''Returns index in the vocabulary for each word of the sentence.'''\n",
    "    words = text.text_to_word_sequence(sentence)\n",
    "    return [vocabulary.index(x) if x in vocabulary else len(vocabulary) for x in words]\n",
    "\n",
    "current_dirs_parent = get_parent_dir(os.getcwd())"
   ]
  },
  {
   "cell_type": "markdown",
   "metadata": {},
   "source": [
    "### read in vocabulary and word-vector files"
   ]
  },
  {
   "cell_type": "code",
   "execution_count": 2,
   "metadata": {
    "collapsed": false
   },
   "outputs": [
    {
     "name": "stdout",
     "output_type": "stream",
     "text": [
      "4929266\n"
     ]
    }
   ],
   "source": [
    "vocabulary = []\n",
    "occurrences = {}\n",
    "\n",
    "with open('/Users/lisabarcelo/Desktop/W266/food_drug_interaction/BioNLP/ri-3gram-400-tsv/vocab.tsv') as vocabulary_file:\n",
    "    for line in vocabulary_file:\n",
    "        word, occurrence = line.strip().split('\\t')\n",
    "        vocabulary.append(word)\n",
    "        occurrences[word] = occurrence\n",
    "\n",
    "print(len(vocabulary))"
   ]
  },
  {
   "cell_type": "code",
   "execution_count": null,
   "metadata": {
    "collapsed": true
   },
   "outputs": [],
   "source": [
    "embeddings_index = {}\n",
    "with open('/Users/lisabarcelo/Desktop/W266/food_drug_interaction/BioNLP/ri-3gram-400-tsv/vectors.tsv') as embedding_file:\n",
    "    for i, line in enumerate(embedding_file):\n",
    "        values = line.strip().split('\\t')\n",
    "        vector = np.asarray(values, dtype='float32')\n",
    "        embeddings_index[vocabulary[i]] = vector"
   ]
  },
  {
   "cell_type": "code",
   "execution_count": 9,
   "metadata": {
    "collapsed": false
   },
   "outputs": [],
   "source": [
    "#pickle.dump(embeddings_index, open('/media/adam/Data/BioNLP/embeddings_index.pickle','wb'))\n",
    "#embeddings_index = pickle.load(open('/media/adam/Data/BioNLP/embeddings_index.pickle','rb'))"
   ]
  },
  {
   "cell_type": "markdown",
   "metadata": {},
   "source": [
    "### Read-in compounds in order to add them to vocabulary"
   ]
  },
  {
   "cell_type": "code",
   "execution_count": 10,
   "metadata": {
    "collapsed": false
   },
   "outputs": [],
   "source": [
    "compounds = Counter()\n",
    "\n",
    "       \n",
    "with open(current_dirs_parent + '/data/labeled_dataAll.tsv', 'r') as labelled_sents: \n",
    "    for num, line in enumerate(labelled_sents):\n",
    "        _,label,_,_,compound, sent = line.strip().split('\\t')\n",
    "        compounds[compound] += 1\n",
    "        # here we could canonicalize\n"
   ]
  },
  {
   "cell_type": "code",
   "execution_count": null,
   "metadata": {
    "collapsed": false
   },
   "outputs": [],
   "source": [
    "print(compounds.most_common(10))\n",
    "len(compounds)"
   ]
  },
  {
   "cell_type": "markdown",
   "metadata": {},
   "source": [
    "### pre-trained embeddings for the compounds\n",
    "\n",
    "If there is more than one alternative (alternative specified by JW distance > .95), than take weighted average of the word vectors, weighted by number of occurences of the compound in the corpus."
   ]
  },
  {
   "cell_type": "code",
   "execution_count": 5,
   "metadata": {
    "collapsed": false
   },
   "outputs": [],
   "source": [
    "i = 0\n",
    "compound_index = {}\n",
    "for compound in compounds:\n",
    "    # the word vectors are 400 long\n",
    "    compound_embedding = np.zeros(400)\n",
    "    num_alternatives = 0\n",
    "    occurrence_total = 0\n",
    "    for i, word in enumerate(vocabulary):\n",
    "        # take weighted average (element-wise) of the word vectors, weighted by the occurrences of the compound in corpus\n",
    "        if jellyfish.jaro_winkler(compound, word) > 0.95:\n",
    "            compound_embedding += embeddings_index[word]*int(occurrences[word])\n",
    "            num_alternatives += 1\n",
    "            occurrence_total += int(occurrences[word])\n",
    "            \n",
    "    compound_index[compound] = compound_embedding/(num_alternatives*occurrence_total)\n"
   ]
  },
  {
   "cell_type": "code",
   "execution_count": 11,
   "metadata": {
    "collapsed": false
   },
   "outputs": [],
   "source": [
    "#pickle.dump(compound_index, open('/media/adam/Data/BioNLP/compound_index.pickle','wb'))\n",
    "compound_index = pickle.load(open('/media/adam/Data/BioNLP/compound_index.pickle','rb'))"
   ]
  },
  {
   "cell_type": "markdown",
   "metadata": {},
   "source": [
    "Should have paid more attention to zero division above, rewrite the vectors to 0s if they are np.nans "
   ]
  },
  {
   "cell_type": "code",
   "execution_count": 12,
   "metadata": {
    "collapsed": false
   },
   "outputs": [
    {
     "data": {
      "text/plain": [
       "693"
      ]
     },
     "execution_count": 12,
     "metadata": {},
     "output_type": "execute_result"
    }
   ],
   "source": [
    "temp_compounds = {}\n",
    "for k,v in compound_index.items():\n",
    "    if any(np.isnan(v)):\n",
    "        continue\n",
    "    temp_compounds[k] = v\n",
    "len(temp_compounds)"
   ]
  },
  {
   "cell_type": "markdown",
   "metadata": {},
   "source": [
    "Before finding alternative spellings, there were 581 compounds found of our 886, after JW distance alternatives, we have 693. As it doesn't take much time and improves visibility, in another step, let's take out those compounds which are in the top 20k of the vocabulary."
   ]
  },
  {
   "cell_type": "code",
   "execution_count": 16,
   "metadata": {
    "collapsed": false
   },
   "outputs": [],
   "source": [
    "V = 20000\n",
    "j = 0\n",
    "final_compounds = {}\n",
    "for compound, vector in temp_compounds.items():\n",
    "    if compound not in vocabulary[:V]:\n",
    "        final_compounds[compound] = vector\n",
    "# top 20k words, remaining compounds not in the top 20k, and one extra line for the unknown words        \n",
    "V_total = V + len(final_compounds) + 1"
   ]
  },
  {
   "cell_type": "code",
   "execution_count": 17,
   "metadata": {
    "collapsed": false
   },
   "outputs": [
    {
     "data": {
      "text/plain": [
       "20554"
      ]
     },
     "execution_count": 17,
     "metadata": {},
     "output_type": "execute_result"
    }
   ],
   "source": [
    "V_total"
   ]
  },
  {
   "cell_type": "markdown",
   "metadata": {},
   "source": [
    "### Prepare embedding matrix"
   ]
  },
  {
   "cell_type": "code",
   "execution_count": 22,
   "metadata": {
    "collapsed": false
   },
   "outputs": [],
   "source": [
    "dim = 400\n",
    "\n",
    "vocab_final = []\n",
    "embedding_matrix = np.zeros((V, dim))\n",
    "for i, word in enumerate(vocabulary[:V]):\n",
    "    embedding_matrix[i] = embeddings_index[word]\n",
    "    vocab_final.append(word)\n",
    "\n",
    "    \n",
    "final_compound_matrix = np.zeros((len(final_compounds), dim))\n",
    "for i, item in enumerate(final_compounds.items()):\n",
    "    compound, vector = item\n",
    "    final_compound_matrix[i] = vector\n",
    "    vocab_final.append(compound)\n",
    "\n",
    "# stack top 20k words, compounds not found among the 20k words and a\n",
    "# vector of zeros for the words not in the vocabulary    \n",
    "embedding_matrix = np.vstack([embedding_matrix, final_compound_matrix, np.zeros(dim)])\n",
    "assert embedding_matrix.shape == (V_total, dim)"
   ]
  },
  {
   "cell_type": "code",
   "execution_count": null,
   "metadata": {
    "collapsed": false
   },
   "outputs": [],
   "source": [
    "'honey' in temp_compounds.keys()"
   ]
  },
  {
   "cell_type": "markdown",
   "metadata": {},
   "source": [
    "### Prepare sentences for analysis\n",
    "Most importantly, change the words in the sentences to indeces corresponding to the rows of the embedding matrix.\n",
    "\n",
    "Bootstrap positive and negative sentences to balance the label distribution."
   ]
  },
  {
   "cell_type": "code",
   "execution_count": 20,
   "metadata": {
    "collapsed": false
   },
   "outputs": [
    {
     "data": {
      "text/html": [
       "<div>\n",
       "<table border=\"1\" class=\"dataframe\">\n",
       "  <thead>\n",
       "    <tr style=\"text-align: right;\">\n",
       "      <th></th>\n",
       "      <th>Label_alpha</th>\n",
       "      <th>Label_num</th>\n",
       "      <th>Drug</th>\n",
       "      <th>Food</th>\n",
       "      <th>sentence</th>\n",
       "    </tr>\n",
       "    <tr>\n",
       "      <th>ID</th>\n",
       "      <th></th>\n",
       "      <th></th>\n",
       "      <th></th>\n",
       "      <th></th>\n",
       "      <th></th>\n",
       "    </tr>\n",
       "  </thead>\n",
       "  <tbody>\n",
       "    <tr>\n",
       "      <th>400</th>\n",
       "      <td>neutral</td>\n",
       "      <td>1</td>\n",
       "      <td>ACE inhibitor</td>\n",
       "      <td>pentadecanoic acid</td>\n",
       "      <td>(123)iodine labelled beta-methyl-iodophenyl pe...</td>\n",
       "    </tr>\n",
       "    <tr>\n",
       "      <th>333</th>\n",
       "      <td>positive</td>\n",
       "      <td>2</td>\n",
       "      <td>ACE inhibitor</td>\n",
       "      <td>2-phenylethanol</td>\n",
       "      <td>2-Phenylethanol is a widely used aroma compoun...</td>\n",
       "    </tr>\n",
       "    <tr>\n",
       "      <th>77</th>\n",
       "      <td>positive</td>\n",
       "      <td>2</td>\n",
       "      <td>ACE inhibitor</td>\n",
       "      <td>3,4-dihydroxyphenylacetic acid</td>\n",
       "      <td>3,4-dihydroxyphenylacetic acid and 4-methylcat...</td>\n",
       "    </tr>\n",
       "    <tr>\n",
       "      <th>338</th>\n",
       "      <td>neutral</td>\n",
       "      <td>1</td>\n",
       "      <td>ACE inhibitor</td>\n",
       "      <td>arachin</td>\n",
       "      <td>A 96-well microplate format of this method was...</td>\n",
       "    </tr>\n",
       "    <tr>\n",
       "      <th>214</th>\n",
       "      <td>neutral</td>\n",
       "      <td>1</td>\n",
       "      <td>ACE inhibitor</td>\n",
       "      <td>diethylamine</td>\n",
       "      <td>A biochemical study was performed in order to ...</td>\n",
       "    </tr>\n",
       "  </tbody>\n",
       "</table>\n",
       "</div>"
      ],
      "text/plain": [
       "    Label_alpha  Label_num           Drug                            Food  \\\n",
       "ID                                                                          \n",
       "400     neutral          1  ACE inhibitor              pentadecanoic acid   \n",
       "333    positive          2  ACE inhibitor                 2-phenylethanol   \n",
       "77     positive          2  ACE inhibitor  3,4-dihydroxyphenylacetic acid   \n",
       "338     neutral          1  ACE inhibitor                         arachin   \n",
       "214     neutral          1  ACE inhibitor                    diethylamine   \n",
       "\n",
       "                                              sentence  \n",
       "ID                                                      \n",
       "400  (123)iodine labelled beta-methyl-iodophenyl pe...  \n",
       "333  2-Phenylethanol is a widely used aroma compoun...  \n",
       "77   3,4-dihydroxyphenylacetic acid and 4-methylcat...  \n",
       "338  A 96-well microplate format of this method was...  \n",
       "214  A biochemical study was performed in order to ...  "
      ]
     },
     "execution_count": 20,
     "metadata": {},
     "output_type": "execute_result"
    }
   ],
   "source": [
    "df = pd.read_csv(current_dirs_parent + '/data/labeled_dataAll.tsv', index_col='ID', sep='\\t')\n",
    "df.head(5)"
   ]
  },
  {
   "cell_type": "code",
   "execution_count": 23,
   "metadata": {
    "collapsed": false
   },
   "outputs": [],
   "source": [
    "labels = defaultdict(list)\n",
    "sent_classified = list()\n",
    "sentences = defaultdict(list)\n",
    "sent_label = list()\n",
    "max_sentence_length = 0\n",
    "num = 0\n",
    "\n",
    "for index, row in df.iterrows():\n",
    "    sentence = row['sentence']\n",
    "    # include only those compounds that are found in the corpus\n",
    "    if row['Food'] in temp_compounds.keys():\n",
    "        labels[num] = row['Label_alpha']\n",
    "        sentences[num] = sentence.lower()\n",
    "        num += 1\n",
    "        sent = text.text_to_word_sequence(sentence)          \n",
    "        try:\n",
    "            sent_label.append(row['Label_num'])\n",
    "            max_sentence_length = np.max([max_sentence_length, len(sent)])\n",
    "            sent_classified.append(get_word_ids(sentence, vocab_final))\n",
    "        except KeyError:\n",
    "            pass"
   ]
  },
  {
   "cell_type": "code",
   "execution_count": 24,
   "metadata": {
    "collapsed": false
   },
   "outputs": [
    {
     "data": {
      "text/plain": [
       "1920"
      ]
     },
     "execution_count": 24,
     "metadata": {},
     "output_type": "execute_result"
    }
   ],
   "source": [
    "len(sentences)"
   ]
  },
  {
   "cell_type": "code",
   "execution_count": 25,
   "metadata": {
    "collapsed": false
   },
   "outputs": [
    {
     "name": "stderr",
     "output_type": "stream",
     "text": [
      "/home/adam/anaconda3/lib/python3.5/site-packages/statsmodels/nonparametric/kdetools.py:20: VisibleDeprecationWarning: using a non-integer number instead of an integer will result in an error in the future\n",
      "  y = X[:m/2+1] + np.r_[0,X[m/2+1:],0]*1j\n"
     ]
    },
    {
     "data": {
      "text/plain": [
       "<matplotlib.axes._subplots.AxesSubplot at 0x7f1c05a77390>"
      ]
     },
     "execution_count": 25,
     "metadata": {},
     "output_type": "execute_result"
    },
    {
     "data": {
      "image/png": "[encoded data removed]",
      "text/plain": [
       "<matplotlib.figure.Figure at 0x7f1be34ee780>"
      ]
     },
     "metadata": {},
     "output_type": "display_data"
    }
   ],
   "source": [
    "%matplotlib inline\n",
    "sentence_length = []\n",
    "for sentence in sentences.values():\n",
    "    sentence_length.append(len(sentence.split(' ')))\n",
    "sns.distplot(sentence_length)"
   ]
  },
  {
   "cell_type": "markdown",
   "metadata": {},
   "source": [
    "## Trainable parameters/settings"
   ]
  },
  {
   "cell_type": "code",
   "execution_count": 1,
   "metadata": {
    "collapsed": false
   },
   "outputs": [
    {
     "ename": "NameError",
     "evalue": "name 'optimizers' is not defined",
     "output_type": "error",
     "traceback": [
      "\u001b[0;31m---------------------------------------------------------------------------\u001b[0m",
      "\u001b[0;31mNameError\u001b[0m                                 Traceback (most recent call last)",
      "\u001b[0;32m<ipython-input-1-71b49d942027>\u001b[0m in \u001b[0;36m<module>\u001b[0;34m()\u001b[0m\n\u001b[1;32m      3\u001b[0m \u001b[0mDROPOUT_RATE\u001b[0m \u001b[0;34m=\u001b[0m \u001b[0;36m0.2\u001b[0m\u001b[0;34m\u001b[0m\u001b[0m\n\u001b[1;32m      4\u001b[0m \u001b[0mMAX_SENTENCE_LENGTH\u001b[0m \u001b[0;34m=\u001b[0m \u001b[0;36m100\u001b[0m\u001b[0;34m\u001b[0m\u001b[0m\n\u001b[0;32m----> 5\u001b[0;31m \u001b[0moptim\u001b[0m \u001b[0;34m=\u001b[0m \u001b[0moptimizers\u001b[0m\u001b[0;34m.\u001b[0m\u001b[0mRMSprop\u001b[0m\u001b[0;34m(\u001b[0m\u001b[0mlr\u001b[0m\u001b[0;34m=\u001b[0m\u001b[0;36m0.001\u001b[0m\u001b[0;34m,\u001b[0m \u001b[0mrho\u001b[0m\u001b[0;34m=\u001b[0m\u001b[0;36m0.9\u001b[0m\u001b[0;34m,\u001b[0m \u001b[0mepsilon\u001b[0m\u001b[0;34m=\u001b[0m\u001b[0;36m1e-08\u001b[0m\u001b[0;34m,\u001b[0m \u001b[0mdecay\u001b[0m\u001b[0;34m=\u001b[0m\u001b[0;36m0.0\u001b[0m\u001b[0;34m)\u001b[0m\u001b[0;34m\u001b[0m\u001b[0m\n\u001b[0m\u001b[1;32m      6\u001b[0m \u001b[0;31m#optim = optimizers.Adam(lr=0.01, beta_1=0.9, beta_2=0.999, epsilon=1e-08, decay=0.0)\u001b[0m\u001b[0;34m\u001b[0m\u001b[0;34m\u001b[0m\u001b[0m\n\u001b[1;32m      7\u001b[0m \u001b[0;31m# change vocabulary size? maybe 20k is too much?\u001b[0m\u001b[0;34m\u001b[0m\u001b[0;34m\u001b[0m\u001b[0m\n",
      "\u001b[0;31mNameError\u001b[0m: name 'optimizers' is not defined"
     ]
    }
   ],
   "source": [
    "LSTM_UNITS = 300\n",
    "NUM_EPOCHS = 100\n",
    "DROPOUT_RATE = 0.2\n",
    "MAX_SENTENCE_LENGTH = 100\n",
    "optim = optimizers.RMSprop(lr=0.001, rho=0.9, epsilon=1e-08, decay=0.0)\n",
    "#optim = optimizers.Adam(lr=0.01, beta_1=0.9, beta_2=0.999, epsilon=1e-08, decay=0.0)\n",
    "# change vocabulary size? maybe 20k is too much?"
   ]
  },
  {
   "cell_type": "markdown",
   "metadata": {},
   "source": [
    "### Fit model\n",
    "\n",
    "Here I pad the sentences to max sentence length but maybe we could truncate?"
   ]
  },
  {
   "cell_type": "code",
   "execution_count": null,
   "metadata": {
    "collapsed": false
   },
   "outputs": [
    {
     "name": "stdout",
     "output_type": "stream",
     "text": [
      "_________________________________________________________________\n",
      "Layer (type)                 Output Shape              Param #   \n",
      "=================================================================\n",
      "embedding_1 (Embedding)      (None, 100, 400)          8221600   \n",
      "_________________________________________________________________\n",
      "lstm_1 (LSTM)                (None, 100, 300)          841200    \n",
      "_________________________________________________________________\n",
      "dropout_1 (Dropout)          (None, 100, 300)          0         \n",
      "_________________________________________________________________\n",
      "lstm_2 (LSTM)                (None, 100, 300)          721200    \n",
      "_________________________________________________________________\n",
      "dropout_2 (Dropout)          (None, 100, 300)          0         \n",
      "_________________________________________________________________\n",
      "lstm_3 (LSTM)                (None, 300)               721200    \n",
      "_________________________________________________________________\n",
      "dense_1 (Dense)              (None, 3)                 903       \n",
      "=================================================================\n",
      "Total params: 10,506,103\n",
      "Trainable params: 2,284,503\n",
      "Non-trainable params: 8,221,600\n",
      "_________________________________________________________________\n",
      "None\n",
      "Epoch 1/100\n",
      "1440/1440 [==============================] - 90s - loss: 0.9447 - categorical_accuracy: 0.6201    \n",
      "Epoch 2/100\n",
      "1440/1440 [==============================] - 80s - loss: 0.8827 - categorical_accuracy: 0.6382    \n",
      "Epoch 3/100\n",
      "1440/1440 [==============================] - 84s - loss: 0.8722 - categorical_accuracy: 0.6368    \n",
      "Epoch 4/100\n",
      "1440/1440 [==============================] - 82s - loss: 0.8544 - categorical_accuracy: 0.6451    \n",
      "Epoch 5/100\n",
      "1440/1440 [==============================] - 84s - loss: 0.8382 - categorical_accuracy: 0.6493    \n",
      "Epoch 6/100\n",
      "1440/1440 [==============================] - 83s - loss: 0.8118 - categorical_accuracy: 0.6569    \n",
      "Epoch 7/100\n",
      "1440/1440 [==============================] - 87s - loss: 0.7961 - categorical_accuracy: 0.6611    \n",
      "Epoch 8/100\n",
      "1440/1440 [==============================] - 88s - loss: 0.7804 - categorical_accuracy: 0.6667    \n",
      "Epoch 9/100\n",
      "1440/1440 [==============================] - 88s - loss: 0.7673 - categorical_accuracy: 0.6813    \n",
      "Epoch 10/100\n",
      "1440/1440 [==============================] - 89s - loss: 0.7581 - categorical_accuracy: 0.6687    \n",
      "Epoch 11/100\n",
      "1440/1440 [==============================] - 88s - loss: 0.7561 - categorical_accuracy: 0.6826    \n",
      "Epoch 12/100\n",
      "1440/1440 [==============================] - 88s - loss: 0.7647 - categorical_accuracy: 0.6778    \n",
      "Epoch 13/100\n",
      "1440/1440 [==============================] - 100s - loss: 0.7625 - categorical_accuracy: 0.6715   \n",
      "Epoch 14/100\n",
      " 224/1440 [===>..........................] - ETA: 95s - loss: 0.6637 - categorical_accuracy: 0.7455"
     ]
    }
   ],
   "source": [
    "ids = list(range(len(sentences)))\n",
    "shuffle(ids)\n",
    "P_TRAIN = .75\n",
    "N_TRAIN = int(round(P_TRAIN * len(sent_label),0))\n",
    "train_ids = ids[:N_TRAIN]\n",
    "test_ids = ids[(N_TRAIN + 1):]\n",
    "train_sents, train_labels = zip(*[(sent_classified[train_id], sent_label[train_id]) for train_id in train_ids])\n",
    "test_sents, test_labels = zip(*[(sent_classified[test_id], sent_label[test_id]) for test_id in test_ids])\n",
    "\n",
    "# add padding so that all of the sentences have the same length\n",
    "train_sents = sequence.pad_sequences(train_sents, maxlen=MAX_SENTENCE_LENGTH)\n",
    "test_sents = sequence.pad_sequences(test_sents, maxlen=MAX_SENTENCE_LENGTH)\n",
    "train_labels = to_categorical(train_labels)\n",
    "test_labels = to_categorical(test_labels)\n",
    "\n",
    "# create the model\n",
    "model = Sequential()\n",
    "model.add(Embedding(V_total, dim, weights=[embedding_matrix],\n",
    "                    input_length=MAX_SENTENCE_LENGTH, trainable=False))\n",
    "model.add(LSTM(LSTM_UNITS, return_sequences = True))\n",
    "model.add(Dropout(DROPOUT_RATE))\n",
    "model.add(LSTM(LSTM_UNITS))\n",
    "model.add(Dropout(DROPOUT_RATE))\n",
    "#model.add(MaxPooling1D(pool_size=4, strides=None, padding='valid'))\n",
    "model.add(Dense(3, activation='softmax'))\n",
    "\n",
    "\n",
    "# Compile model\n",
    "model.compile(loss='categorical_crossentropy', optimizer=optim, metrics=['categorical_accuracy'])\n",
    "print(model.summary())\n",
    "\n",
    "# Final evaluation of the model\n",
    "model.fit(train_sents, train_labels, epochs=NUM_EPOCHS, batch_size=32)\n",
    "scores = model.evaluate(test_sents, test_labels, verbose=0)\n",
    "print(\"Test accuracy: {}\".format(scores[1]*100))"
   ]
  },
  {
   "cell_type": "code",
   "execution_count": null,
   "metadata": {
    "collapsed": false
   },
   "outputs": [],
   "source": [
    "scores = model.evaluate(test_sents, test_labels, verbose=1)\n",
    "print(\"Test accuracy: {}\".format(scores[1]*100))"
   ]
  },
  {
   "cell_type": "code",
   "execution_count": null,
   "metadata": {
    "collapsed": false
   },
   "outputs": [],
   "source": [
    "testing_prediction = model.predict(test_sents)\n",
    "training_prediction = model.predict(train_sents)"
   ]
  },
  {
   "cell_type": "code",
   "execution_count": null,
   "metadata": {
    "collapsed": false
   },
   "outputs": [],
   "source": [
    "pickle.dump(testing_prediction, open('lstm_1x_300_dropout_02_lr_001_epoch_100_testing_V_30k_not_trainable_embed_75_sent.pickle','wb'))\n",
    "pickle.dump(training_prediction, open('lstm_1x_300_dropout_02_lr_001_epoch_100_training_V_30k_not_trainable_embed_75_sent.pickle','wb'))"
   ]
  },
  {
   "cell_type": "code",
   "execution_count": null,
   "metadata": {
    "collapsed": false
   },
   "outputs": [],
   "source": [
    "pred_classes = np.argmax(testing_prediction, axis = 1)\n",
    "p = 0\n",
    "neu = 0\n",
    "neg = 0\n",
    "for i in pred_classes:\n",
    "    if i == 0:\n",
    "        neg += 1\n",
    "    elif i == 1:\n",
    "        neu += 1\n",
    "    else:\n",
    "        p += 1"
   ]
  },
  {
   "cell_type": "code",
   "execution_count": null,
   "metadata": {
    "collapsed": false
   },
   "outputs": [],
   "source": [
    "[p,neu,neg]"
   ]
  },
  {
   "cell_type": "code",
   "execution_count": null,
   "metadata": {
    "collapsed": false
   },
   "outputs": [],
   "source": [
    "true_classes = np.argmax(test_labels, axis=1)\n",
    "p = 0\n",
    "neu = 0\n",
    "neg = 0\n",
    "for i in true_classes:\n",
    "    if i == 0:\n",
    "        neg += 1\n",
    "    elif i == 1:\n",
    "        neu += 1\n",
    "    else:\n",
    "        p += 1"
   ]
  },
  {
   "cell_type": "code",
   "execution_count": null,
   "metadata": {
    "collapsed": false
   },
   "outputs": [],
   "source": [
    "[p, neu, neg]"
   ]
  },
  {
   "cell_type": "code",
   "execution_count": null,
   "metadata": {
    "collapsed": false
   },
   "outputs": [],
   "source": [
    "with open('pred_true_final.csv','w') as outfile:\n",
    "    for i in range(len(true_classes)):\n",
    "        if i == 0:\n",
    "            print('true,predicted', file=outfile)\n",
    "        print('{0},{1}'.format(true_classes[i],pred_classes[i]), file=outfile)"
   ]
  },
  {
   "cell_type": "code",
   "execution_count": null,
   "metadata": {
    "collapsed": false
   },
   "outputs": [],
   "source": [
    "!pwd"
   ]
  },
  {
   "cell_type": "code",
   "execution_count": null,
   "metadata": {
    "collapsed": true
   },
   "outputs": [],
   "source": []
  }
 ],
 "metadata": {
  "anaconda-cloud": {},
  "kernelspec": {
   "display_name": "Python 3",
   "language": "python",
   "name": "python3"
  },
  "language_info": {
   "codemirror_mode": {
    "name": "ipython",
    "version": 3
   },
   "file_extension": ".py",
   "mimetype": "text/x-python",
   "name": "python",
   "nbconvert_exporter": "python",
   "pygments_lexer": "ipython3",
   "version": "3.5.1"
  }
 },
 "nbformat": 4,
 "nbformat_minor": 2
}
