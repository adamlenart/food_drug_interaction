{
 "cells": [
  {
   "cell_type": "markdown",
   "metadata": {},
   "source": [
    "# Downloading the Pubmed Abstracts"
   ]
  },
  {
   "cell_type": "code",
   "execution_count": 2,
   "metadata": {
    "collapsed": true
   },
   "outputs": [],
   "source": [
    "import pubmed.utils as pb\n",
    "import json\n",
    "import re\n",
    "from collections import defaultdict\n",
    "from pprint import pprint\n",
    "import string\n",
    "# utf-8 support\n",
    "import codecs\n",
    "# spit abstracts to sentences\n",
    "from nltk.tokenize import sent_tokenize"
   ]
  },
  {
   "cell_type": "code",
   "execution_count": 22,
   "metadata": {
    "collapsed": true
   },
   "outputs": [],
   "source": [
    "search_term = 'ACE inhibitor'\n",
    "max_results = 100\n",
    "query = pb.PubMedQuery(search_term, max_results)"
   ]
  },
  {
   "cell_type": "code",
   "execution_count": 23,
   "metadata": {},
   "outputs": [
    {
     "name": "stdout",
     "output_type": "stream",
     "text": [
      "Num abstracts:  899\n"
     ]
    }
   ],
   "source": [
    "ids = query.id_getter()\n",
    "print \"Num abstracts: \", len(ids)"
   ]
  },
  {
   "cell_type": "markdown",
   "metadata": {},
   "source": [
    "## This is to just download a few of the abstracts"
   ]
  },
  {
   "cell_type": "code",
   "execution_count": 26,
   "metadata": {
    "scrolled": false
   },
   "outputs": [
    {
     "name": "stdout",
     "output_type": "stream",
     "text": [
      "CPU times: user 160 ms, sys: 0 ns, total: 160 ms\n",
      "Wall time: 2.12 s\n"
     ]
    }
   ],
   "source": [
    "%%time\n",
    "#I just tried to download a few \n",
    "# if you don't want to download all abstracts, please do not use the download_all_abstracts() method, but rather the \n",
    "# abstract_getter() as below\n",
    "pb.PubMedQuery.COUNT = 0\n",
    "max_results = 25\n",
    "query = pb.PubMedQuery(search_term, max_results)\n",
    "ids = query.id_getter()\n",
    "abstracts = query.abstract_getter(ids)"
   ]
  },
  {
   "cell_type": "markdown",
   "metadata": {},
   "source": [
    "## This is to download all the abstracts"
   ]
  },
  {
   "cell_type": "code",
   "execution_count": 70,
   "metadata": {
    "collapsed": true
   },
   "outputs": [],
   "source": [
    "%%time\n",
    "# reset the counter before calling the download_all_abstracts method as we have already called it once above\n",
    "pb.PubMedQuery.COUNT = 0\n",
    "max_results = 500\n",
    "pb.download_all_abstracts(search_term, max_results)"
   ]
  }
 ],
 "metadata": {
  "anaconda-cloud": {},
  "kernelspec": {
   "display_name": "Python 2",
   "language": "python",
   "name": "python2"
  },
  "language_info": {
   "codemirror_mode": {
    "name": "ipython",
    "version": 2
   },
   "file_extension": ".py",
   "mimetype": "text/x-python",
   "name": "python",
   "nbconvert_exporter": "python",
   "pygments_lexer": "ipython2",
   "version": "2.7.12"
  }
 },
 "nbformat": 4,
 "nbformat_minor": 2
}
