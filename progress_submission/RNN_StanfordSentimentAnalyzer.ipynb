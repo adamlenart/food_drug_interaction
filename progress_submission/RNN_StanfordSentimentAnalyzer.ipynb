{
 "cells": [
  {
   "cell_type": "markdown",
   "metadata": {},
   "source": [
    "# Parsing the Pubmed Abstracts"
   ]
  },
  {
   "cell_type": "code",
   "execution_count": 1,
   "metadata": {
    "collapsed": false
   },
   "outputs": [],
   "source": [
    "import pubmed.utils as pb\n",
    "import json\n",
    "import re\n",
    "from collections import defaultdict\n",
    "from pprint import pprint\n",
    "import string\n",
    "# utf-8 support\n",
    "import codecs\n",
    "import nltk\n",
    "# spit abstracts to sentences\n",
    "from nltk.tokenize import sent_tokenize\n",
    "import ast\n",
    "import pickle\n",
    "\n",
    "import pandas as pd\n",
    "import numpy as np\n",
    "import re"
   ]
  },
  {
   "cell_type": "code",
   "execution_count": 2,
   "metadata": {
    "collapsed": false
   },
   "outputs": [
    {
     "name": "stdout",
     "output_type": "stream",
     "text": [
      "[nltk_data] Downloading package punkt to\n",
      "[nltk_data]     /Users/lisabarcelo/nltk_data...\n",
      "[nltk_data]   Package punkt is already up-to-date!\n"
     ]
    },
    {
     "data": {
      "text/plain": [
       "True"
      ]
     },
     "execution_count": 2,
     "metadata": {},
     "output_type": "execute_result"
    }
   ],
   "source": [
    "nltk.download('punkt')"
   ]
  },
  {
   "cell_type": "code",
   "execution_count": 3,
   "metadata": {
    "collapsed": false
   },
   "outputs": [
    {
     "data": {
      "text/plain": [
       "<matplotlib.axes._subplots.AxesSubplot at 0x111338ed0>"
      ]
     },
     "execution_count": 3,
     "metadata": {},
     "output_type": "execute_result"
    },
    {
     "data": {
      "image/png": "[encoded data removed]",
      "text/plain": [
       "<matplotlib.figure.Figure at 0x111338710>"
      ]
     },
     "metadata": {},
     "output_type": "display_data"
    }
   ],
   "source": [
    "%matplotlib inline\n",
    "import re \n",
    "import numpy as np\n",
    "import pandas as pd\n",
    "import seaborn as sns\n",
    "import matplotlib.pyplot as plt\n",
    "\n",
    "lengths_ = []\n",
    "\n",
    "\n",
    "for item in open(\"/Users/lisabarcelo/Desktop/W266/food_drug_interaction/parsing/data/labeled_dataAll.tsv\",\"r\").readlines()[1::]:\n",
    "    id_, label, label_num, drug, component, sentence = item.split(\"\\t\",5)\n",
    "    words_ = [w for w in sentence.split(\" \")]\n",
    "    lengths_.append(len(words_))\n",
    "    \n",
    "sns.distplot(lengths_,axlabel=\"Sentence Length\")"
   ]
  },
  {
   "cell_type": "code",
   "execution_count": 4,
   "metadata": {
    "collapsed": false
   },
   "outputs": [],
   "source": [
    "orig_dict = {}\n",
    "\n",
    "i = 0\n",
    "import re \n",
    "#for item in open(\"sent_files/glp_sent.tsv\",\"r\"):\n",
    "for item in open(\"/Users/lisabarcelo/Desktop/W266/food_drug_interaction/parsing/data/labeled_dataAll.tsv\",\"r\").readlines()[1::]:\n",
    "    #sent_id, sentiment, compound, sentence = item.split(\"\\t\",3)\n",
    "    i += 1\n",
    "    id_, label, label_num, drug, component, sentence = item.split(\"\\t\",5)\n",
    "    sentence = re.sub(r'\\([^)]*\\)', '', sentence)\n",
    "    sentence = sentence.replace(\";\",\" \")\n",
    "    sentence = sentence.replace('\"',' ')\n",
    "    #sentence = re.sub(\"\\d+\",\"\",re.sub(r'[^\\w\\s]','',sentence))\n",
    "    words_ = [w for w in sentence.split(\" \")]\n",
    "    if len(words_) >= 30:\n",
    "        #print \" \".join([w for w in words_][:30]),\".\"\n",
    "        orig_dict['Sentence #'+str(i)] = label\n",
    "    else:\n",
    "        #print sentence.encode('utf-8')\n",
    "        orig_dict['Sentence #'+str(i)] = label"
   ]
  },
  {
   "cell_type": "code",
   "execution_count": 5,
   "metadata": {
    "collapsed": false
   },
   "outputs": [
    {
     "data": {
      "text/plain": [
       "2471"
      ]
     },
     "execution_count": 5,
     "metadata": {},
     "output_type": "execute_result"
    }
   ],
   "source": [
    "len(orig_dict)"
   ]
  },
  {
   "cell_type": "markdown",
   "metadata": {},
   "source": [
    "#### Note: Parser could only handle ~1000 sentences at a time so I ran 3 times and collected three files that I later merged into one dictionary"
   ]
  },
  {
   "cell_type": "code",
   "execution_count": 65,
   "metadata": {
    "collapsed": false
   },
   "outputs": [
    {
     "name": "stdout",
     "output_type": "stream",
     "text": [
      "Overwriting sent_files/for_SSA.py\n"
     ]
    }
   ],
   "source": [
    "%%writefile sent_files/for_SSA.py\n",
    "\n",
    "import re \n",
    "for item in open(\"/Users/lisabarcelo/Desktop/W266/food_drug_interaction/parsing/data/labeled_dataAll.tsv\",\"r\").readlines()[2000::]:\n",
    "    id_, label, label_num, drug, component, sentence = item.split(\"\\t\",5)\n",
    "    sentence = re.sub(r'\\([^)]*\\)', '', sentence)\n",
    "    sentence = sentence.replace(\";\",\" \")\n",
    "    sentence = sentence.replace('\"',' ')\n",
    "    sentence = re.sub(\"\\d+\",\"\",re.sub(r'[^\\w\\s]','',sentence))\n",
    "    words_ = [w for w in sentence.split(\" \")]\n",
    "    if len(words_) >= 30:\n",
    "        print \" \".join([w for w in words_][:30]),\".\"\n",
    "    else:\n",
    "        print sentence.encode('utf-8'),\".\""
   ]
  },
  {
   "cell_type": "code",
   "execution_count": 66,
   "metadata": {
    "collapsed": false
   },
   "outputs": [],
   "source": [
    "!python2 sent_files/for_SSA.py > sent_files/ssa_all3.txt"
   ]
  },
  {
   "cell_type": "code",
   "execution_count": 67,
   "metadata": {
    "collapsed": false,
    "scrolled": true
   },
   "outputs": [
    {
     "name": "stdout",
     "output_type": "stream",
     "text": [
      "Among fungal metabolites sterigmatocystin  but not aflatoxin B  significantly increased digoxin accumulation\r\n",
      ".\r\n",
      "Among fungal metabolites sterigmatocystin  but not aflatoxin B  significantly increased digoxin accumulation\r\n",
      ".\r\n",
      "An in situ rat intestinal closed loop study using naringin implied that organic anion transporting peptide  a may be a responsible transporter in the absorption of digoxin\r\n",
      ".\r\n",
      "An L salmonaespecific singlestranded DNA probe labeled with digoxigenin was used to detect these prexenoma stages of L salmonae by in situ hybridization in experimentally infected rainbow trout\r\n",
      ".\r\n",
      "Analytical data obtained were as follows infrared spectrum    cm  ultraviolet spectrum lambda max   nm  absorbance Ecm     water   .\r\n",
      "Apicaltobasal  digoxin flux was enhanced by  fruit juice in the order of lemon  lime  pummelo  grapefruit\r\n"
     ]
    }
   ],
   "source": [
    "!head sent_files/ssa_all3.txt"
   ]
  },
  {
   "cell_type": "code",
   "execution_count": 68,
   "metadata": {
    "collapsed": true
   },
   "outputs": [],
   "source": [
    "!chmod a+x lexparser.sh"
   ]
  },
  {
   "cell_type": "markdown",
   "metadata": {},
   "source": [
    "## Command Line Sentiment Analysis\n",
    "\n",
    "This creates an output file with tuples and sentiments!"
   ]
  },
  {
   "cell_type": "code",
   "execution_count": 69,
   "metadata": {
    "collapsed": false,
    "scrolled": true
   },
   "outputs": [
    {
     "name": "stdout",
     "output_type": "stream",
     "text": [
      "[main] INFO edu.stanford.nlp.pipeline.StanfordCoreNLP - Adding annotator tokenize\n",
      "[main] INFO edu.stanford.nlp.pipeline.TokenizerAnnotator - No tokenizer type provided. Defaulting to PTBTokenizer.\n",
      "[main] INFO edu.stanford.nlp.pipeline.StanfordCoreNLP - Adding annotator ssplit\n",
      "[main] INFO edu.stanford.nlp.pipeline.StanfordCoreNLP - Adding annotator pos\n",
      "[main] INFO edu.stanford.nlp.tagger.maxent.MaxentTagger - Loading POS tagger from edu/stanford/nlp/models/pos-tagger/english-left3words/english-left3words-distsim.tagger ... done [1.6 sec].\n",
      "[main] INFO edu.stanford.nlp.pipeline.StanfordCoreNLP - Adding annotator lemma\n",
      "[main] INFO edu.stanford.nlp.pipeline.StanfordCoreNLP - Adding annotator ner\n",
      "[main] INFO edu.stanford.nlp.ie.AbstractSequenceClassifier - Loading classifier from edu/stanford/nlp/models/ner/english.all.3class.distsim.crf.ser.gz ... done [2.3 sec].\n",
      "[main] INFO edu.stanford.nlp.ie.AbstractSequenceClassifier - Loading classifier from edu/stanford/nlp/models/ner/english.muc.7class.distsim.crf.ser.gz ... done [2.1 sec].\n",
      "[main] INFO edu.stanford.nlp.ie.AbstractSequenceClassifier - Loading classifier from edu/stanford/nlp/models/ner/english.conll.4class.distsim.crf.ser.gz ... done [1.0 sec].\n",
      "[main] INFO edu.stanford.nlp.time.JollyDayHolidays - Initializing JollyDayHoliday for SUTime from classpath edu/stanford/nlp/models/sutime/jollyday/Holidays_sutime.xml as sutime.binder.1.\n",
      "[main] INFO edu.stanford.nlp.pipeline.StanfordCoreNLP - Adding annotator parse\n",
      "[main] INFO edu.stanford.nlp.parser.common.ParserGrammar - Loading parser from serialized file edu/stanford/nlp/models/lexparser/englishPCFG.ser.gz ... done [0.4 sec].\n",
      "[main] INFO edu.stanford.nlp.pipeline.StanfordCoreNLP - Adding annotator dcoref\n",
      "[main] INFO edu.stanford.nlp.pipeline.StanfordCoreNLP - Adding annotator sentiment\n",
      "\n",
      "Processing file /Users/lisabarcelo/Desktop/W266/food_drug_interaction/parsing/sent_files/ssa_all3.txt ... writing to /Users/lisabarcelo/Desktop/W266/food_drug_interaction/parsing/ssa_all3.txt.out\n",
      "Annotating file /Users/lisabarcelo/Desktop/W266/food_drug_interaction/parsing/sent_files/ssa_all3.txt ... done [109.5 sec].\n",
      "\n",
      "Annotation pipeline timing information:\n",
      "TokenizerAnnotator: 0.1 sec.\n",
      "WordsToSentencesAnnotator: 0.0 sec.\n",
      "POSTaggerAnnotator: 1.3 sec.\n",
      "MorphaAnnotator: 0.1 sec.\n",
      "NERCombinerAnnotator: 9.1 sec.\n",
      "ParserAnnotator: 48.4 sec.\n",
      "DeterministicCorefAnnotator: 49.6 sec.\n",
      "SentimentAnnotator: 0.8 sec.\n",
      "TOTAL: 109.5 sec. for 11686 tokens at 106.8 tokens/sec.\n",
      "Pipeline setup: 11.6 sec.\n",
      "Total time for StanfordCoreNLP pipeline: 121.4 sec.\n"
     ]
    }
   ],
   "source": [
    "!java -cp \"*\" -Xmx2g edu.stanford.nlp.pipeline.StanfordCoreNLP \\\n",
    "-annotators tokenize,ssplit,pos,lemma,ner,parse,dcoref,sentiment \\\n",
    "-file sent_files/ssa_all3.txt \\\n",
    "-outputFormat text"
   ]
  },
  {
   "cell_type": "code",
   "execution_count": 70,
   "metadata": {
    "collapsed": false
   },
   "outputs": [],
   "source": [
    "!cat ssa_all3.txt.out > sent_files/output_file3.json"
   ]
  },
  {
   "cell_type": "code",
   "execution_count": 71,
   "metadata": {
    "collapsed": false,
    "scrolled": true
   },
   "outputs": [
    {
     "name": "stdout",
     "output_type": "stream",
     "text": [
      "Sentence #1 (13 tokens, sentiment: Negative):\r\n",
      "Among fungal metabolites sterigmatocystin  but not aflatoxin B  significantly increased digoxin accumulation\r\n",
      ".\r\n",
      "[Text=Among CharacterOffsetBegin=0 CharacterOffsetEnd=5 PartOfSpeech=IN Lemma=among NamedEntityTag=O SentimentClass=Neutral]\r\n",
      "[Text=fungal CharacterOffsetBegin=6 CharacterOffsetEnd=12 PartOfSpeech=JJ Lemma=fungal NamedEntityTag=O SentimentClass=Neutral]\r\n",
      "[Text=metabolites CharacterOffsetBegin=13 CharacterOffsetEnd=24 PartOfSpeech=NNS Lemma=metabolite NamedEntityTag=O SentimentClass=Neutral]\r\n",
      "[Text=sterigmatocystin CharacterOffsetBegin=25 CharacterOffsetEnd=41 PartOfSpeech=VBP Lemma=sterigmatocystin NamedEntityTag=O SentimentClass=Neutral]\r\n",
      "[Text=but CharacterOffsetBegin=43 CharacterOffsetEnd=46 PartOfSpeech=CC Lemma=but NamedEntityTag=O SentimentClass=Neutral]\r\n",
      "[Text=not CharacterOffsetBegin=47 CharacterOffsetEnd=50 PartOfSpeech=RB Lemma=not NamedEntityTag=O SentimentClass=Negative]\r\n",
      "[Text=aflatoxin CharacterOffsetBegin=51 CharacterOffsetEnd=60 PartOfSpeech=NN Lemma=aflatoxin NamedEntityTag=O SentimentClass=Neutral]\r\n"
     ]
    }
   ],
   "source": [
    "!head sent_files/output_file3.json"
   ]
  },
  {
   "cell_type": "markdown",
   "metadata": {},
   "source": [
    "## Verification\n",
    "Look up sentences and see how their manual sentiment compares with the SSA sentiment."
   ]
  },
  {
   "cell_type": "code",
   "execution_count": 6,
   "metadata": {
    "collapsed": false,
    "scrolled": true
   },
   "outputs": [],
   "source": [
    "ssa_dict = {}\n",
    "for line in open('sent_files/output_file.json').readlines():\n",
    "    if 'Sentence #' in line:\n",
    "        sent, num, _,_,_,_ = line.split(\" \", 5)\n",
    "        sentiment = str(line.strip('\\n')).split(\":\")[1]\n",
    "        sentiment = re.sub(\"\\d+\",\"\",re.sub(r'[^\\w\\s]','',sentiment))\n",
    "        #print sent,num, sentiment.lower()\n",
    "        ssa_dict[sent + \" \" + num] = sentiment.lower()\n",
    "        \n",
    "        #this is because the SSA also has \"very negative\" as a sentiment\n",
    "        if 'negative' in sentiment:\n",
    "            ssa_dict[sent + \" \" + num] = 'negative'\n",
    "        else:\n",
    "            ssa_dict[sent + \" \" + num] = sentiment.lower().strip(\" \")\n",
    "            \n",
    "for line in open('sent_files/output_file2.json').readlines():\n",
    "    if 'Sentence #' in line:\n",
    "        sent, num, _,_,_,_ = line.split(\" \", 5)\n",
    "        sentiment = str(line.strip('\\n')).split(\":\")[1]\n",
    "        sentiment = re.sub(\"\\d+\",\"\",re.sub(r'[^\\w\\s]','',sentiment))\n",
    "        #print sent,num, sentiment.lower()\n",
    "        ssa_dict[sent + \" \" + num[0] + str(int(num[1::]) + 999)] = sentiment.lower()\n",
    "        \n",
    "        #this is because the SSA also has \"very negative\" as a sentiment\n",
    "        if 'negative' in sentiment:\n",
    "            ssa_dict[sent + \" \" + num[0] + str(int(num[1::]) + 999)] = 'negative'\n",
    "        else:\n",
    "            ssa_dict[sent + \" \" + num[0] + str(int(num[1::]) + 999)] = sentiment.lower().strip(\" \")\n",
    "            \n",
    "for line in open('sent_files/output_file3.json').readlines():\n",
    "    if 'Sentence #' in line:\n",
    "        sent, num, _,_,_,_ = line.split(\" \", 5)\n",
    "        sentiment = str(line.strip('\\n')).split(\":\")[1]\n",
    "        sentiment = re.sub(\"\\d+\",\"\",re.sub(r'[^\\w\\s]','',sentiment))\n",
    "        #print sent,num, sentiment.lower()\n",
    "        ssa_dict[sent + \" \" + num[0] + str(int(num[1::]) + 1999)] = sentiment.lower()\n",
    "        \n",
    "        #this is because the SSA also has \"very negative\" as a sentiment\n",
    "        if 'negative' in sentiment:\n",
    "            ssa_dict[sent + \" \" + num[0] + str(int(num[1::]) + 1999)] = 'negative'\n",
    "        else:\n",
    "            ssa_dict[sent + \" \" + num[0] + str(int(num[1::]) + 1999)] = sentiment.lower().strip(\" \")"
   ]
  },
  {
   "cell_type": "code",
   "execution_count": 7,
   "metadata": {
    "collapsed": false
   },
   "outputs": [
    {
     "name": "stdout",
     "output_type": "stream",
     "text": [
      "2471 vs 2471\n"
     ]
    }
   ],
   "source": [
    "#Ensuring the same length\n",
    "print len(orig_dict.keys()), \"vs\", len(ssa_dict.keys())"
   ]
  },
  {
   "cell_type": "code",
   "execution_count": 8,
   "metadata": {
    "collapsed": false
   },
   "outputs": [
    {
     "name": "stdout",
     "output_type": "stream",
     "text": [
      "Accuracy:  17.2 % , Correct:  426 Incorrect:  2045  Total:  2471\n"
     ]
    }
   ],
   "source": [
    "#Compare two Dictionaries\n",
    "\n",
    "correct = 0\n",
    "incorrect = 0\n",
    "total = 0\n",
    "\n",
    "y_true = []\n",
    "y_pred = []\n",
    "#now iterate through and verify!\n",
    "for k,v in ssa_dict.iteritems():\n",
    "    y_pred.append(ssa_dict[k])\n",
    "    y_true.append(orig_dict[k])\n",
    "    try:\n",
    "        total += 1\n",
    "        if ssa_dict[k] == orig_dict[k]:\n",
    "            correct +=1\n",
    "        else:\n",
    "            incorrect +=1\n",
    "    except:\n",
    "        pass\n",
    "print \"Accuracy: \", round(float(correct)/float(total),3) * 100, \"% , Correct: \", correct, \"Incorrect: \", incorrect, \" Total: \", total"
   ]
  },
  {
   "cell_type": "markdown",
   "metadata": {},
   "source": [
    "## Confusion Matrix"
   ]
  },
  {
   "cell_type": "code",
   "execution_count": 9,
   "metadata": {
    "collapsed": false
   },
   "outputs": [
    {
     "data": {
      "text/plain": [
       "array([[ 345,    3,   11],\n",
       "       [1489,   64,   28],\n",
       "       [ 492,   22,   17]])"
      ]
     },
     "execution_count": 9,
     "metadata": {},
     "output_type": "execute_result"
    }
   ],
   "source": [
    "import sklearn.metrics\n",
    "import itertools\n",
    "import matplotlib.pyplot as plt\n",
    "from sklearn.metrics import confusion_matrix\n",
    "import seaborn as sns\n",
    "\n",
    "sklearn.metrics.confusion_matrix(y_true, y_pred, labels=None)"
   ]
  },
  {
   "cell_type": "code",
   "execution_count": 10,
   "metadata": {
    "collapsed": false
   },
   "outputs": [
    {
     "name": "stdout",
     "output_type": "stream",
     "text": [
      "\n",
      "Confusion matrix for test data\n",
      "------------------------------\n"
     ]
    },
    {
     "data": {
      "image/png": "[encoded data removed]",
      "text/plain": [
       "<matplotlib.figure.Figure at 0x1116f66d0>"
      ]
     },
     "metadata": {},
     "output_type": "display_data"
    }
   ],
   "source": [
    "print \"\\nConfusion matrix for test data\"\n",
    "print \"------------------------------\"\n",
    "\n",
    "array = confusion_matrix(y_true, y_pred)\n",
    "#0: positive, 1: neutral, 2: negative\n",
    "df_cm = pd.DataFrame(array, index = ['negative','neutral','positive'],\n",
    "                  columns = ['negative','neutral','positive'])\n",
    "plt.figure(figsize = (5,4))\n",
    "sns.heatmap(df_cm, annot=True, fmt='g')\n",
    "plt.savefig(\"confusion_rnn.png\")"
   ]
  },
  {
   "cell_type": "code",
   "execution_count": 15,
   "metadata": {
    "collapsed": false
   },
   "outputs": [
    {
     "name": "stdout",
     "output_type": "stream",
     "text": [
      "\n",
      "Classification Report\n",
      "---------------------\n",
      "             precision    recall  f1-score   support\n",
      "\n",
      "   negative       0.15      0.96      0.26       359\n",
      "    neutral       0.72      0.04      0.08      1581\n",
      "   positive       0.30      0.03      0.06       531\n",
      "\n",
      "avg / total       0.55      0.17      0.10      2471\n",
      "\n"
     ]
    }
   ],
   "source": [
    "from sklearn.metrics import classification_report\n",
    "print \"\\nClassification Report\"\n",
    "print \"---------------------\"\n",
    "print classification_report(y_true, y_pred)\n"
   ]
  },
  {
   "cell_type": "code",
   "execution_count": null,
   "metadata": {
    "collapsed": true
   },
   "outputs": [],
   "source": []
  }
 ],
 "metadata": {
  "anaconda-cloud": {},
  "kernelspec": {
   "display_name": "Python 2",
   "language": "python",
   "name": "python2"
  },
  "language_info": {
   "codemirror_mode": {
    "name": "ipython",
    "version": 2
   },
   "file_extension": ".py",
   "mimetype": "text/x-python",
   "name": "python",
   "nbconvert_exporter": "python",
   "pygments_lexer": "ipython2",
   "version": "2.7.12"
  }
 },
 "nbformat": 4,
 "nbformat_minor": 2
}
