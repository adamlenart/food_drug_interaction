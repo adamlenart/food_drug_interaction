{
 "cells": [
  {
   "cell_type": "markdown",
   "metadata": {},
   "source": [
    "# Model estimation"
   ]
  },
  {
   "cell_type": "code",
   "execution_count": 1,
   "metadata": {
    "collapsed": false
   },
   "outputs": [
    {
     "name": "stderr",
     "output_type": "stream",
     "text": [
      "Using TensorFlow backend.\n"
     ]
    }
   ],
   "source": [
    "import numpy as np\n",
    "import pandas as pd\n",
    "import seaborn as sns\n",
    "from random import shuffle\n",
    "import sys,os, pickle, jellyfish\n",
    "from collections import defaultdict\n",
    "from collections import Counter\n",
    "from keras.models import Sequential\n",
    "from keras.layers import Dense\n",
    "from keras.layers import LSTM\n",
    "from keras.layers import Dropout\n",
    "from keras.layers.embeddings import Embedding\n",
    "from keras.preprocessing import sequence\n",
    "from keras.preprocessing import text\n",
    "from keras.utils.np_utils import to_categorical\n",
    "from keras import optimizers\n",
    "\n",
    "\n",
    "# ------------------------ helper functions -------------------------- #\n",
    "\n",
    "def get_parent_dir(directory):\n",
    "    '''Returns the parent directory of the current one'''\n",
    "    return os.path.dirname(directory)\n",
    "\n",
    "\n",
    "# ------------------------ functions for processing the text ---------- #\n",
    "def make_digit(word):\n",
    "    '''Transforms string labels to digits'''\n",
    "    if word == 'negative':\n",
    "        return int(0)\n",
    "    elif word == 'neutral':\n",
    "        return int(1)\n",
    "    elif word == 'positive':\n",
    "        return int(2)\n",
    "    else:\n",
    "        '{} is neither positive, neutral or negative'.format(word)\n",
    "        \n",
    "        \n",
    "        \n",
    "        \n",
    "def get_word_ids(sentence, vocabulary):\n",
    "    '''Returns index in the vocabulary for each word of the sentence.'''\n",
    "    words = text.text_to_word_sequence(sentence)\n",
    "    return [vocabulary.index(x) if x in vocabulary else len(vocabulary) for x in words]\n",
    "\n",
    "current_dirs_parent = get_parent_dir(os.getcwd())"
   ]
  },
  {
   "cell_type": "markdown",
   "metadata": {},
   "source": [
    "### read in vocabulary and word-vector files"
   ]
  },
  {
   "cell_type": "code",
   "execution_count": 3,
   "metadata": {
    "collapsed": false
   },
   "outputs": [
    {
     "name": "stdout",
     "output_type": "stream",
     "text": [
      "4929266\n"
     ]
    }
   ],
   "source": [
    "vocabulary = []\n",
    "occurrences = {}\n",
    "\n",
    "with open('/media/adam/Data/BioNLP/ri-3gram-400-tsv/vocab.tsv') as vocabulary_file:\n",
    "    for line in vocabulary_file:\n",
    "        word, occurrence = line.strip().split('\\t')\n",
    "        vocabulary.append(word)\n",
    "        occurrences[word] = occurrence\n",
    "\n",
    "\n",
    "\n",
    "print(len(vocabulary))\n"
   ]
  },
  {
   "cell_type": "code",
   "execution_count": null,
   "metadata": {
    "collapsed": true
   },
   "outputs": [],
   "source": [
    "embeddings_index = {}\n",
    "with open('/media/adam/Data/BioNLP/ri-3gram-400-tsv/vectors.tsv') as embedding_file:\n",
    "    for i, line in enumerate(embedding_file):\n",
    "        values = line.strip().split('\\t')\n",
    "        vector = np.asarray(values, dtype='float32')\n",
    "        embeddings_index[vocabulary[i]] = vector"
   ]
  },
  {
   "cell_type": "code",
   "execution_count": 4,
   "metadata": {
    "collapsed": false
   },
   "outputs": [],
   "source": [
    "#pickle.dump(embeddings_index, open('/media/adam/Data/BioNLP/embeddings_index.pickle','wb'))\n",
    "embeddings_index = pickle.load(open('/media/adam/Data/BioNLP/embeddings_index.pickle','rb'))"
   ]
  },
  {
   "cell_type": "markdown",
   "metadata": {},
   "source": [
    "### Read-in compounds in order to add them to vocabulary"
   ]
  },
  {
   "cell_type": "code",
   "execution_count": 5,
   "metadata": {
    "collapsed": false
   },
   "outputs": [],
   "source": [
    "compounds = Counter()\n",
    "\n",
    "       \n",
    "with open(current_dirs_parent + '/data/labeled_dataAll.tsv', 'r') as labelled_sents: \n",
    "    for num, line in enumerate(labelled_sents):\n",
    "        _,label,_,_,compound, sent = line.strip().split('\\t')\n",
    "        compounds[compound] += 1\n",
    "        # here we could canonicalize\n"
   ]
  },
  {
   "cell_type": "code",
   "execution_count": 6,
   "metadata": {
    "collapsed": false
   },
   "outputs": [
    {
     "name": "stdout",
     "output_type": "stream",
     "text": [
      "[('pectin', 17), ('l-dopa', 16), ('styrene', 15), ('glycyrrhizin', 14), ('genistein', 14), ('potato', 13), ('rainbow trout', 13), ('procyanidin', 12), ('lard', 12), ('thiamine', 12)]\n"
     ]
    },
    {
     "data": {
      "text/plain": [
       "983"
      ]
     },
     "execution_count": 6,
     "metadata": {},
     "output_type": "execute_result"
    }
   ],
   "source": [
    "print(compounds.most_common(10))\n",
    "len(compounds)"
   ]
  },
  {
   "cell_type": "markdown",
   "metadata": {},
   "source": [
    "### pre-trained embeddings for the compounds\n",
    "\n",
    "If there is more than one alternative (alternative specified by JW distance > .95), than take weighted average of the word vectors, weighted by number of occurences of the compound in the corpus."
   ]
  },
  {
   "cell_type": "code",
   "execution_count": 58,
   "metadata": {
    "collapsed": false
   },
   "outputs": [],
   "source": [
    "i = 0\n",
    "compound_index = {}\n",
    "for compound in compounds:\n",
    "    # the word vectors are 400 long\n",
    "    compound_embedding = np.zeros(400)\n",
    "    num_alternatives = 0\n",
    "    occurrence_total = 0\n",
    "    for i, word in enumerate(vocabulary):\n",
    "        # take weighted average (element-wise) of the word vectors, weighted by the occurrences of the compound in corpus\n",
    "        if jellyfish.jaro_winkler(compound, word) > 0.95:\n",
    "            compound_embedding += embeddings_index[word]*int(occurrences[word])\n",
    "            num_alternatives += 1\n",
    "            occurrence_total += int(occurrences[word])\n",
    "            \n",
    "    compound_index[compound] = compound_embedding/(num_alternatives*occurrence_total)\n"
   ]
  },
  {
   "cell_type": "code",
   "execution_count": 7,
   "metadata": {
    "collapsed": false
   },
   "outputs": [],
   "source": [
    "#pickle.dump(compound_index, open('/media/adam/Data/BioNLP/compound_index.pickle','wb'))\n",
    "compound_index = pickle.load(open('/media/adam/Data/BioNLP/compound_index.pickle','rb'))"
   ]
  },
  {
   "cell_type": "markdown",
   "metadata": {},
   "source": [
    "Should have paid more attention to zero division above, rewrite the vectors to 0s if they are np.nans "
   ]
  },
  {
   "cell_type": "code",
   "execution_count": 8,
   "metadata": {
    "collapsed": false
   },
   "outputs": [
    {
     "data": {
      "text/plain": [
       "693"
      ]
     },
     "execution_count": 8,
     "metadata": {},
     "output_type": "execute_result"
    }
   ],
   "source": [
    "temp_compounds = {}\n",
    "for k,v in compound_index.items():\n",
    "    if any(np.isnan(v)):\n",
    "        continue\n",
    "    temp_compounds[k] = v\n",
    "len(temp_compounds)"
   ]
  },
  {
   "cell_type": "markdown",
   "metadata": {},
   "source": [
    "Before finding alternative spellings, there were 581 compounds found of our 886, after JW distance alternatives, we have 693. As it doesn't take much time and improves visibility, in another step, let's take out those compounds which are in the top 20k of the vocabulary."
   ]
  },
  {
   "cell_type": "code",
   "execution_count": 9,
   "metadata": {
    "collapsed": false
   },
   "outputs": [],
   "source": [
    "V = 30000\n",
    "j = 0\n",
    "final_compounds = {}\n",
    "for compound, vector in temp_compounds.items():\n",
    "    if compound not in vocabulary[:V]:\n",
    "        final_compounds[compound] = vector\n",
    "# top 20k words, remaining compounds not in the top 20k, and one extra line for the unknown words        \n",
    "V_total = V + len(final_compounds) + 1"
   ]
  },
  {
   "cell_type": "markdown",
   "metadata": {},
   "source": [
    "### Prepare embedding matrix"
   ]
  },
  {
   "cell_type": "code",
   "execution_count": 10,
   "metadata": {
    "collapsed": false
   },
   "outputs": [],
   "source": [
    "dim = 400\n",
    "\n",
    "vocab_final = []\n",
    "embedding_matrix = np.zeros((V, dim))\n",
    "for i, word in enumerate(vocabulary[:V]):\n",
    "    embedding_matrix[i] = embeddings_index[word]\n",
    "    vocab_final.append(word)\n",
    "\n",
    "    \n",
    "final_compound_matrix = np.zeros((len(final_compounds), dim))\n",
    "for i, item in enumerate(final_compounds.items()):\n",
    "    compound, vector = item\n",
    "    final_compound_matrix[i] = vector\n",
    "    vocab_final.append(compound)\n",
    "\n",
    "# stack top 20k words, compounds not found among the 20k words and a\n",
    "# vector of zeros for the words not in the vocabulary    \n",
    "embedding_matrix = np.vstack([embedding_matrix, final_compound_matrix, np.zeros(dim)])\n",
    "assert embedding_matrix.shape == (V_total, dim)"
   ]
  },
  {
   "cell_type": "code",
   "execution_count": 11,
   "metadata": {
    "collapsed": false
   },
   "outputs": [
    {
     "data": {
      "text/plain": [
       "True"
      ]
     },
     "execution_count": 11,
     "metadata": {},
     "output_type": "execute_result"
    }
   ],
   "source": [
    "'honey' in temp_compounds.keys()"
   ]
  },
  {
   "cell_type": "markdown",
   "metadata": {},
   "source": [
    "### Prepare sentences for analysis\n",
    "Most importantly, change the words in the sentences to indeces corresponding to the rows of the embedding matrix.\n",
    "\n",
    "Bootstrap positive and negative sentences to balance the label distribution."
   ]
  },
  {
   "cell_type": "code",
   "execution_count": 13,
   "metadata": {
    "collapsed": false
   },
   "outputs": [
    {
     "name": "stdout",
     "output_type": "stream",
     "text": [
      "['ACE inhibitor' 'Antacid' 'GLP-1' 'Thyroxine' 'Statin' 'Acetaminophen'\n",
      " 'Digoxin' 'Isoniazid' 'Antihistamine' 'MOAI' 'Analgesics'\n",
      " 'Bronchodialators']\n"
     ]
    }
   ],
   "source": [
    "drugs = df.Drug.unique()\n",
    "print(drugs)x\n",
    "add_dict = {}\n",
    "\n",
    "for drug in drugs:\n",
    "    \n",
    "    count_list = []\n",
    "    for i in range(3):\n",
    "        count = len(df[(df.Drug == drug) & (df.Label_num == i)])\n",
    "        count_list.append(count)\n",
    "        \n",
    "    max_count = max(count_list)\n",
    "    add_list = [max(0,max_count-c) for c in count_list]\n",
    "    add_dict[drug] = add_list\n"
   ]
  },
  {
   "cell_type": "code",
   "execution_count": 14,
   "metadata": {
    "collapsed": false
   },
   "outputs": [
    {
     "name": "stdout",
     "output_type": "stream",
     "text": [
      "4755\n"
     ]
    }
   ],
   "source": [
    "for drug in drugs:\n",
    "    for i in range(3):\n",
    "        temp = df[(df.Drug == drug) & (df.Label_num == i)].sample(add_dict[drug][i], replace=True)\n",
    "        df = df.append(temp)\n",
    "\n",
    "print(len(df))"
   ]
  },
  {
   "cell_type": "code",
   "execution_count": 15,
   "metadata": {
    "collapsed": false
   },
   "outputs": [],
   "source": [
    "labels = defaultdict(list)\n",
    "sent_classified = list()\n",
    "sentences = defaultdict(list)\n",
    "sent_label = list()\n",
    "max_sentence_length = 0\n",
    "num = 0\n",
    "\n",
    "for index, row in df.iterrows():\n",
    "    sentence = row['sentence']\n",
    "    # include only those compounds that are found in the corpus\n",
    "    if row['Food'] in temp_compounds.keys():\n",
    "        labels[num] = row['Label_alpha']\n",
    "        sentences[num] = sentence.lower()\n",
    "        num += 1\n",
    "        sent = text.text_to_word_sequence(sentence)          \n",
    "        try:\n",
    "            sent_label.append(row['Label_num'])\n",
    "            max_sentence_length = np.max([max_sentence_length, len(sent)])\n",
    "            sent_classified.append(get_word_ids(sentence, vocab_final))\n",
    "        except KeyError:\n",
    "            pass"
   ]
  },
  {
   "cell_type": "code",
   "execution_count": 16,
   "metadata": {
    "collapsed": false
   },
   "outputs": [
    {
     "data": {
      "text/plain": [
       "3702"
      ]
     },
     "execution_count": 16,
     "metadata": {},
     "output_type": "execute_result"
    }
   ],
   "source": [
    "len(sentences)"
   ]
  },
  {
   "cell_type": "code",
   "execution_count": 17,
   "metadata": {
    "collapsed": false
   },
   "outputs": [
    {
     "name": "stderr",
     "output_type": "stream",
     "text": [
      "/home/adam/anaconda3/lib/python3.5/site-packages/statsmodels/nonparametric/kdetools.py:20: VisibleDeprecationWarning: using a non-integer number instead of an integer will result in an error in the future\n",
      "  y = X[:m/2+1] + np.r_[0,X[m/2+1:],0]*1j\n"
     ]
    },
    {
     "data": {
      "text/plain": [
       "<matplotlib.axes._subplots.AxesSubplot at 0x7fbd8734a780>"
      ]
     },
     "execution_count": 17,
     "metadata": {},
     "output_type": "execute_result"
    },
    {
     "data": {
      "image/png": "[encoded data removed]",
      "text/plain": [
       "<matplotlib.figure.Figure at 0x7fbd873fb320>"
      ]
     },
     "metadata": {},
     "output_type": "display_data"
    }
   ],
   "source": [
    "%matplotlib inline\n",
    "sentence_length = []\n",
    "for sentence in sentences.values():\n",
    "    sentence_length.append(len(sentence.split(' ')))\n",
    "sns.distplot(sentence_length)"
   ]
  },
  {
   "cell_type": "markdown",
   "metadata": {},
   "source": [
    "## Trainable parameters/settings"
   ]
  },
  {
   "cell_type": "code",
   "execution_count": 28,
   "metadata": {
    "collapsed": true
   },
   "outputs": [],
   "source": [
    "LSTM_UNITS = 300\n",
    "NUM_EPOCHS = 100\n",
    "DROPOUT_RATE = 0.2\n",
    "MAX_SENTENCE_LENGTH = 100\n",
    "optim = optimizers.RMSprop(lr=0.001, rho=0.9, epsilon=1e-08, decay=0.0)\n",
    "#optim = optimizers.Adam(lr=0.01, beta_1=0.9, beta_2=0.999, epsilon=1e-08, decay=0.0)\n",
    "# change vocabulary size? maybe 20k is too much?"
   ]
  },
  {
   "cell_type": "markdown",
   "metadata": {},
   "source": [
    "### Fit model\n",
    "\n",
    "Here I pad the sentences to max sentence length but maybe we could truncate?"
   ]
  },
  {
   "cell_type": "code",
   "execution_count": 29,
   "metadata": {
    "collapsed": false
   },
   "outputs": [
    {
     "name": "stdout",
     "output_type": "stream",
     "text": [
      "_________________________________________________________________\n",
      "Layer (type)                 Output Shape              Param #   \n",
      "=================================================================\n",
      "embedding_5 (Embedding)      (None, 100, 400)          12199600  \n",
      "_________________________________________________________________\n",
      "lstm_9 (LSTM)                (None, 100, 300)          841200    \n",
      "_________________________________________________________________\n",
      "dropout_8 (Dropout)          (None, 100, 300)          0         \n",
      "_________________________________________________________________\n",
      "lstm_10 (LSTM)               (None, 300)               721200    \n",
      "_________________________________________________________________\n",
      "dropout_9 (Dropout)          (None, 300)               0         \n",
      "_________________________________________________________________\n",
      "dense_4 (Dense)              (None, 3)                 903       \n",
      "=================================================================\n",
      "Total params: 13,762,903\n",
      "Trainable params: 13,762,903\n",
      "Non-trainable params: 0\n",
      "_________________________________________________________________\n",
      "None\n",
      "Epoch 1/100\n",
      "2776/2776 [==============================] - 118s - loss: 1.0810 - categorical_accuracy: 0.4096   \n",
      "Epoch 2/100\n",
      "2776/2776 [==============================] - 113s - loss: 0.9708 - categorical_accuracy: 0.5177   \n",
      "Epoch 3/100\n",
      "2776/2776 [==============================] - 113s - loss: 0.9266 - categorical_accuracy: 0.5447   \n",
      "Epoch 4/100\n",
      "2776/2776 [==============================] - 113s - loss: 0.8772 - categorical_accuracy: 0.5854   \n",
      "Epoch 5/100\n",
      "2776/2776 [==============================] - 114s - loss: 0.8585 - categorical_accuracy: 0.6081   \n",
      "Epoch 6/100\n",
      "2776/2776 [==============================] - 114s - loss: 0.8159 - categorical_accuracy: 0.6272   \n",
      "Epoch 7/100\n",
      "2776/2776 [==============================] - 115s - loss: 0.7870 - categorical_accuracy: 0.6445   \n",
      "Epoch 8/100\n",
      "2776/2776 [==============================] - 114s - loss: 0.7556 - categorical_accuracy: 0.6686   \n",
      "Epoch 9/100\n",
      "2776/2776 [==============================] - 114s - loss: 0.7326 - categorical_accuracy: 0.6805   \n",
      "Epoch 10/100\n",
      "2776/2776 [==============================] - 117s - loss: 0.7263 - categorical_accuracy: 0.6707   \n",
      "Epoch 11/100\n",
      "2776/2776 [==============================] - 120s - loss: 0.6936 - categorical_accuracy: 0.6992   \n",
      "Epoch 12/100\n",
      "2776/2776 [==============================] - 118s - loss: 0.6552 - categorical_accuracy: 0.7215   \n",
      "Epoch 13/100\n",
      "2776/2776 [==============================] - 119s - loss: 0.6084 - categorical_accuracy: 0.7392   \n",
      "Epoch 14/100\n",
      "2776/2776 [==============================] - 119s - loss: 0.5908 - categorical_accuracy: 0.7576   \n",
      "Epoch 15/100\n",
      "2776/2776 [==============================] - 122s - loss: 0.5433 - categorical_accuracy: 0.7770   \n",
      "Epoch 16/100\n",
      "2776/2776 [==============================] - 123s - loss: 0.5375 - categorical_accuracy: 0.7727   \n",
      "Epoch 17/100\n",
      "2776/2776 [==============================] - 129s - loss: 0.4718 - categorical_accuracy: 0.8120   \n",
      "Epoch 18/100\n",
      "2776/2776 [==============================] - 120s - loss: 0.4378 - categorical_accuracy: 0.8321   \n",
      "Epoch 19/100\n",
      "2776/2776 [==============================] - 119s - loss: 0.4260 - categorical_accuracy: 0.8206   \n",
      "Epoch 20/100\n",
      "2776/2776 [==============================] - 119s - loss: 0.4388 - categorical_accuracy: 0.8332   \n",
      "Epoch 21/100\n",
      "2776/2776 [==============================] - 124s - loss: 0.4185 - categorical_accuracy: 0.8293   \n",
      "Epoch 22/100\n",
      "2776/2776 [==============================] - 121s - loss: 0.5233 - categorical_accuracy: 0.7867   \n",
      "Epoch 23/100\n",
      "2776/2776 [==============================] - 122s - loss: 0.4232 - categorical_accuracy: 0.8354   \n",
      "Epoch 24/100\n",
      "2776/2776 [==============================] - 117s - loss: 0.3858 - categorical_accuracy: 0.8509   \n",
      "Epoch 25/100\n",
      "2776/2776 [==============================] - 122s - loss: 0.3632 - categorical_accuracy: 0.8548   \n",
      "Epoch 26/100\n",
      "2776/2776 [==============================] - 120s - loss: 0.3206 - categorical_accuracy: 0.8721   \n",
      "Epoch 27/100\n",
      "2776/2776 [==============================] - 122s - loss: 0.2959 - categorical_accuracy: 0.8847   \n",
      "Epoch 28/100\n",
      "2776/2776 [==============================] - 120s - loss: 0.2867 - categorical_accuracy: 0.8930   \n",
      "Epoch 29/100\n",
      "2776/2776 [==============================] - 117s - loss: 0.2672 - categorical_accuracy: 0.8959   \n",
      "Epoch 30/100\n",
      "2776/2776 [==============================] - 111s - loss: 0.2515 - categorical_accuracy: 0.9049   \n",
      "Epoch 31/100\n",
      "2776/2776 [==============================] - 112s - loss: 0.2553 - categorical_accuracy: 0.9060   \n",
      "Epoch 32/100\n",
      "2776/2776 [==============================] - 111s - loss: 0.2160 - categorical_accuracy: 0.9207   \n",
      "Epoch 33/100\n",
      "2776/2776 [==============================] - 113s - loss: 0.2024 - categorical_accuracy: 0.9323   \n",
      "Epoch 34/100\n",
      "2776/2776 [==============================] - 111s - loss: 0.1832 - categorical_accuracy: 0.9334   \n",
      "Epoch 35/100\n",
      "2776/2776 [==============================] - 111s - loss: 0.1920 - categorical_accuracy: 0.9262   \n",
      "Epoch 36/100\n",
      "2776/2776 [==============================] - 111s - loss: 0.1697 - categorical_accuracy: 0.9391   \n",
      "Epoch 37/100\n",
      "2776/2776 [==============================] - 111s - loss: 0.1796 - categorical_accuracy: 0.9330   \n",
      "Epoch 38/100\n",
      "2776/2776 [==============================] - 111s - loss: 0.1508 - categorical_accuracy: 0.9474   \n",
      "Epoch 39/100\n",
      "2776/2776 [==============================] - 115s - loss: 0.1562 - categorical_accuracy: 0.9434   \n",
      "Epoch 40/100\n",
      "2776/2776 [==============================] - 113s - loss: 0.1429 - categorical_accuracy: 0.9539   \n",
      "Epoch 41/100\n",
      "2776/2776 [==============================] - 111s - loss: 0.1364 - categorical_accuracy: 0.9564   \n",
      "Epoch 42/100\n",
      "2776/2776 [==============================] - 110s - loss: 0.1173 - categorical_accuracy: 0.9593   \n",
      "Epoch 43/100\n",
      "2776/2776 [==============================] - 116s - loss: 0.1157 - categorical_accuracy: 0.9568   \n",
      "Epoch 44/100\n",
      "2776/2776 [==============================] - 114s - loss: 0.1101 - categorical_accuracy: 0.9589   \n",
      "Epoch 45/100\n",
      "2776/2776 [==============================] - 118s - loss: 0.1573 - categorical_accuracy: 0.9488   \n",
      "Epoch 46/100\n",
      "2776/2776 [==============================] - 114s - loss: 0.1370 - categorical_accuracy: 0.9517   \n",
      "Epoch 47/100\n",
      "2776/2776 [==============================] - 114s - loss: 0.1425 - categorical_accuracy: 0.9481   \n",
      "Epoch 48/100\n",
      "2776/2776 [==============================] - 114s - loss: 0.1307 - categorical_accuracy: 0.9517   \n",
      "Epoch 49/100\n",
      "2776/2776 [==============================] - 114s - loss: 0.1295 - categorical_accuracy: 0.9550   \n",
      "Epoch 50/100\n",
      "2776/2776 [==============================] - 114s - loss: 0.1438 - categorical_accuracy: 0.9514   \n",
      "Epoch 51/100\n",
      "2776/2776 [==============================] - 113s - loss: 0.1177 - categorical_accuracy: 0.9539   \n",
      "Epoch 52/100\n",
      "2776/2776 [==============================] - 113s - loss: 0.1230 - categorical_accuracy: 0.9586   \n",
      "Epoch 53/100\n",
      "2776/2776 [==============================] - 114s - loss: 0.1066 - categorical_accuracy: 0.9661   \n",
      "Epoch 54/100\n",
      "2776/2776 [==============================] - 113s - loss: 0.0833 - categorical_accuracy: 0.9694   \n",
      "Epoch 55/100\n",
      "2776/2776 [==============================] - 113s - loss: 0.0972 - categorical_accuracy: 0.9669   \n",
      "Epoch 56/100\n",
      "2776/2776 [==============================] - 113s - loss: 0.0842 - categorical_accuracy: 0.9719   \n",
      "Epoch 57/100\n",
      "2776/2776 [==============================] - 113s - loss: 0.0881 - categorical_accuracy: 0.9712   \n",
      "Epoch 58/100\n",
      "2776/2776 [==============================] - 114s - loss: 0.0861 - categorical_accuracy: 0.9701   \n",
      "Epoch 59/100\n",
      "2776/2776 [==============================] - 113s - loss: 0.0811 - categorical_accuracy: 0.9730   \n",
      "Epoch 60/100\n",
      "2776/2776 [==============================] - 113s - loss: 0.0848 - categorical_accuracy: 0.9737   \n",
      "Epoch 61/100\n",
      "2776/2776 [==============================] - 114s - loss: 0.0787 - categorical_accuracy: 0.9719   \n",
      "Epoch 62/100\n",
      "2776/2776 [==============================] - 114s - loss: 0.0659 - categorical_accuracy: 0.9816   \n",
      "Epoch 63/100\n",
      "2776/2776 [==============================] - 113s - loss: 0.0778 - categorical_accuracy: 0.9762   \n",
      "Epoch 64/100\n",
      "2776/2776 [==============================] - 111s - loss: 0.0799 - categorical_accuracy: 0.9712   \n",
      "Epoch 65/100\n",
      "2776/2776 [==============================] - 111s - loss: 0.0835 - categorical_accuracy: 0.9744   \n",
      "Epoch 66/100\n",
      "2776/2776 [==============================] - 111s - loss: 0.0795 - categorical_accuracy: 0.9726   \n",
      "Epoch 67/100\n",
      "2776/2776 [==============================] - 112s - loss: 0.0803 - categorical_accuracy: 0.9715   \n",
      "Epoch 68/100\n",
      "2776/2776 [==============================] - 114s - loss: 0.0905 - categorical_accuracy: 0.9726   \n",
      "Epoch 69/100\n",
      "2776/2776 [==============================] - 117s - loss: 0.0596 - categorical_accuracy: 0.9809   \n",
      "Epoch 70/100\n",
      "2776/2776 [==============================] - 116s - loss: 0.0642 - categorical_accuracy: 0.9780   \n",
      "Epoch 71/100\n",
      "2776/2776 [==============================] - 114s - loss: 0.0629 - categorical_accuracy: 0.9777   \n",
      "Epoch 72/100\n",
      "2776/2776 [==============================] - 114s - loss: 0.0657 - categorical_accuracy: 0.9780   \n",
      "Epoch 73/100\n",
      "2776/2776 [==============================] - 111s - loss: 0.0718 - categorical_accuracy: 0.9773   \n",
      "Epoch 74/100\n",
      "2776/2776 [==============================] - 112s - loss: 0.0732 - categorical_accuracy: 0.9744   \n",
      "Epoch 75/100\n",
      "2776/2776 [==============================] - 117s - loss: 0.0524 - categorical_accuracy: 0.9820   \n",
      "Epoch 76/100\n",
      "2776/2776 [==============================] - 115s - loss: 0.0568 - categorical_accuracy: 0.9809   \n",
      "Epoch 77/100\n",
      "2776/2776 [==============================] - 113s - loss: 0.0801 - categorical_accuracy: 0.9744   \n",
      "Epoch 78/100\n",
      "2776/2776 [==============================] - 113s - loss: 0.0596 - categorical_accuracy: 0.9809   \n",
      "Epoch 79/100\n",
      "2776/2776 [==============================] - 113s - loss: 0.0678 - categorical_accuracy: 0.9759   \n",
      "Epoch 80/100\n",
      "2776/2776 [==============================] - 113s - loss: 0.0659 - categorical_accuracy: 0.9769   \n",
      "Epoch 81/100\n",
      "2776/2776 [==============================] - 113s - loss: 0.0875 - categorical_accuracy: 0.9705   \n",
      "Epoch 82/100\n",
      "2776/2776 [==============================] - 113s - loss: 0.0778 - categorical_accuracy: 0.9762   \n",
      "Epoch 83/100\n",
      "2776/2776 [==============================] - 113s - loss: 0.0761 - categorical_accuracy: 0.9748   \n",
      "Epoch 84/100\n",
      "2776/2776 [==============================] - 113s - loss: 0.0754 - categorical_accuracy: 0.9741   \n",
      "Epoch 85/100\n",
      "2776/2776 [==============================] - 115s - loss: 0.0657 - categorical_accuracy: 0.9780   \n",
      "Epoch 86/100\n",
      "2776/2776 [==============================] - 114s - loss: 0.0809 - categorical_accuracy: 0.9733   \n",
      "Epoch 87/100\n",
      "2776/2776 [==============================] - 113s - loss: 0.0642 - categorical_accuracy: 0.9791   \n",
      "Epoch 88/100\n",
      "2776/2776 [==============================] - 113s - loss: 0.0609 - categorical_accuracy: 0.9787   \n",
      "Epoch 89/100\n",
      "2776/2776 [==============================] - 113s - loss: 0.0563 - categorical_accuracy: 0.9820   \n",
      "Epoch 90/100\n",
      "2776/2776 [==============================] - 114s - loss: 0.0633 - categorical_accuracy: 0.9802   \n",
      "Epoch 91/100\n",
      "2776/2776 [==============================] - 114s - loss: 0.0607 - categorical_accuracy: 0.9820   \n",
      "Epoch 92/100\n",
      "2776/2776 [==============================] - 114s - loss: 0.0733 - categorical_accuracy: 0.9769   \n",
      "Epoch 93/100\n",
      "2776/2776 [==============================] - 113s - loss: 0.0667 - categorical_accuracy: 0.9777   \n",
      "Epoch 94/100\n",
      "2776/2776 [==============================] - 116s - loss: 0.0615 - categorical_accuracy: 0.9802   \n",
      "Epoch 95/100\n",
      "2776/2776 [==============================] - 112s - loss: 0.0457 - categorical_accuracy: 0.9874   \n",
      "Epoch 96/100\n",
      "2776/2776 [==============================] - 111s - loss: 0.0392 - categorical_accuracy: 0.9870   \n",
      "Epoch 97/100\n",
      "2776/2776 [==============================] - 111s - loss: 0.0493 - categorical_accuracy: 0.9834   \n",
      "Epoch 98/100\n",
      "2776/2776 [==============================] - 111s - loss: 0.0656 - categorical_accuracy: 0.9777   \n",
      "Epoch 99/100\n",
      "2776/2776 [==============================] - 111s - loss: 0.0522 - categorical_accuracy: 0.9841   \n",
      "Epoch 100/100\n",
      "2776/2776 [==============================] - 111s - loss: 0.0676 - categorical_accuracy: 0.9798   \n",
      "Test accuracy: 86.70270272847769\n"
     ]
    }
   ],
   "source": [
    "ids = list(range(len(sentences)))\n",
    "shuffle(ids)\n",
    "P_TRAIN = .75\n",
    "N_TRAIN = int(round(P_TRAIN * len(sent_label),0))\n",
    "train_ids = ids[:N_TRAIN]\n",
    "test_ids = ids[(N_TRAIN + 1):]\n",
    "train_sents, train_labels = zip(*[(sent_classified[train_id], sent_label[train_id]) for train_id in train_ids])\n",
    "test_sents, test_labels = zip(*[(sent_classified[test_id], sent_label[test_id]) for test_id in test_ids])\n",
    "\n",
    "# add padding so that all of the sentences have the same length\n",
    "train_sents = sequence.pad_sequences(train_sents, maxlen=MAX_SENTENCE_LENGTH)\n",
    "test_sents = sequence.pad_sequences(test_sents, maxlen=MAX_SENTENCE_LENGTH)\n",
    "train_labels = to_categorical(train_labels)\n",
    "test_labels = to_categorical(test_labels)\n",
    "\n",
    "# create the model\n",
    "model = Sequential()\n",
    "model.add(Embedding(V_total, dim, weights=[embedding_matrix],\n",
    "                    input_length=MAX_SENTENCE_LENGTH, trainable=True))\n",
    "model.add(LSTM(LSTM_UNITS, return_sequences = True))\n",
    "model.add(Dropout(DROPOUT_RATE))\n",
    "model.add(LSTM(LSTM_UNITS))\n",
    "model.add(Dropout(DROPOUT_RATE))\n",
    "model.add(Dense(3, activation='softmax'))\n",
    "\n",
    "# Compile model\n",
    "model.compile(loss='categorical_crossentropy', optimizer=optim, metrics=['categorical_accuracy'])\n",
    "print(model.summary())\n",
    "\n",
    "# Final evaluation of the model\n",
    "model.fit(train_sents, train_labels, epochs=NUM_EPOCHS, batch_size=32)\n",
    "scores = model.evaluate(test_sents, test_labels, verbose=0)\n",
    "print(\"Test accuracy: {}\".format(scores[1]*100))"
   ]
  },
  {
   "cell_type": "code",
   "execution_count": 30,
   "metadata": {
    "collapsed": false
   },
   "outputs": [
    {
     "name": "stdout",
     "output_type": "stream",
     "text": [
      "Test accuracy: 86.70270272847769\n"
     ]
    }
   ],
   "source": [
    "scores = model.evaluate(test_sents, test_labels, verbose=0)\n",
    "print(\"Test accuracy: {}\".format(scores[1]*100))"
   ]
  },
  {
   "cell_type": "code",
   "execution_count": 31,
   "metadata": {
    "collapsed": false
   },
   "outputs": [],
   "source": [
    "testing_prediction = model.predict(test_sents)\n",
    "training_prediction = model.predict(train_sents)"
   ]
  },
  {
   "cell_type": "code",
   "execution_count": 32,
   "metadata": {
    "collapsed": false
   },
   "outputs": [],
   "source": [
    "pickle.dump(testing_prediction, open('lstm_2x_300_dropout_02_lr_001_epoch_100_testing_V_30k_trainable_embed.pickle','wb'))\n",
    "pickle.dump(training_prediction, open('lstm_2x_300_dropout_02_lr_001_epoch_100_training_V_30k_trainable_embed.pickle','wb'))"
   ]
  },
  {
   "cell_type": "code",
   "execution_count": 39,
   "metadata": {
    "collapsed": false
   },
   "outputs": [],
   "source": [
    "pred_classes = np.argmax(testing_prediction, axis = 1)\n",
    "p = 0\n",
    "neu = 0\n",
    "neg = 0\n",
    "for i in pred_classes:\n",
    "    if i == 0:\n",
    "        neg += 1\n",
    "    elif i == 1:\n",
    "        neu += 1\n",
    "    else:\n",
    "        p += 1"
   ]
  },
  {
   "cell_type": "code",
   "execution_count": 40,
   "metadata": {
    "collapsed": false
   },
   "outputs": [
    {
     "data": {
      "text/plain": [
       "[340, 262, 323]"
      ]
     },
     "execution_count": 40,
     "metadata": {},
     "output_type": "execute_result"
    }
   ],
   "source": [
    "[p,neu,neg]"
   ]
  },
  {
   "cell_type": "code",
   "execution_count": 42,
   "metadata": {
    "collapsed": false
   },
   "outputs": [],
   "source": [
    "true_classes = np.argmax(test_labels, axis=1)\n",
    "p = 0\n",
    "neu = 0\n",
    "neg = 0\n",
    "for i in true_classes:\n",
    "    if i == 0:\n",
    "        neg += 1\n",
    "    elif i == 1:\n",
    "        neu += 1\n",
    "    else:\n",
    "        p += 1"
   ]
  },
  {
   "cell_type": "code",
   "execution_count": 43,
   "metadata": {
    "collapsed": false
   },
   "outputs": [
    {
     "data": {
      "text/plain": [
       "[330, 304, 291]"
      ]
     },
     "execution_count": 43,
     "metadata": {},
     "output_type": "execute_result"
    }
   ],
   "source": [
    "[p, neu, neg]"
   ]
  },
  {
   "cell_type": "code",
   "execution_count": 37,
   "metadata": {
    "collapsed": false
   },
   "outputs": [],
   "source": [
    "with open('pred_true_final.csv','w') as outfile:\n",
    "    for i in range(len(true_classes)):\n",
    "        if i == 0:\n",
    "            print('true,predicted', file=outfile)\n",
    "        print('{0},{1}'.format(true_classes[i],pred_classes[i]), file=outfile)"
   ]
  },
  {
   "cell_type": "code",
   "execution_count": 252,
   "metadata": {
    "collapsed": false
   },
   "outputs": [
    {
     "name": "stdout",
     "output_type": "stream",
     "text": [
      "/home/adam/Documents/MIDS/W266/Project/parsing/LSTM\r\n"
     ]
    }
   ],
   "source": [
    "!pwd"
   ]
  },
  {
   "cell_type": "code",
   "execution_count": null,
   "metadata": {
    "collapsed": true
   },
   "outputs": [],
   "source": []
  }
 ],
 "metadata": {
  "anaconda-cloud": {},
  "kernelspec": {
   "display_name": "Python 3",
   "language": "python",
   "name": "python3"
  },
  "language_info": {
   "codemirror_mode": {
    "name": "ipython",
    "version": 3
   },
   "file_extension": ".py",
   "mimetype": "text/x-python",
   "name": "python",
   "nbconvert_exporter": "python",
   "pygments_lexer": "ipython3",
   "version": "3.5.1"
  }
 },
 "nbformat": 4,
 "nbformat_minor": 2
}
